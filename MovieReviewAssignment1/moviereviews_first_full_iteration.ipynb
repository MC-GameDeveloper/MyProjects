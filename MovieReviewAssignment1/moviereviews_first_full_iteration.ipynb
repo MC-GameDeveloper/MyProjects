{
 "cells": [
  {
   "cell_type": "markdown",
   "metadata": {},
   "source": [
    "# Movie reviews\n",
    "\n",
    "This notebook takes you though a complete iteration of Machine Learning Assignment 1 - Movie reviews. The assignment details (including links to download the data) can be found [here](https://docs.google.com/document/d/1WGYw99e5q6j5V0Zrf2HveagU6URt_kVvdR8B9HYQ99E/edit?usp=sharing). "
   ]
  },
  {
   "cell_type": "code",
   "execution_count": 1,
   "metadata": {},
   "outputs": [],
   "source": [
    "# all imports and magic commands\n",
    "import numpy as np\n",
    "import pandas as pd\n",
    "import matplotlib.pyplot as plt\n",
    "from my_measures import BinaryClassificationPerformance\n",
    "from sklearn.feature_extraction.text import HashingVectorizer\n",
    "from sklearn.feature_extraction.text import TfidfTransformer\n",
    "from scipy.sparse import csr_matrix, hstack\n",
    "from sklearn.preprocessing import StandardScaler\n",
    "from sklearn.model_selection import train_test_split\n",
    "%matplotlib inline"
   ]
  },
  {
   "cell_type": "markdown",
   "metadata": {},
   "source": [
    "### IMPORTANT!!! Make sure you are using `BinaryClassificationPerformance` v1.02"
   ]
  },
  {
   "cell_type": "code",
   "execution_count": 2,
   "metadata": {},
   "outputs": [
    {
     "name": "stdout",
     "output_type": "stream",
     "text": [
      "Help on class BinaryClassificationPerformance in module my_measures:\n",
      "\n",
      "class BinaryClassificationPerformance(builtins.object)\n",
      " |  BinaryClassificationPerformance(predictions, labels, desc, probabilities=None)\n",
      " |  \n",
      " |  Performance measures to evaluate the fit of a binary classification model, v1.02\n",
      " |  \n",
      " |  Methods defined here:\n",
      " |  \n",
      " |  __init__(self, predictions, labels, desc, probabilities=None)\n",
      " |      Initialize attributes: predictions-vector of predicted values for Y, labels-vector of labels for Y\n",
      " |  \n",
      " |  compute_measures(self)\n",
      " |      Compute performance measures defined by Flach p. 57\n",
      " |  \n",
      " |  img_indices(self)\n",
      " |      Get the indices of true and false positives to be able to locate the corresponding images in a list of image names\n",
      " |  \n",
      " |  ----------------------------------------------------------------------\n",
      " |  Data descriptors defined here:\n",
      " |  \n",
      " |  __dict__\n",
      " |      dictionary for instance variables (if defined)\n",
      " |  \n",
      " |  __weakref__\n",
      " |      list of weak references to the object (if defined)\n",
      "\n"
     ]
    }
   ],
   "source": [
    "help(BinaryClassificationPerformance)"
   ]
  },
  {
   "cell_type": "markdown",
   "metadata": {},
   "source": [
    "# Function for feature building and extraction on natural language data"
   ]
  },
  {
   "cell_type": "code",
   "execution_count": 122,
   "metadata": {},
   "outputs": [],
   "source": [
    "# function that takes raw data and completes all preprocessing required before model fits\n",
    "def process_raw_data(fn, my_random_seed, test=False):\n",
    "    # read and summarize data\n",
    "    movie_data = pd.read_csv(fn, sep='\\t')\n",
    "    print(\"movie_data is:\", type(movie_data))\n",
    "    print(\"movie_data has\", movie_data.shape[0], \"rows and\", movie_data.shape[1], \"columns\", \"\\n\")\n",
    "    print(\"the data types for each of the columns in movie_data:\")\n",
    "    print(movie_data.dtypes, \"\\n\")\n",
    "    print(\"the first 10 rows in movie_data:\")\n",
    "    print(movie_data.head(5))\n",
    "    if (not test):\n",
    "        print(\"The rate of 'good' movie reviews in the dataset: \")\n",
    "        print(movie_data['sentiment'].mean())\n",
    "\n",
    "    # vectorize Bag of Words from review text; as sparse matrix\n",
    "    hv = HashingVectorizer(n_features=2 ** 17, alternate_sign=False)\n",
    "    X_hv = hv.fit_transform(movie_data.review)\n",
    "    print(\"Shape of HashingVectorizer X:\")\n",
    "    print(X_hv.shape)\n",
    "    \n",
    "    # http://scikit-learn.org/stable/modules/generated/sklearn.feature_extraction.text.TfidfTransformer.html\n",
    "    transformer = TfidfTransformer()\n",
    "    X_tfidf = transformer.fit_transform(X_hv)\n",
    "    \n",
    "    # create additional quantitative features\n",
    "    # features from Amazon.csv to add to feature set\n",
    "    movie_data['word_count'] = movie_data['review'].str.split(' ').str.len()\n",
    "    movie_data['punc_count'] = movie_data['review'].str.count(\"\\.\")\n",
    "\n",
    "    X_quant_features = movie_data[[\"word_count\", \"punc_count\"]]\n",
    "    print(\"Look at a few rows of the new quantitative features: \")\n",
    "    print(X_quant_features.head(10))\n",
    "    \n",
    "    # Combine all quantitative features into a single sparse matrix\n",
    "    X_quant_features_csr = csr_matrix(X_quant_features)\n",
    "    X_combined = hstack([X_tfidf, X_quant_features_csr])\n",
    "    X_matrix = csr_matrix(X_combined) # convert to sparse matrix\n",
    "    print(\"Size of combined bag of words and new quantitative variables matrix:\")\n",
    "    print(X_matrix.shape)\n",
    "    \n",
    "    # Create `X`, scaled matrix of features\n",
    "    # feature scaling\n",
    "    sc = StandardScaler(with_mean=False)\n",
    "    X = sc.fit_transform(X_matrix)\n",
    "    print(X.shape)\n",
    "    if (not test):\n",
    "        y = movie_data['sentiment']\n",
    "    \n",
    "    # Create Training and Test Sets\n",
    "    # enter an integer for the random_state parameter; any integer will work\n",
    "    if (test):\n",
    "        X_submission_test = X\n",
    "        print(\"Shape of X_test for submission:\")\n",
    "        print(X_submission_test.shape)\n",
    "        print('SUCCESS!')\n",
    "        return(movie_data, X_submission_test)\n",
    "    else: \n",
    "        X_train, X_test, y_train, y_test, X_raw_train, X_raw_test = train_test_split(X, y, movie_data, test_size=0.2, random_state=my_random_seed)\n",
    "        print(\"Shape of X_train and X_test:\")\n",
    "        print(X_train.shape)\n",
    "        print(X_test.shape)\n",
    "        print(\"Shape of y_train and y_test:\")\n",
    "        print(y_train.shape)\n",
    "        print(y_test.shape)\n",
    "        print(\"Shape of X_raw_train and X_raw_test:\")\n",
    "        print(X_raw_train.shape)\n",
    "        print(X_raw_test.shape)\n",
    "        print('SUCCESS!')\n",
    "        return(X_train, X_test, y_train, y_test, X_raw_train, X_raw_test)"
   ]
  },
  {
   "cell_type": "markdown",
   "metadata": {},
   "source": [
    "# Create training and test sets from function"
   ]
  },
  {
   "cell_type": "code",
   "execution_count": 123,
   "metadata": {},
   "outputs": [
    {
     "name": "stdout",
     "output_type": "stream",
     "text": [
      "movie_data is: <class 'pandas.core.frame.DataFrame'>\n",
      "movie_data has 25000 rows and 3 columns \n",
      "\n",
      "the data types for each of the columns in movie_data:\n",
      "id           object\n",
      "sentiment     int64\n",
      "review       object\n",
      "dtype: object \n",
      "\n",
      "the first 10 rows in movie_data:\n",
      "       id  sentiment                                             review\n",
      "0  5814_8          1  With all this stuff going down at the moment w...\n",
      "1  2381_9          1  \\The Classic War of the Worlds\\\" by Timothy Hi...\n",
      "2  7759_3          0  The film starts with a manager (Nicholas Bell)...\n",
      "3  3630_4          0  It must be assumed that those who praised this...\n",
      "4  9495_8          1  Superbly trashy and wondrously unpretentious 8...\n",
      "The rate of 'good' movie reviews in the dataset: \n",
      "0.5\n",
      "Shape of HashingVectorizer X:\n",
      "(25000, 131072)\n",
      "Look at a few rows of the new quantitative features: \n",
      "   word_count  punc_count\n",
      "0         433          20\n",
      "1         158          16\n",
      "2         378          20\n",
      "3         379           8\n",
      "4         367           9\n",
      "5          89           5\n",
      "6         112           9\n",
      "7         132           9\n",
      "8         163           7\n",
      "9          43           5\n",
      "Size of combined bag of words and new quantitative variables matrix:\n",
      "(25000, 131074)\n",
      "(25000, 131074)\n",
      "Shape of X_train and X_test:\n",
      "(20000, 131074)\n",
      "(5000, 131074)\n",
      "Shape of y_train and y_test:\n",
      "(20000,)\n",
      "(5000,)\n",
      "Shape of X_raw_train and X_raw_test:\n",
      "(20000, 5)\n",
      "(5000, 5)\n",
      "SUCCESS!\n"
     ]
    }
   ],
   "source": [
    "# CHANGE FILE PATH and my_random_seed number (any integer other than 74 will do): \n",
    "X_train, X_test, y_train, y_test, X_raw_train, X_raw_test = process_raw_data(fn='moviereviews_train.tsv', my_random_seed=2000)"
   ]
  },
  {
   "cell_type": "markdown",
   "metadata": {},
   "source": [
    "# Fit (and tune) Various Models"
   ]
  },
  {
   "cell_type": "markdown",
   "metadata": {},
   "source": [
    "### MODEL: ordinary least squares"
   ]
  },
  {
   "cell_type": "code",
   "execution_count": 124,
   "metadata": {},
   "outputs": [
    {
     "name": "stdout",
     "output_type": "stream",
     "text": [
      "{'Pos': 9957, 'Neg': 10043, 'TP': 4768, 'TN': 5585, 'FP': 4458, 'FN': 5189, 'Accuracy': 0.51765, 'Precision': 0.5168003468458704, 'Recall': 0.47885909410465, 'desc': 'ols_train'}\n"
     ]
    }
   ],
   "source": [
    "from sklearn import linear_model\n",
    "ols = linear_model.SGDClassifier(loss=\"squared_loss\")\n",
    "ols.fit(X_train, y_train)\n",
    "\n",
    "ols_performance_train = BinaryClassificationPerformance(ols.predict(X_train), y_train, 'ols_train')\n",
    "ols_performance_train.compute_measures()\n",
    "print(ols_performance_train.performance_measures)"
   ]
  },
  {
   "cell_type": "markdown",
   "metadata": {},
   "source": [
    "### MODEL: SVM, linear"
   ]
  },
  {
   "cell_type": "code",
   "execution_count": 125,
   "metadata": {},
   "outputs": [
    {
     "name": "stdout",
     "output_type": "stream",
     "text": [
      "{'Pos': 9957, 'Neg': 10043, 'TP': 9957, 'TN': 10043, 'FP': 0, 'FN': 0, 'Accuracy': 1.0, 'Precision': 1.0, 'Recall': 1.0, 'desc': 'svm_train'}\n"
     ]
    }
   ],
   "source": [
    "from sklearn import linear_model\n",
    "svm = linear_model.SGDClassifier()\n",
    "svm.fit(X_train, y_train)\n",
    "\n",
    "svm_performance_train = BinaryClassificationPerformance(svm.predict(X_train), y_train, 'svm_train')\n",
    "svm_performance_train.compute_measures()\n",
    "print(svm_performance_train.performance_measures)"
   ]
  },
  {
   "cell_type": "markdown",
   "metadata": {},
   "source": [
    "### MODEL: logistic regression"
   ]
  },
  {
   "cell_type": "code",
   "execution_count": 126,
   "metadata": {},
   "outputs": [
    {
     "name": "stdout",
     "output_type": "stream",
     "text": [
      "{'Pos': 9957, 'Neg': 10043, 'TP': 9957, 'TN': 10043, 'FP': 0, 'FN': 0, 'Accuracy': 1.0, 'Precision': 1.0, 'Recall': 1.0, 'desc': 'lgs_train'}\n"
     ]
    }
   ],
   "source": [
    "from sklearn import linear_model\n",
    "lgs = linear_model.SGDClassifier(loss='log')\n",
    "lgs.fit(X_train, y_train)\n",
    "\n",
    "lgs_performance_train = BinaryClassificationPerformance(lgs.predict(X_train), y_train, 'lgs_train')\n",
    "lgs_performance_train.compute_measures()\n",
    "print(lgs_performance_train.performance_measures)"
   ]
  },
  {
   "cell_type": "markdown",
   "metadata": {},
   "source": [
    "### MODEL: Naive Bayes"
   ]
  },
  {
   "cell_type": "code",
   "execution_count": 127,
   "metadata": {},
   "outputs": [
    {
     "name": "stdout",
     "output_type": "stream",
     "text": [
      "{'Pos': 9957, 'Neg': 10043, 'TP': 9550, 'TN': 9876, 'FP': 167, 'FN': 407, 'Accuracy': 0.9713, 'Precision': 0.9828136256046105, 'Recall': 0.9591242342070905, 'desc': 'nbs_train'}\n"
     ]
    }
   ],
   "source": [
    "from sklearn.naive_bayes import MultinomialNB\n",
    "nbs = MultinomialNB()\n",
    "nbs.fit(X_train, y_train)\n",
    "\n",
    "nbs_performance_train = BinaryClassificationPerformance(nbs.predict(X_train), y_train, 'nbs_train')\n",
    "nbs_performance_train.compute_measures()\n",
    "print(nbs_performance_train.performance_measures)"
   ]
  },
  {
   "cell_type": "markdown",
   "metadata": {},
   "source": [
    "### MODEL: Perceptron"
   ]
  },
  {
   "cell_type": "code",
   "execution_count": 128,
   "metadata": {},
   "outputs": [
    {
     "name": "stdout",
     "output_type": "stream",
     "text": [
      "{'Pos': 9957, 'Neg': 10043, 'TP': 9957, 'TN': 10043, 'FP': 0, 'FN': 0, 'Accuracy': 1.0, 'Precision': 1.0, 'Recall': 1.0, 'desc': 'prc_train'}\n"
     ]
    }
   ],
   "source": [
    "from sklearn import linear_model\n",
    "prc = linear_model.SGDClassifier(loss='perceptron')\n",
    "prc.fit(X_train, y_train)\n",
    "\n",
    "prc_performance_train = BinaryClassificationPerformance(prc.predict(X_train), y_train, 'prc_train')\n",
    "prc_performance_train.compute_measures()\n",
    "print(prc_performance_train.performance_measures)"
   ]
  },
  {
   "cell_type": "markdown",
   "metadata": {},
   "source": [
    "### MODEL: Ridge Regression Classifier"
   ]
  },
  {
   "cell_type": "markdown",
   "metadata": {},
   "source": [
    "class sklearn.linear_model.RidgeClassifier(alpha=1.0, fit_intercept=True, normalize=False, copy_X=True, max_iter=None, tol=0.001, class_weight=None, solver='auto', random_state=None)\n",
    "\n",
    "alpha reduces variance, fit_intercept calc the intercept(?), normalize will normalize before regression, copy_x, max_iter number of iterations, tol is the precision of the solution, class weight will change the weights of classes, solver uses different algorithms in computational routines."
   ]
  },
  {
   "cell_type": "code",
   "execution_count": 129,
   "metadata": {},
   "outputs": [
    {
     "name": "stdout",
     "output_type": "stream",
     "text": [
      "{'Pos': 9957, 'Neg': 10043, 'TP': 9857, 'TN': 9933, 'FP': 110, 'FN': 100, 'Accuracy': 0.9895, 'Precision': 0.9889635798133841, 'Recall': 0.9899568143014964, 'desc': 'rdg_train'}\n"
     ]
    }
   ],
   "source": [
    "from sklearn import linear_model\n",
    "rdg = linear_model.RidgeClassifier(alpha=.3, tol=0.05, class_weight='balanced', solver='sag')\n",
    "rdg.fit(X_train, y_train)\n",
    "\n",
    "rdg_performance_train = BinaryClassificationPerformance(rdg.predict(X_train), y_train, 'rdg_train')\n",
    "rdg_performance_train.compute_measures()\n",
    "print(rdg_performance_train.performance_measures)"
   ]
  },
  {
   "cell_type": "markdown",
   "metadata": {},
   "source": [
    "### MODEL: Random Forest Classifier"
   ]
  },
  {
   "cell_type": "code",
   "execution_count": 130,
   "metadata": {},
   "outputs": [
    {
     "name": "stderr",
     "output_type": "stream",
     "text": [
      "D:\\Anaconda\\lib\\site-packages\\sklearn\\ensemble\\forest.py:245: FutureWarning: The default value of n_estimators will change from 10 in version 0.20 to 100 in 0.22.\n",
      "  \"10 in version 0.20 to 100 in 0.22.\", FutureWarning)\n"
     ]
    },
    {
     "name": "stdout",
     "output_type": "stream",
     "text": [
      "{'Pos': 9957, 'Neg': 10043, 'TP': 9734, 'TN': 9619, 'FP': 424, 'FN': 223, 'Accuracy': 0.96765, 'Precision': 0.9582594999015555, 'Recall': 0.9776036958923371, 'desc': 'rdf_train'}\n"
     ]
    }
   ],
   "source": [
    "from sklearn.ensemble import RandomForestClassifier\n",
    "rdf = RandomForestClassifier(max_depth=50, random_state=0)\n",
    "rdf.fit(X_train, y_train)\n",
    "\n",
    "rdf_performance_train = BinaryClassificationPerformance(rdf.predict(X_train), y_train, 'rdf_train')\n",
    "rdf_performance_train.compute_measures()\n",
    "print(rdf_performance_train.performance_measures)"
   ]
  },
  {
   "cell_type": "markdown",
   "metadata": {},
   "source": [
    "### ROC plot to compare performance of various models and fits"
   ]
  },
  {
   "cell_type": "code",
   "execution_count": 131,
   "metadata": {
    "scrolled": false
   },
   "outputs": [
    {
     "data": {
      "image/png": "[encoded data removed]",
      "text/plain": [
       "<Figure size 432x288 with 1 Axes>"
      ]
     },
     "metadata": {
      "needs_background": "light"
     },
     "output_type": "display_data"
    }
   ],
   "source": [
    "fits = [svm_performance_train, lgs_performance_train, nbs_performance_train, prc_performance_train, rdg_performance_train, rdf_performance_train]\n",
    "\n",
    "for fit in fits:\n",
    "    plt.plot(fit.performance_measures['FP'] / fit.performance_measures['Neg'], \n",
    "             fit.performance_measures['TP'] / fit.performance_measures['Pos'], 'bo')\n",
    "    plt.text(fit.performance_measures['FP'] / fit.performance_measures['Neg'], \n",
    "             fit.performance_measures['TP'] / fit.performance_measures['Pos'], fit.desc)\n",
    "plt.axis([0, 1, 0, 1])\n",
    "plt.title('ROC plot: test set')\n",
    "plt.xlabel('False positive rate')\n",
    "plt.ylabel('True positive rate')\n",
    "plt.show()"
   ]
  },
  {
   "cell_type": "markdown",
   "metadata": {},
   "source": [
    "### looking at reviews based on their classification\n",
    "\n",
    "Let's say we decide that Ordinary Least Squares (OLS) Regression is the best model for generalization. Let's take a look at some of the reviews and try to make a (subjective) determination of whether it's generalizing well. "
   ]
  },
  {
   "cell_type": "code",
   "execution_count": 105,
   "metadata": {},
   "outputs": [],
   "source": [
    "ols_predictions = ols.predict(X_train)"
   ]
  },
  {
   "cell_type": "markdown",
   "metadata": {},
   "source": [
    "### let's look at some false positives:"
   ]
  },
  {
   "cell_type": "code",
   "execution_count": 106,
   "metadata": {},
   "outputs": [
    {
     "name": "stdout",
     "output_type": "stream",
     "text": [
      "Examples of false positives:\n",
      "78\n",
      "Note: I couldn't force myself to actually write up a constructive review of Prom Night. It just can't be done. Instead, I went through what I thought about while watching the movie.<br /><br />Things that I thought about while watching Prom Night: <br /><br />-I'm so tired of those dreams where these elaborate deaths will take place, only for the main character to wake up right before she bites it. Of course, when I say \\elaborate deaths\\\", I mean off screen throat slashes or stabs in the stomach. Didn't the whole \\\"it's just a dream\\\" thing get ruined by Dallas? Speaking of which, I wonder if a couple stabs in the gut will cause immediate death.<br /><br />-The film is only ten minutes into and I can already count the horror clichés on two hands. Not a good sign.<br /><br />-Even after just meeting the protagonist's boyfriend, I'm convinced he will die. Anybody want to place bets? <br /><br />-The killer in this movie is a teacher that is obsessed with the main character, Donna. (By the way, does anybody think that \\\"Donna\\\" is a horrible name for a main character in a horror film?) He spends three years in a maximum security prison before breaking out and finds Donna celebrating her high school prom. While there is no accounting for taste, I seriously wonder who would take all that time to stalk somebody as dull as Donna.<br /><br />-High schools allow proms to take place at hotels and doesn't keep track of the students. Apparently students are perfectly able to buy a hotel room and go in and out as they please. I suppose if this plot point wasn't in place, the movie would be 90 minutes of people being bored out of their mind and randomly biting the dust whenever they go to the bathroom. I suppose the trade-off for their excitement is my utter boredom with everything. I've already played \\\"count the pieces of chewed bubble gum under the seat\\\" and \\\"guess how much money I have in my wallet\\\" and I'm only in the 20 minute mark. How else will I entertain myself? <br /><br />-Note to self: Don't forget milk and bread on the way home.<br /><br />-Dear screenwriter: You've used up enough false scares to get through this movie and every other horror remake this year.<br /><br />-The 1980 version of this film wasn't that good but compared to this remake it was like Citizen Kane, or at least The Godfather. It had Jamie Lee Curtis in one of her many post-Halloween horror flicks and it did have a little \\\"twist\\\" at the end. I miss Jamie Lee. I wish she'd act more.<br /><br />-Apparently at prom there isn't much dancing going on. Instead the girls get in fights with their boyfriends over where they plan to attend college. I hear all these colleges being brought up by name, and I can't help but wonder who these girls have to cheat off of on the entrance exam to get in.<br /><br />-The killer must carry a bag of really effective cleaning supplies and wipes up his mess between scenes. That's the only logical explanation for why he could stab somebody to death on the carpet or in the bathroom and by the time somebody goes up to the hotel room, there is no trace of a struggle. (On another side note: This is a very lazy killer. Michael Myers went hunting after his victims. Just saying.)<br /><br />-It's official: the entire audience in the theater is rooting on the killer. What triggered it? Was it whenever Donna went back up to her hotel room while sirens were going off ordering everybody to exit the building? Was it her constant dreams, and how even after going through something dramatic in said dream she insisted on reenacting her steps to a tee? Or was it Brittany Snow's unconvincing performance? I'll have to say it was all of the above.<br /><br />-Okay, who had \\\"he dies off screen in the third act\\\"? You win the pot.<br /><br />-Finally, the movie is over. My friend turns to me and says \\\"Donna wasn't too smart.\\\" That's the understatement of the week. Kind of like saying that a tornado is a small gust of wind, or a week long power outage is a slight inconvenience.<br /><br />-I can't wait to get on Rotten Tomatoes and see if anybody gave this move a favoring review.<br /><br />-I can't recommend this. I refuse to recommend this. This is as lazy of a horror film as any, and the only way to enjoy its cheese smelling plot is if you are under the influence of at least ten beers. And unfortunately for theater patrons, alcohol isn't served.<br /><br />Rating: * out of ****\"\n",
      "* * * * * * * * * \n",
      "79\n",
      "When I first saw this film in cinema 11 years ago, I loved it. I still think the directing and cinematography are excellent, as is the music. But it's really the script that has over the time started to bother me more and more. I find Emma Thompson's writing self-absorbed and unfaithful to the original book; she has reduced Marianne to a side-character, a second fiddle to her much too old, much too severe Elinor - she in the movie is given many sort of 'focus moments', and often they appear to be there just to show off Thompson herself.<br /><br />I do understand her cutting off several characters from the book, but leaving out the one scene where Willoughby in the book is redeemed? For someone who red and cherished the book long before the movie, those are the things always difficult to digest.<br /><br />As for the actors, I love Kate Winslet as Marianne. She is not given the best script in the world to work with but she still pulls it up gracefully, without too much sentimentality. Alan Rickman is great, a bit old perhaps, but he plays the role beautifully. And Elizabeth Spriggs, she is absolutely fantastic as always.\n",
      "* * * * * * * * * \n",
      "142\n",
      "Even for the cocaine laced 1980's this is a pathetic. I don't understand why someone would want to waste celluloid, time, effort, money, and audience brain cells to make such drivel. If your going to make a comedy, make it funny. If you want to film trash like this keep it to yourself. If you're going to release it as a joke like this: DON'T!!! I mean, it was a joke right? Someone please tell me this was a joke. please.\n",
      "* * * * * * * * * \n",
      "191\n",
      "I think it's time John Rambo move on with his life and try to put Vietnam behind him. This series is getting old and Rambo is no longer a solider but a cold blooded killer. Ever time he turns up on the screen someone dies. Vietnam was not a fun place to be and frankly I am tired of Hollywood making it seem like it was. This is not the worst of the films concerning Vietnam, that honor goes to John Waynes Green Berets. In any case John Rambo carrying around a 50 cal Machine Gun taking on what seems to be half of the Viet Cong army plus a good many Russians is an insult to watch. What is worse is Rambos cheesy speech at the end...Please!! Oh yeah I heard they are making another one...\n",
      "* * * * * * * * * \n",
      "202\n",
      "I'm afraid that you'll find that the huge majority of people who rate this movie as a 10 are highly Christian. I am not. If you are looking for a Christian movie, I recommend this film. If you are looking for a good general movie, I'm afraid you'll need to go elsewhere.<br /><br />I was annoyed by the characters, and their illogical behaviour. The premise of the movie is that the teaching of morality without teaching that it was Jesus who is the basis of morality is itself wrong. One scene shows the main character telling a boy that it is wrong to steal, and then the character goes on to say that it was Jesus who taught us this. I find that offensive: are we to believe that \\thou shalt not steal\\\" came from Jesus? I suppose he wrote the Ten Commandments? And stealing was acceptable before that? I rented the movie from Netflix. I should have realized the nature of the movie from the comments. Oh well.\"\n",
      "* * * * * * * * * \n",
      "320\n",
      "This film has to be the worst I have ever seen. The title of the film deceives the audience into thinking there maybe hope. The story line of the film is laughable at best, with the acting so poor you just have to cringe. The title 'Zombie Nation' implies a hoard of zombies when in fact there are six in total. This cannot be categorised as a horror film due to the introduction of cheesy 80's music when the zombies 'attack'. The zombies actually talk and act like human beings in the film with the only difference being the make up which looks like something out a La Roux video. If you ever get the chance to buy this film then do so, then burn the copy.\n",
      "* * * * * * * * * \n",
      "380\n",
      "After waking up at 3:30 in the morning and not being able to go to sleep, I decided that I may as well be entertained while I suffered from sleep deprivation. This movie was on HBO and I decided to watch it. What a mistake!<br /><br />Here is the plot (potential spoilers, if you even care) : a neurotic man with an addiction to candy (Josh Kornbluth) works as a temp for some ridiculous company. Suddenly, he is offered the chance to \\go perm,\\\" which seems to be the favorite catch-phrase of this movie. But with a secure job and a secure income within his grasp, Josh decides for whatever stupid reason that he doesn't want to do it. He hopelessly bungles several minor tasks and his laziness and lack of ambition fill me with contempt. His inability to send several \\\"very important\\\" letters within a given amount of time is supposed to be hilarious, but is merely stupid. Josh meets and deceives a lawyer woman and they wind up in bed together (obviously a fantasy of Josh's in real life, as such a thing would never happen). A bunch of other stuff happens, but it's too trite and inane to go into now.<br /><br />Despite the fact that this movie is billed as a comedy, I only laughed twice during it; the first time was the opening shot of Josh Kornbluth (my initial reaction was one of stifling fear) and the second was when he was in bed with the attractive woman (yeah, right). Josh Kornbluth is perhaps the most terrifying-looking person I have ever seen in my life. He is an unattractive, overweight, balding Jewish man who I am supposed to believe has sex with beautiful women. I do not at all sympathize with Josh's character. He is lazy and unmotivated and I just don't appreciate the failed attempts at humor. Skip it, even if your life depends upon it.\"\n",
      "* * * * * * * * * \n",
      "612\n",
      "Drew Latham(Ben Affleck)is determined not to be lonely this Christmas. Not only is Drew a millionaire; but also obnoxious and guilty of being very grandiose. Drew goes back to the home he grew up in and offers the family living there, the Valco's, $250,000 to be his \\family\\\" through the Christmas season. Tom Valco(James Gandolfini)is reluctant, but is greedy enough to take Drew's offer. Christine Valco(Catherine O'Hara)has little to say in the matter, but learns to like having Drew around...not exactly the same sentiment with daughter Alicia(Christina Applegate), but that too has room for change. Drew's girlfriend Missy(Jennifer Morrison)tracks down Drew and wants her folks to meet his family. Genuine fun is in store as a happy Noel becomes a hilarious dysfunctional nightmare. Other members of the cast: Josh Zuckerman, Bill Macy, David Selby and Stephanie Faracy. Affleck is comedic, albeit strange.\"\n",
      "* * * * * * * * * \n",
      "655\n",
      "\\The Crush\\\" is a pleasant enough 40-something friends romantic chick flick for the first two-thirds or so, as it tries to be a Brit \\\"Sex and the City\\\". <br /><br />I particularly enjoyed the turn-around of the trophy young hunk whose character is not much fleshed out (come to think of it we didn't see all that much physical flesh of him either and Kenny Doughty is worth seeing more of). <br /><br />They sure make a lot more deal of young man/older woman than was made of the opposite in either version of \\\"Sabrina\\\" (neither movie do I like) or for that matter with the Douglas/Zeta-Jones or Dion/Svengali nuptials.<br /><br />Surrounding Andie MacDowell as an ex pat otherwise are welcome familiars from Brit dramas and comedies, such as tart-tongued Anna Chancellor. <br /><br />The plot twists towards the end feel very deus ex machina. But it wasn't until the credits came up at the end that I realized what might really be wrong. Just as with \\\"Sex and the City,\\\" the writer/director is male, here first-timer Scot John McKay, and I think he really wanted to do a script about three gay men, probably about them coming out in relation to their lovers and at work (the characters are a school principal, a cop and a doctor), which would have been a better and more interesting movie. The working title for the film was \\\"The Sad F*cker's Club\\\" which would have made its parallels with the gay \\\"Broken Hearts Club\\\" even more obvious.<br /><br />(originally written 4/6/2002)\"\n",
      "* * * * * * * * * \n",
      "714\n",
      "When I saw this movie, circa 1979, it became the first movie that I ever walked out of in the middle. There is nothing worse than comedy that just misses being funny, and this misses every time (although I can't speak for the last 25 minutes of the movie). There was nothing original about any of the skits. While I enjoy racy humor where appropriate, these skits were needlessly vulgar. What was even more irritating was that this movie was advertised as \\Robin William's first movie\\\", capitalizing on his new found fame in the \\\"Mork and Mindy\\\" television series. Yet his role turned out to be so minor that you cannot even notice him on-screen.\"\n",
      "* * * * * * * * * \n",
      "1030\n",
      "This is exactly the type of film that frustrates me the most. Great cast, great director, great story potential, then they ruin it all with a screenplay that goes nowhere...and says nothing while going there! There is no depth here whatsoever. No depth of characters, no depth of plot, no depth of surprise, suspense, or common sense. We know what's happening, we are told how they plan to fix the problem, they fix the problem, throw a surprise at us near the end that fails to generate any suspense, then they end the film abruptly. Wasted opportunity.<br /><br />On the plus side, Glenn Ford leads a cast of UK (and one French) actors who are all fantastic, doing an incredibly impressive job with the one-dimensional writing they were given. One of the absolute favorites is Herbert Walton as \\Old Charlie\\\", who provides some wonderful bits of humor and warmth to a dark and serious film. I also thought the film had a great look to it...all shadows and fog...very film noir in feel.<br /><br />Even though the actors do the best they can and the directing is enjoyable, it still just isn't enough for me to recommend spending the time to view the film. There are far better Glenn Ford movies out there: The Big Heat, Gilda, Affair in Trinidad, etc.\"\n",
      "* * * * * * * * * \n",
      "1118\n",
      "Ned Kelly (Ledger), the infamous Australian outlaw and legend. Sort of like Robin Hood, with a mix of Billy the Kid, Australians love the legend of how he stood up against the English aristocratic oppression, and united the lower classes to change Australia forever. The fact that the lower classes of the time were around 70% immigrant criminals seems to be casually skimmed around by this film. Indeed, quite a few so called `facts' in this film are, on reflection, a tad dubious.<br /><br />I suppose the suspicions should have been aroused when, in the opening credits, it was claimed that this film is based upon the book, `Our Sunshine'. If ever a romanticized version of truth could be seen in a name for a book, there it was. This wasn't going to be a historical epic, but just an adaptation of one of many dubious legends of Ned Kelly, albeit a harsh and sporadically brutal version.<br /><br />Unfortunately, Ned Kelly is nothing more than an overblown Hallmark channel `real life historical drama' wannabe! The story plods along at an alarming rate (alarming because never has a film plodded so slowly!) The feeling of numbness after the two hours of pure drivel brought back memories of Costner's awful Wyatt Earp all those years ago. Simply put, nothing happens in the film, but it takes a long time getting to that nothing. This would possibly have been a tad more bearable if the performances were good (because the direction sure as heck wasn't). However, unless you are looking to play a game of spot the worst Oirish accent, then you're gonna be disappointed. Between that, the game of `Who has the stupidest beard?', `Spot the obvious backstabber!' (clue, they are all ginger for some reason), and `Nature in Australia.including lions', it is an experience similar to flicking through Hallmark, The History Channel, Discovery Channel, and Neighbours whilst suffering a huge hangover. Yup, nature pops up a lot, as to fill even more time (possibly an attempt to look arty), the film keeps showing pointless wildlife shots, and once all the native species are shown, here's a circus to allow for a camel and a lion (which is used during one fight to try to make us actually feel more sorry for the lion than the massacred people).<br /><br />This is a turgid, emotionless piece of historical fluff which should have gone straight to TV. There isn't even one good word I can say about this film. Even the usually fantastic Rush seems embarrassed to be here. When one of the characters comments that there is only 2 bullets left for him and his pal, I myself was wishing I had a gun to blow any memory of this film out of my head!\n",
      "* * * * * * * * * \n",
      "1306\n",
      "CRIME BOSS is directed by Alberto De Martino; an Italian crime drama partially filmed in Hamburg, Germany. An easily forgotten movie. Even in spite of a good car chase sequence, this flick seems to lumber on almost aimlessly. A new Don takes over a powerful Mafia family and finds himself fighting for his own life. Unwritten laws and ethics of the Mafia code make it hard to trust in anyone especially when millions of dollars are at stake. Brutality and violence breed the same in return. This can not be put on a shelf with the real gangster epics. Just the look of the film brings back memories of American drive-in fare. Even the popular American actor Telly Savalas can't boost the calibre of this crime drama. Antonio Sabato also stars with:Paola Tedesco, Guido Lollobrigida, Serio Tramonti and Piero Morgia.\n",
      "* * * * * * * * * \n",
      "1352\n",
      "This film is a calculated attempt to cash in the success of Sex in the City and Four Weddings and a Funeral. In fact, if they'd called it Sex at a Funeral, they might have done better at the box office.<br /><br />But the film falls between two stools and can't get up. The characters spout improbably bright dialog, but never act in any way remotely recognizable as human. One arbitrary, senseless action follows another to advance what passes for a plot, and one soon tires of the falsity of the whole enterprise.<br /><br />Andie MacDowell gets points for acting her little heart out, but the performing honors are stolen by Imelda Staunton, as of all things, a police detective (don't they have a height requirement over there?). Ms. Staunton seems unable to make a false move. Would that we could say the same about the writer-director.<br /><br />If Notting Hill annoyed you as being bogus, stay away from this one. Phonus bolognus on the half-shell.\n",
      "* * * * * * * * * \n",
      "1360\n",
      "Come on, let's get real. The Knights of Christ, Ordo Templi, or the Knights Templar as they are more commonly called did not even exist until the early 12th century. The story is so laughable that it's pathetic. Dolph Lundgren just looked positively bored. And besides, if you wanted to have a real-life Templar, why not just use the Knights of Christ, who are still in existence in Portugal. At least they should have taken history into account. The only redeeming quality I could find in this movie was that the artifacts looked authentic enough to pass for medieval or Gothic period pieces. The acting was bad, the storyline appalling, the action horrible, and the props were okay.\n",
      "* * * * * * * * * \n",
      "1402\n",
      "I guess that \\Gunslinger\\\" wasn't quite as god-awful as most of the movies that \\\"Mystery Science Theater 3000\\\" shows, but westerns just aren't Roger Corman's forte. Portraying Rose Hood (Beverly Garland) becoming sheriff in an Old West town after her sheriff husband gets murdered and having to fight off baddies, the movie is pretty predictable. John Ireland is Rose's new hubby, secretly working for unctuous Allison Hayes (yes, the 50-foot woman). Also appearing briefly is frequent Corman co-star Dick Miller as a mailman (Miller nowadays stars in Joe Dante's movies).<br /><br />I do wish to assert that you'll probably want to watch the \\\"MST3K\\\" version to really enjoy this movie. They had a great time with it.\"\n",
      "* * * * * * * * * \n",
      "1471\n",
      "***Comments contain spoilers*** I was barely holding on to this show as appointment TV when they started the annoying music under EVERY SCENE, when Don Epps was averaging almost a shooting per case, when the very nasally Diane Farr was obviously pregnant (but we weren't to notice) and when Colby was a f*****g TRIPLE agent. But now, in tonight's episode,David is trapped with a paranoid, nut job who is an OBVIOUS amateur with a gun, in an elevator and....HE CAN'T DISARM HIM. A trained, experienced field agent who has been 1st through the door many times and is experienced in hand-to-hand fighting, CAN'T TAKE OUT A NUT JOB. Not when said nut job blinks, looks away, drops his head, closes his eyes; not even when he looks up at the fiber optic wire wriggling around the ceiling like a stripper on a pole for 20 seconds.<br /><br />Then the scene came that let me know that as much as I enjoy learning from the chubby, frumpish but very charming Charles Epps and his sexy sidekick/love interest Amita, my Friday nights will be better spent otherwise engaged. Don gives David the \\distress word\\\" that is the code for \\\"The s**t is about to go down\\\"; David is ready, they kill the lights, drop the elevator, startle the nut job and......<br /><br />David CANNOT DISARM/KILL/BEAT INTO SUBMISSION THE NUT JOB. The bad guy ends up with BOTH GUNS, David ends up SHOT.<br /><br />I'm done. Hope the NUMB3RS are fun.\"\n",
      "* * * * * * * * * \n",
      "1499\n",
      "You wouldn't expect a movie like this to be good, and it isn't. It's a no budget, ultra violent zombie movie filmed with a bad looking hand-held camera...and it's hilarious. The actors obviously have never acted before and it shows in their terrible hilarious readings. There is no plot to be seen. The little plot I could find seemed to be that a government experiment escaped and a group of zombie seems to be terrorizing a couple families. The gore effects are actually some of the most sickening I've ever seen. It seems the gore effects people raided a butcher shop for all the body parts, and many scenes involve zombies dismembering people and eating their organs. It's a funny and sickening film, and it's about as bad as you can get in terms of any movie.<br /><br />My rating: BOMB/****. 90 mins.\n",
      "* * * * * * * * * \n",
      "1726\n",
      "Carlos Mencia continually, violently, hatefully screaming \\B**ch!\\\" at women is like screaming \\\"N**ger!\\\" at black people, except it's worse. Remember, the B word, unlike the N word, is the only pejorative term that is still associated on a daily basis with violence. \\\"B**ch!\\\" is the last thing women hear before they are raped, beaten, or murdered. This guy is perpetuating violence by hatefully using the language of violence. Sounds like he may be a gay guy trying to cover by woman-bashing, so that he will sound like a hetero. And how about all the Nazi white guys in his audience giving the fascist salutes while their stupid little bimbo white women whimper tee hee hee at their side, clearly terrified to protest this tidal wave of woman-hating. Tee hee hee. Bet Mencia doesn't believe or support free speech for THEM! Come on, Carlos  do you want women to have the free speech to b**ch-slap you as loudly and violently and big-mouthed as you do, or do you think \\\"free speech\\\" is only for men to crap on women???\"\n",
      "* * * * * * * * * \n",
      "1764\n",
      "Take:<br /><br />1. a famous play<br /><br />2. a director with now ideas of his own who is using<br /><br />3. a copy of the stage design of a popular theatre production of the play mentioned in 1.<br /><br />4. an actor for the lead - who has no feeling for the part he's playing And you'll get: \\Hamlet, Prinz von Dänemark\\\"<br /><br />I listened to the radio play of \\\"Hamlet\\\" with Maximilian Schell as Hamlet and I was so disappointed. I hoped that the filmed version would be better, that Schell would at least have a body language to underline what he's saying - nothing. Then the set... the minimalistic design is not everyone's taste, but usually I like it when there's just enough on the stage to make clear what's the setting and nothing more. Alas, that's on a stage, in a theatre. It won't work in a film based on a play that actually has believable settings. That the idea for the set was copied from the theatre production in which Schell played the Hamlet already... let's say if that was the only thing to complain about... I ask myself how Schell could get the part of Hamlet anywhere in first place and how anybody could allow him to play Hamlet a second time. If you've got the choice to view any of the about sixty films based on \\\"Hamlet\\\", don't watch this one, unless you're a masochist, or really hardcore, or like to poke fun on untalented actors.\"\n",
      "* * * * * * * * * \n",
      "2093\n",
      "I have seen about a thousand horror films. (my favorite type) This film is among the worst. For me, an idea drives a movie. So, even a poorly acted, cheaply made movie can be good. Something Weird is definitely cheaply made. However, it has little to say. I still don't understand what the karate scene in the beginning has to do with the film. Something Weird has little to offer. Save yourself the pain!\n",
      "* * * * * * * * * \n",
      "2118\n",
      "I don't know why this has the fans it does and I don't know why I have even given it the score I have. This is preposterous. There are many a giallo where one has to suspend disbelief, let the picture roll and catch up with it somewhere before it becomes delirious and some poor police officer has to eventually explain what we have seen. But, this has very little going for it and has overlong sequences where nothing happens and have no relevance to anything while we have to listen to a most repetitive soundtrack, even by Italian standards. Not a giallo, this is a complete mish mash of horror ideas featuring Klaus Kinski in one his most blatant 'phoned in' performances. I reckon he turned up, did a day's work and cleared off leaving Mr D'Amato to get others to fill in. Ewa is of course pretty but no it is not enough, and in the end we have seen far too much of her popping up all over the place, long after we have completely lost interest in this mindless and pretentious twaddle. Maybe I just wasn't in the right mood!\n",
      "* * * * * * * * * \n",
      "2268\n",
      "I am a current A.S.L. Student & was forced to watch this movie in class, and what I got out of it was the blatant bias involved in the film. The film is obviously leaning towards to P.O.V. of the \\common deaf perception\\\" their is no middle ground. Also, the film didn't make mention or take into account other situations that are also under debate in this topic. I.E. Deaf People who were born hearing and later went deaf. Is it right or wrong in that instance? The film is biased and virtually all in the opinion of the Deaf w/ a capital \\\"D\\\". Not that this is bad, but for it to be a true documentary film is should attempt to be slightly unbiased.\"\n",
      "* * * * * * * * * \n",
      "2466\n",
      "I consider Stuart Bliss the worst movie I have ever seen.<br /><br />The acting was terrible and the plot ludicrous. I get the fact that the main character's wife leaving him triggered a mental breakdown, but it got so silly and boring, after a while I could have cared less about any of the characters.<br /><br />The movie kept going over and over the same ideas without anything fresh or surprising to add to the plot. The whole thing with the Geiger counter got too much after a while after Stuart started opening up his wall to see what was behind it after the counter indicated something was there.<br /><br />Then there was the repetitive scenes with the flyer, and the confusing ones where he meets himself.<br /><br />I should have guessed that this movie was a flop when I didn't recognize any of the actors. Do yourself a favor when this movie comes up, read a book! You'll be better off.\n",
      "* * * * * * * * * \n",
      "2524\n",
      "Terrible acting by Potter and a flat plot with no tension what so ever. And as for the feminist polemic, it's laughable. I saw this garbage when it was first released and though I found it tedious beyond belief I'm glad I did go to see it. That's because I now have an immediate answer to the question 'what's the worst film you've ever seen?' Plus, I have the comfort of knowing that every film I see for the rest of my life will be better than The Tango Lesson. But I have to admit I was impressed with the way Potter wrote a script that would garner the maximum number of arts council grants from around the world (as is revealed in the closing credits).<br /><br />I only very recently saw Orlando and I can see how Potter learnt the wrong lessons from making that film. All it took was a bunch of frilly costumes, a few hard stares to camera by the leading lady, and a loose plot to seduce the cinema going public. So why shouldn't she think she could get away with the self-indulgent nothingness that is The Tango Lesson?\n",
      "* * * * * * * * * \n",
      "2556\n",
      "I couldn't believe this terrible movie was actually made at all. With the worst actors you could find, the worst script written (Mark Frost & Sollace Mitchell) and by far the worst waste of time in viewing. I won't belabor the story as it's really not worth it. But I will elaborate on some of the performances and definitely the story. As to the story, it is very hard to believe that this bitty crazy schemer could actually do what she did. That in reality the wife couldn't defend herself against a little bitty of a thing. That the husband could actually find the nut case attractive at all. That the defense attorney could break every court rule there was and keep on doing it after the judge ordered the blankety blank to shut up. And the final result of the film is an insult to justice, movie codes, and the male species. The theme of this mess is let women do as they wish, kill whom they want, defend the killer and get away with it, while the guy rots in jail the innocent victim. Hard to believe that Sollace Mitchell, the director and a man, would even want to make this dribble.<br /><br />As to the acting: Jordan Ladd, the killer, is awful. A loony toons, who does needlepoint during her murder trial (is this allowed in court?) She bored me to the hilt. One more look of her batting her eyes and indicating how innocent she was and I'd throw up. She's not even attractive enough for any guy to leave his wife. The husband, played on one level by Vincent Spano, just seems to look and act stupid most of the time. He was so predictable in his performance falling into the traps set for him by all the women surrounding him. The worst by far was Holland Taylor as the Defense Attourney. She over acted throughout the film and made a mockery of justice. If she would cross examine me anytime, I'd have told her to go take a hike. Everybody else in this sleazy film did their job as directed to do so.<br /><br />I wish I could give this film a zero rating. However we are forced to start with 1. Too bad. Let's not have anymore painful watching films like this. Lifetime can do better then this, I know it.<br /><br />This is a postscript: Made the mistake of turning this insipid movie on by mistake. As soon as I saw the bimbo Jordan Ladd I knew I'd seen it before and didn't like it or her. I not only turned the darn thing off but had to add my anger at people like Sollace Mitchell who wrote the screenplay but also directed this horrible flick. Doesen't anyone see that her/his message is that sickness pays. Being ill and going around killing people is okay with this director/writer. Totally making the male species idiots. Well, this male tells you to go stuff it somewhere painful. We're not all that stupid and will speak out to your so called movie, which in this person's mind deserves to be trashed.<br /><br />And again this loser is shown. Why???? Can't you read the comments on this stupid and despicable movie? Are we constantly subjected to see the bimbo Jordan Ladd again and again? Get her off TV, films and out of sight. She's just terrible in every sense of the word. Phew!!!!\n",
      "* * * * * * * * * \n"
     ]
    },
    {
     "name": "stdout",
     "output_type": "stream",
     "text": [
      "3776\n",
      "There's not much to say about this one. Gammera is some kind of fire breathing turtle. He is loosed by a nuclear explosion. He heads for land and begins to destroy building and tanks and other junk (oh yeah, power lines. I almost forgot). At one time, early in the film, he befriends a little boy, and instead of just throwing him away, or squashing him, he places him down on the ground. Safe. From then on we have to watch this chubby faced little twerp show up and run away, show up and run away, show up and run away. For some reason, Gammera is able to hear this kid from 20,000 feet away. Oh, well, the plot is to try to get Gammera to get to a place where he can be put on board a rocket and shot into space. As usual, the monster is lumbering and uncoordinated (a guy in a Gammera suit). The Japanese army (with the help of Americans), uses up enough ammunition and fire power to solve the national debt, and, of course, it does no good. They should know this anyway. We've seen a lot of monsters stomp on Tokyo. Not to put these down because they can be fun, but it's really not very good.\n",
      "* * * * * * * * * \n",
      "3823\n",
      "Years ago, when I was a poor teenager, my best friend and my brother both had a policy that the person picking the movie should pay. And, while I would never pay to see some of the crap they took me to, I couldn't resist a free trip to the movies! That's how I came to see crap like the second Conan movie and NEVER SAY NEVER AGAIN! Now, despite this being a wretched movie, it is in places entertaining to watch--in a brain dead sort of way. And, technically the stunts and camera-work are good, so this elevates my rating all the way to a 2! So why is the movie so bad? Well, unlike the first Rambo movie, this one has virtually no plot, Rambo himself only says about 3 words (other than grunts and yells), there is a needless and completely irrelevant and undeveloped \\romance\\\" and the movie is one giant (and stupid) special effect. And what STUPIFYINGLY AWFUL special effects. While 12383499143743701 bullets and rockets are shot at Rambo, none have any effect on him and almost every bullet or arrow Rambo shoots hits its mark! And, while the bad guys are using AK-47s, helicopters and rockets, in some scenes all Rambo had is a bow and arrows with what seem like nuclear-powered tips!! The scene where the one bad guy is shooting at him as he slowly and calmly launches one of these exploding arrows is particularly made for dumb viewers! It was wonderfully parodied in UHF starring Weird Al. Plus, HOT SHOTS, PART DEUX also does a funny parody of the genre--not just this stupid scene.<br /><br />All-in-all, a movie so dumb and pointless, it's almost like self-parody!\"\n",
      "* * * * * * * * * \n",
      "3851\n",
      "Sorry everyone,,, I know this is supposed to be an \\art\\\" film,, but wow, they should have handed out guns at the screening so people could blow their brains out and not watch. Although the scene design and photographic direction was excellent, this story is too painful to watch. The absence of a sound track was brutal. The loooonnnnng shots were too long. How long can you watch two people just sitting there and talking? Especially when the dialogue is two people complaining. I really had a hard time just getting through this film. The performances were excellent, but how much of that dark, sombre, uninspired, stuff can you take? The only thing i liked was Maureen Stapleton and her red dress and dancing scene. Otherwise this was a ripoff of Bergman. And i'm no fan f his either. I think anyone who says they enjoyed 1 1/2 hours of this is,, well, lying.\"\n",
      "* * * * * * * * * \n",
      "3890\n",
      "\\Igor and the Lunatics\\\" is a totally inept and amateurish attempt at a crazy-hippie-cult-killing-spree horror movie. Apparently even nearly twenty years later, Charles Manson was still inspiring overenthusiastic but incompetent trash-filmmakers. This is a typical Troma production, meaning in other words, there's a lot of boring and totally irrelevant padding footage to accompany the nonsensical plot. There's a bit of random gore and gratuitous nudity on display  which isn't bad  but it's all so very pointless and ugly that it becomes frustrating to look at. \\\"Igor and the Lunatics\\\" is so desperate that it's even using a lot of the footage twice, like the circle saw killing for example. The incoherent plot tries to tell the story of a hippie cult run by the drug-addicted and Charlie Manson wannabe Paul. One of Paul's lower ranked disciples, named Igor, becomes a little bit too obsessed with the Bible stories and drug orgies and gradually causes the entire cult to descent further into criminal insanity. Just to illustrate through a little example exactly how crazy Igor is: he tears the heart straight out of the chest of a really sexy black hitch-hiker girl! There's an annoying synthesizer soundtrack and some truly embarrassingly lame pseudo-artistic camera tricks, like slow-motion footage and lurid dream sequences. Maybe there's one sequence that more or less qualifies as worthwhile for trash fanatics and that' is when a poor girl is cut in half with a machete. For no particular reason, the camera holds the shot of the blade in the bloodied stomach for fifteen whole seconds.\"\n",
      "* * * * * * * * * \n",
      "3931\n",
      "There were good performances by Robin Williams and others but the movie was dull overall and very disappointing compared to the positive reviews.<br /><br />I thought Sy might become a serial killer who bores people to death: a forlorn guy in ugly clothes trails his victims around food courts, quoting Oprah and reciting his medical history until they beg him to shoot them.<br /><br />I think the movie mostly appeals to egomaniacs who think strangers are interested in their photos. I expect most retail workers want a break from the customers.\n",
      "* * * * * * * * * \n",
      "4643\n",
      "I had heard some bad things about Cabin Fever almost as much as I heard the cultish hype. As it turns out, the first film from the new impresario Eli Roth, it's just a so-so effort with the IQ points dropping as the film progresses. There are worse movies out there, and surely more gory ones (while I'm not sure how the hype-meter got so high on the blood-count for Hostel, there is a good amount for genre fans here). The premise isn't necessarily bad either though: kids go to a cabin for a week of partying, only to come across a very sick man, covered in blood, whom in a panic they set on fire. He winds up dead in the water that feeds the reservoir, and soon the characters all succumb to the flesh-eating virus one way or another. The characters, either the lead college kids (including Rider Strong as the hero and James DiBello as the goofy side-bar) or the supporting 'village' folks are archetypal to the point of inertia, if not painfully so. <br /><br />As they meet their fates, the townspeople get pretty weird, and it just seems to be non-sensibly thrown together without the many laughs; 'Pancakes kid' comes out of nowhere, and maybe might have been funnier in another movie or by itself, but in the context of the rest of the movie, it just doesn't work. There's also a young police character who is even dumber and less convincing than the others. And the family that goes after DiBello following an incident has some possibilities that aren't realized. But all the while, Roth pumps up his script with common sense out the window and sudden scares and frights with people hacking up blood on one another and a killer dog rambling around. Which isn't all for not either. Now, unlike lesser Troma horror movies or even lesser ones of the 70s or 80s- to which I'm sure Roth is a die-hard fan- he doesn't make it unwatchable. It's also smart to not have any explanation for where the virus comes from. <br /><br />But unlike those films too, he also doesn't really have a fine idea of what makes for great campy-horror times. His film tries for that, of course, and only once or twice does he make it a goofy, bloody time (I did like the random bunny Strong sees while on the gurney). It's not even very poorly shot a lot of the time (albeit with its own contrived style-choices ala red tint on the lens or that story with the bowling-alley worker). It simply contains a lot of illogical scenarios and choices made (shave your legs with a deadly virus, uh-huh), and it aims for fairly typical ground. If that's your cup of tea, more power to you. But at the end I found it to be actually un-exceptional genre territory that doesn't offend audience sensibilities ala Saw, but doesn't swing for the fence either as a clever B-movie. Roth also has the temerity to end the movie on a true note of 'what-the-hell' as the Santa Claus bearded convenience store clerk from earlier in the film serves a bunch of black people. It could work if he followed up on it with something better, or if he dropped it altogether. Same could be said for a lot of the movie. C-\n",
      "* * * * * * * * * \n",
      "4881\n",
      "This movie . . . I don't know. Why they would take such an indellible character as Pippi Longstocking and cast the singularly charmless Tami Erin, I will never know. Why they would spend money on art direction and some not-all-that-bad special effects, then not bother to edit it properly, I will never know. Why the sets and costumes are sometimes in period, and sometimes bizarrely not, why they commissioned SUCH bad songs, why the script doesn't make any sense whatsoever (not even on a silly, children's film level) . . . . what were they thinking?? Nothing about this movie is quite as it should be. Every single part is dubbed (and always poorly,) every sound effect is slightly wrong, every edit is in the wrong place, every performance is bad in some way. It does manage to create an appropriate atmosphere, despite all the problems, but it NEVER captures the magic that is Astrid Lindgren's creation.\n",
      "* * * * * * * * * \n",
      "5036\n",
      "This stalk and slash turkey manages to bring nothing new to an increasingly stale genre. A masked killer stalks young, pert girls and slaughters them in a variety of gruesome ways, none of which are particularly inventive.<br /><br />It's not scary, it's not clever, and it's not funny. So what was the point of it?\n",
      "* * * * * * * * * \n",
      "5112\n",
      "I'm a big fan of the TV series Largo Winch. This movie was pain for me. I had to use fast forward not to fell to sleep. It was boring! How can somebody ruin this title so much? The story was the only good thing. Actors were sh.t. They can't live the role. The main actor(Tom ... ) is a null. Watch the other roles of this actor. The fighting scenes were unbelievable boring and not to followable,somehow they were not to follow the situation. Like other reviewer said low budget film with bad actors.Maybe next time somebody else can do better thing out of this title. French can't do right thing with big films,like Alien 4. That was bit brrr, after Alien 1,2,3.\n",
      "* * * * * * * * * \n",
      "5143\n",
      "LOL! Not a bad way to start it. I thought this was original, but then I discovered it was a clone of the 1976 remake of KING KONG. I never saw KING KONG until I was 15. I saw this film when I was 9. The film's funky disco music will get stuck in your head! Not to mention the film's theme song by the Yetians. This is the worst creature effects I've ever seen. At the same time this film remains a holy grail of B-movies. Memorable quotes: \\Take a tranquilizer and go to bed.\\\" \\\"Put the Yeti in your tank and you have Yeti power.\\\" I remember seeing this film on MOVIE MACRABE hosted by Elvira. There is one scene where it was like KING KONG in reverse! In KING KONG he grabs the girl and climbs up the building, but in this film he climbs down the building and grabs the girl (who was falling)! Also around that year was another KONG clone MIGHTY PEKING MAN (1977) which came from Hong Kong. There is a lot of traveling matte scenes and motorized body parts. This film will leave you laughing. It is like I said, just another KING KONG clone. Rated PG for violence, language, thematic elements, and some scary scenes.\"\n",
      "* * * * * * * * * \n",
      "5254\n",
      "I rented this film thinking it was the sobbingly sad 1959 version I saw as a kid. It was not. I was therefore very disappointed with what I felt was marginal acting, poor character development, and most of all, failure to highlight the relationship between the boy and his dog. In this version... the \\Dog of Flanders\\\" is just a cute \\\"aside\\\" to the movie. Get the 1959 version!\"\n",
      "* * * * * * * * * \n",
      "5289\n",
      "1. Aliens resemble plush toys and hand puppets, while having arms that don't function.<br /><br />2. Aliens mastered intergalactic space travel, but they don't know how to push an unlocked vault door open, yet can push open a door being held shut by five people.<br /><br />3. Old Security Guards know how to get a hold of C4, and are just waiting for the right time to use it, say, when they are suddenly fired for no explainable reason.<br /><br />4. Apparently, US Army boot camp, in the 80's, involved several sessions of \\garden tool combat\\\", including the pirouette spin of death.<br /><br />5. To impress your prudish girl friend, you have to \\\"save the world...err...neighborhood\\\" from aliens.<br /><br />6. All women are sluts, either openly or secretly.<br /><br />7. Scummy night clubs look like bad diners.<br /><br />8. \\\"Scummy\\\" waitresses double as dancers for The Fontanelles (how did they get talked into this?) who can only do bad 60's dance moves.<br /><br />9. Army privates secretly dream of being Rambo.<br /><br />10. Grenades apparently have a setting for \\\"flash-bang\\\". <br /><br />11. Being burned alive apparently only leaves one with minor burns on their arms.<br /><br />12. US Army Staff Sargeants apparently happen to always be in the area and do nothing about aliens in the area.<br /><br />13. Aliens apparently always \\\"go home\\\", which means back to the vault they were un-locked in.<br /><br />14. Aliens are attracted to bright lights, which apparently means in the Los Angeles area one would assume, the protagonist's house is the most brightly lit thing in the area.<br /><br />15. Showing 16 parking scenes in a movie makes the audience clamor for more.<br /><br />16. Vans from the 80's apparently have horrible suspension systems.<br /><br />17. Comedy is supposed to happen in this film.<br /><br />18. Horror is supposed to happen in this film.<br /><br />19. Spoofs and homages are supposed to happen in this film.<br /><br />20. This film cures insomnia.<br /><br />21. Apparently, garden tools make electronic keyboard noises whenever they are used, not just in fights (tell me I'm not the only one who noticed this).<br /><br />The simply truth is this film just came out wrong. Period. There isn't much meat on the bone, nor does it do anything really well. Even average. It's just bad. However, I've seen far worse, and the rake fight scene is pure comedy gold, intentional or otherwise.<br /><br />2/10 - Jaws 4 was worse then this. At least the film never took itself seriously.\"\n",
      "* * * * * * * * * \n",
      "5382\n",
      "I LOVED the Apprentice for the first two seasons.<br /><br />But now with season 5? (or is it 6?) things are getting just plain too tiring.<br /><br />I used to like the show, but its become Donald Trumps own ego fest. Granted its his company you'll be working for, but come on! some of the things says \\You're FIRED\\\" is just insulting.<br /><br />after watching the show, I would not want to work for him. not because he is arrogant, pompous or such. Its just that the show is unrealistic and the way he handles things makes me just squirm. Good Entertainment? YES, but tiring as the back stabbing gets so tiring.. its not team work, its not personal, its just business. watch your back jack.\"\n",
      "* * * * * * * * * \n",
      "5486\n",
      "German filmmaker Ulli Lommel has managed a task many horror fans thought was impossible: he's unseated fellow Teuton Uwe Boll for the crown of director of the worst horror film ever made.<br /><br />Lommel is truly the Ed Wood of the new millennium. This film is as shoddy and laughable as the best-worst of EW. I am both proud and embarrassed to say that I watched it in toto, morbidly fascinated to see just low the bar could be set. The answer is: subterranean; Lommel dug a pit and buried it.<br /><br />The fun begins with the cast of international nobodies. Only someone who has lived in Los Angeles, where every auto mechanic, doctor and mailman is an actor or screenwriter waiting to be discovered, could easily understand how Lommel managed to find so many wannabe actors willing to spew his ridiculous dialog with a straight face.<br /><br />The main character, a villainous beat cop, is played by a German actor with a thick German accent. Aside from being a serial killer, he is also the oldest beat cop in LA. Despite the fact that he stops innocent women drivers and takes them into custody, then drags them into his home (which inexplicably is the top floor of a furniture warehouse), and does all this in plain sight of his rookie partners, the LAPD refuses to investigate, going so far as to physically attack one of his accusers in a ninja style raid on his apartment.<br /><br />The sets are excruciatingly bad. The production designer's budget apparently included just enough money for a can of paint; enough to paint \\Precinct 707\\\" on a cardboard wall.<br /><br />Since the actors were obviously unpaid non-professionals--a sad assortment of European emigres (possibly deportees if they acted in their native lands), bimbos, mimbos, and desperate middle-aged women--and since little if any money was spent on sets, special efx, locations or other production value, it is only fair to mention that they did spring for a few genuine-looking police uniforms. Sadly, they couldn't afford a police car; the uniformed cops cruise the streets in a shiny new Mercury rental.<br /><br />More than half of the story focuses on the dirty deeds of our deranged German LAPD officer and the futile efforts of two young rookies to stop him. One of these young actors is especially pitiable because he's the only actor in this whole mess with even a vague shot at a real career in the movies. The other fits right in, with a rockabilly hairdo and tortured Brando posing that needs to be seen to be appreciated.<br /><br />The latter part of the film is where the title gets its zombie, as the victims of our killer are resurrected after he murders a girl who had just visited some voodoo priestesses to have a protective spell put on her. Don't ask why a girl from Romania would resort to voodooism in anticipation of being murdered, just accept Lommel's logic and enjoy the absurd ride.<br /><br />After much prolonged hand-clawing out of straw-covered roadside graves, the zombie girls manage to make their appearance. They look exactly as they did before death, maybe even prettier, with black glamor make-up generously airbrushed around their eyes. Looking nothing like zombies, they look more like high fashion models ready for the runway.<br /><br />At this point in the movie Lommel borrows a creative note from his lauded countryman Boll, and injects large doses of cheesy Euro-trash techno into the soundtrack. We're talking prehistoric electronic bumblebee noise. Stuff they might have played in an Ibiza disco when Lommel was still young enough to shake his booty.<br /><br />Unlike other zombies, Lommel's girls speak and function as normal... er, I mean, as they did before becoming zombified. This gives our auteur ample opportunities to shower us with more of his golden dialog. Yes, a golden shower it is.<br /><br />I won't spoil anything by revealing the shock ending. All I can say is it's perfectly in tune with the rest of this masterpiece. The spirit of Ed Wood lives on... or should I say his geist.\"\n",
      "* * * * * * * * * \n",
      "5540\n",
      "At first glance this gives the impression that it is going to be a laughable blaxploitation flick, and it does contain moments where it veers in that direction. However, the basic story idea is much stronger than might be expected, and is a respectable effort at portraying racial issues in the World War II era Army. The recognizable cast is hit and miss, with Glynn Turman, Richard Pryor and the underused Billy Dee Williams faring best. Stephen Boyd, however, stops just short of twirling his bushy mustache in an overindulgent star turn.<br /><br />The obviously low budget leads to inconsistency in the production values. The locations are great, the effects and action are weak. Imagine if \\Saving Private Ryan\\\" had consisted of half the platoon getting killed exactly the same way Vin Diesel's Caparzo had (except we do get to see the shot because they effects can't handle it), then Hanks, Damon and Burns drove around in a jeep and shot five Germans for the climax. Yet, the denouement, with the heroic soldiers receiving no respect for their accomplishment because they are black, and Boyd's racist Captain being effected by this, is compelling, as are the sequences of of Turman's character writing in a journal of his imagined exploits if the soldiers were allowed to fight instead of digging latrines.<br /><br />In short, \\\"Black Brigade/Carter's Army\\\" doesn't quite succeed. But it's a respectable failure, not a bad joke. It could be remade as a very good film, and, as it stands, is an interesting effort.\"\n",
      "* * * * * * * * * \n",
      "5749\n",
      "Student Seduction finds Saved By The Bell Alumni Elizabeth Berkley on the other side of the desk and attracting the attention of young and hunky Corey Sevier. Speaking for myself I can truthfully say that no teachers save one ever did anything for me hormonally back when I was a student. That was a Ms. Diaz who was a music teacher in Junior High School. Even as a young gay kid, I could see what she was doing to the rest of the class. She was the only teacher I had who in any way could have been played by Elizabeth Berkley.<br /><br />Corey being the hotty he is, is also used to having his own way with women whether they agree or not. The fact that he comes from rich parents reinforces that belief. He's flunking chemistry which is what Berkley teaches and to keep his GPA up she agrees to tutor, but believe no more. <br /><br />So when he attempts a rape and gets no for an answer it's damaging to his ego. When Berkley goes out of channels and reports the crime to the police, the cops who are keeping in mind the cases of Pamela Smart and Mary Kay LeTourneau just don't believe here. Sevier's parents have the wherewithal to get a good publicity spin on this for their boy.<br /><br />Student Seduction which is a misnomer of a title if there ever was one is trash all the way. After the beating that Berkley took for Showgirls this TV film was not an upward career move.\n",
      "* * * * * * * * * \n",
      "5835\n",
      "A huge hit upon release with Australian audiences, it can still be funny today, but its over-the-top political incorrectness and blunt, unsubtle humour can make it a bit of a cringer. It goes on far too long; some of<br /><br /> the content could have been saved for the sequel, Barry McKenzie Holds His Own, which desperately needed some new stuff anyway. Granted, his ocker Aussie attitude is funny, but also becomes annoying as the film drags on. Some say Crocker's songs are the best bits, and they are certainly original, but \\hilarious\\\"? The Adventures of Barry McKenzie will go down as a landmark in Australian cinema, but we should do everything in our power to make sure that overseas audiences do not see the majority of Australians as Barry McKenzies (or, for that matter, Mick Dundees!). Rating: 5/10\"\n",
      "* * * * * * * * * \n",
      "5926\n",
      "WARNING:I advise anyone who has not seen the film yet to not read this comment.<br /><br />Although I haven't seen them all,The Hamiltons sure did deliver one lowsy piece of entertainment,which it did not entertain me at all!!!!I thought that in common with the semi-bad acting,stupid plot scheme,and the twist at the end of the movie,which was very retarded,this movie sucked!!!Okay,so supposively these are people who eat other people.Yeah......notice I said people not humans,not because they aren't human,or wait I think they are,OH NO WAIT,THEY DIDN'T TELL YOU!!!!!So okay,are these people cannibals,or are they imbreds,or what are THEY!!!!I mean,maybe they're just \\THINGS\\\" that came here to see what people taste like or,are they cannibals who have eaten people for a long time now,or maybe this movie was HHOORRIIBBLLEE!!WHICH IT WAS!!!So if you think The Hamiltons is good,I ask of you,why,why,WHY,WHY,why was it so awesome,because to me it was just flat out terrible!!!One big BOOOOOOO for The Hamiltons!!!Go see The Gravedancers,Tooth & Nail,or Borderland for a piece of entertainment!!!!!\"\n",
      "* * * * * * * * * \n",
      "5963\n",
      "I figured that any horror film with Orson Welles in it would be weird. Necromancy sure was but it was a little too weird for it's own good. The film does indeed have a creepy feel as it deals with a coven of satanists/witches in a small town and a young woman's attempt to escape them. The director though seems to be deliberately trying to confuse the audience by using flashbacks and dream sequences. By the finale, there are too many unanswered questions. What's worse, as the story is so confusing, it's pretty hard to root for any of the characters. It seems odd that Welles would agree to headline this film especially since he doesn't have that much to do. Maybe someday they will put out a tape of the outtakes and bloopers from this movie. Now that would really be fun!\n",
      "* * * * * * * * * \n",
      "6031\n",
      "**Possible Spoilers Ahead**<br /><br />Gerald Mohr, a busy B-movie actor during the Forties and Fifties, leads an expedition to Mars. Before we get to the Red Planet we're entertained by romantic patter between Mohr and scientist Nora Hayden; resident doofus Jack Kruschen; and the sight of Les Tremayne as another scientist sporting a billy-goat beard. The Martian exteriors feature fake backdrops and tints ranging from red to pink-the \\Cinemagic\\\" process touted in the ads. Real cool monsters include a giant amoeba, a three-eyed insect creature, an oversized Venus Fly-Trap, and the unforgettable rat/bat/spider. The whole bizarre adventure is recalled by survivor Hayden under the influence of hypnotic drugs. THE ANGRY RED PLANET reportedly has quite a cult following, and it probably picked up most of its adherents during the psychedelic Sixties.\"\n",
      "* * * * * * * * * \n",
      "6039\n",
      "As an ordinary movie-watcher I can't say I enjoyed watching this one. It's not too emotional for a drama, not too gripping for a thriller, not too fast for an action. Plus, some moments of the movie are hardly credible. OK, I understand, soldiers become a bit out of their mind out there, but it's hard to believe that a person would risk his life, carjack into the middle of a hostile city, and after being shouted at by a professor's wife run away, without having asked a question (in a proper way). It would seem terribly romantic if it were an animation or so, but it's supposed to be a SERIOUS film about war.. There are several episodes like this, so the whole picture makes an impression that it's just a raw preview of a movie, and it needs considerable work.<br /><br />It feels like the movie makers wanted to create an image of an emotional brave soldier, but all these 'curves' of his psychology seem simply unnatural.<br /><br />This picture left a question in my head: WHY? Why they gave it an Oscar? Why SIX? And IMHO it's the most thrilling part of the movie :)\n",
      "* * * * * * * * * \n",
      "6501\n",
      "The last couple of weeks in the life of a dead vagabond woman is told in flashbacks. Like the vagabond, the film wanders aimlessly and rather pointlessly. Mona, the lazy, sullen, and drug-addicted title character, is not likable and Bonnaire does little to make her interesting. Although there is some pretentious dialog attempting to explain why Mona has chosen this miserable lifestyle, her motivations are never really clear. The episodic nature of the film, involving some random characters, becomes tiresome after a while, making it seem much longer than its running time. It is also hard to believe that an attractive young homeless woman would not draw more attention from men.\n",
      "* * * * * * * * * \n",
      "6564\n",
      "I can sum this movie up using 20 words or less. Way too predictable of a story line with potential to be funny but instead falls flat on its face. See, 19 words, however, I didn't completely pan this flick with just one star but instead decided to bump it up to two stars due to the fact that Julie Bowen is smoking hot and provided just enough eye candy to keep me from ripping the DVD right out from the machine and blowing it up with an M80. My advice, take the $4.00 rental fee you would have paid to see this movie and just send it right to me as an advance thank you for saving you the time and frustration of having to sit through this train wreck, or you may want to send me the $50.00 replacement fee you would have been charged from taking out your twelve gage to use this piece of garbage as skeet shooting practice.\n",
      "* * * * * * * * * \n",
      "6649\n",
      "Phil the Alien is one of those quirky films where the humour is based around the oddness of everything rather than actual punchlines.<br /><br />At first it was very odd and pretty funny but as the movie progressed I didn't find the jokes or oddness funny anymore.<br /><br />Its a low budget film (thats never a problem in itself), there were some pretty interesting characters, but eventually I just lost interest.<br /><br />I imagine this film would appeal to a stoner who is currently partaking.<br /><br />For something similar but better try \\Brother from another planet\\\"\"\n",
      "* * * * * * * * * \n",
      "6770\n",
      "The acronymic \\F.P.1\\\" stands for \\\"Floating Platform #1\\\". The film portends the building of an \\\"F.P.1\\\" in the middle of the Atlantic Ocean, to be used as an \\\"air station\\\" for transatlantic plane flights. Based a contemporary Curt Siodmark novel; it was filmed in German as \\\"F.P.1 antwortet nicht\\\" (1932), in French as \\\"I.F.1 ne répond plus\\\" (1933), and in English as \\\"F.P.1\\\" (1933). Soon, technology made non-stop oceanic travel much more preferable.<br /><br />Stars Conrad Veidt (as Ellissen), Jill Esmond (as Droste), and Leslie Fenton (as Claire) find love and sabotage on and off the Atlantic platform. Karl Hartl directed. Mr. Veidt is most fun to watch; but, he is not convincing in the \\\"love triangle\\\" with Ms. Esmond and Mr. Fenton. The younger co-stars were the spouses of Laurence Olivier and Ann Dvorak, respectively. Both the concept and film have not aged well. <br /><br />**** F.P.1 (4/3/33) Karl Hartl ~ Conrad Veidt, Jill Esmond, Leslie Fenton\"\n",
      "* * * * * * * * * \n"
     ]
    },
    {
     "name": "stdout",
     "output_type": "stream",
     "text": [
      "7021\n",
      "I ve finished seeing the movie 10 minutes ago..WoW i still cant believe what i've watched.<br /><br />This is absolutely the worst movie EVER. If i would list all the flaws in the movie , this review would take me a lot of sentences.( very funny flaws, because of being that bad though)<br /><br />You got to be Amazed with the skill of the commandos assigned to rescue the plane. they didn't even know how to move.<br /><br />Ice-t is so bad actor... and the thing i don't understand, is how the production wanted him to be like a hero, but he's a zero..<br /><br />of course the major flaws will be the landing of an 747, needing only 3 or 4 tips from a guy in transmission to land the plane...amazing.. as well as the dead bodys that had almost no blood at all..<br /><br />But i strongly recommend of watching this movie, as its very interesting to see how bad can something get\n",
      "* * * * * * * * * \n",
      "7074\n",
      "I agree with most of the other guys. A waste of photons and valuable time.<br /><br />Nearly no joke is worth the paper is was written on. The only highlight from my pov is Olli Dittrich as Pinocchio. (\\Egal, ich muss eh Waldsterben\\\") This reminds of old times with RTL Samstag Nacht. It is hard to describe the performances of the actors, since most of them don't even seem to have a good time during production and just \\\"do their thing\\\". Camera is OK, plot is laughable, I think you would be ashamed even if you discuss this with lots of beers.<br /><br />Apart from this I yawned all the time, wondered about how a script like this could even be considered for production and waited for the end.<br /><br />My 9 year old son was pleased, but then he is pleased by so little at this age :-)<br /><br />Anyway, a 1 point rating here nearly is 1 point too much...\"\n",
      "* * * * * * * * * \n",
      "7152\n",
      "As an ex-teacher(!) I must confess to cringing through many scenes - 'though I continued to watch to the end. I wonder why?! (Boredom, perhaps?) :-)<br /><br />The initial opening scenes struck me as incredibly mish-mashed and unfocussed. The plot, too, although there were some good ideas - the plight of a relief teacher, for example - were not concentrated enough in any one direction for 3-D development.<br /><br />Not one of Mr Nolte's finer moments. As to young Mr Macchio, does he speak that way in *every* movie?<br /><br />Plot and acting complaints aside, the hair-styles alone were a nostalgic (if nauseating) trip.<br /><br />\n",
      "* * * * * * * * * \n",
      "7159\n",
      "**SPOILERS*** Slow as molasses mummy movie involving this expiation in the Valley of the Kings in Egypt that has to be aborted in order to keep the native population, who are at the time revolting against British rule, from finding out about it.<br /><br />Given the task of getting to this archaeological dig by his superiors British Capt. Storm, Mark Dana, together with a couple of British soldiers and Mrs. Sylvia Quentin, Diane Brewster, the wife of the head man at the dig Robert Quentin, George N. Neise, make their way to the unearthed mummy's tomb. On the way there Capt. Storm Sylvia and his men run into this desert-like princess Simira, Ziva Rodann.<br /><br />Simira seems to be superhuman in her ability to withstand the rigors of desert life, she doesn't drink water or get tired, but also knows just what Capt. Storm & Co. are looking for and warns him and his group to stay as far away from the dig, Pharaoh's Ra Ha Tet tomb, as possible.<br /><br />At Ra Ha Tet's burial chamber Robert Quentin and his crew of archeologist's together with his Egyptin guide Simira's brother Numar, Alvaro Guillot,already opened his tomb before Capt. Storm can get there to stop them. Quentin violated Ra Ha Tet's body by having Dr. Farrady, Guy Prescott, cut his bandages. This action on Robert's and Dr. Farrady's part has Numar faint dead in his tracks. It later turns out that Numar somehow was possessed by Ra Ha Tet's spirit or soul who took over his body and caused him to age, at the rate of 500 years per hour, to become himself a 3,000 year-old mummy.<br /><br />The movie has Numar dressed in what looks like a pair of pajamas slinking around Ra Ha Tet's tomb and it's surroundings attacking and sucking out the blood in order to survive, like a vampire, of anyone man or animal that he comes in contact with. This blood-sucking adventure by Numar, with him later losing his right arm, goes on for some time until the by now crazed Quentin trying to find the entrance, you in fact thought that he already found it, to Ra Ha Tet's tomb get's himself killed is an indoor rock slide.<br /><br />We learn at the end of the movie that Numar, to absolutely no one's surprise, is actually Ra Ha Tet reincarnated into another, some 3,000 years later, person or life. Numar's sister the mysterious and sexy Simira is not only Ra Ha Tet's sister, since him and Numar are really one and the same person, but also the Egyptian Cat Goddess Babesti! Also not that hard to figure out.<br /><br />With Numar/Ra Ha Tet back in his tomb and all the deaths, due the the Pharaoh's Curse, now at an end Capt. Storm Sylvia and whatever is left of his men and the late Robert Quentin's archaeological expedition trek their way back to Cairo and modern, this in 1902, civilization. The survivors of Pharaoh Ra Ha Tet Curse keep what they found, and unearthed, only to themselves since no one would believe them anyway.\n",
      "* * * * * * * * * \n",
      "7201\n",
      "Were I not with friends, and so cheap, I would have walked out. It failed miserably as satire and didn't even have the redemption of camp.\n",
      "* * * * * * * * * \n",
      "7204\n",
      "The ending of this movie made absolutely NO SENSE. What a waste of 2 perfectly good hours. If you can explain it to me...PLEASE DO. I don't usually consider myself unable to \\get\\\" a movie, but this was a classic example for me, so either I'm slower than I think, or this was a REALLY bad movie.\"\n",
      "* * * * * * * * * \n",
      "7323\n",
      "IT IS So Sad. Even though this was shot with film i think it stinks a little bit more than flicks like Blood Lake, There's Nothing Out There & . The music they play in this is the funniest stuff i've ever heard. i like the brother and sister in this movie. They both don't try very hard to sound sarcastic when they're saying stuff like \\My friends are going to be so jealous!\\\" Hey, whats with the killer only wearing his mask in the beginning? Thats retarded! I practically ignored the second half of this. My favorite part about this movie is the sound effect they use when the killer is using the axe. The same exact sound for every chop!\"\n",
      "* * * * * * * * * \n",
      "7395\n",
      "I give this movie a 3 as it is worse than the cult movies that deserve a proper 2. It does not make sense to you? Well, it doesn't have to. This is another vampire movie with a stupid plot, no, let me rephrase, incredibly idiotic plot, where space cowboys (complete with cowboy hats) battle a space race of moron vampires.<br /><br />Does it get any uglier than this? The only good thing in this movie was Natassia Malthe, with her stunning Norwegian beauty. God, I wish Michael Ironside and the DeLuise brothers would stop accepting dumb roles in dumb movies! I mean, at least SeaQuest was nice! I know Mr. Ironside from a lot of movies, he has acted in 164 movies at this date!! It's true that he was rarely in a major role, but still!\n",
      "* * * * * * * * * \n",
      "7448\n",
      "My friends and I rented this for \\Bad Movie Night\\\" with high hopes, but The Brain was something of a letdown. The Brain itself is gloriously goofy-looking, but it mostly just sits on its little platform. Who thought that it would be cool that the Brain only gets to munch on three people throughout 94 drawn-out minutes? This movie has a number of things going for it at first, including an Estevez-knockoff lead playing a rebellious genius (we're told that his enormous intellect is misdirected into his elaborate pranks and school stunts, which include putting krazy glue on someone's chair). It also has some great lines, a hilariously out-of-shape and out-of-breath henchman who just barely manages to be everywhere, and, yeah, some chick gets naked. However, the director desperately needs some schooling in the art of pacing. During the last half things just start to drag on and on, with at least 3 or 4 pointless, boring chase scenes making up the middle third of the plot. The scenes inside the PRI complex are especially bad. At least 15 minutes of this movie are people running up and down the same stairwell. I could've fixed the screenplay to this thing in half an hour- more cheese, more gore, more nudity, more Brain action. If you're going to make a bad horror movie, at least give me something cool to look at while my superego shuts down. Maybe the director was trying to really bring the audience into his movie- I started feeling like one of the zombified townsfolk by the end of this crapfest.\"\n",
      "* * * * * * * * * \n",
      "7456\n",
      "En route to a small town that lays way off the beaten track (but which looks suspiciously close to a freeway), a female reporter runs into a strange hitch-hiker who agrees to help direct her to her destination. The strange man then recounts a pair of gruesome tales connected to the area: in the first story, an adulterous couple plot to kill the woman's husband, but eventually suffer a far worse fate themselves when they are attacked by a zombie; and in the second story, a group of campers have their vacation cut short when an undead outlaw takes umbrage at having his grave peed on.<br /><br />The Zombie Chronicles is an attempt by writer Garrett Clancy and director Brad Sykes at making a zombie themed anthologya nice idea, but with only two stories, it falls woefully short. And that's not the only way in which this low budget gore flick fails to deliver: the acting is lousy (with Joe Haggerty, as the tale-telling Ebenezer Jackson, giving one of the strangest performances I have ever seen); the locations are uninspired; the script is dreary; there's a sex scene with zero nudity; and the ending.... well, that beggars belief.<br /><br />To be fair, some of Sykes' creative camera-work is effective (although the gimmicky technique employed as characters run through the woods is a tad overused) and Joe Castro's cheapo gore is enthusiastic: an ear is bitten off, eyeballs are plucked out, a face is removed, brains are squished, and there is a messy decapitation. These positives just about make the film bearable, but be warned, The Zombie Chronicles ain't a stroll in the park, even for seasoned viewers of z-grade trash.<br /><br />I give The Zombie Chronicles 2/10, but generously raise my rating to 3 since I didn't get to view the film with the benefit of 3D (although I have a sneaking suspicion that an extra dimension wouldn't have made that much of a difference).\n",
      "* * * * * * * * * \n",
      "7703\n",
      "In this strangely-lackadaisical apocalypse, the world suffers from a dual plague of zombies and vampires, but no one seems to be too worried about it in this Grade-Z film which bares less resemblance to Sheridan Le Fanu's famous short novel than my mother's lasagna recipe. Bored attendants still run gas stations and doctors still make house calls and helpful police officers still show up with radiator fluid just when you need it. The plot, and I use that term loosely, involves a father and a daughter trying to rendevous with \\the general,\\\" whose daughter is missing, at a church to kill a vampire who, very conveniently, happens to be traveling with the father and daughter. I must confess that a moment or two of genuine humor can be found between vast stretches of unintentional humor. The film also boasts just enough nudity to keep a boy of fourteen interested. Anyone older beware.\"\n",
      "* * * * * * * * * \n",
      "7710\n",
      "The progression of the plot is enough to \\rope one in\\\" and create curiosity about the outcome. However, ultimately, the feeling that remains is that the producers of the movie forgot to end it. If the intention was to create a perpetual circle (occasionally done in the Twilight Zone), it was too sloppy to view as a positive effort.\"\n",
      "* * * * * * * * * \n",
      "7907\n",
      "Im the type of person who always goes 2 to horror section when I'm picking a film, so i picked five across the eyes, i was disgusted with this film and thought there was no story line and no point that you could enjoy it,it made my skin crawl to think that people like to watch films that just encourage violence for the hell of it it was low budget and very rubbish! i think i could of done better myself. i think that it was the worst film i have ever seen in my life and you should not bother to watch it the actors were rubbish the camera was awful the picture was bad and the sound was not up to scratch, i think it was a little bit like a cheep rip of off the baler which project and it has not worked at all it was foul.\n",
      "* * * * * * * * * \n",
      "7945\n",
      "I know I've already added a comment but I just wanted to clarify something...<br /><br />I'm not some old fogey from the Baby Boom generation that grew up glued to a flickering b/w picture of Phil Silvers, Jackie Gleason etc.<br /><br />Bilko was already 20 years old before I was born but I had the pleasure of discovering Phil Silver's Bilko courtesy of BBC2. I wonder if I would have enjoyed Steve Martin's travesty if I hadn't seen or heard of Phil Silvers - I don't know - maybe I would have.<br /><br />Some of the other reviewers who think this movie is worthy of a '10' admit that they haven't seen the original. I can only urge you to spend 21 minutes of your life watching a single episode. If after watching the original Ernie, Colonel Hall, Ritzig & Emma, Duane Doberman, Henshaw, Dino, Flashman, Zimmerman, Mullin et al you still think that Steve Martin's film is woth anything above a '2' - I'll stand you a pint....\n",
      "* * * * * * * * * \n",
      "8022\n",
      "Shame on Yash Raj films and Aditya Chopra who seems to have lost their intelligence over the years and providing steady fare of tripe in this piece of cinematic crap thats not even worth You Tube standards. I was gritting my teeth throughout the whole flick start to finish with the schizophrenic direction, plot line that never quite materialized and on the last scene I just felt ashamed that my country and its crorepati film makers can \\THROW AWAY\\\" crores on such stupidity. Shame on the actors for taking this work and even commenting on it as some piece of work they can own up to. Saif Ali Khan -completely disappointed in your choice of film. Kareen shows enough skin for the puberty stricken and Akshay comes up as the dim-wit. Anil another retard with a pubescent fascination for English. His cronies were commendable in their acting and with the bizarre cinematography scattered in the last 15 minutes, it was enough to pop a blood vessel. DON'T WASTe any brain cells, energy or your money to go see this- Go SEE / Rent AMU -with Konkana Sensharma instead- a beautiful piece of independent film thats ever come out of India.Intelligent, poignant and a wonderful story-tale that will touch everyone with intelligent actors and gave me hope that all is not lost in Indian cinema making.\"\n",
      "* * * * * * * * * \n",
      "8058\n",
      "No matter what anyone tells you, there is a mere fact to the word \\possession\\\" in film circles -- such as \\\"what possessed you to greenlight this film?\\\" Religion doesn't have anything to do with it, but common sense does. That is, if your head is clear and you are of sound mind to make a judgment.<br /><br />On many levels I tried to rationalize where this film would entertain....or even interest the average consumer. The star? The story? The unique idea? A buddy movie that kids would love with a dinosaur and a black woman? On, my goodness! I am sure when this was an \\\"idea\\\", it sounded good. But somewhere during the course of development...someone should have pointed out where the idea could not translate into a piece of entertainment anyone would wish to watch or pay for...unless they were very much deeply under the influence of alcohol or drugs and saw something the rest of us could not see.<br /><br />Regardless, this is a complete mess. Mess, mess - sin and a mess.<br /><br />Who cares about the plot (what plot?) et al. Whoopie got a paycheck, but I would have been embarrassed to take it. I sure hope she fired her agent/manager/publicist over this career move. Obviously not, she went on to make more bad films. And more bad films. Sad.\"\n",
      "* * * * * * * * * \n",
      "8212\n",
      "The original Boogeyman was a silly but entertaining supernatural slasher flick. It was by no means a great film but fun in the right frame of mind. The third instalment in this series, Return of the Boogeyman, on the other hand, is simply atrocious. It consists of two things. Firstly, cheap and lifeless new footage. Secondly, LOADS of recycled bits from the first movie. The new material is unbelievably amateurish but not in an amusingly inept way, simply incredibly tedious. This footage has clearly been knocked together quickly and without any effort. It serves as a framing device for the endless clips from the first (and possibly second) movies. And boy, do they milk those clips from the earlier films; sometimes reusing sequences over and over again. The only new addition to these parts is a voice over that pointlessly describes exactly what we can see with our own eyes. The whole experience of watching this is truly mind-numbing.<br /><br />Return of the Boogeyman is an example of the very worst kind of exploitation flick; the kind that exploits the audience in a highly cynical way. I want to keep this review brief and to the point because this film deserves no more. There is nothing here of value at all. This is worthless.\n",
      "* * * * * * * * * \n",
      "8439\n",
      "In my book \\Basic Instinct\\\" was a perfect film. It had outstanding acting on the parts of Stone, Douglas and all the supporting actors to the tiniest role. It had marvelous photography, music and the noirest noir script ever. All of it adding up to a film that is as good as it will ever get!<br /><br />This sequel is the exact opposite, it cannot possibly get worse, bad acting and a lame script, combined with totally inept direction, this is really bad, boring, annoying. The only thing that somewhat keeps you concentrated is the relatively short wait for the next scene that is an exact re-enacted copy of the original. These copies are so bad they make you laugh and I laughed a lot in spite of myself, because it was like watching the demolishing of a shining monument. The only thing that is good in this horrible mess are the excerpts of the Jerry Goldsmith score of BI1. Michael Caton-Jones and the half-wit responsible for the script even included the \\\"There is no smoking in this room\\\" dialog in the interrogation scene and yes she sends her attorney (who is now a solicitor) away! <br /><br />I am sorry I have seen this awful film that should have never been made! It does damage to the original, so bad is it. The only redeeming value is the realization that cosmetic surgery (and I am sure Ms Stone afforded the best surgeon money can buy) can do a good job but can obviously not restore the perfection of the original. And what concerns the human body applies to film-making, too. There should be a law: Don't ever make a sequel to a perfect film!\"\n",
      "* * * * * * * * * \n",
      "8554\n",
      "This movie was supposed to have depicted a 'ladie's man' bachelor who was ready and willing to settle down once and for all. However, I did not care for his mission to settle down, because I didn't care for his character. I don't understand what all of these beautiful women saw in him. He had absolutely no class, or charisma. He should've at least had a way about himself that made ladies weak in the knees other than his saxophone playing, but to no avail. Just because he is a musician does not make him sexy. Not to mention, the things he did to get the attention of a married woman he fell in love in a span of five minutes of knowing her were absolutely outrageous and ridiculous. Does this man have any shame what-so-ever? Had he tidied up, and stopped doing and saying stupid things he would have been more attractive as a character, but alas, his character was bland and boring.<br /><br />Gina Gershon's character was unnecessarily British. She could've just as easily been an uptight out-of-towner with her regular speaking voice than do a poor British accent that sometimes would fade through out the movie.<br /><br />The only two characters I cared for were the fish and frog. Now those two had chemistry! Academy nominations for both",
      " STAT! Plot holes, lack of character development, horrible acting, unnecessary drama, cliché moments... What a mess of a movie.\n",
      "* * * * * * * * * \n",
      "8673\n",
      "This movie was the beatliest mormon movie made yet. It made the RM & Sons of Provo look like well done films! It was supposed to be funny from what I was told. The best part was the best actor in the movie-Travis Eberhard-if he wasn't in the movie it probably wouldn't have been made! He ruled!<br /><br />10. It wasn't funny 9. It was beat 8. It had Thurl Big T Bailey, who's character made no sense 7. It was made in Provo 6. It didn't make fun of Brokeback 5. It had Larry H. Miller in it 4. It was the 1st movie Clint Howard wasn't funny in 3. Gary Coleman chose the perfect movie 4 a comeback 2. They should have cast at Surreal Life auditions 1. It was made by Halestorm Entertainment!!\n",
      "* * * * * * * * * \n",
      "8848\n",
      "I had no idea what the film is about before I saw it because Tashan only had teaser trailers while it was being promoted. So I asked my friends if they knew anything about it and they said that \\It is the directorial debut of Vijay Krishna Acharya who wrote the screenplays for Dhoom 1 & 2 and Saif Ali Khan's son Ibrahim makes his debut in the film by playing him as a child in his flashback\\\".<br /><br />After watching it, I understood that why their wasn't a proper trailer because there wasn't anything in the film to show. The story was extremely dum and even a 10 year old child can come up with a better story-line. There was hardly any action and the camera shook at every possible angle there is and it's difficult to figure out that who is killing who. Also the action was daft & unrealistic e.g. 1 man with a handgun managed to kill about 100 men with machine guns.<br /><br />While I was watching Tashan it reminded me of 3 films:<br /><br />Sin City: During the opening credits.<br /><br />Koyla: Anil Kapoor's terrible English like Amrish Puri in Koyla.<br /><br />Jhoom Barabar Jhoom: The outrageously ridiculous jokes that are not even a jot funny.<br /><br />I also heard the budget is 40 crores which is the same amount as Dhoom 2 and I don't know where all the money went to. Anyway if you did not like Dhoom 2 then there is absolutely no chance that you will like Tashan. Race was hot on heels and that is a million times better.<br /><br />The only 2 good songs are Dil Haara & Challiya and both songs are shot in Greece at good locations but what is the use of it in a rubbish film? Even Anil Kapoor's terrible English couldn't save this discomfiture.\"\n",
      "* * * * * * * * * \n",
      "8909\n",
      "Two days after seeing this thing, I'm still in agony over HAVING seen it. It's so bad, you have to wonder how anyone could write this tripe, much less allow it to be loose on the general public. Stilted acting, a leading man who looks like he's sleepwalking, and Alison Eastwood embarrassing herself. The action is indicative of low budget movie making, which means it is painfully bad. The plot? Well, if you were 6 years old, then you could have written this movie. Simplistic, idealistic, and just plain lame.\n",
      "* * * * * * * * * \n",
      "9047\n",
      "This is a film that takes some digesting. On the one hand, we are offered a tough outward shell, a story that does not only derive the Catholic Church, but does so foolishly, and uninformed. On an inner layer, we are offered a story of orthodoxy over orthopraxis, and what happens when people follow blindly a faith that they must not understand.<br /><br />At first glance, it appeared this was supposed to be a comedy. If so, then Mr. Durang needs to open a dictionary, because he clearly does not know the meaning of the word. The jokes are pale; the humor is awkward and poorly delivered. In particular, Ms. Keaton's performance is flighty and over the top, well below the quality of her Annie Hall and Sleeper days. Jennifer Tilly is again the model of stridence, with her hi-pitched voice and whining style. All of this could be forgiven if it weren't for the last 20 minutes of this movie, that evidently was a controversial play made in 1981.<br /><br />***Careful, spoilers ahead***<br /><br />It all starts with the appearance of four former students of Sister Mary Ignatius (Ignatius, by the way, is a male name, and a nun would not adopt it after her vows under any circumstance simply due to that fact, just to show you how much tireless research went into the project to begin with.) When they all admit that they don't live up to the church's teachings, the sister proceeds to become irrational and abuse them in a manner the audience is to believe she did way back when in the corny, all-too-cliché sepia-tone flashbacks. When one of them admits to having two abortions, the nun becomes even more abusive, until the pupil pulls out a gun. After wrestling it away from her, the nun kills the pupil, presumably in self-defense. She then goes on a screaming rampage, killing a gay former student because of his sins. The last shot is of the dead female pupil lying in a Christ-like pose as a shadow of a cross hangs over her. Can you say `heavy handed?' I knew you could!<br /><br />I know there have been abusive nuns in the past, and I know many people have been emotionally harmed as a result, but this imagery is fed down our throats in almost every other shot in this train wreck of a movie. I have heard from the writer and the director that this is a film about hysteria and why one should not follow the orthodoxy so religiously, no pun intended. This explanation is hard to swallow, though, simply because we are never given an authoritative viewpoint that is not biased against the catholic faith in one way or another. This film is simply anti-Catholic tripe, which in the name of fairness and equality, is mean spirited and hateful.<br /><br />This is a film I would recommend for a catholic, namely to awaken him or her to the realities of what cynicism and ignorance they face today. If it were `Rabbi Ray explains it all' or `Imam Muhammad explains it all', there would be rioting in the streets and Showtime would lose all of its subscription. But, sadly, because this is a film that strikes out against what is perceived to be the majority, it is accepted and even applauded by those who share the same spiteful point of view.<br /><br />I certainly hope every member of that cast was a practicing catholic, so it wasn't just ignorance that brought them to make this film.<br /><br />I give it 1.5 stars out of 5, not because of its offensive nature, but because it was poorly written, poorly directed and just a bad movie in general. Don't even waste your time.\n",
      "* * * * * * * * * \n",
      "9083\n",
      "MYRA BRECKINRIDGE is one of those rare films that established its place in film history immediately. Praise for the film was absolutely nonexistent, even from the people involved in making it. This film was loathed from day one. While every now and then one will come across some maverick who will praise the film on philosophical grounds (aggressive feminism or the courage to tackle the issue of transgenderism), the film has not developed a cult following like some notorious flops do. It's not hailed as a misunderstood masterpiece like SCARFACE, or trotted out to be ridiculed as a camp classic like SHOWGIRLS. <br /><br />Undoubtedly the reason is that the film, though outrageously awful, is not lovable, or even likable. MYRA BRECKINRIDGE is just plain mean. As a Hollywood satire it is cold-blooded and mean-spirited, but in a hollow pointless way. MYRA takes for granted that Hollywood is a corrupt town, but goes further to attack such beloved icons as Laurel and Hardy, Shirley Temple, Judy Garland and Gary Cooper. The film seems to imply that everything about Hollywood is by its very nature vile. It seems to think that there is something inherently courageous about mocking sacred cows, but doesn't supply a rationale for doing the mocking in the first place. The film is also viscously anti-American and anti-establishment and anti-this and anti-that, but all in a superficial, late-1960's, trendy way. Like CASINO ROYALE; SKI-DOO; I LOVE YOU, ALICE B. TOKLAS and other would-be hip epics, MYRA is a middle-aged vision of the hippy-dippy youth culture. It tries to embrace the very attitude that it belittles. But instead of being cheerfully self-mocking, MYRA makes no attempt to conceal its contempt for everything that comes within its grasp. MYRA BRECKINRIDGE has the humor of a bully; there's not a single moment of innocence in it. Its intentions aren't honorable. TIME magazine aptly described it as being \\about as funny as a child molester,\\\" but it's not nearly as sympathetic.<br /><br />For instance, poor Mae West bore the brunt of so much of the criticism aimed at the film, being described as looking like everything from an aging drag queen to a reanimated walking corpse. The octogenarian star obviously didn't know just how ridiculous she looked playing a lecherous talent agent lusting after men young enough to be her grandsons or even her great-grandsons. But, director Michael Sarne had to know, but he used her anyway. Why? Because, she apparently was the joke. Just like John Huston, John Carradine, Grady Sutton, Andy Devine and other veteran performers in the film, they are there only so the film can mock their age and use them to trash their film images. They are cast as smarmy self-parodies, as is Rex Reed, the arrogant, fey film critic, who is cast as just that in the film. But the real Reed, the celebrity hound, jet-setting, talk show gossip, can be charming in an obnoxiously funny way; but as Myron, Myra's alter ego, he is just obnoxious. Again, apparently for Sarne, Reed is the joke.<br /><br />You watch MYRA BRECKINRIDGE and you don't see actors, you see victims. None more so than Raquel Welch. No one will ever accuse Welch of being a great actress, but it is a testament to her tenacity and her appeal that she survived this film and her career prospered. Being in almost every scene, Welch was front and center as a target for abuse aimed at the film, but to her credit, she gives a remarkably nuanced performance. Though, of course, centered between the scenery chewing Huston and the almost catatonic West, Welch doesn't have to do much to strike a good balance. Even so, she renders her horribly unfunny dialogue with a deadpan smirk, with just the hint of self-righteous glee that would do any James Bond villain proud. Legend has it that Welch was snubbed by a condescending West and subjected to repeated verbal abuse on the set by bumbling director Sarne, not to mention being featured in one degrading scene after another, making it all the more remarkable that she was able to give such a cool and collected performance.<br /><br />The film's only intriguing element is trying to figure out just what the film's agenda is. The whole story is a fantasy fable, which should indicate that it has a moral to deliver, but what that might be is anybody's guess. With all of its talk about destroying \\\"the last vestigial traces of traditional manhood from the race,\\\" it would seem to have a feminist axe to grind. But as a feminist, Myra is a monstrous figure, a sexual predator. Besides, Myra isn't a woman, rather she is a delusion of Myron, who presumably is a gay male. That might explain the male rape scene as well as the character's love/hate attitude toward the macho, seemingly straight, deadhead Rusty, but it doesn't explain his/her obsession for and the supposedly lesbian tryst with Farrah Fawcett's Mary Ann. The film is obsessed with sex, but can hardly be accused of being in favor of the sexual revolution; all the sex is treated as being, if not dirty, than at least perverse and degrading. Turning to Gore Vidal's original novel isn't of any help, because it is as confused and pointless as the movie.<br /><br />And this is a rare movie that actually seems to hate movies. Not just movies as a business, but movies as part of the culture as well. The film itself is wall-to-wall arcane references to old movies, all of which director-screenwriter Sarne approaches with a seething disdain. He has raided the film vaults of 20th Century-Fox and peppered the film with snippets of old films, not as an homage or to provide a social commentary, but to mock the innocence of old Hollywood. How can an artist -- if you generously want to call Sarne that -- make a work of art if he already hates the very medium he is working in? The very effort is totally self-defeating.<br /><br />MYRA BRECKINRIDGE doesn't seem to be in favor of anything other than being just nasty. It hates Hollywood, it hates America, it hates sex, it hates gays and straights and women and men and old people and young people and Laurel and Hardy and, well, you name it and it probably has a scene showing contempt for it. In a very sad and sorry way, MYRA BRECKINRIDGE may be the first punk manifesto, a celebration of pop culture nihilism.\"\n",
      "* * * * * * * * * \n",
      "9216\n",
      "I love Morgan Freeman. Paz Vega is an attractive, appealing and talented actress. I'm sure that this would have been a good movie had anything happened in it. Nothing does. It's short (less than 90 minutes). It was 75 minutes too long. After an hour of frustration, I scanned through the remaining 20-odd minutes. Excruciating.<br /><br />Freeman plays an actor - who hasn't worked in a while - researching a part that he might play, as a checkout clerk in a supermarket. He visits the supermarket where she works. Nothing happens. She decides to give him a ride home and they go to an Arby's, a Target, a car wash. Nothing happens. They converse about their lives. Nothing happens. Ever.<br /><br />I don't get it. But I also don't get the Bill Murray flicks \\Lost In Translation\\\" and \\\"Broken Flowers\\\". If you like those movies, maybe you'll like this. Lots of people find movies like this whimsical, charming, or - for reasons that escape me - find the dialog fascinating. A common device in movies of this ilk is to have a LONG take of stillness/silence after an actor delivers a line that's supposed to be meaningful. We know it's meaningful because it's followed by two minutes of nothing on the screen. Sorry, I must be a philistine. I don't get it. To me, these kinds of movies aren't funny, or charming, or thought-provoking. They're just boring. Why? Because there's no comedy. No drama. No tension. No laughs. No suspense. No action. Nothing to watch. In short, none of the things I go to the movies for. I can be bored for free. I see oddball/quirky characters in real life. I go to Target, and fast-food restaurants, and car-washes. These elements do not a movie make, even if stars are doing this stuff. I pay to be entertained.<br /><br />If you're crazy about Morgan Freeman and just like to hear him ramble on about nothing, have fun. If you wanna drool over Paz Vega, you can look and listen to her. But nothing happens, I promise. A total snoozefest.\"\n",
      "* * * * * * * * * \n",
      "9268\n",
      "I just saw the third week of Stephen Kings' Nightmares and Dreamscapes mini series; meaning, I saw 6 episodes so far. I have to say that the stories are really weak. I have read Stephen King's Skeleton Crew, a collection of his short stories that was published way back. I recall most of the stories were average to poor but there was one that was really excellent, if not outstanding.<br /><br />What I'm trying to say is that just because this mini series is from a collection of stories from Stephen King does not mean that it will be any good. In fact, if his previous collection of short stories are of any indication, then most of this mini series will be average to poor.<br /><br />In Stephen King's defense, I have not read these new short stories. Perhaps they are good as stories in a book and not readily adaptable to television, or perhaps it was the fault of the scriptwriters in trying to write an interesting script. Who knows. Also, these short stories may have been made exclusively for this mini series and not not for print purpose. Maybe that may have been the problem. If Stephen King had submitted these crap stories to an editor, I am sure the editor would have immediately told him to make it more interesting because as is, it is simply boring.<br /><br />What is clear from all of this is that the problem is with the stories/script and not the actors and actresses because this mini series has some excellent people acting on it.<br /><br />Seeing this mini series really makes me appreciate those old \\Twilight Zone\\\" series. Each series was only half an hour but it was compelling and riveting. I don't understand why this mini series could not accomplish similar feat. I am sure this mini series had a good deal of money to make a good mini series but unfortunately, something must not have clicked.<br /><br />For instance, this week there were two episodes shown. The first involved a horror story writer who buys a picture drawn by an artist who committed suicide. The writer begins to see changes in the picture as he is driving homeward. Feeling uncomfortable, he throws away the painting but it keeps appearing near him. Also, the portrait of an individual in that picture is killing people and is out to kill him. (I will not even mention the second episode for this week involving criminals and their loot because it was even more boring than this episode!)<br /><br />This premise is interesting and so the story should be good but after seeing it, I was frustrated because there were too many gaps in the story as well as extraneous materials that was shown that did nothing to help the story. After the last scene, I was left with more questions than answers.<br /><br />I tried for 3 weeks to get into this mini series but it was just too aggravating due to poor stories/script. If this was a movie, I would have recommended that people should wait for the movie to come out on cable or such. I would not even recommend that it be rented in your video store. However, given that this is on TNT, a cable channel, I would say if you have not seen it already, then try it for one week. If you do not like it that week, then you will not like the past series nor the future ones, since they all share the same boring trait.\"\n",
      "* * * * * * * * * \n",
      "9338\n",
      "This apocalyptic zombie film tries to be vicious and shocking; but FEEDING THE MASSES comes off lame as some of the stiff-legged zombies stalking the streets. In Rhode Island, a zombie epidemic known as the Lazarus Virus is being played down by the government manipulated newspapers and television stations. A couple of brave, but dumb, souls at Channel 5 TV News feels its audience is being given false hope and no idea of the real danger at hand. An eager reporter(Racheal Morris)and her cameraman(William Garberina), with the aid of a military escort(Patrick Cohen), risk life and limb to present a 'live' broadcast to show the doom at hand. Do yourself a favor and don't watch. This thing is obviously very low budget and comes across with the feel of a high school play gone bad. Acting is atrocious and the flesh-hungry zombies are almost comical. Also appearing are: Michael Propster, William DeCoff and Brenda Hogan. FEEDING THE MASSES should be left to starve.\n",
      "* * * * * * * * * \n",
      "9406\n",
      "don't watch this Serbian documentary and Serbian propaganda look out for this documentary and you will see facts and truth http://imdb.com/title/tt0283181/<br /><br />The Death of Yugoslavia documentary series (of five episodes) is a painstakingly compiled and researched account of the extended mass-bloodshed which marked the end of the old Federal Yugoslavia and spanned almost the entire first half of the 1990's. It includes a huge wealth of news footage and interviews with involved parties both \\Yugoslav\\\" and otherwise. The only real \\\"improvement\\\" which could be made to this amazing achievement would be the inclusion of later developments in the Balkans since the program was made. This was indeed done in the late 1990's for a repeat showing on BBC television, but the addition of some even more recent events would help to complete this admirably detailed and fulsome piece of work. Perhaps another whole episode might be warranted? The very succinct title of this documentary was made all the more appropriate by the eventual abandonment of the term \\\"Yugoslavia\\\" by the now-named Federal Republic of Serbia and Montenegro - a much belated and formal admission of that which occurred years before.<br /><br />not fiction like in \\\"Yugoslavia: The Avoidable War (1999)\\\"\"\n",
      "* * * * * * * * * \n",
      "9457\n",
      "Awful. This thriller should have buried. What a piece of crap. Terrible writing, characters are less than believable. Horrible Schlock!! Stick some B- stars in a terribly written POS to try and give it a little credit, but it fails miserably. If I didn't have to write ten lines about this movie I would have given it a word word review, it starts with 'sh' and ends with 'it'.<br /><br />Horrible ending, retarded. Who writes this crap. The ending of this film is so contrived, weak it's as if they had no idea what to do with this story line, or they just ran out of money. Most likely due to the number of cameos in this movie. It's a good thing that these actors are on the way out, because this would be a career killer. Good thing for them that hardly anyone will see it. At least no one important, like future investors. It could have ended a thousand different ways, but as it is, I feel cheated out of my precious time.<br /><br />Don't bother with this one, you will feel like you wasted time you can never get back.\n",
      "* * * * * * * * * \n",
      "9493\n",
      "\\Plan B\\\" is strictly by-the-numbers fare except for one thing. I surprisingly found it to be rather insulting.<br /><br />Jon Cryer is the \\\"star\\\" of this film and plays his usual, smarmy, egotistical, snotty character that was actually endearing in \\\"Pretty In Pink\\\" and has NOT been amusing ever since. Grating doesn't even begin to describe his performance. Ricky (Mark Matheisen) is a muscular, blonde, struggling actor who (gasp!) is only worried about his hair and getting laid. Talk about a stock character...ugh. At least the other three characters are somewhat engaging. Lisa Darr and Lance Guest play a grounded, optimistic, caring couple who are struggling to conceive. Since they are not whiny drama queens, however, their roles are apparently considered boring and they aren't given enough screen time. Sara Mornell rounds out the cast by playing Gina, your usual nice and good-looking young woman who just can't seem to find the right partner in love. I've seen this character a million times before but at least her performance overcomes some of the shortfalls caused by the predictability of her situation.<br /><br />What startled me about this film was its juvenile promotion of stereotypes. They introduced a Russian character for the sole purpose of mocking him and making fun of the way he talked. He was portrayed as being wild, ignorant and amazingly shallow. They were just getting warmed up though for the usual nonsense about gays. Gina decides to be gay for a while since she isn't having any luck with guys. Honestly. That wasn't that bad except they really went overboard when Gina brought a lesbian to a Christmas party her friends were throwing. Her lesbian date had very short hair (like I'm sure all lesbians do). She also got quite upset (like I'm sure all lesbians do) when Gina had the nerve to put on lipstick(!). Finally, her date goes around the party hitting on just about every woman there and mouths off when Gina expresses her disappointment. Of course, we all know how gay people can't stay faithful for so much as a couple of hours much less months or even years, right? (Please note the sarcasm in that statement. Thank you.)<br /><br />This film was based on a tired and predictable premise to begin with but Cryer's unlikable performance combined with the idiotic stereotyping sinks this movie to the lower depths of cinema. 2/10\"\n",
      "* * * * * * * * * \n",
      "9830\n",
      "This movie is a re-write of the 1978 Warren Beatty movie, \\Heaven Can Wait\\\", but it is written for the stand-up comedic style of Mr Rock. The premise remains the same: Lance Barton, (Rock) is taken before his life time is up and works a deal with God's representative, Mr King, to come back to earth as someone else. As in Beatty's movie; he chooses the murdered Charles Wellington, a rich white man, all because he fancies Sontee Jenkins (Regina King) who happens to turn up at Wellington's house during the murder. The role of Mrs Wellington and her lover suffers in this remake and the idea to turn an aged white multi-millionaire into a stand up black comedian who tries to woo Sontee simply does not work. Also the intercuts used to show Rock as Wellington and then as the real 'white' Wellington, fail miserably. Improvements could have been made to the original Beatty plot - which in itself did not masterfully portray the life-after-death idea - but they certainly were not to be found in \\\"Down To Earth\\\".\"\n",
      "* * * * * * * * * \n",
      "9915\n",
      "This movie's heart was in the right place, no matter where its brain was.<br /><br />\\Attack\\\" is basically a spoof a la \\\"Airplane!\\\" (two years before the fact - nice going.) of what happens when vegetables, or in this case fruits, attack.<br /><br />Through all manner of film magic (stop motion, papier-mache tomatoes on skateboards, reverse filming, people watching off-screen tomatoes, people throwing basketball-sized tomatoes at the on-screen actors), the tomatoes do indeed attack everyone in their leafy grasp. <br /><br />Then, it's up to Mason Dixon (Miller) and a group of spies I wouldn't wish on any government's side to save the day. Of course there's a meddling reporter (Taylor) who pops in at the worst times, dancing and singing Army soldiers, Japanese scientists with dubbed-in voices, some guy dragging around a parachute and a samurai sword...and oh yeah, the San Diego Chicken before he made it big.<br /><br />The gags here aren't all that great. In fact, you could probably make up better yourself after watching these. Some of the dialogue is inutterably bad (\\\"Please pass the ketchup\\\" - not something to say in front of tomatoes.) and as far as \\\"Puberty Love\\\" goes...well, I can't blame the tomatoes for shriveling up on hearing it.<br /><br />What's good about it? Well, I liked the theme song and the beginning credits, and there was a scene with four people on the phone at once that was pretty well executed. ...that's about it.<br /><br />Three stars. Not a \\\"Killer\\\" comedy, but it tries.<br /><br />Rock on, Peace.\"\n",
      "* * * * * * * * * \n",
      "10062\n",
      "As a fan of Notorious B.I.G., I was looking forward to this movie. I am unfortunate to see it is a terrible movie. Jamal Woodward is not convincing or realistic enough to portray Notorious B.I.G. A lot of the story follows Notorious B.I.G.'s real son, Christopher Jordan Wallace as Notorious B.I.G. as a kid. Unfortunately, he is not convincing enough to pay tribute to his father. Derek Luke is just as unconvincing as Sean \\Puffy\\\" Combs. In a nutshell, no one is convincing enough to play their roles here. The big problem with this are these are actual people they are playing. It was boring, and did not give any information about Notorious B.I.G. that fans and non-fans alike did not already know. I was especially disappointed with Angela Bassett, a very good actress wasted here as Voletta Wallace. The movie slugs and slugs along thinking that Notorious B.I.G. fans will spend tons of money on it. I am unfortunate to say that that happened. It's nowhere close to a good movie. I was expecting so much out of it, but unfortunately I didn't get anything I wanted from this. I think you should definitely skip this one.\"\n",
      "* * * * * * * * * \n",
      "10069\n",
      "Just a stilted rip-off of the infinitely better \\Murder, She Wrote\\\", it is absolutely amazing that this poorly-written garbage lasted for a full eight years. I'm sure most of the people who watched this unentertaining crap were in their sixties and seventies and just tuned in because they had nothing better to do, or simply remembered its star from the old Dick Van Dyke Show. Van Dyke, who only had a decent career in the 1960s, never was much of an actor at all (by his own admission) and he was already far too old to play a doctor when the series began in 1993. He looks absolutely ancient as a result of years of chain smoking and heavy drinking. His talentless real life son Barry, a wooden actor who has rarely been in anything that didn't involve his father, plays his son in the series.\"\n",
      "* * * * * * * * * \n",
      "10099\n",
      "Lynch. The man has some really great stuff! He knows how to disturb us, then reward us by getting us think in different ways. This, however, is altogether different. Dumbland's reward is 1% absurd comedy, earned by enduring 99% stupidity. I may have laughed once, but somewhere around episode 4 I just started watching on fast-forward. Didn't miss a thing. I felt relieved when it ended, and that's part of the point with this series. It's an annoying series about annoying characters in annoying situations, rounded out with annoying animation, voices and sound. But recognizing this and its other absurdist qualities still fails to make Dumbland worthwhile.\n",
      "* * * * * * * * * \n",
      "10227\n",
      "This incredibly overrated anime television series (26 episodes, 25 minutes each) is about a 14-year-old boy (and two of his girl classmates) who pilots a giant robot to defend Japan against invading beings called Angels. There is very little explanation given to the Angels or why their numbers have increased in recent times, and they just seem to pop out of nowhere for no apparent reason (why not attack all at once instead of at spaced out intervals that are convenient for the humans you're attempting to destroy?). The robot fight scenes attempt to employ a variety of obstacles, but the action itself is poorly executed and boring to watch. Almost every episode seems like a waste of space where nothing of interest occurs.<br /><br />Some might be intrigued by fans who mention the (very few) symbolic references herein, but that's all they are - shallow one-liners to religious or philosophical concepts that are randomly tossed in with zero craftsmanship. As a whole the series is incredibly tedious due to the superficiality of the characters, who are really nothing more than self-pitying crybabies. The psychology is pathetic, with hopelessly simplistic conflicts like \\I hate my father\\\" repeated over and over and over and over again with no progression beyond their face value. It's no understatement to say that these characters plunge this series from time-wasting mediocrity to anger-inducing garbage during the final episodes with their endless, angst-ridden diatribes of excessively repetitive psychobabble (some of which is totally meaningless).<br /><br />I'm not kidding when I say that this series just got worse and worse as it progressed. Every day I'd look at the DVD set sitting on my living room table and say to myself, \\\"Damn, I've gotta watch the next episode at some point. (sigh) I may as well slug through another one tonight.\\\" The real kicker was that the episodes were only 25 minutes long, yet they were somehow able to digress into a completely uninteresting borefest within the opening 10 minutes. This is coming from a guy who will happily sit through 150-minute films with glacial pacing, so my criticism of this series is most damning indeed.<br /><br />Never in my entire life have I despised watching a series as much as \\\"Evangelion.\\\" I had already purchased it based off of all the fanatical comments on IMDb, and I certainly wasn't going to let it collect dust after spending my hard-earned money. What followed was 10 hours of pure, unmitigated torture. My love/hate relationship with anime is turning into a hate/love relationship after this highly acclaimed disaster.<br /><br />\\\"Evangelion\\\" represents everything anime should NOT be - massive quantities of dull, pretentious tripe under the guise of intelligent cinema. The universal acclaim for this piece of crap is simply unbelievable; and the ridiculous assertions by fans that this series as \\\"one of mankind's greatest achievements\\\" is probably the most stupifying comment I've ever heard on IMDb - and I've seen some doozies.\"\n",
      "* * * * * * * * * \n",
      "10230\n",
      "Please avoid this movie at all costs. This is without a doubt, the worst movie I've ever seen. Most movies have at least one redeeming value. This has none. Totally horrible!\n",
      "* * * * * * * * * \n",
      "10290\n",
      "Deep Shock plays out like a TV movie: a whole cast of commercial-quality actors, a poorly designed creature to be the \\bad guy,\\\" and a script that is more full of technical, political jargon and importances than it knows what to do with.<br /><br />I checked out the movie because of the creature (I love to see what filmmakers have in mind for their designs in these cheaply made videos), and right off the bat, I got disappointed because the creature on the box was not the one in the movie. The actors I expected because of the type of film it is (really quite generic and not thought out past a certain point). The music was typical, not-thought-out action symphonic music.<br /><br />I liked the design of the computers and technical equipment, along with the mini-sub design. The movie even flowed really well, with guiding screens letting you know which set you're watching the story unfold in. But there isn't much of a story here anyways.<br /><br />This movie gets a 3/10 stars IMO. The boring search and destroy mission to blow up the North Pole and these creatures protecting it...kinda lame. Even lamer is the tagged-on love relationship between two of the characters that you don't see coming. Chalk this one up to being a movie which tries to get actors' careers off the bench and into a video. Don't bother.\"\n",
      "* * * * * * * * * \n",
      "10880\n",
      "I had recently been watching Johnny Test in an attempt to find humor in it. I failed, horribly. Cartoon Network usually has a tendency to make their shows enjoyable by all audiences, but Johnny Test is \\entertainment\\\" in it's lowest form. The writing is incredibly predictable, and the running gags aren't much gags at all. Kids will love it, and that's about it.<br /><br />Now, this isn't to say that it's all bad. The original opening theme was actually pretty catchy, but for some reason they took the skeleton of it and figuratively smashed it with a figurative aluminum bat. It's a shame, because that was really one of the best things it had going for it.<br /><br />Some of the characters could be very interesting, in theory. With a little work, the characters could work well together, but they're too one-dimensional. Then again, this makes it easy for the kids to follow. <br /><br />The pace is a bit too fast as well. The episodes are too busy, leaving little time for clever writing. This is a real shame, because there are so many interesting concepts that the show brings forth. On the upside, however, the fast pace will stop the kids from losing interest, and that's really the entirety of the target audience.<br /><br />Overall, the show looks very good on paper, but just doesn't succeed in being funny or interesting. This is a show I want to like, but I'm incapable of it. There's just so much potential that isn't realized. Kids will enjoy it, but that's about it.\"\n",
      "* * * * * * * * * \n",
      "10894\n",
      "Jude Law gives his all in this beautifully filmed vampire flick which offers little else of value. Completely lacking in eroticism, excitement, or leading ladies with appeal. One decent fight, a few moments of mild suspense. And a one-note plot.<br /><br />The movie waxes philisophic in a series of conversations between Law's character and a dogged homicide detective, well played by Timothy Spall. But despite their best efforts, both actors are staked to the cross of the film's banality.<br /><br />With a lesser actor in the lead role -- and without the benefit of Oliver Curtis's cinematography -- Crocodiles would blend into the sea of low-budget vampire quickies.\n",
      "* * * * * * * * * \n",
      "10912\n",
      "This was one of the worst movies I have ever seen. Branaugh seemed to have so much trouble remembering his accent that he couldn't deliver his lines. The plot was definitely not worthy of John Grisham's name. No wonder it was never published as a book or released in theaters. I didn't even watch the whole thing. I decided I didn't care who done it, then realized there was no \\whodunit\\\" to care about!\"\n",
      "* * * * * * * * * \n",
      "10937\n",
      "I went on a visit to one of my relatives a while back, and we popped by a theatre, so we'd thought we'd go in and give this film a go. What a mistake! This film is awful in every department. I'd never heard of the film before, and literally everyone still hasn't. No wonder, this is as rank as it gets. It's a comedy, so it says, well the only thing funny is the ability, or lack of it, of the director to make such a film. Getting so close to Christmas, this should be titled how to under-cook a turkey in nearly one and a half hours - or however long it was, as I walked out. At the end of the film, you'll come out feeling as though you've been food poisoned on a sick turkey, and regret you wasted your time on such dribble. Who knows why such things get made. Some people had walked out from the theatre before the film was well over, and I blame myself for not walking out a lot earlier. It really annoys me that you pay good money to see something decent, and all that you come out and see is a poor TV movie that should be showed at 2 o'clock in the morning, in fact, it's that bad, day time TV shouldn't be showing it. What else can a say...probably not enough bad words could do it justice.\n",
      "* * * * * * * * * \n",
      "10956\n",
      "I like musicals but as a Dickens fan I HATE this one. **MILD SPOILERS** Starving boys who have enough energy to sing and dance in the workhouse? The poor of London coming out to sing? Fagin and Dodger walking off into the sunset? Not exactly faithful to the novel. As I recall, Dodger was publicly hanged and Fagin went crazy in prison. **END OF SPOILERS**<br /><br />Oliver Reed is very weak as Sykes, doing little more than growling to indicate his evil. Worst however, is Mark Lester as Oliver, who often comes across so awkward and passive you wonder if he's really the main character. His portrayal is in no way helped by the fact that the best they could do when he sings is dub in the voice of a girl. Guess they didn't realize that boy trebles can be found in almost every church in England.<br /><br />Self-respecting Dickens fans: stick to David Lean's amazing 1948 film or the BBC 6-hour adaptation from the mid-80's. Avoid this bloated whitewash of a musical.\n",
      "* * * * * * * * * \n",
      "11087\n",
      "Brief summary: This movie demeans everyone it touches. That means you.<br /><br />First off, let me say I'm not a purist, and this might have been funny for a few minutes. The impersonations are not bad. But overall it's just dull and excruciatingly not funny. A few simple jokes are repeated over and over again.<br /><br />It's clear that this movies only exists to squeeze the last few dollars out of the now-trademarked Laurel and Hardy. The producers cannot have any real regard for their place in film history, or their talents. This is what offended me the most.<br /><br />Of course, my daughter liked it, so I'm also a failure as a parent ;)\n",
      "* * * * * * * * * \n",
      "11219\n",
      "The plot is about the death of little children. Hopper is the one who has to investigate the killings. During the movie it appears that he has some troubles with his daughter. In the end the serial killer get caught. That's it. But before you find out who dunnit, you have to see some terrible acting by all of the actors. It is unbelievable how bad these actors are, including Hopper. I could go on like this but that to much of a waste of my time. Just don't watch the movie. I've warned you.\n",
      "* * * * * * * * * \n",
      "11264\n",
      "I watched Cabin by the Lake this afternoon on USA. Considering this movie was made for TV is was interesting enough to watch the sequel. So, I tune in for the airing this evening and was extremely disappointed. I knew I wouldn't like the movie, but I was not expecting to be perplexed by the use of DV (digital video). The movie would have been tolerable if it wasn't for these juxtaposed digital shots that seemed to come from nowhere. I expected the plot line to be tied in with these shots, but there seemed to be no logical explanation. (WARNING: THE FOLLOWING MAYBE A SPOILER!!!!) The open ending in Cabin by the Lake was acceptable, but the open ending on the sequel is ridiculous. I can only foresee Return of Return to The Cabin by the Lake being watch able is if the movie was shown up against nothing, but infomercials at 4 o'clock in the morning.\n",
      "* * * * * * * * * \n"
     ]
    },
    {
     "name": "stdout",
     "output_type": "stream",
     "text": [
      "11409\n",
      "Rating: 4 out of 10<br /><br />As this mini-series approached, and we were well aware of it for the last six months as Sci-Fi Channel continued to pepper their shows with BG ads, I confess that I felt a growing unease as I learned more.<br /><br />As with any work of cinematic art which has stood up to some test of time, different people go to it to see different things. In this regard, when people think of Battlestar Galactica, they remember different things. For some it is the chromium warriors with the oscillating red light in their visor. For others, it is the fondness that they held for special effects that were quite evolutionary for their time. Many forget the state of special effects during the late 70s, especially those on television. For some the memories resolve around the story arc. Others still remember the relationships how how the relationships themselves helped overcome the challenges that they faced.<br /><br />Frankly, I come from the latter group. The core of Battlestar Galactica was the people that pulled together to save one another from an evil empire. Yes, evil. The Cylons had nothing to gain but the extermination of the human race yet they did it. While base stars were swirling around, men and women came together to face an enemy with virtually unlimited resources, and somehow they managed to survive until the next show. They didn't survive because they had better technology, or more fire power. They survived because they cared for and trusted each other to get through to the next show.<br /><br />The show had its flaws, and at times was sappy, but they were people you could care about.<br /><br />The writers of this current rendition seemed to never understand this. In some ways he took the least significant part of the original show, the character's names and a take on the story arc and crafted what they called nothing less than a reinvention of television science fiction. Since that was their goal, they can be judged on how well they accomplished it: failure. It was far from a reinvention. In fact it was in many ways one of the most derivitive of science fiction endeavors in a long time. It borrows liberally from ST:TNG, ST:DS9, Babylon 5, and even Battlefield Earth. I find that unfortunate.<br /><br />Ronald D. Moore has been a contributor to popular science fiction for more than a decade, and has made contribution to some of the most popular television Science Fiction that you could hope to see. One of the difficulties that he appears to have had was that there could be no conflict in the bridge crew of the Enterprise D & E. That was the inviolable rule of Roddenberry's ST:TNG. Like many who have lived under that rules of others who then take every opportunity to break the rules when they are no longer under that authority, Ron Moore seems to have forgotten some of the lessons he learned under the acknowledged science fiction master: Gene Roddenberry. Here, instead of writing the best story possible, he has created a dysfuntional cast as I have ever seen with the intent of creating as much cast conflict as he could. Besides being dysfunctional, some of it was not the least bit believable. Anyone who has ever been in the military knows that someone unprovokedly striking a superior officer would not get just a couple of days \\in hack,\\\" they could have gotten execution, and they never would have gotten out the next day. It wouldn't have happened, period, especially in time of war.<br /><br />The thing that I remembered most of Ron Moore's earlier work was that he was the one who penned the death of Capt. James Kirk. He killed Capt. Kirk, and, alas for me, he has killed Battlestar Galactica.\"\n",
      "* * * * * * * * * \n",
      "11487\n",
      "The author sets out on a \\journey of discovery\\\" of his \\\"roots\\\" in the southern tobacco industry because he believes that the (completely and deservedly forgotten) movie \\\"Bright Leaf\\\" is about an ancestor of his. Its not, and he in fact discovers nothing of even mild interest in this absolutely silly and self-indulgent glorified home movie, suitable for screening at (the director's) drunken family reunions but certainly not for commercial - or even non-commercial release. A good reminder of why most independent films are not picked up by major studios - because they are boring, irrelevant and of no interest to anyone but the director and his/her immediate circles. Avoid at all costs!\"\n",
      "* * * * * * * * * \n",
      "11589\n",
      "The world may have ended. Unfortunately this film survived as yet another testament to Canada's inability to make movies that go beyond the execrable. Maybe it's because all our really good people (Norman Jewison, Martin Short et al) go to Hollywood.) In fact it's too bad Short wasn't cast in this apallingly pretentious and banal film. He might have given it some credibility. The Canadian government should realize --- and this movie is a magnificent example --- that shovelling money into the trough does not result in good cinema. If the people lapping up these public funds had had to compete, they might have been forced to come up with something worthwhile. As it is they have produced yet another snickering embarassment.\n",
      "* * * * * * * * * \n",
      "11604\n",
      "There aren't enough gay-themed movies and there aren't enough `coming out' movies. Every one is a welcome addition to the genre. Although the production values are high(the movie `looks' good, Matthias Freihof (Philipp) looks REAL good in a pair of jeans) this is a bad one. It is a period piece: gay life under an oppressive regime(East Berlin, 1989) a life that seems 40 years behind the west. In a way we're seeing our own history; what it might have been like for gays in the 40's and 50's here(it often reminded me of `Last Exit to Brooklyn :the book not the film).But it is unremittingly depressing and SLOW in a contrived way that evoked an old SCTV send up of Ingmar Bergman. It is so sloppily edited I wonder if the director just didn't hack at random. Yes, it is a miracle that this was filmed and released before The Wall came down and yes, life behind the `Curtain' was hard for gay people. A good director could have shown all that without stupefying the audience. A good director would have had me mark this one as one of the great coming-out movies and not one of the misses.\n",
      "* * * * * * * * * \n",
      "11788\n",
      "Wow, I knew this film was going to be bad but not this bad. Spoilerific comments ensue.<br /><br />Roddy Roddy Piper is sickly sweet retired cop (cliche!), helping out everyone - smiling like a post-op lobotomy patient through-out and lamenting over his dead son. His adopted son returns from Armed Forces \\Special Ops\\\" and because he's \\\"seen things\\\" - portrayed by clenching his teeth if anyone mentions anything about the past. Time to clean up the streets from another guy who once knew Piper and his dead son (who the bad lad killed) and his adopted son.<br /><br />Oh, the love interest is a pretty young lady who decides for no reason that she wants to jump the bones of the ex-Army bloke. This happens in about 2 minutes of 1 scene.<br /><br />The action could have saved this film, but it's even worse than the storyline and acting. It's all been done before, it's all been done much much better (Ong-Bak is a prime example). This is the worst film I've ever seen - and I've seen Waterworld, twice.<br /><br />Erm, the film is called HONOR (Spelt Wrong for the Americans) and the tag line has \\\"from the makers of Bloodsport and Kickboxer\\\" - check out Director David Worths other films and you'll soon realise why they put these 2 films on there, even though they are over 10 years old. Such classics as \\\"Shark Attack 3: Megalodon\\\" - says it all really.<br /><br />I'll give you £10 if you don't go to see this film.<br /><br />PS - Apologise for not know character names, tells you something though.\"\n",
      "* * * * * * * * * \n",
      "11829\n",
      "I purchased this movie on blu-ray because it promised great visuals and music. I was also a great fan of a similar movie... Baraka. The movie is very much styled after Baraka, wide angles, very similar shots with cameras set to capture long time passage in each shot. Even some of the scenes were identical (the street with traffic). Whereas Baraka told a great story, juxtaposing nature, man-made environments, spirituality, and horrors of the world in an engrossing fashion and great music, this movie just jumped from shot to shot with no encompassing story, mediocre musical score, and then.... POOF, it's finished! I thought there must be some sort of mistake! History of the world? Half the movie is Egypt and landscape (looks like Arizona, but I didn't bother to check). Seriously folks, this is horrible, rent it if you must, but do not buy it. The filmmakers should be ashamed of themselves for putting this out.\n",
      "* * * * * * * * * \n",
      "12117\n",
      "I have begun to melt so I will make this review as short and sweet as possible.<br /><br />There's this astronaut, and he goes up in a spacecraft with two other guys, ya know? Except something happens that exposes him to radiation, and then when they come back...well, never mind what happened to the other guys, but our astronaut has begun to melt! No, not just burn up, but MELT! Like an ice cream cone in July! Well OK maybe not that fast, but ya know what I mean.<br /><br />Anyway, he gets all red & gooey, and the fact that he's melting makes him really mad. I guess he also checked out the \\melting man\\\" handbook because suddenly he knows that in order to keep from totally melting away, he has to eat human flesh, so he starts ripping people apart.<br /><br />There are other characters, but in a movie where a man melts and melts and melts (and melts), do you really need any others? What's important is WHO will he munch next, and WHAT will be left of them? HOW long will it take for him to just melt away to nothing? WHY was this movie made in the first place? WHERE did they get the money? WHEN will you fall asleep while watching it?<br /><br />I've very nearly melted, but I still have enough time left to tell you that this movie is dreadfully boring, even though the idea is really cool and kind of gross. The makeup is neat but everything else is...SPLAT\"\n",
      "* * * * * * * * * \n",
      "12205\n",
      "This is a case of a bunch of people thinking they are so clever they have a story that fits the time. Remember the all-around political conspiracies caught on camera in the years leading to the Watergate and a little later? Most movies trying to cash in on made-for-TV 'o so powerful, o so mind numbing' conspiracies were in fact caught in their own navel-gazing attitude.<br /><br />I was never a fan of The Conversation which I find as much dated as others conspiracy stints of the time but Coppola was true to his main character and Hackman was a pretty engaging actor to observe. I mean these conspiracy movies are mostly drowning in the character pool of noir heroes. Lots of questions unanswered, lots of dis-communication... Well this takes at least Bergman to build a movie about such un-visual bases.<br /><br />The Next Man is a perfect example of its time: one political soup served with an idealistic character and an horrendous conspiracy tightening its web around him. Neither part is interesting in itself and the whole doesn't get any better. In fact you can tell how much it will be bad from the very first sequences piling up 'watcha that' murders without ever advancing any storyline. Pedestrian directing at its worst as most of the movie is one pompous accumulation of scenes revolving around violence naively brought under the viewer's eyes.\n",
      "* * * * * * * * * \n",
      "12324\n",
      "I got this movie out of Blockbuster in one of those racks were you can get like 5 movies for 20 bucks. I'd have to say I got my money's worth on this one. I had expected horrible dialogue, crappy monsters, and shaky cameras. Well, as Meatloaf said, two outta three ain't bad.<br /><br />The acting is bad, though not as bad as some movies I've seen. Or maybe I've watched so many low budget movies recently I've lost perspective. There are some bits were the acting is downright terrible, but for the most part it's of at least High School Play level.<br /><br />The CG for the Sasquatch in this movie is probably the second-worst part. The first thing I thought when I saw it (and I noticed another reviewer agreed with me) was that a man in an ape suit would have been better. Clunky stop-motion animation would have looked better.<br /><br />So you may be asking why I call the CG the second-worst part. That's because the very worst part of the movie is the sound effects. They are loud, annoying, and constant. I've been camping, I know what insects sound like in the woods at night, and while they can be loud, they're not deafening like the cacophony in this movie. Usually when the \\background\\\" sounds drown out the movie's dialogue, it's a bad thing, but from what I caught of the dialogue of this film, I wasn't missing much.<br /><br />The action was infrequent and boring. The tension was non-existent, as was any sense of empathy with the characters. Speaking of the characters, they were all cookie-cutter and bland. The only mildly engaging byplay was between...actually, I can't think of anything. There was a line or two that made me crack a wan smile, but that was about it.<br /><br />The cinematography was decent, a step or two above what you'd normally see in a movie like this. However, it still had that \\\"home movie\\\" quality to it that you get with movies made on pocket change and a prayer. <br /><br />If you're like me and get a kick out of shoestring budget genre flicks, and you see this one in the dollar bin, think about grabbing it. Otherwise, stay away at all costs.\"\n",
      "* * * * * * * * * \n",
      "12339\n",
      "The film starts with a manager (Nicholas Bell) giving welcome investors (Robert Carradine) to Primal Park . A secret project mutating a primal animal using fossilized DNA, like ¨Jurassik Park¨, and some scientists resurrect one of nature's most fearsome predators, the Sabretooth tiger or Smilodon . Scientific ambition turns deadly, however, and when the high voltage fence is opened the creature escape and begins savagely stalking its prey - the human visitors , tourists and scientific.Meanwhile some youngsters enter in the restricted area of the security center and are attacked by a pack of large pre-historical animals which are deadlier and bigger . In addition , a security agent (Stacy Haiduk) and her mate (Brian Wimmer) fight hardly against the carnivorous Smilodons. The Sabretooths, themselves , of course, are the real star stars and they are astounding terrifyingly though not convincing. The giant animals savagely are stalking its prey and the group run afoul and fight against one nature's most fearsome predators. Furthermore a third Sabretooth more dangerous and slow stalks its victims.<br /><br />The movie delivers the goods with lots of blood and gore as beheading, hair-raising chills,full of scares when the Sabretooths appear with mediocre special effects.The story provides exciting and stirring entertainment but it results to be quite boring .The giant animals are majority made by computer generator and seem totally lousy .Middling performances though the players reacting appropriately to becoming food.Actors give vigorously physical performances dodging the beasts ,running,bound and leaps or dangling over walls . And it packs a ridiculous final deadly scene. No for small kids by realistic,gory and violent attack scenes . Other films about Sabretooths or Smilodon are the following : ¨Sabretooth(2002)¨by James R Hickox with Vanessa Angel, David Keith and John Rhys Davies and the much better ¨10.000 BC(2006)¨ by Roland Emmerich with with Steven Strait, Cliff Curtis and Camilla Belle. This motion picture filled with bloody moments is badly directed by George Miller and with no originality because takes too many elements from previous films. Miller is an Australian director usually working for television (Tidal wave, Journey to the center of the earth, and many others) and occasionally for cinema ( The man from Snowy river, Zeus and Roxanne,Robinson Crusoe ). Rating : Below average, bottom of barrel.\n",
      "* * * * * * * * * \n",
      "12411\n",
      "Who did the research for this film? It's set in Baghdad in 2004, however all the Soldiers are wearing ACUs and have all Universal Camouflage Pattern gear. No one was wearing that stuff in 04. <br /><br />I just saw this film while deployed overseas and I can say that the overwhelming feeling from the audience was WTF? This movie made no sense, had characters come and go with no explanation, and people doing ridiculous things that would NEVER happen in real life. I realize that it's a movie, but it's obviously trying to portray something realistic. It fails miserably, but it's trying. <br /><br />It's like someone came up with a bunch of random ideas, chewed them up and swallowed, then vomited out a film. I would not recommend this film to anyone. I'm still not sure why I sat through the whole thing. GI Joe was one that really made you think compared to this. STAY AWAY!\n",
      "* * * * * * * * * \n",
      "12515\n",
      "I bought Bloodsuckers on ebay a while ago. I watched parts and deemed it just too dumb to review again. The excessive amount of watery 'blood' at the beginning is just plain obsolete - not to mention the \\whip-around\\\" wind sounds. My friends and I made a super low budget movie, and the effects still exceeded this crap fest.<br /><br />As for the amount of mistakes in this movie, there are way too many to count. I knew one of the actors - believe it or not, he was my THEATRE teacher. HA! <br /><br />Final verdict: Don't bother with this \\\"horror\\\" flick. <br /><br />3 Stars (out of a possible 73)\"\n",
      "* * * * * * * * * \n",
      "12533\n",
      "As seems to be the general gist of these comments, the film has some stunning animation (I watched it on blu-ray) but it really falls short of any real depth.<br /><br />Firstly the characters are all pretty dull. I got a hint of a kind of Laputa situation between Agito, Toola and the main antagonist Shunack. However maybe my mind wanderd and this was wishful thinking (Laputa being my favourite animé, original Engilsh dub). The characters are not really lovable either and as mentioned in another post they fall in love exceptionally quickly, leaving poor old Minka jealous and rejected (she loves Agito, who seems oblivious of this). However she promptly seems to forgive Toola at the end with no explanation for the change of heart other than it makes the ending a little bit more \\happy\\\". <br /><br />There is also a serious lack of explanation. Like who are the druids really? Are they people? and who are the weird women/girls who seem to hang out with them and run the forest? There is nothing explaining why they are there and how they can give regular humans superpowers. The plants coming from the moon still does not fill in the blanks about this. It is almost like a weird version of The Day of the Triffids.<br /><br />And who does call Toola? why bother with this if it wont be explained?<br /><br />I really wanted to like this film but I found the plot no where near as deep as a film like Ghost in the Shell or having any real character like those of Miyazaki. I do not resent watching it but I do sort of wish I hadn't bought it. My advice? Give it a go if you have a couple of hours to spare, but borrow it, or buy it cheap! Perhaps if your new to animé films and don't have much to go by you will enjoy it. It certainly is visually pleasing.\"\n",
      "* * * * * * * * * \n",
      "12757\n",
      "A typical Goth chick (Rainbow Harvest looking like a cross between Winona Ryder in Beetlejuice and Boy George) gets even with people she feels have wronged her with the help of an old haunted mirror that she finds in the new house she and her mom (horror mainstay, Karen Black, the only remotely good thing about this travesty) buy. The acting's pretty laughably bad (especially when Rainbow interacts with the aforementioned mirror) and there are no scares or suspense to be had. This film inexplicably spawned thus for 3 sequels each slightly more atrocious than the last. People looking for a similarly themed, but far superior cinematic endeavor would be well advised to just search out the episode of \\Friday the 13th: the Series\\\" where a geeky girl finds an old cursed compact mirror. That packs more chills in it's scant 40 minutes than this whole franchise has provided across it's 4 films.<br /><br />My Grade: D <br /><br />Eye Candy: Charlie Spradling provides the obligatory T&A\"\n",
      "* * * * * * * * * \n",
      "12759\n",
      "This inept adaptation of arguably one of Martin Amis's weaker novels fails to even draw comparisons with other druggy oeuvres such as Requiem For A Dream or anything penned by Irvine Walsh as it struggles to decide whether it is a slap-stick cartoon or a hyper-realistic hallucination.<br /><br />Boringly directed by William Marsh in over-saturated hues, a group of public school drop-outs converge in a mansion awaiting the appearance of three American friends for a weekend of decadent drug-taking. And that's it. Except for the ludicrous sub-plot soon-to-be-the-main-plot nonsense about an extremist cult group who express themselves with the violent killings of the world's elite figures, be it political or pampered. Within the first reel you know exactly where this is going.<br /><br />What is a talented actor like Paul Bettany doing in this tiresome, badly written bore? Made prior to his rise to fame and Jennifer Connelly one can be assured that had he been offered this garbage now he'd have immediately changed agents! Avoid.\n",
      "* * * * * * * * * \n",
      "12820\n",
      "One more of extremely unprofessional movies about computer programmers.<br /><br />Looks authors of that movie don't know real specific of programmers world.<br /><br />20 top programmers in the world, program which have own satellites (for what?), program which using satellite freq., somebody kill somebody to steal the codes (why?) and much more of stupid moments at this movie.<br /><br />Peoples who not programmers not will see something awful at that movie, because not professionals on this. But peoples will see not real things.<br /><br />Programmers will find that movie odd and awful - because lots of moments inside movie is not RELATED real life (why movie not scifi in this case?).\n",
      "* * * * * * * * * \n",
      "12871\n",
      "I must be that one guy in America that didn't like this movie. I guess this just wasn't my style or something, I just don't see what's so fascinating about it, this was *barely entertaining, let alone one of the greatest achievements in cinema history. <br /><br />It's about a guy that came from nothing, and goes on to become a drug lord. Pretty simple way to describe an entire movie, and that's exactly my feeling about the entire movie. Contrary to what a lot of people think, just because a movie is about mafias/drug trade/criminal groups doesn't automatically make it a great movie, don't forget good storytelling.\n",
      "* * * * * * * * * \n",
      "12882\n",
      "I saw this trailer and thought to myself my god is this movie for real, who would want to see this movie and at the same time i thought that, my girl friend turned to me and said \\we have to go see this movie\\\"...enough said so i saw this about 5 minutes go and I tried to put on a brave face and enjoy the cheap scares but there weren't even any of those. It has to be one of the worst movies I have ever seen the director has no influence no perspective the same shots were used again and again he did not build up suspense the cast probably were simply told scream cry run fall. I would love to see the script as the first 40 mins was mostly annoying girly giggles and bad music, there was absolutely no character development.<br /><br />The plot is just...well there was no plot it was basically I know we will terrorize a high school group on their prom night with a stalker serial killer, That's brilliant! hmmm The acting was what you expect in a Australian soap opera hopeless, that main character the Blondie god dam she annoyed me. her longest line must have been half a sentence, and every time she was on camera she was just pulling another rude facial expression.<br /><br />Please listen to me if you have any taste in movies don't go see this, and if your like me and don't have a choice well then I wish you good luck, maybe smuggle in an ipod or magazine. Can't believe this film got made!\"\n",
      "* * * * * * * * * \n",
      "12967\n",
      "The movie and acting are not bad and Jay Hernandez does a good job playing Calito Brigante but the movie forgets it's suppose to be a prequel to a hit movie. The makers of this prequel clearly did not watch the original Carlito's Way or at least did not care about continuity. This movie is a prequel which means the original movie has already laid out some history for us and this movie should end where the original begins or at least lead up to it. Not one of Carlito's close old friends from the original make an appearance in this movie, they're not even mentioned. Luis Guzman, Pachanga in the original, is in the movie but he plays a completely different character. The original takes place in 1975 and the prequel takes place in 1969-70. Considering this movie takes place less than 5 years earlier, wouldn't you think one of Carlito's long time friends would make an appearance? In the original, Carlito start's out being released from jail after spending 5 years in jail. That's only a few month's between the end of the prequel and the start of the original! ***Semi Spoiler*** We know from the beginning of the original, Carlito has spent 5 years in prison so when the prequel gives us this Hollywood happy ending it's an insult to the intelligence of fans of the original. What happen to Gail? It's the lack of continuity that made this film go direct to video release.\n",
      "* * * * * * * * * \n",
      "12988\n",
      "The people who are praising this film are the real disappointments -- I am hoping at least that Leonard will see some good $$ out of this, as his life savings were embezzled away by a manager a couple of years ago and he's over 70 now. But this film is simply terrible. At the beginning Leonard himself says he is not sentimental about his past, and then for the next hour and a half the film emphasizes all the worst sentimental elements of Leonard's songs. It is so bloody PRECIOUS with its endless close-ups of over emoting singers. Cohen's interview is all done in lo-fi video closeups and I so wanted to see a medium or a long shot of his whole body! I couldn't care less about the comments of the performers, especially those overblown ego boys Edge and Bono. None of the performers in this film have done even one song as good as Leonard's own music and if you are thinking about seeing this and you have any doubts at all, heed them. This would be an acceptable PBS special, maybe, for a one time showing. But I will even hesitate at getting a DVD of this. When the film finally shows Leonard semi-performing \\Tower of Song\\\" it's ruined by Bono taking a verse. Even the occasional good performances (Antony, Rufus' first number, Martha's The Traitor) are spoiled by the context of the rest of this turgid blabla. Forget this one, and go buy Leonard's most recent album if you want to pay tribute to him.\"\n",
      "* * * * * * * * * \n",
      "13197\n",
      "I have to agree with most everyone's opinion that this show was poorly produced as well as written.The acting was not much more above the lower production values however I feel an actor can only rely on the material provided to them and make the best of it. In keeping with this thought I feel it is important to point out that one actor has risen and persevered well beyond this campy to tasteless production to have become a respectable and quite talented performer.I am referring to Laura Harris a Canadian born actor who has etched her way through many poorly produced shows and movies to find a place on the HBO hit \\Dead Like Me\\\" where she plays the role of Daisy Adair and to her credit she handles this role in an efficient manner.I remember having a typical boyhood crush on the young actress during this series where she played Ashley a soft spoken yet intelligent 7th grader.I felt as though if anyone might \\\"make it\\\" from this series it surely would be Laura Harris and true to her nature she did excel in the acting field to win the respect of many producers who now recognize her for her talent as well as unique Nordic blond allure. If you ever do have the opportunity to view this series I recommend that you have something epic to watch after wards such as the 'Godfather' or perhaps 'Beaches' in order to remind yourself that there is after all a great deal of true production integrity and value out there and that this series is only a low-budget reminder of what Laura Harris can simply state about her time on the show and I bet she would quote many a young actors words of defense by saying \\\"It's a start!\\\"\"\n",
      "* * * * * * * * * \n",
      "13266\n",
      "Let me confess. I found this video used and bought it because Guttenberg looked so sexy in his underwear on the jacket. But inside was another story. Besides the fact that the movie was basically a parody of \\invisible-man\\\" genre special effects (highly visible strings and other such paraphernalia), the script wasted no chance -- in fact it went out of its way -- in insulting all non-WASP races and real-or-imagined homosexuals. Every insult aimed at a person in the script was either homophobic or racist or both. It starts to grate on your nerves, along with the shaky sound, candid- camera style photography and melodramatic story. However, the end is somewhat of a surprise. But by the time you get there, you hardly care less. Too bad, it could been a reasonably good movie.\"\n",
      "* * * * * * * * * \n",
      "13313\n",
      "Believe me, I wanted to like \\Spirit\\\". The idiotic comments people made at the time of its release about how quaint it was to see old-fashioned, hand-drawn animation again, as if the last pencil-animated cartoon had been released twenty years ago, and the even more idiotic comments about how computers had now made the old techniques obsolete, had got my blood up ... but then, the insulting, flavourless banality I had to endure in the first ten minutes of \\\"Spirit\\\" got my blood up even more.<br /><br />The character designs are generic, the animation (partly as a result) merely competent, the art direction as a whole so utterly, boringly lacklustre that you wonder how it could have come about (we know, from \\\"The Prince of Egypt\\\" and \\\"The Road to El-Dorado\\\", that there are talented artists at Dreamworks), and the sophisticated use of CGI is in every single instance ill-judged. (Why do they bother?) There's not a single thing worth LOOKING at. In an animated cartoon, this is fatal.<br /><br />But it gets worse...<br /><br />The horses can't talk, but they're far more anthropomorphised and unconvincing than the deer in \\\"Bambi\\\", which can. And it seems that, in a way, the horses CAN talk. Spirit himself delivers the prologue (sounding for all the world like a 21st-Century actor picked out of a shopping mall in California), and from then on his laid-back, decidedly unhorselike narration is scarcely absent from the soundtrack, although it never once tells us anything that we didn't already know, or expresses a feeling which the artwork, poor though it is, wasn't capable of expressing twice as well. That prologue, by the way: (a) contains information which Spirit, we later discover, had know way of knowing; (b) expresses ideas which Spirit would lack the power to express even if he COULD talk; (c) includes new age rubbish like, \\\"This story may not be true, but it's what I remember\\\"; and (d) will give countless children (the production is pitched, I presume, at six-year-olds) the impression that horses are native to North America, which is sort of true, in that the common ancestor of domestic horses, zebras etc. WAS native to North America - but all horse species on the continent had gone extinct long before the first humans arrived, and the mustangs of Spirit's herd (which allegedly \\\"belong here like the buffalo grass\\\") were descended from horses introduced by Europeans.<br /><br />So the prologue rather annoyed me.<br /><br />As often as Spirit talks, Bryan Adams sings, sounding as usual as though he's got a bad throat infection - and it's not THAT he sings or even HOW he sings, it's WHAT he sings: maudlin narrative ballads which contribute even less, if possible, than Spirit's spoken narrative, and which sound as though they all have exactly the same tune (although I was paying close attention, and was able to discern that they probably didn't). If only Bryan Adams and the guy-pretending-to-be-a-horse could have SHUT UP for a minute or two, the movie might have been allowed to take its true form: mediocre and derivative, rather than jaw-droppingly bad.\"\n",
      "* * * * * * * * * \n",
      "13491\n",
      "Payback is the game being played in this drama and the revenge plot is undone by the absurd story line that sets the stage for the fireworks that come later. Why would a man become involved with the trophy wife of a ruthless mob boss in the gangster's own mansion with suspicious henchmen all around? Why would an unhappy wife encourage the attentions of a complete stranger and expect him to carry her away with him and leave her husband and boredom behind to live happily ever after with her new love? Surely the hero, here Kevin Costner, must have expected a reaction from the cuckold husband that gives the movie an excuse to indulge in senseless gore and violence. Anthony Quinn, great actor that he was, surely deserved better, and Madeleine Stowe is the tragic figure who suffers greatly as she latches on to her prince charming. Stowe is okay but her Spanish accent doesn't work. The cameos of the lesser players are good, especially Miguel Ferrer and John Leguizamo and Sally Kirkland is interesting as a fading rock star.\n",
      "* * * * * * * * * \n",
      "13545\n",
      "'Dead Letter Office' is a low-budget film about a couple of employees of the Australian postal service, struggling to rebuild their damaged lives. Unfortunately, the acting is poor and the links between the characters' past misfortunes and present mindsets are clumsily and over-schematically represented. What's most disappointing of all, however, is the portrayal is life in the office of the film's title: there's no mechanisation whatsoever, and it's quite impossible to ascertain what any of the staff really do for a living. Granted, part of the plot is that the office is threatened with closure, but this sort of office surely closed in the 1930s, if it ever truly existed. It's a shame, as the film's overall tone is poignant and wry, and there's some promise in the scenario: but few of the details convince. Overall, it feels the work of someone who hasn't actually experienced much of real life; a student film, with a concept and an outline, but sadly little else.\n",
      "* * * * * * * * * \n",
      "13637\n",
      "I tried to remove anything that might be considered a spoiler. I also assume that you've seen the first movie or at least know the general gist, so if you haven't some of this might not make sense.<br /><br />Plot: This movie beats the audience over the head with tired philosophical ramblings again and again in an attempt to get the theme across. We are bombarded again and again by questions of purpose, and destiny, and choice, and forced to endure the long, torturous platitude sessions that contain them.<br /><br />Neo, awakened from a dream in the last movie, now begins a period of realization about his own existence. There are a lot of revelations in this movie, which I'll be vague about so they won't seem like spoilers.<br /><br />*If you're still worried vague references will spoil the movie, don't read the paragraph below.*<br /><br />The strength and weakness of faith is revealed. The strengths and weaknesses of love, and its temporary nature, are also revealed. The interdependence of humans and technology, and our faith in technology, are also revealed. The importance of choice and experience is revealed. Explaining further things that are revealed would go into too much detail, so I will refrain (as the guidelines for writing a commentary asks). Btw, by \\revealed\\\" I mean pounded through our ears and eyes like nails.<br /><br />Storyline: So how does Neo and the gang get from the end of the last movie to the beginning of the next one? In short, they keep the faith, and use and abuse overly-stylized action and bullet-time like it's going out of style (and after this display, I'm hoping movie-goers and makers alike learn to appreciate subtlety and originality a bit more). More on that later. To not spoil anything, I will say no more than the promo material already did: Neo is still trying to figure out the Matrix, and he is looking for answers while trying to save the humans, and Zion, all while baddies are going after him and his cohorts. The movie pretty much picks up where the last one left off.<br /><br />Action: While martial arts action and gunplay peppered its predecessor in somewhat equal parts, this movie focuses much more on martial arts than gunplay, adding swords, sais, etc. to the mix. Special effects are so often used and waved in the audience's face that it becomes really tiresome. I've discussed this movie with friends and coworkers alike, and nearly all of them found some of the action sequences--especially the \\\"Smith fight\\\" we all heard would be in the movie--to be too long and tedious. This is a huge red flag for action fans, because the end of an action sequence should either leave you wanting a slight bit more, or completely content with the awesomeness that just occured.<br /><br />These fights scenes do neither. They are over-stylized, over-the-top sequences that are wooden and uninspired. In the first movie, there was a real sense of desperation to some of the action, a sense that fighting was for survival, not just looking good (which I honestly don't think they manage in Reloaded anyway) in black and leather. Go watch Drunken Master or Iron Monkey after this movie to remind yourself of what good fighting sequences are--you won't regret it. In addition, the \\\"Matrix abilities\\\" people have in Reloaded is not consistent, and what they actually do is not consistent. The first movie had its inconsistencies here, but they weren't too glaring--unlike Reloaded.<br /><br />Special effects are poured on and on and on. Every little thing someone does, be it just jump, somersault, spin, and in many cases just pose, are<br /><br />slow-moed, bullet-timed, or over-accentuated by some sort of destruction. It's evident the W Bros had a ton of money to throw at this movie, and boy did they throw it, with no real restraint. Sharp editors could have really helped this, but the first movie was such a hit that free reign was obviously given, which brings us to. . .<br /><br />Character and dialogue: I have already more or less said the dialogue was tired and full of philosophical platitudes. Actors can't really bring a lot of depth to their character when the script and direction is shoving character progression audience's face, or neglecting it altogether. The audience is at no time given nuance and substance so they can contemplate the character on their own.<br /><br />Keanu's acting performance is stiff at best. Keanu is good at acting confused, and that's about all he does in this film. He makes a decent attempt to show passion between Neo and Trinity, but it falls flat.<br /><br />Lawrence tries to make Morpheus everything from Moses to Henry V, and be as cool as a cat throughout. With the script he is provided, he makes a noble attempt, but it also falls flat.<br /><br />Moss isn't very believable either. Her look of concern is always the same, much like Keanu's, and the chemistry isn't there, although in their very physical scenes they fake it well enough.<br /><br />Hugo once again brought his weird sense of being an Agent program, but he too suffered from the script's hand. I actually find him to be the most interesting character of the bunch, but instead of development they just make him an excuse for a huge, drawn out fight scene.<br /><br />All in all, this movie is beyond disappointing if you had good expectations, and on its own, as a stand-alone movie (which is not how it's supposed to be taken), it's still horrible. I don't see The Matrix as deep, but I at least see it as an enjoyable scifi romp that has some interesting ideas, good action, a few funny lines, and enough restrained symbolism and elusions to amuse the attentive. Reloaded fails on all these counts, and I really hope the W Bros will give us a better experience in the 3rd installment. Granted, I don't have a lot of hope left for that after this film.\"\n",
      "* * * * * * * * * \n",
      "13644\n",
      "Well, it is hard to add comment after reading what is already here but I feel I must say something. I wasn't exactly looking for 'a splatterfest' as someone puts it or even 'blood and guts/gore'. I have some respect for the victims relatives although I really felt the filmaker DIDN'T. -They were nameless, faceless and meaningless. Just a vessel for Dahmers sexual antics.<br /><br />I watched this film with the kind of morbid curiosity that makes me think 'What makes a guy be a serial killer?' as well as wondering the specifics about the Dahmer story, of which I know very little. People here seem to think that the movie didn't have to cover the events of the Dahmer story.. I.E. his history, what happened when he got caught, the aftermath, etc but IT IS IMPORTANT! You see, I assume if you are American you WILL KNOW all of this. We do not all live in America. To tell this story about such a man as he obviously was, REQUIRES that at least SOME of the history and actual events are told/shown. This doesn't mean blood and guts, there are ways of showing horrific things in a movie by implication or clever filming without resorting to gore. Without even touching upon some of what he did (I found out more about him reading the user comments on this site!), the movie felt like a void. A moment in time with very little substance. I would like to know if there is a film about the REAL Dahmer because with its lack of direction, VERY slow pace that NEVER changes, Strange portrayal of homosexuality and the VERY unfortunate lack of ANY attempt at an ending, this movie is POOR. I would not recommend to anyone that they waste the time it takes to watch it. A definite 1 out of 10 (for the acting!)\n",
      "* * * * * * * * * \n",
      "13707\n",
      "I saw this when it was in the theater, it started out so strong I mean back in 1980 this was a bold movie and the special effects were excellent AT THE time. Now you would have to of been at least 30 or so in 1980 to really understand this point because studying film historically misses the mind set at the time the expectations, and other related psychological factors. Now as I said the movie was engaging suspenseful and very entertaining. It builds to an excellent climax then.... IT ends I mean the person that described it as having a water balloon break in your hand before throwing it, besides being a very poetic description. In my experience, it was just not strong enough. My wife and I were well... how can I say this? We were upset, I mean we paid money, invested the time to watch the movie which was excellent. \\We both felt we were robbed with an ending that convinced us both the production company must of run out of money and could not raise enough to finish it correctly. In fact my wife said it best, it did not end, IT JUST STOPPED!\"\n",
      "* * * * * * * * * \n",
      "13779\n",
      "DD films were damn corny, damn stupid and had a plot which seemed wafer thin but those days they was a plot at least<br /><br />This film isn't just a comedy but a mix of melodrama, romance everything<br /><br />Every drama scene is blown out of proportion<br /><br />The comedy is funny but corny too Yet the film keeps you entertained, those days Govinda films were loud, crass yet they had some funny moments people enjoyed<br /><br />David Dhawan does a okay job Music is okay<br /><br />Govinda acts well in comedy and drama Karisma is decent in parts and annoys in parts Kader is as usual Gulshan, Prem Chopra are typecast Shakti is hilarious\n",
      "* * * * * * * * * \n",
      "14045\n",
      "I was looking forward to seeing John Carpenter's episode in Season 2 because his first, Cigarette Burns, was by far the best from Season 1 (and I did like other episodes from that season). Oh, how I was disappointed.<br /><br />In fairness to Carpenter I think the primary problem with this episode was absolutely horrible writing. The characters, aside from the subject matter, seemed to behave and speak as though they were written for an episode of Walker, Texas Ranger. The acting was bad, and I normally like Ron Perlman a lot, but I can only blame them so much because the writing was so horrible. I'm not going to try to guess what the writers were trying to do because that would be useless but it appeared as though they were trying to mix horror (obviously) with some form of social commentary on abortion and religion. In this case, not surprisingly, it seemed a chance to bash a certain variety or religious nuts as well as fanatical anti-abortionists. And I am in favor of both aims but it was done so horribly that I was embarrassed to watch characters act and speak with such stupid inconsistency. This failed totally to offer any worthwhile opinion on the subjects and the horror element failed as well alongside such inept writing.<br /><br />While I don't think Carpenter can be blamed for most of the badness here I will say he did choose to direct the teleplay and therefore has that to be held responsible for. There are a couple small bits that I found nice, hence the 2 stars I gave it.<br /><br />The actual gore and monster effects were good, but the CGI gore (two separate gunshots to the head) were so obviously inferior quality CGI they should've never been given the OK. I'm generally very critical of CGI but not because I have a problem with it in principle. I have a problem with the execution of it. The technology, while amazing in some respects, is not good enough to match \\real\\\" effects, whether they be miniatures or gore especially when it is supposed to match something organic and/or alive, and therefore shouldn't be used until they are. CGI can be used well in small amounts or obviously if the whole film is animated.<br /><br />I'll also take this opportunity to note that the show title, Masters of Horror, is a bad title to have. There simply aren't many actual \\\"masters of horror\\\" around. Maybe two or three. If the show were called \\\"Tale of Horror\\\" or something like that it would be fine. But as it stands the criteria for directing one of these episodes, and therefore being criticized for not being a \\\"master of horror\\\" is that they have directly at least one horror film in their career. And it didn't even have to be a good one.\"\n",
      "* * * * * * * * * \n",
      "14135\n",
      "I was watching this with one of my friends, who is a vampire freak, and I was extremely disgusted at the fact that this film exists. This film should be shown to prisoners of war, yes, it's that bad. Even John McCain wouldn't be able to sit through this. So why the 3/10 rating? Because it had a vampire midget. Come on, what's more entertaining than a vampire midget? There's one scene in this film where John Savage gets laid by saying \\I want to feel human again,\\\" and the chick, being the brainless stripper slut she is, lets him \\\"feel human\\\". I wish I could \\\"feel human\\\" with Jessica Alba or Megan Fox. This is a movie for stoners. There is bright flashy objects and random movements. All in all, don't waste your money on this garbage. I got it for free when I was walking down the street with my friend and we saw a garbage barrel full of video tapes and a sign that said \\\"free\\\". So, in a way, I didn't get ripped off, but still...\"\n",
      "* * * * * * * * * \n",
      "14273\n",
      "This show had a lot of hype but I didn't know about it until the midseason (season 1). Someone even recommended the show to me. But I decided that if I was going to watch it, I was going to wait until the end of the season so I could watch it in bulk. Due to the show's format, I'm happy I waited. I imagine it would have been fairly annoying have nearly every episode end in the middle of some cliff hanger then have to wait another week to find out what happens in the next second of the story.<br /><br />Somehow, this show has managed to throw in too much sex. Jason will have sex with pretty much anything that moves. Right after he finds out that one woman he had sex with was killed, he's in bed with another woman the next night! Then Tara and Sam get it on, despite each of them knowing that Sam is in love with Sookie. And for some reason, Sookie gets mad when she later finds out about it--even though she's sleeping with a vampire. One of the problems with the show, is that it doesn't do a good job of making you care about the characters. I really didn't care for Jason at all. Along with his endless pursuit of tale, he was rude to the people who actually were concerned for him. After a few episodes, I wouldn't have minded if he got killed somehow. For that reason, I was for the most part uninterested in the murders until Sookie's Grandmother became a victim (since the first two were more closely involved with Jason).<br /><br />Then once Sookie and Bill have sex, the story gets a few more subplots. Tara's mother wants an exorcism, then the exorcist lady tries to convince Tara that she should have one to remove her own demon. I wasn't so much bothered by the whole exorcism thing as I know there are some people who really believe in that stuff. However, they waste little time in showing that is it a farce right after Tara spends about $1300 on exorcisms for her and her mother. At other points, some of the developments happen too fast. Jason continues being a jerk, trying to sell his Grandmother's stuff to buy vampire blood, which apparently is the new crack or something. In his search he finds this girl who will do V (vampire blood) with him. They get high, and within three days fall in love with each other and kidnap a vampire for a constant source of V. Another example is when Bill has to go to a vampire tribunal. He's only gone for two days before Sookie starts to feel abandoned and start to wonder if he thinks \\vampire politics\\\" are more important than her.<br /><br />Subtlety is not this show's strong suit. It doesn't take a genius to figure out something is going on with the local dog. Although my assumption wasn't dead on, it wasn't that much of a surprise. But the finale two episodes was where it really got annoying as it just shoved all the developments in your face as if you couldn't possibly figure the out for yourself. When Tara gets into the car accident, the naked lady's face with the pig is clearly shown, and was easily recognizable when she shows up at the jail for the bailout. As if that wasn't enough, they later show the lady again with the pig at her house. Then it's time to wrap up the murder story. At the end of the penultimate episode, it's revealed that Renee is not who he says he is and most likely is the killer. In the final episode, they shove Renee being the killer in your face. Sookie remarks that it's odd that Renee's thoughts don't have an accent. I thought that was fine, as it adds to Renee being a fraud. But the next scene is full of incriminating evidence against Renee. They show that Renee has the tape of Maudette with the vampire and his fiancée finds a tape in one of Renee's boxes about how to fake a Cajun accent. At this point it was just ridiculous. I mean WE GET IT!!! So blah blah blah stuff happens. Bill almost kills himself while failing to save Sookie, who still manages to kill Renee. They start to set up season 2 by leaving unfinished issues. The naked pig lady and Sam have a history, Lafayette has gone missing and might have been killed. Jason is in the process of being brainwashed into being a religious nut by some anti-vampire church--which makes me care about him even less.<br /><br />It's almost surprising to see how many people absolutely love this show. I think I just expected this show to be better. I'm interested in seeing what happens in season 2, but if I watch it, I'll most likely wait for the season completion.\"\n",
      "* * * * * * * * * \n",
      "14407\n",
      "This movie was made for people who found Gremlins too serious and Critters to hardcore. Like many of the critters/trolls/gremlins movies of the 80's this movie is bad. The sad part is that there's no punchline to that comment. It's just bad and not in a funny way.<br /><br />The problem with this miniature monster movie is that it actually tries to be funny and ends up being as successful in doing that as Howie Mandell was in Walk Like A Man. What made the other 80's horror movies into classics was that they were genuinely trying to be scary, but were hilarious because they failed so miserably. Someone must have told Bettina Hirsch (yes THE Bettina Hirsch)she had a knack for comedy before she started directing this movie. Unfortunately they were wrong.<br /><br />Sure seeing a weird little mutated cross between a ferret and a tumor wearing a brown trenchcoat and throwing pool balls at an outcast from the Lost Boys is amusing, but not enough to save the movie.<br /><br />By far the most annoying part of the movie is the Paul character. His Paul Reiser wannabe schtick is enough to make you start fast forwarding from the time of his first scene until the ending credits only stopping once to see a scene where a munchie throws pool balls at a guy...not that I did that.<br /><br />So the bottom line is run, don't walk, to your nearest Blockbuster and shake hands with the manager and thank him for not having the grapes to stock this pile of garbage on the shelves.\n",
      "* * * * * * * * * \n",
      "14423\n",
      "That is the only thing I can positive to say about this movie. Cleveland is the star, I've been there and never saw the city look this good. Beautiful river and cityscapes.<br /><br />This movie moves ahead at such a pace they hope you won't notice the lack of real world relevance. People running around and shooting guns without any consequence. For example, there is a shoot out at Rob Lowe's character's house- two cars are stolen, and yet the cops don't show up there till much later in the movie. Murder for hire never looked so implausible.<br /><br />Whoever wrote this movie should be on the receiving end of one the movies countless stray bullets. Many of the actors in this movie are so much better than this. I check the date of the movie just to make sure it wasn't written during the writers strike but alas this was not the case. This movie is currently in rotation on Universal's HD channel- unless you want to drool of over Lowe there is no reason to watch it.\n",
      "* * * * * * * * * \n",
      "14512\n",
      "Did they use their entire budget paying the porno stars or what?!?<br /><br />Sound effects, background music and the editing in general was so bad you'd think some 12-year-old wanna-be made the film.<br /><br />Most of the acting was good considering the script... the \\innocent virgin\\\" played her part really well.<br /><br />The mutants look really cool and this actually could have been a really cool flick with the right brain behind the wheel... but, unfortunately for all involved, that's not the case.<br /><br />Turn Left was made better than this movie and those guys didn't even have any money!!! Good thing I didn't rent the movie myself!\"\n",
      "* * * * * * * * * \n"
     ]
    },
    {
     "name": "stdout",
     "output_type": "stream",
     "text": [
      "14613\n",
      "While exploring some caves with his wife, a doctor is bitten by a bat which causes some alarming side effects...<br /><br />Occasionally creepy atmosphere and some decent (though under used) makeup effects don't save this B horror flick from being a sub-par tale of man-becomes-creature. The Bat People aka It Lives By Night suffers from its senseless story that's awkwardly plotted and lackluster in pacing. The plot never seems to go anywhere much and the movie never offers an explanation for what happens, or even a satisfying conclusion for it all. The cast is fairly mediocre in their performances.<br /><br />Still I give the film some points for its haunting theme song and nice filming locations. The makeup work of the late Stan Winston is pretty good too, but it doesn't get much of a showcase here. A missed opportunity for sure. <br /><br />Definitely one of the lesser man-creature flicks out there.<br /><br />* 1/2 out of ****\n",
      "* * * * * * * * * \n",
      "14645\n",
      "I have been familiar with the fantastic book of 'Goodnight Mister Tom' for absolutely ages and it was only recently when I got the chance to watch this adaption of it. I have heard lots of positive remarks about this, so I had high hopes. Once this film had finished, I was horrified.<br /><br />This film is not a good film at all. 'Goodnight Mister Tom' was an extremely poor adaption and practically 4.5/10 of the book was missed out. Particularly, I found that a lot of the characters and some great scenes in the book were not in this. There was not much dialogue, It was rushed and far too fast-moving, but I was mostly upset by the fact that you never got to see the bonding and love between William Beech and Tom in this film which was a true let down. The casting was not all that good,either. I thought this could have been really good, but it was so different to the book! Anextremely poor adaption, one of the worst I've seen. This deserves a decent remake that'd better be 1000 times better than this pile of garbage.\n",
      "* * * * * * * * * \n",
      "14785\n",
      "To be clear from the get go, 'The Bagman' is very, very, very bad. It suffers terribly in almost every aspect except for one: the finished product is such an awful film that it's actually hysterically funny to watch. This is a very low-grade film. Budget constraints for the film should be obvious to anyone who watches even just the opening title sequence. I'm not sure if much of the humour in the film was intended or not. For example, the movie takes place in 'Doomsville.' Note to all prospective home buyers: if the town you're moving to is called 'Doomsville,' keep moving. Stephanie Beaton is quick to pull off her top for a pretty enthusiastic sex scene in the kitchen. I couldn't help but laugh because it has intentional humour (she turns on the gas stove ... get it? The sex is THAT hot? get it?) and unintentional humour. The unintentional in this case is the music. It's like the theme music for 'Chariots of Fire' goes Electronica. Break out the computer and the synthesizers! I realize that coming up with music for a small production like this is cost prohibitive. I really feel for them because the work here is so well-intentioned. The problem is that cheap music isn't necessarily good music. I haven't laughed so hard at sex on screen since 'Alone in the Dark' with that 'Seven Seconds' song (I guess they were implying that poor old Mr. Slater was a bit ... quick on the draw?). Even the end credits are hilarious. Intentional or not? You be the judge: a pet dog and cat are part of the credited cast -- and an animal wrangler was on set for them! -- The boom is credited to 'Mr B. Stick,' and the 3rd Unit's wardrobe (Yep, they had a third unit) is credited to K-mart. Maybe it's just me, but I think the hilarity of this more than saves the film. The movie is very, very bad, but the goals of Stephanie Beaton, her friends and family are so well-intentioned in 'The Bagman' that you can't help but like the movie they've produced. 'The Bagman' is bad but not dreadful. In its own sweet way, it even manages to be a bit endearing. It wears its flaws so honestly that you can't help but forgive them. \\Better\\\" films that try to hide the flaws are almost worse in a way. I guess this is just a film that knew who its audience was and was produced accordingly.<br /><br />Watch any number of movies and most of them will probably be a lot better than this. Some of them might look cheaper, or have worse acting, or sillier production value. They may not suffer terribly as 'The Bagman' does from awful editing, sound, and foley effects. Mr B. Stick didn't do a very good job. The special effects look to be where most of the money went. They tend to be more funny than gruesome, although when the 'Bagman' is finally unmasked at the end, the make-up job there is surprisingly well done.<br /><br />My 4 out of 10 is a little high but the humour helped a lot. This is an ideal movie to track down some night with a few friends and a few beers in hand. Great entertainment is to be had by anyone who seriously considers themselves B-movie or low budget film aficionados. All others should probably avoid with great prejudice.\"\n",
      "* * * * * * * * * \n",
      "14816\n",
      "I waited almost 25 years to see this movie, thinking it might be an underrated work, from a period animation was no longer of the quality it had once been. It starred one of the best film villains of all time, was based on a beloved series of children's books, and was a Disney Studios production. What could possibly be wrong with it? As it turns outs, almost everything.<br /><br />Well, not everything. Vincent Price as Rattigan and Henry Mancini's swanky score are the movie's two saving graces. Price is wickedly enjoyable, and Mancini more professional than the material deserves. They bring class to a project that otherwise belongs in obscurity. <br /><br />Meanwhile the rest of the movie, while filled with inappropriately adult situations, still suffers from a completely dull script, blandly generic voice work, terrible songs, and lazy animation that wouldn't have been out of place on any of Disney's mid-1980s Saturday morning TV shows.<br /><br />This was a complete disappointment to me. It's amazing that this movie was nearly contemporary with The Secret of NIMH. Costing a fraction of this, an independent studio produced something with more creativity in its trailer than GMD has in its endless running time.<br /><br />The extra star that keeps this from being \\awful\\\" goes to Price and Mancini.\"\n",
      "* * * * * * * * * \n",
      "15057\n",
      "The definition of an abomination as defined by Webster's Dictioary is \\a cause of abhorrence or disgust.\\\" If someone can think of a more appropriate word or definition than this for Alone in the Dark, please let me know because this is the best I can come up with. However, I do no feel that in anyway this word describes how truly awful this film is.<br /><br />I went to see this film with two of my roommates. One has very similar tastes to me, the other is an action/adventure flick guru. This latter guy usually doesn't care about the size of the plot holes, as long as the movie contains lots of explosions he will walk away satisfied.<br /><br />That being said we entered the theater for the Friday viewing of Alone in the Dark. Little to my surprise we were the only people in the theater. When it started I knew why immediately.<br /><br />It begins with the worst opening scene of any movie, and unfortunately I have to admit it only gets worse from there. The opening scene is a 5 minute scroll text that is narrated. Yet, I understand why it was narrated. The director must have understood that only illiterate people would even ascertain the thought of PAYING to see this movie. Yet, not only is this first scene the longest scroll text in the history of cinema, but it also makes no sense. It seems as if in the same sequence we are hearing about to completely separate movies. One is about an ancient civilization and its tampering with a portal, the other is about a crazy scientist and his experiments on orphans. If you are reading this and are confused, you are not alone.<br /><br />Then the awful storyline, acting, effects, and camera work begin. Tara Reid is horrendous as an actress. She does nothing to even for one second make you think that she is a museum curator. Slater is just bad, not convincing, and has no chemistry with Reid.<br /><br />The plot is probably the worst thing ever created by man. The entire time myself and the roommate with similar tastes are asking questions like: What is this? And what is going on? Other than this scrolling garbage we have a few narrated sequences by Slater himself. Are they good? NO. Do they explain anything? NO. Do we at any point as an audience have the slightest inkling as to why we should care what happens? Once again, NO.<br /><br />Then we have a random sex scene. We are told that Slater and Reid are together, yet at no time do they act as though they even care about on another. But then BAM...sex scene. Once again I don't know.<br /><br />A good, oh i don't know, 30 seconds after that woeful scene ends we have a gunfight with 20 or so military and a similar number of alien things. This is set to a heavy-metal track and causes more brain hemorrhaging than one ever thought possible.<br /><br />And if that wasn't enough...<br /><br />There exists no main villain. There is the scientist and there are the \\\"alien\\\" things. At one point the scientist controls the alien things and stands on a hill commanding them to attack the military outpost. Why? How did he become the supreme commander of these things? Why do they listen to him? Once again I have no idea.<br /><br />The movie ends with Slater and Reid walking in an evacuated city. Why was the city evacuated? Did the alien things break through? Did the military tell them? Who knows...and by this point who cares? I didn't and you won't.<br /><br />But to top it off, Slater and Reid are attacked by an alien thing. Even though it was stated that alien things will be killed by exposure to sunlight. And thats right, you guessed it, it the middle of the *&%$ing day and it's bright as can be. Maybe the alien thing bought a pair of sunglasses, I don't know and I don't care.<br /><br />Now after the movie ended I ran outside the theater, all 6 foot 6 inches of me, waving my arms and shaking my afro telling everyone not to go see this movie. Even my gung-ho action/adventure roommate (who would consider a movie that just cut and pasted 2 hours of explosion into 1 film to be the greatest thing ever created) admitted that plot holes were very evident in this film.<br /><br />To sum up this CRAP-FEST i give it a 0.0/10 and would give it lower if I could.<br /><br />Unequivocally, the worst movie ever made. I wouldn't wish this movie on my worst enemy.\"\n",
      "* * * * * * * * * \n",
      "15109\n",
      "Following the disasterous Revolution, this film was pretty much the final nail in the coffin of Goldcrest and thus the British Film Industry. The film is absolute pants, it's full of music from the attempted mid-80's jazz revival and based on a book & author that was briefly popular at that time and has deservedly sank back into obscurity. Temple searched for ages trying to find Suzette and came up with 8th Wonders Patsy Kensett another person who was briefly popular at the time. By the time the film came out of post production the Jazz revival was over, as was Kensett's career and the film met a totally uncaring film public.<br /><br />Mediocre would be an overstatement for some of the worst/campest/cheesiest acting to ever grace the British silver screen watching it almost 20 years on and the film is truely cringeworthy.\n",
      "* * * * * * * * * \n",
      "15206\n",
      "Wow...OK. So, after reading the little feud on here, I decided I had to see this movie for myself. This movie is HORRIBLE. I stopped watching it. I strongly recommend cleaning a closet instead of watching this movie, you'll be more spooked/entertained.<br /><br />It's low budget with bad acting.<br /><br />Whoever is giving this movie 10s is completely incorrect and should be disregarded.<br /><br />I am in no way connected to any of the other reviewers.<br /><br />Simply put, this movie is not worth watching.<br /><br />Very, very BAD MOVIE.\n",
      "* * * * * * * * * \n",
      "15302\n",
      "Just once I'd like to see a version of Beowulf where it appears the screenwriters have at least a passing familiarity with the original poem. Yet again, after watching this Sci Fi presentation, I'm disappointed. <br /><br />I'm not suggesting the writers need to understand and analyze the poem in Old English, but I wish they could at least try to read a translation in modern English and attempt to construct a story based on what actually transpires. The story is exciting enough; why add plot elements that are non-existent and ruin the story? What's wrong with being faithful to the text? <br /><br />Grendel is immune to weapons of any kind; why introduce some super-crossbow that is unbelievable and could not have possibly existed in this time period (as correctly pointed out by the previous reviewer)? The fight with Grendel was Beowulf vs. Grendel. That's it. No one else took part in the battle. The only way Beowulf could have defeated him was by choosing specifically to engage the monster without any weapons, the mistake made by all previous challengers. Yet, in this version, Danes and Geats fight the beast and Beowulf hacks off Grendel's arm with a sword! Again, why couldn't they portray what really happened? Personally, I think a one-on-one grappling match between the two would be much more exciting. <br /><br />Overall, this is a pathetic and abysmal depiction that is faithless to the true tale. Why add in a pact with Hrothgar and Grendel's mother that includes sacrificial offering? Why create extra characters, like Finn, that add nothing to the story? There was no love story in the poem. They couldn't even set the scenes in the appropriate locations (a forest instead of the swamp and no lair under the lake). They fail to notice the metaphor that Grendel's lair signifies  it's supposed to be underground to represent hell. Why not instead center on the symbolism inherent in the epic poem? Even my high school students last year were able to do immensely better when they created a short film based on Beowulf, since they focused on the themes and symbolism underlying the story. If Hollywood could create a film that centers on these elements and is faithful to the plot, then that would be a truly great movie.\n",
      "* * * * * * * * * \n",
      "15408\n",
      "I am not from America and I know what 'Wife Swap' is. When a show came out of that name I was thrilled to see some cool glamorized sexual moments from the program. But what I got was a real sucking stupidity. I was misjudged by its title name, it has no adult contents, no nudity, not even vulgar dialogues (broad casted threw Hallmark channel and I think they edited/mute out such contents to make it neat).<br /><br />A show which gives a picture of current American/western family state, overweight chubby peoples, polluted teenagers, and their sucking family goings. In each episode two wives/two mothers (more correctly) were chosen to live in each others home and re-changes each others family routine with their new own rule. Sometimes its turns out to be good or more evenly bad. On the ending section each mothers are brought back with their husband and try to conclude what they did to each families past days. It's the sucking portion of the program were each contenders fights for their rights. I was sucked to see all of these instead of seeing some cool adult sex stuff. I mean who make this program, more than that who gave the name \\Wife Swap\\\"; its better to be called as \\\"Mother Swap\\\". All in all it corrupts all the great things the real Wife Swap stands for! <br /><br />Wife Swap = Average Sucking Reality Show.\"\n",
      "* * * * * * * * * \n",
      "15429\n",
      "I am very sorry to say this but \\Thunderbirds\\\" does not even come up with a loud pop, never mind any thunder. At one stage I gave serious consideration to walking out of the cinema, I stayed in the forlorn hope that the film might improve. I was to be disappointed, it did not get any better, it got worse if that is at all possible. Had I gone to see the film with the thought that it was going to be a \\\"spoof\\\" I would still have been let down. They had an excellent opportunity to make a great franchise of films here, they have totally wasted that opportunity. Bill Paxton and Sir Ben Kingsley should be embarrassed to have there names attached to this film and Jonathan Frakes well what can I say, he should be embarrassed and ashamed would not be to far from the truth. I saw this film at a pre-release showing, I had been waiting to see it most eagerly, having grown up in the sixties with the original shows. To say I was disappointed would be something of an understatement. One final thing I will say about the film was the puppets in the TV shows were just a bit more wooden than where the actors in the film.\"\n",
      "* * * * * * * * * \n",
      "15457\n",
      "I normally only write reviews for movies I really hated or really liked. And, as you can probably tell from the number of stars up there, I didn't like it. By now, I assume you have read about the plot or maybe even seen the movie, so I'll skip the summary. Let's break this down, pros and cons:<br /><br />Cons: The concept: The premise was set up to be interesting. Using Chaos theory as a theme was interesting. However, it wasn't carried out so well. Correct me if I'm wrong, but it seems to me that Chaos theory was kind of misrepresented. The event that occurred in the movie seemed more like contrived coincidence than anything. I guess the Butterfly effect was represented by the whole \\God(s) causes Tsunami to bring back statue.\\\" The presentation comes off as really sloppy though. Some people call this intelligent, but it just seems to be another souped up action film.<br /><br />Storyline: Is it just me, or does it seem that Kamal just threw this together to give him an excuse to play ten roles? The plot is extremely contrived; Govind kept losing the vial so many times in obscure accidents (his friend just happens to mix up the vial with a package he was sending to India, a crazy old lady just happens to throw the vial into an idol, half the cast just happens to unexpectedly meet up in the same hospital, and the case with the idol just happened to get mixed up with one that belonged to a famous singer.)<br /><br />CGI: Oh god, the CGI. It was even worse than the special effects in Jaws 3, and those sucked. Right away, I could tell which parts were animated. Even my ten-year-old cousin knows that underwater cars don't look like that. <br /><br />Stunts: Yes, I now that action scenes in Tamil movies aren't realistic, but the stunts in this one were horrid and actually distracted me from the story.<br /><br />Make up: I have to admit, they did a better job than expected. I thought Kamal would be playing people with similar skin tones, so the two fake white guys and the fake Japanese Aikido guy caught me off guard. However, it was still pretty bad, I could easily tell which ones were wearing masks.<br /><br />The songs: The music was distracting and out-of-place in many instances.<br /><br />Asin: Her character was possibly the most annoying one in the movie. She was loud, ditsy, and obsessed irrationally about that idol. I actually found myself wishing she would die.<br /><br />Plot holes and Fridge Logic: Let me get this straight: a lab monkey was smart enough to get past a password-locked door, but not intelligent enough to tell the difference between a bar of chocolate and a vial with a deadly virus in it. And then, an ex-CIA agent who's after the vial figures out it's headed for India. Instead of immediately following it, he marries a pole dancer first. A famous Punjabi singer with cancer checks into a small town hospital in the third world when he could easily afford the best medical treatment available. Furthermore, he gets shot in the throat with a bullet. You'd think he would be killed, but instead, the magic bullet has cleared his tumor. You read that right, a BULLET knocked out the tumor. <br /><br />Pros... The Naidu Character: Possibly the only likable part of the movie was his comedy.\"\n",
      "* * * * * * * * * \n",
      "15472\n",
      "Six for the price of one! So it is a bonanza time for Cinegoers. Isn't it? Here it is not one, not two but all SIX-love stories, an ensemble cast of top stars of bollywood, plus all stories in the genre of your favorite top directors Johar, Bhansali, Chopra et al. You will get to see every damn type of love story that you enjoyed or rather tolerated for years now. So no big deal for you. Do you need anything more than this? No sir, thank you. Why sir? Enough is enough. Please spare us. They signed every top star that they manage to sign, whether required or not, so they end up making a circus of stars, believe it or not. Too crowded Every thing depicted here is exactly how it is prescribed in bollywood textbook of romances. Plus you have to justify the length given to each story, as each has stars. Therefore, it is too long-three hours plus. The gags are filmy. Characters are filmy. Problems, Barriers, situations, resolution ",
      " yes you guessed it right, again",
      ". filmy-tried and tested. Same hundreds of dancers dancing in colorful costumes in background. Why they have no other work to do? All couples are sugary-sweet, fairy tale type, Picture perfect. All are good looking. Each story beginning in a perfect way and therefore should ends also in that impossible perfect manner? Too haphazard. You can't connect to a single story. Here you have everything that you already seen a million times. Bloody fake, unreal, escapist abnormal stories considered normal for more than hundred years since evolution of this Indian cinema. What a mockery of sensibilities of today's audience? Yes it could have worked as a parody if he just paid tribute to love-stories of yesteryear but alas even that thing is not explored. At least, Director Nikhil Advani should have attempted one unconventional, offbeat love story but then what will happen to the tradition of living up to the mark of commercial bollwood potboiler brigade? Oh! Somebody has to carry on, no. Imagine on one hand audience finds it difficult to sit through one such love story and here we have six times the pain. I mean six damn stories. I mean double the fun of chopra's Mohabbatein (Year 2000) In this age and time, get something real, guys. We are now desperate to see some not so colorful people and not so bright stories Oh, What have you said just now- come on, that is entertainment. My advice, please don't waste your time henceforth reading such reviews. Go instead, have some more such entertainment! Thank you.\n",
      "* * * * * * * * * \n",
      "15505\n",
      "My wife and I started to watch this movie with anticipation. It looked warm and touching. It started out well; but, soon became boring and frankly idiotic after a while. It got so bad that we turned it off The movie was poorly acted and honesty, we couldn't really understand or wanted to understand what exactly why or how the hell they could put up with this woman! You lost sympathy for her after she was rude and acting wackos singing and cleaning. I would have had her committed. And, of course, like most movies and T.V series made in Hollywood we have to throw it a token \\gay\\\" character! This movie was boring. I was expecting more from Diane Keaton!\"\n",
      "* * * * * * * * * \n",
      "15594\n",
      "I'm not usually one to slate a film . I try to see the good points and not focus on the bad ones, but in this case, there are almost no good points. In my opinion, if you're going to make something that bad, why bother? Part of the film is take up with shots of Anne's face while she breaths deeply, and violin music plays in the background. the other part is filled with poor and wooden acting. Rupert Penry Jones is expressionless. Jennifer Higham plays Anne's younger sister with modern mannerisms. Anne is portrayed as being meek and self effacing, which is fine at the beginning, but she stays the same all through the film, and you see no reason for captain Wentworth to fall in love with her. Overall the production lacks any sense of period, with too many mistakes to be overlooked, such as running out of the concert, kissing in the street, running about in the streets with no hat on (why was this scene in the film at all? the scene in the book was one of the most romantic scenes written.). To sum it up, a terrible film, very disappointing.\n",
      "* * * * * * * * * \n",
      "15607\n",
      "A call-girl witnesses a murder and becomes the killer's next target. Director Brian De Palma is really on a pretentious roll here: his camera swoops around corners in a museum (after lingering a long time over a painting of an ape), divvies up into split screen for arty purposes, practically gives away his plot with a sequence (again in split screen) where two characters are both watching a TV program about transsexuals, and stages his (first) finale during a thunderous rainstorm. \\Dressed To Kill\\\" is exhausting, primarily because it asks us to swallow so much and gives back nothing substantial. Much of the acting (with the exception of young Keith Gordon) is mediocre and the (second) finale is a rip-off of De Palma's own \\\"Carrie\\\"--not to mention \\\"Psycho\\\". The explanation of the dirty deeds plays like a spoof of Hitchcock, not an homage. Stylish in a steely cold way, the end results are distinctly half-baked. ** from ****\"\n",
      "* * * * * * * * * \n",
      "15620\n",
      "Who ever wrote the two or three glowing reviews were either involved in the making of this film, term used loosely, or bank rolling it, and should the latter be the case, I would want my seven dollars back! The actors, again term used loosely, are awful, in fact almost none of them did anything ever again which is a relief. The scenery and everything about this screams, we had 7 dollars to work with and a day to do it in. Was this filmed in someones back yard? Everything about this project says, low budget. The actors at best were D list. Do not waste your time, unless of course you want to take it back and try to get the rental back. The lead bad guy looks like that punk from the 70s show that ended up marrying his grandmother dummee moore. My local blockbuster video store lists this as the movie most returned with sad commentary attached. Even as a 99 cent rental this flick gathers dust. Someone really must have owed some favors. This is a super stinker and I give it 10 turds.\n",
      "* * * * * * * * * \n",
      "15824\n",
      "Caught this by accident on a t.v. showing - and could hardly believe how utterly awful the whole experience was. By comparison, the original \\A Man Called Horse\\\" was spell-binding because it held one's interest throughout. But this piece of nonsense - words fail me. It was bad enough to have some kind of a \\\"story\\\" presented with all the impact of a wet loaf of bread, but that error was compounded by the obvious lack of subtitles throughout whenever the so-called \\\"Sioux\\\" spoke. For goodness sake, couldn't the film-makers have found enough North American Indians who were also actors and near-actors to perform as \\\"Indians\\\" in this farrago instead of the imposters they actually used? I also found it quite embarrassing watching Richard Harris cavorting all around the countryside at the obvious behest of the director standing just behind camera, telling him to run and jump from pointless Point A to pointless Point B just to make up film footage and minutes. Absolutely terrible in all respects!\"\n",
      "* * * * * * * * * \n",
      "16142\n",
      "The movie has only one flaw, unfortunately this flaw damages all credibility of the piece.<br /><br />It starts with the condemnation of the Israeli occupation of disputed territories. It fails to address the reason Israelis are there. Egypt, Syria, Iraq and Jordan attacked Israel. This is why Israel \\occupys\\\" their land, because those countries lost it in a war they started.<br /><br />The film also claims that Israel has defied the U N by not complying with Resolution 242. Problem is, 242 was rejected immediately upon it's inception by.....the palestinians, making it void.<br /><br />Many films are put together well, and can really show footage that changes minds, but remember, when watching anything, believe none of what you hear, and only half of what you see.<br /><br />All participants in this film are known critics of Israel, and some have made many antisemitic public comments, removing any possible credibility to their words.<br /><br />All participants are in dire need of a actual history lesson taught objectively, not by some palestinian sympathizer.\"\n",
      "* * * * * * * * * \n",
      "16143\n",
      "The Rookie suffers from so much. There are the random musical songs interspersed through the movie, the long pointless script and enough grating slapstick to make Jerry Lewis blush. Noonan and Leavitt just don't know when to quit. It takes a full hour before the story finally gets to the main plot and the characters are shipwrecked. Then the guys start playing Japanese sailors with the standard racist caricature of the day. It is a shame the funniest parts of the movie are when Noonan and Leavitt are playing the stupid, stereotyped Japanese guys. But, it gets pretty tiring after switching back and forth between two sets of characters. Then it just abruptly ends. Even a naked Julie Newmar in a towel can't save this one.<br /><br />There is really little charm in the movie and it is over a half hour too long. The story just flounders along trying to set up funny situations and failing. Stick to Martin & Lewis. At least Deano had charm and Jerry had that animated face.\n",
      "* * * * * * * * * \n",
      "16206\n",
      "102 DALMATIANS [Walt Disney]: I wasn't a fan of the previous installment and this effort has all the weaknesses of the first, a silly padded storyline, terrible over acting by Glenn Close, who hams up every scene as though she's playing for her own amusement, and incredibly borring and uninteresting lead actors. Once more the dogs are the only \\actors\\\" that seem \\\"real\\\" and thats a stretch. Another wasted effort here. GRADE: D\"\n",
      "* * * * * * * * * \n",
      "16581\n",
      "Brides are dying at the altar and their corpses are vanishing. No one knows why or who, but an investigative reporter (Luana Walters) notes that each bride was wearing a strange orchid and she goes to interview its creator, Dr. Lorenz (Bela Lugosi). Now Dr. Lorenz is a mad scientist with some strange habits, including sleeping in coffins and injecting his elderly wife (Elizabeth Russell) with the fluid of young brides to keep her young.<br /><br />The Corpse Vanishes has an interesting premise and a short enough run time that it shouldn't be able to get boring. Unfortunately, while it starts off quite well, it does start to drag before the halfway point and gets rather boring with its clichés and predictable plot.<br /><br />There are some good things about it-Bela Lugosi is charming and evil and performs brilliantly; Elizabeth Russell is also a beautiful, suave, aloof and very creepy countess; and I'm always a fan of Angelo Rossitto. Luana Walters is also convincing as the reporter here.<br /><br />It maintains a bit of a Gothic atmosphere and the sets are decent.<br /><br />But overall, it just didn't manage to hold my interest through the whole picture, and for that, I have to rate it poorly.\n",
      "* * * * * * * * * \n",
      "16711\n",
      "The opening shot was the best thing about this movie, because it gave you hope that you would be seeing a passionate, well-crafted independent film. Damn that opening shot for filling me hope. As the \\film\\\" progressed in a slow, plodding manner, my thoughts were varied in relation to this \\\"film\\\": Was there too much butter in my popcorn? Did the actors have to PAY the director to be in this \\\"film\\\"? Did I get my ticket validated at the Box Office? Yes, dear reader. I saw this film in the Theatre! This would be the only exception I will make about seeing a film at home over a Movie Theatre, because at home you can TURN IT OFF. Were there any redeeming values? Peter Lemongelli as the standard college \\\"nerd\\\" had his moments, especially in a dog collar. Other than that this \\\"film\\\" went from trying to be a comedy, to a family drama to a spiritual uplifter. It succeeded on none of these fronts. Oh, and the girlfriend was realllllllllly bad. Her performance was the only comedy I found.\"\n",
      "* * * * * * * * * \n",
      "16716\n",
      "This movie makes me think the others I've seen with Combs were an accident. The plot had more holes than I think I've ever seen in a movie purporting to be something more than a \\b\\\" movie. The acting was so laughable that not even the memories of Combs' past campy triumphs were enough to save it. Considering the script I have to imagine that there was not enough money in the budget for things like continuity and original ideas. I am thoroughly upset that I paid Blockbuster prices for this trash. The fact that it was made for television was something that would have helped me avoid this atrocity and frankly something that movies this poor should be required to warn you of. Avoid this movie no matter what.\"\n",
      "* * * * * * * * * \n",
      "16830\n",
      "Wow. This movie bored the pants off me when I saw it. Bland, pointless and unmoving.<br /><br />Apparently, Ash and co. can travel through time with the help of \\The Spirit of the Forest\\\" ('Princess Mononoke' much??) There, they meet a dorky kid named Sam, and the \\\"plot\\\" begins.<br /><br />So Tom (Ash) and Huck (Sam) get high with nature, become hippies and try to free Celebi (the \\\"Spirit\\\") from some weirdo hunter guy. I don't even know what else went on. It all went by in a blur. Ash's friends were hardly in it, and all the fight scenes were boring.<br /><br />After saving the day, Ash and his infamous friends, must return to their time, while watching Sam float away with Celebi (that scene was just creepy. O-O;) Then, after returning to their time, Ash learns that his new friend is actually his rival's grandpa. And I think that's it. Pretty retarded isn't it? If you love your children, you won't expose them to this. (1 out of 10.)\"\n",
      "* * * * * * * * * \n",
      "16906\n",
      "SLASHERS (2 outta 5 stars)<br /><br />Not really a very good movie... but I did like the idea behind it... and the the filmmakers did make it look pretty good considering the tiny budget they had to work with. The movie is ostensibly an \\episode\\\" of a live Japanese reality show that sends several contestants into a sealed off \\\"danger zone\\\" and has three costumed creeps sent after to them to kill them. The survivor, if there is one, wins fame and fortune... everyone else just winds up dead. The main drawback to this movie is that the acting is pretty bad. None of the \\\"real\\\" people seem real at all. The actors playing the killers are kind of fun... because they are portraying cheesy and over-the-top caricatures of popular modern horror movie types... and that's exactly how they would be done if this was an actual show. The movie pretends to be done all in one take... there is one cameraman who follows the contestants around the \\\"danger zone\\\" and everything is seen from the point of view of his camera... but the lights keep flickering on and off constantly (to hide the \\\"cuts\\\" from one take to another, I would imagine).\"\n",
      "* * * * * * * * * \n",
      "16956\n",
      "I read the reviews of this movie, and they were generally pretty good so I thought I should see it. I'm a big Francophile and art film lover, but I believe this is yet another case in which the critics make something \\arty\\\" or \\\"intellectual\\\" into something it is not. I will be blunt: it contains scenes of sexual perverseness that I never, ever wanted to actually see. Obviously, the piano teacher has some major psychological issues, but I really did not want to see them displayed so graphically. The film is, in essence, disgusting. I mean, when I saw Requiem for a Dream, I was repulsed by the last sort of scene with Jennifer Connelly, but that was not anywhere near the sort of disgust and repulsion I felt during this film.\"\n",
      "* * * * * * * * * \n",
      "17036\n",
      "So much is wrong with this abysmal little wet fart of a movie that it's hard to know where to begin.<br /><br />First of all, it's a remarkably un-scary scary movie, even by Amercian standards. The dialogue is cliché, the characters are two-dimensional, the writing is ho-hum, and what little story there is is neither coherent nor remotely interesting.<br /><br />We meet the following stereotypes in order: Balding Loser Guy (probably divorced, but who knows? This movie doesn't tell us) with a brave heart, the Young Hero (who doesn't do anything heroic at all), Brave Little Kid (with a homicidal streak a mile wide) and Black Bad-Ass Bitch (with more brawn than brains). These guys take up an ongoing fight with the Tall Scary Reaper Man and his evil Ewoks.<br /><br />Oh, and the film is full of wicked little metal orbs whoosing around menacing people. Given a chance, they perform impromptu brain surgery on those who doen't have the mental acuity to duck when they come at them. Booh! Actually, one of them is haunted by a good ghost (but then again, it might be a deceitful spectre) who seems intent on helping our Brave Contagonists retrieve their young kidnapped friend.<br /><br />There is no character background or even an introduction to any of the characters. It starts with some kind of recap of the ending of the previous movie, but this doesn't explain a lot. If you've seen the first two movies, fine. Otherwise you don't know who these people are, how they are related, why they aren't in school or at work, or why you should care whether they live or die. Consequently, you don't. The only point of interest becomes any splatter effects. And there aren't enough of those to keep you awake.<br /><br />Of potenial interest/amusement are the three Raider Punks, as stupid as they are evil, who menace Our Heroes. But they don't get much screen time. They are offed almost immediately. Then they are buried (why anybody should take the time is beyond me), then they appear again as Evil Raider Punk Zombies. Only to be offed again, literally within a minute.<br /><br />The rest of the movie mainly seems to consist of Caspar the Friendly Ghost appearing and disappearing, driving around looking for places, and Balding Loser trying to score som Bad Black Bitch Booty, using pickup lines that would embarrass a mentally retarded teenager. No dice there; not even some gratuitous sex could have saved this movie, so good thing there never is any.<br /><br />The head baddie, called the Tall Man, doesn't manage to scare anyone older than 3 years; howling \\Booooy!\\\" every five minutes isn't enough. Why he, with his amazing telekinetic powers and uncanny upper-body strength, doesn't simply squash our heroes like bugs isn't explained. Instead, he delegates the job to his inept retarded little minions, who never manage to kill anyone before being shot to hell.<br /><br />Filmgoers who like masterpieces like \\\"Friday 13th part XXXXVIII: Jason goes to college\\\" might find some entertainment. The rest of us, who have developed pubic hair, will be bored out of our skulls.\"\n",
      "* * * * * * * * * \n",
      "17097\n",
      "Maybe I've seen one too many crime flick, or maybe I don't take the right drugs.<br /><br />This was the most cliché ridden, plot deficient, plot-absurd, just plain stupid movie I have seen in a long time.<br /><br />As for the direction, it looks like it took less time to show this than it did to put it together.<br /><br />In fact it looks like to made it straight to video before it was completed.<br /><br />It's a bad rip off of \\M\\\" the classic Fritz Lang film starring Peter Lorre. You'd be SO much better off renting that instead.\"\n",
      "* * * * * * * * * \n",
      "17189\n",
      "For all of the hype about this film, I kept an open mind as to what I would ultimately think. And, although a bit slow at times, the first 90% of the movie is quite good, with more than a few \\old time\\\" scares that make one jumpy and unsettled. I actually thought the cinematography was excellent regarding many of these scenes. Where Dark Remains fails, however, is in its climax. The ending of the film and the denouement are what seems to be MILES APART from its body. The storyline completely falls on its face with an illogical conclusion and, the answer I was seeking most - what REALLY happened to Emma? - was not elucidated upon! The rationale for the negative energy was ludicrous at best, and in the end, I felt very cheated. What could have been a superb horror film was ultimately haunted by a terrible ending.\"\n",
      "* * * * * * * * * \n",
      "17262\n",
      "This is the prime example of low budget, winning over what would be a good story line. Let's bring back Samaire Armstrong (having seen her work on the O.C. I know she can do better), then find a better script and budget.<br /><br />The special effects were so bad, and mostly badly computer generated, that it almost lost me with the first time the wolf was seen on-screen. And Samaire Armstrong's (alert!)changing into a werewolf was done by reducing her at first to a bad GCIF figure before she even begins to change(Final Fantasy's humans, as well as Pixar's made these laughable, think of the figure as a nude Barbie Doll).<br /><br />The story of was interesting, though the idea of bloodline in werewolves is nothing new. As it also got into the balance between evil, (maybe) not so evil, and the possible end of human-kind should the two lines mate. The subplot of a \\book of werewolf linage\\\" which effected some of the other characters in a spell-like manner for a while was effective, but could have been expanded more in explaining what had happened in the past. <br /><br />Bring in a better script and direction, and I'd come back again.\"\n",
      "* * * * * * * * * \n"
     ]
    },
    {
     "name": "stdout",
     "output_type": "stream",
     "text": [
      "18264\n",
      "Some fraud girl tries to compete in the big leagues of motorcross by swiching places with her brother. She gets to the top by lying and manipulation. She should have been disqualified. The movie promotes lying and cheating to win. also the idea of a 9 yr old mechanic is absurd. it takes many many years to get good. Go back to the tonka toys.\n",
      "* * * * * * * * * \n",
      "18276\n",
      "I love special effects and witnessing new technologies that make science fiction seem real. The special effects of this movie are very good. I have seen most of this movie, since it's been airing on HBO for the past couple of months. I must admit, I MAY have missed a few scenes, but I'm usually drawn into movies, and have seen some scenes more than once. But every time I see some of \\Hollow Man,\\\" I feel depressed, almost like a \\\"film noir.\\\" I'm not sure why; perhaps it's that I don't want Kevin Bacon to be evil, and there's disappointment in that. But I think it's witnessing just HOW relentlessly evil he becomes. Regardless, I can recommend this movie for excitement (although some parts move slowly), but I do NOT recommend for youngsters under the age of 14 (perhaps 12, if they are mature).\"\n",
      "* * * * * * * * * \n",
      "18389\n",
      "Greg Davis and Bryan Daly take some crazed statements by a terrorists, add some commentary by a bunch of uber-right reactionaries, ascribe the most extreme positions of the most fundamentalist Moslems on the planet to everyone who calls themselves a Moslem, and presents this as the theology of Islam. Maybe their next film will involve interviewing Fred Phelps and the congregation of the Westboro Baptist Church, adding commentary by some militant atheist \\scholars, and call their film \\\"What the World Needs to Know About Christianity.\\\" Ultimately, this film suffers from both poor production values and lack of attention to the most basic standards of journalism. Don't waste your time and money; just turn on your AM radio and listen to Rush Limbaugh for a couple of days for free and you'll get the same message with the same level of intellectual analysis.\"\n",
      "* * * * * * * * * \n",
      "18410\n",
      "I bought this DVD for £1 and now i realise why. The acting was the worst I've seen in a long time. The lighting and sound are shoddy at best. The plot makes little sense even when sober (WARNING: I don't advise watching this film when sober.) This film feels like you're watching the home movie of someone who doesn't get out much. It really is a shame that all the very little money spent on this project went to such a waste, I look forward to seeing if any of those envoled still have a career, other than eva longoria who is the only \\star\\\" of this film that was apparently not hit with the bad acting stick. I'm sorry that none of this criticism seems constructive but I will say one thing to James Cahill, don't try it again. In the words of squirlyem \\\"Its severely lacking in the good department\\\".\"\n",
      "* * * * * * * * * \n",
      "18490\n",
      "The coming attractions to \\The Order\\\" make it seem like a decent horror mystery/thriller, but what we get is a plot that has potential to be excellent all thrown together to form a pile of garbage.<br /><br />First off the whole movie consists of terrible dialogue and god awful special affects. The acting was also nothing to be proud of, but Keath Ledger (I think I spelled that right.) saved the movie in this category.<br /><br />For heaven's sake: DON'T SEE THIS MOVIE!\"\n",
      "* * * * * * * * * \n",
      "18662\n",
      "Horrible film. About an old crusty painter who hangs around with a young girl. Boring. Tatum O Neil goes through the motions in her part, and has some of the corniest lines in film history. Richard Burton looks close to death in this film, and we're supposed to believe he looks \\Good for sixty\\\". The acting is bad, as is the plot. The characters are awful, as is the story. It's really hard to feel for anyone in this film, except Larry Ewashen who plays a guy in a porno theater who hits on Tatum, he's kind of funny. This movie is really a waste of time. If you are a Tatum fan, like me - which is why I rented it in the first place - please don't see this movie. She is really bad in it, and you'll wonder if maybe PAPER MOON was a fluke. It wasn't, because of BAD NEWS BEARS and LITTLE DARLINGS it's known she can act well, but still, don't rent this movie. And if you're a fan of Burton, rent something when he was good looking, and not a fossil.\"\n",
      "* * * * * * * * * \n",
      "18664\n",
      "you have a strong stomach. Holden was actually 55 years old at filming but looked near 70 and he only lived another 8 years. At one point Holden said, \\I am over twice your age.\\\" Okay, try triple grandpa! The \\\"old enough to be your father\\\" theme they were shooting for didn't work. Granted senior citizens sometimes wind up with legal teens. More power to them, but that doesn't mean I want to watch it. It's not a matter of judgment but the digestive track. I like my food where it belongs. Lenz is fun to watch and the 70s cars, clothes, furniture, etc. make it worth it if it comes on cable late at night and you want to watch something to wind down for bed. It would have been nice to see the blonde friend of Lenz, the one who hocked her guitar, get more scenes. Pleasingly spacey... Who was this chick? I'm going to try and find out.\"\n",
      "* * * * * * * * * \n",
      "18723\n",
      "Watching Smother was perhaps the longest not-quite-90-minutes of my life. There wasn't a laugh to be had; in fact, I don't remember ever cracking a smile. Diane Keaton was horridly unfunny as a middle-aged chain-smoking dog hoarder, the textbook overbearing mother character, a relentlessly irritating woman who clearly suffers from some kind of personality disorder. She is manipulative, conniving, melodramatic, childish, narcissistic, and worst of all, boring.<br /><br />I suppose I should briefly mention the other characters, but why bother? It was just a long string of movie clichés--the dippy, socially inept distant relative who's just trying to break into \\The Industry\\\", the gruff and long-suffering but somehow still lovable father, the mild- mannered wife who just can't take it anymore (but eventually moves beyond the discord and resignedly comes home), the herd of unhousebroken dogs who like to chew throw pillows while everyone is away, etc.<br /><br />God, what a snore. I've never been a Diane Keaton fan and Smother only reminded me why. Overacting is overacting, no matter how many pictures you did in your prime. Her attempts at physical comedy were especially humiliating. What was the director thinking?<br /><br />While I like Dax Shepard and can even sometimes tolerate Liv Tyler, their performances were so lackluster and dull that it was clear that neither actor gave a damn about this movie. That was okay, because neither did I. Keaton's endless self-absorbed prattling was intolerable and at times Shepard's dislike for her seemed genuine. By the end of the movie I wanted to slap her myself.<br /><br />Awful.\"\n",
      "* * * * * * * * * \n",
      "18962\n",
      "May I start off by saying that Casey Affleck is a very talented actor and I respect his work very much. I wish he was in more movies that showcased his talent. With this said, Soul Survivors was a very, very bad movie. Very bad.<br /><br />I would have to say that I lay almost all the blame on the poor script. Affleck is a very talented actress, Wes Bentley had an outstanding performance in American Beauty, Melissa Sagemiller did well, and Eliza Dushku is currently the it girl in Hollywood. I don't think any of the actors really got into the script, and I understand why. To say that this movie belongs to the horror genre is an overstatement. It did have the twists and turns you would expect, but they just didn't lead anywhere... except to more confusion. I just found the ending very anti-climatic, because it just didn't seem to make any sense or really answer any of the questions that I had about the storyline.<br /><br />I wish I could give this movie a good review, but I can't. In all honesty, the only thing I think you will find scary about this movie is that you paid for it.\n",
      "* * * * * * * * * \n",
      "19055\n",
      "If I hadn't read his name on the DVD cover, I never would have suspected that this rather gushy and old fashioned musical was made by a man so closely associated with the French New Wave. In fact, the film is so far from that, that I wonder if back in the 50s and 60s, New Wave auteurs would have absolutely hated this type of film--it's so...so...unreal. And, it seems to have little to do with so many of his previous films. This isn't necessarily a bad thing--just a very surprising thing.<br /><br />What I also found a bit surprising was the amount of praise some of the reviewers gave this film--especially when there are so many better French musicals out there. The songs in this film were simply not particularly interesting and the characters all seemed so bland and stereotypical. If I had to see another rich person who fretted about how hard it is to be rich or get a good sale price on a designer outfit, I was going to puke.<br /><br />The bottom line is that like American musicals, not every French musical is gold. This film is not another \\Les parapluies de Cherbourg\\\" (UMBRELLAS OF CHERBOURG or \\\"Huit Femmes\\\" (EIGHT WOMEN) and despite the presence of Audrey Tautou, I can't see much reason to recommend it as anything other than a dull oddity.\"\n",
      "* * * * * * * * * \n",
      "19101\n",
      "In the 60's, having as the background the rehearsal and recording of \\Sympathy for the Devil\\\" in the classic album \\\"Beggar's Banquet\\\" by the revolutionary bad boy Rolling Stones  Mick Jagger, Keith Richards, Charlie Watts, Bill Wyman and Brian Jones  plus Marianne Faithful, Godard discloses other contemporary revolutionary and ideological movements  the Black Power through the Black Panthers, the feminism, the communism, the fascism - entwined with the reading of a cheap pulp political novel divided in the chapters: \\\"The Stones Rolling; \\\"Outside Black Novel\\\"; \\\"Sight and Sound\\\"; \\\"All About Eve\\\"; \\\"The Heart of Occident\\\"; \\\"Inside Black Syntax\\\"; and, \\\"Under the Stones the Beach\\\".<br /><br />\\\"Sympathy for the Devil\\\" is another pretentious and boring mess of the uneven director Jean-Luc Godard. The narrative and the footages are awful, but fortunately I love the Stones and \\\"Sympathy for the Devil\\\" and it is nice to see them in the beginning of their careers; otherwise this documentary would be unbearable. My vote is three.<br /><br />Title (Brazil): \\\"Sympathy for the Devil\\\"\"\n",
      "* * * * * * * * * \n",
      "19142\n",
      "I will never forget the night I saw this movie. We were on a submarine on patrol in the North Atlantic and this was the scheduled movie of the evening. We ALL gave up after the second reel. They did not even try to show it at the mid-night showing. Opting for a rerun instead...... This is all I really have to say but they have this stupid rule that my comment must contain ten lines. I'm not supposed to pad the comment with random words so I will just continue to ramble until I get my ten lines of BS. I could not find George Goble listed in the credits but I remember him in the movie. The sining was terrible and the songs even worse.\n",
      "* * * * * * * * * \n",
      "19177\n",
      "Skippy from \\Family Ties\\\" plays Eddie, a wussy 'metal' nerd who gets picked on. When his favorite wussy 'metal' singer, Sammi Curr, dies, he throws a hissy fit tearing down all the posters on his bedroom wall. But when he later gets an unreleased record that holds the spirit of his dead 'metal' idol. He first gets sucked into ideas of revenge, but then he doesn't want to take it as far as Sammi does. Which isn't really that far as his main victims only seem to go to the hospital. This movie is utterly laughable and has about as much to do with real metal as say, \\\"Rock Star\\\". OK, maybe a tad more than that piece of junk, but you get my point. And how ANYone can root for a guy played by Skippy from \\\"Family Ties\\\" I haven't a clue. The cameo by Gene Simmons is OK, and Ozzy Osbourne reaches coherency, I applaud him for that, but otherwise skip this one.<br /><br />My Grade: D <br /><br />Eye Candy:Elise Richards gets topless, an a topless extra at a pool party\"\n",
      "* * * * * * * * * \n",
      "19198\n",
      "Ironic that Dr. Seuss' fable emphasizing the non-commercialization of Christmas should be one of the most hyped, marketed, and successful blockbusters of the holiday season. The general gist of Ron Howard's adaptation is that the Grinch's bane against Christmas stems from an early childhood incident and that the Whos themselves are caught up in the materialism of the season save for Cindy Lou Who (played very well by Taylor Momsen). This movie makes an ardent, ambitious attempt to capture the wackiness and sentiment of Seuss' story, but the end result is a movie that lurches and never quite packs the emotional punch of Chuck Jones' animated version. Jim Carrey is noteworthy in his performance as the devilish Grinch, but whether it's the dialogue, the pacing, or extraneous storylines heaped upon the initial plot, the transformation from bitter miser to gleeful benefactor just does not ignite convincingly. There are some wonderful visuals and the make-up work is amazing, yet beyond the technical triumphs there's an element or two here that's missing.<br /><br />Succinctness?<br /><br />Soul?<br /><br />Or maybe Jones did the initial adaptation all too well in his 25-minute cartoon that Howard falls short of in a movie that feels three hours long. Howard, Carey, and crew are all very capable and talented, but what would seem a winning combination is just weak and plodding in its final product. If you must see the feature-length version, rent it on video with Jones' animated version and you can see how bigger and glitzier is not always better. I give this film three cans of Who-Hash out of five.\n",
      "* * * * * * * * * \n",
      "19277\n",
      "I only lasted 15mins before self preservation jerked me out of the empty eyed drooling stupor that this film effortlessly induced and propelled me screaming back to the video shop armed for bear.<br /><br />To say the film was bad would be a missed opportunity to use words interspersed with characters from the top keys on my keyboard (just to keep these comments clean).<br /><br />One to be avoided.<br /><br />\n",
      "* * * * * * * * * \n",
      "19374\n",
      "Another horror flick in which a goof-ball teenager battles a madman and his supernatural sidekick who want to take over?! Yes, but the fact that this one was from Canada gives it a slightly different feel. \\The Brain\\\" has troublesome teenager Jim Majelewski getting put into a treatment whose leader turns out to be a cult leader aided by a big ugly \\\"brain\\\". Can Jim stop him? I guess that since our northern neighbor has accomplished all that they have accomplished, they're entitled to make at least one ridiculous horror movie. But still, they'll probably want to be known for having national health care and all.<br /><br />The bad guy had a brain. Why didn't the people who made this movie?\"\n",
      "* * * * * * * * * \n",
      "19381\n",
      "Where to start, this movie started badly and ended badly! It consists of extremely poor acting and unrealistic effects that had me cringing in my seat, seriously, my cat could have acted better than this lot.<br /><br />Some of it was actually laughable because it was so unbelievable, i would of rated this lower but they haven't got anything else! So, heed my warning and unless your so bored your close to suicide and would like a good reason to continue with your suicide mission, don't bother with this one. I'm still in shock that this could actually be released to the public, this should be a crime and all involved should be arrested. I gather you've got the gist by now so i'll leave it up to you to decide.\n",
      "* * * * * * * * * \n",
      "19397\n",
      "I have no idea what on earth, or beyond, could have possibly made Sam Mraovich believe that this would have been a worthy project to undertake. Ben & Arthur is one of the worst movies ever made. In fact, I see no reason why it should not be at #1 on the Bottom 100. For although I have not seen, for example, SuperBabies: Baby Geniuses 2 (#5 at the time of this publication), I would venture to guess that that film is considerably better than this oozing wound, because even in its vapid dismalness at least Baby Geniuses 2 was professionally made. By contrast, everything, and I do mean everything, in this film is completely unprofessional.<br /><br />The movie is intended to be an attack on the Christian Right's supposed bigotry and hatred toward gays. And I do emphasize \\intended.\\\" Not only does it completely and utterly fail at its purpose, it also leaves an ugly scar. Instead of creating a compelling and realistic portrait of a gay couple's struggle against a society that largely opposes them, it creates tired, crass stereotypes of each party involved. Ben and Arthur, the namesake couple, are portrayed as two crude, sex-starved, and hopelessly romantic cardboard cutouts who marry when the laws change to allow them to do so. This meets with the opposition of Ben's brother Victor, a Christian minister who, like all Christians (as this movie would have us believe), is loud, prying, stupid, and violent. He tries to kill Ben and Arthur after his associations with them get him kicked out of the ministry. Just like in real life. And if you think that's dreadful (it is), you haven't seen it all.<br /><br />The actors (?) here manage to completely destroy any vestige of credibility in this movie by saying their lines as if they were narrating a YouTube home comedy video. But not even Daniel Day-Lewis and Marlon Brando as the title characters could have saved this clunker, for there would still be the matter of the completely inane and laugh-inducing dialogue that fills every minute of the movie. Every scene has at least one awkward or misplaced quote. For example, in one scene, Victor tries to complain about not being able to have nieces or nephews because of his brother's homosexuality. But instead of portraying this idea clearly, he spits out the stupid, utterly confusing, whiny-sounding line, \\\"You know what, I'm never going to have any nieces or nephews, okay, because you're so F***ED UP!\\\"<br /><br />Even more glaring is the complete lack of production values. Yes, I know this ain't The Dark Knight, but even amateur film makers should know some basics about special effects and editing. For example, six dots of red cake dye do not suffice for realistic bullet wounds. People do not teleport across a room between takes. And objects do not fall FORWARD when shot! <br /><br />Do not waste your money on Ben & Arthur. I don't care if you're 7, 17, or 107. I don't care if you're gay, straight, bi, or undecided. I don't care if you're \\\"just curious.\\\" I don't care what pathetic reason you may have to be tempted to buy this dung-heap. Stay away, far away. This movie's only redeeming quality is its ability to be used as a Frisbee.\"\n",
      "* * * * * * * * * \n",
      "19483\n",
      "It really is that bad of a movie. My buddy rented it because he, well, is an idiot. But then again, I must be an idiot too because I watched the whole damn thing! The actors were on par with high school drama geeks who think that are going places. The only place they will be going is back to waiting tables at Luby's. All I could think of while I was watching this \\gem\\\" was how it actually got made. I mean, some \\\"screenwriter\\\" actually thought that this premise was fresh, original and lucrative. Then some moron with money believed in the script so much that he decided to fork some cash over with the naive misconception that he was going to make a return on it. Actors were cast, locations were scouted, make-up artists were hired, computer animators fresh out of Al Collins graphic Design School were brought in and this turd started to take form.<br /><br />There obviously were a ton of things that I hated about this move but the one thing the drove me the craziest was the overuse of music. Every single minute of this flick was scored. There was not a single break in music. And at times it was mixed higher than the dialogue, not that it made you miss some vital plot point or anything.<br /><br />After it was over, we decided to watch Mystic River. It was like driving a 1980 VW Diesel Rabbit then switching to a BMW 740il. You couldn't get two more opposite movies in terms of quality.\"\n",
      "* * * * * * * * * \n",
      "19510\n",
      "My friends usually can put up with a lot of hopeless movies but this one was too poor for us to even watch it to the end. It was just so boring and unoriginal. Not even the \\hot\\\" girls that starred in this movie could keep me watching. Everything was just predicable and annoying.<br /><br />The acting was at times good.....but more times bad. The most annoying character in the whole movie that you just wanted to die would have to be the main characters best friend. The more i saw him the more i wanted to smash my screen. (you know what fat ugly kid I'm talking about)<br /><br />The plot has been done so many times before i think they should be sued by other movie companies. OK, it is a good idea but thats all this movie had.<br /><br />Overall this movie can only be watched if by your self, to save any abuse from your friends. Or, if you have absolutely nothing better to do.\"\n",
      "* * * * * * * * * \n",
      "19880\n",
      "I got to see an early preview of this movie and I hope they have time to edit it in what ever way they can to improve on it before it comes out Aug 3rd. It stars Andy Samberg from Saturday Night Live as 'Hot' Rod Kimble. He's plays a teenager in a small town who wants to be a stunt man like his late father. When we meet him, he's jumping a mail truck on his mo-ped, yes, a mo-ped, and almost makes it. This would be worthy of a 'Jackass' movie if he wasn't honestly trying to do this. Isla Fisher plays the slightly older and much more mature girl-next-door, Denise. She seems to like Rod enough to join his 'crew'. Jorma Taccone (also SNL) plays his half brother, Kevin, who documents the stunts with a camcorder. Sissy Spacek plays Rod's mom, Marie. She remarried Frank Powell, played by Ian McShane. Frank's a real tough guy who enjoys beating Rod in some real drag out brawls. It's clear that Rod's not going to earn Frank's respect till he can beat him. We find out Frank needs a $50,000. heart transplant and Rod is determined to raise the money just so he 'can beat his ass' once he's healed, and prove himself a man. A long fall down a mountain side convinces Rod to 'go big' on one stunt. Rod sets out to get seed money by charging for doing stunts that would make you cringe if you saw them in real life. Like the human torch- at a children's birthday party. There were those at the showing who managed to laugh at most of the stunts. Just when all hope and money is lost, along comes a sponsor who saves the day by getting the 15 school buses Rod wants to jump. He gets exclusive broadcast rights and sets up phone lines to get donations. Rod gets a new outfit and a real motorcycle. The whole town turns out and the world tunes in. Does he make the jump? Does he get the girl? Do they raise the $50k? Does Frank get his ass beat by Rod? Wait till this 90 minute movie comes out on video to find out.\n",
      "* * * * * * * * * \n"
     ]
    }
   ],
   "source": [
    "# false positives\n",
    "\n",
    "print(\"Examples of false positives:\")\n",
    "\n",
    "import random, time\n",
    "\n",
    "for i in range(0, len(ols_predictions)):\n",
    "    if (ols_predictions[i] == 1):\n",
    "        if (X_raw_train.iloc[i]['sentiment'] == 0):\n",
    "            if (random.uniform(0, 1) < 0.05): # to print only 5% of the false positives\n",
    "                print(i)\n",
    "                print(X_raw_train.iloc[i]['review'])\n",
    "                print('* * * * * * * * * ')\n"
   ]
  },
  {
   "cell_type": "markdown",
   "metadata": {},
   "source": [
    "---\n",
    "\n",
    "# <span style=\"color:red\">WARNING: Don't look at test set performance too much!</span>\n",
    "\n",
    "---\n",
    "\n",
    "The following cells show performance on your test set. Do not look at this too often! "
   ]
  },
  {
   "cell_type": "markdown",
   "metadata": {},
   "source": [
    "# Look at performance on the test set"
   ]
  },
  {
   "cell_type": "markdown",
   "metadata": {},
   "source": [
    "### MODEL: ordinary least squares"
   ]
  },
  {
   "cell_type": "code",
   "execution_count": 107,
   "metadata": {},
   "outputs": [
    {
     "name": "stdout",
     "output_type": "stream",
     "text": [
      "{'Pos': 2543, 'Neg': 2457, 'TP': 1083, 'TN': 1507, 'FP': 950, 'FN': 1460, 'Accuracy': 0.518, 'Precision': 0.5327102803738317, 'Recall': 0.4258749508454581, 'desc': 'ols_test'}\n"
     ]
    }
   ],
   "source": [
    "ols_performance_test = BinaryClassificationPerformance(ols.predict(X_test), y_test, 'ols_test')\n",
    "ols_performance_test.compute_measures()\n",
    "print(ols_performance_test.performance_measures)"
   ]
  },
  {
   "cell_type": "markdown",
   "metadata": {},
   "source": [
    "### MODEL: SVM, linear"
   ]
  },
  {
   "cell_type": "code",
   "execution_count": 108,
   "metadata": {},
   "outputs": [
    {
     "name": "stdout",
     "output_type": "stream",
     "text": [
      "{'Pos': 2543, 'Neg': 2457, 'TP': 2159, 'TN': 2063, 'FP': 394, 'FN': 384, 'Accuracy': 0.8444, 'Precision': 0.8456717587152369, 'Recall': 0.8489972473456547, 'desc': 'svm_test'}\n"
     ]
    }
   ],
   "source": [
    "svm_performance_test = BinaryClassificationPerformance(svm.predict(X_test), y_test, 'svm_test')\n",
    "svm_performance_test.compute_measures()\n",
    "print(svm_performance_test.performance_measures)"
   ]
  },
  {
   "cell_type": "markdown",
   "metadata": {},
   "source": [
    "### MODEL: logistic regression"
   ]
  },
  {
   "cell_type": "code",
   "execution_count": 109,
   "metadata": {},
   "outputs": [
    {
     "name": "stdout",
     "output_type": "stream",
     "text": [
      "{'Pos': 2543, 'Neg': 2457, 'TP': 2137, 'TN': 2060, 'FP': 397, 'FN': 406, 'Accuracy': 0.8394, 'Precision': 0.8433307024467246, 'Recall': 0.8403460479748329, 'desc': 'lgs_test'}\n"
     ]
    }
   ],
   "source": [
    "lgs_performance_test = BinaryClassificationPerformance(lgs.predict(X_test), y_test, 'lgs_test')\n",
    "lgs_performance_test.compute_measures()\n",
    "print(lgs_performance_test.performance_measures)"
   ]
  },
  {
   "cell_type": "markdown",
   "metadata": {},
   "source": [
    "### MODEL: Naive Bayes"
   ]
  },
  {
   "cell_type": "code",
   "execution_count": 110,
   "metadata": {},
   "outputs": [
    {
     "name": "stdout",
     "output_type": "stream",
     "text": [
      "{'Pos': 2543, 'Neg': 2457, 'TP': 1913, 'TN': 1834, 'FP': 623, 'FN': 630, 'Accuracy': 0.7494, 'Precision': 0.7543375394321766, 'Recall': 0.7522611089264648, 'desc': 'nbs_test'}\n"
     ]
    }
   ],
   "source": [
    "nbs_performance_test = BinaryClassificationPerformance(nbs.predict(X_test), y_test, 'nbs_test')\n",
    "nbs_performance_test.compute_measures()\n",
    "print(nbs_performance_test.performance_measures)"
   ]
  },
  {
   "cell_type": "markdown",
   "metadata": {},
   "source": [
    "### MODEL: Perceptron"
   ]
  },
  {
   "cell_type": "code",
   "execution_count": 111,
   "metadata": {},
   "outputs": [
    {
     "name": "stdout",
     "output_type": "stream",
     "text": [
      "{'Pos': 2543, 'Neg': 2457, 'TP': 2181, 'TN': 2059, 'FP': 398, 'FN': 362, 'Accuracy': 0.848, 'Precision': 0.8456766188445134, 'Recall': 0.8576484467164766, 'desc': 'prc_test'}\n"
     ]
    }
   ],
   "source": [
    "prc_performance_test = BinaryClassificationPerformance(prc.predict(X_test), y_test, 'prc_test')\n",
    "prc_performance_test.compute_measures()\n",
    "print(prc_performance_test.performance_measures)"
   ]
  },
  {
   "cell_type": "markdown",
   "metadata": {},
   "source": [
    "### MODEL: Ridge Regression Classifier"
   ]
  },
  {
   "cell_type": "code",
   "execution_count": 133,
   "metadata": {},
   "outputs": [
    {
     "name": "stdout",
     "output_type": "stream",
     "text": [
      "{'Pos': 2543, 'Neg': 2457, 'TP': 2315, 'TN': 2175, 'FP': 282, 'FN': 228, 'Accuracy': 0.898, 'Precision': 0.8914131690412014, 'Recall': 0.9103421156114825, 'desc': 'rdg_test'}\n"
     ]
    }
   ],
   "source": [
    "rdg_performance_test = BinaryClassificationPerformance(rdg.predict(X_test), y_test, 'rdg_test')\n",
    "rdg_performance_test.compute_measures()\n",
    "print(rdg_performance_test.performance_measures)"
   ]
  },
  {
   "cell_type": "markdown",
   "metadata": {},
   "source": [
    "### MODEL: Random Forest Classifier"
   ]
  },
  {
   "cell_type": "code",
   "execution_count": 134,
   "metadata": {},
   "outputs": [
    {
     "name": "stdout",
     "output_type": "stream",
     "text": [
      "{'Pos': 2543, 'Neg': 2457, 'TP': 1885, 'TN': 1796, 'FP': 661, 'FN': 658, 'Accuracy': 0.7362, 'Precision': 0.7403770620581304, 'Recall': 0.7412504915454188, 'desc': 'rdf_test'}\n"
     ]
    }
   ],
   "source": [
    "rdf_performance_test = BinaryClassificationPerformance(rdf.predict(X_test), y_test, 'rdf_test')\n",
    "rdf_performance_test.compute_measures()\n",
    "print(rdf_performance_test.performance_measures)"
   ]
  },
  {
   "cell_type": "markdown",
   "metadata": {},
   "source": [
    "### ROC plot to compare performance of various models and fits"
   ]
  },
  {
   "cell_type": "code",
   "execution_count": 135,
   "metadata": {},
   "outputs": [
    {
     "data": {
      "image/png": "[encoded data removed]",
      "text/plain": [
       "<Figure size 432x288 with 1 Axes>"
      ]
     },
     "metadata": {
      "needs_background": "light"
     },
     "output_type": "display_data"
    }
   ],
   "source": [
    "fits = [ols_performance_test, svm_performance_test, lgs_performance_test, nbs_performance_test, prc_performance_test, rdg_performance_test, rdf_performance_test]\n",
    "\n",
    "for fit in fits:\n",
    "    plt.plot(fit.performance_measures['FP'] / fit.performance_measures['Neg'], \n",
    "             fit.performance_measures['TP'] / fit.performance_measures['Pos'], 'bo')\n",
    "    plt.text(fit.performance_measures['FP'] / fit.performance_measures['Neg'], \n",
    "             fit.performance_measures['TP'] / fit.performance_measures['Pos'], fit.desc)\n",
    "plt.axis([0, 1, 0, 1])\n",
    "plt.title('ROC plot: test set')\n",
    "plt.xlabel('False positive rate')\n",
    "plt.ylabel('True positive rate')\n",
    "plt.show()"
   ]
  },
  {
   "cell_type": "markdown",
   "metadata": {},
   "source": [
    "---\n",
    "\n",
    "# <span style=\"color:red\">SUBMISSION</span>\n",
    "\n",
    "---"
   ]
  },
  {
   "cell_type": "code",
   "execution_count": 115,
   "metadata": {},
   "outputs": [
    {
     "name": "stdout",
     "output_type": "stream",
     "text": [
      "movie_data is: <class 'pandas.core.frame.DataFrame'>\n",
      "movie_data has 25000 rows and 2 columns \n",
      "\n",
      "the data types for each of the columns in movie_data:\n",
      "id        object\n",
      "review    object\n",
      "dtype: object \n",
      "\n",
      "the first 10 rows in movie_data:\n",
      "         id                                             review\n",
      "0  12311_10  Naturally in a film who's main themes are of m...\n",
      "1    8348_2  This movie is a disaster within a disaster fil...\n",
      "2    5828_4  All in all, this is a movie for kids. We saw i...\n",
      "3    7186_2  Afraid of the Dark left me with the impression...\n",
      "4   12128_7  A very accurate depiction of small time mob li...\n",
      "Shape of HashingVectorizer X:\n",
      "(25000, 131072)\n",
      "Look at a few rows of the new quantitative features: \n",
      "   word_count  punc_count\n",
      "0         131           5\n",
      "1         169          15\n",
      "2         176          18\n",
      "3         112           5\n",
      "4         133           8\n",
      "5         331          20\n",
      "6         121          18\n",
      "7         230          22\n",
      "8          59           3\n",
      "9         224          14\n",
      "Size of combined bag of words and new quantitative variables matrix:\n",
      "(25000, 131074)\n",
      "(25000, 131074)\n",
      "Shape of X_test for submission:\n",
      "(25000, 131074)\n",
      "SUCCESS!\n",
      "Number of rows in the submission test set (should be 25,000): \n"
     ]
    }
   ],
   "source": [
    "# read in test data for submission\n",
    "# CHANGE FILE PATH and my_random_seed number (any integer other than 74 will do): \n",
    "raw_data, X_test_submission = process_raw_data(fn='moviereviews_test.tsv', my_random_seed=200, test=True)\n",
    "print(\"Number of rows in the submission test set (should be 25,000): \")"
   ]
  },
  {
   "cell_type": "markdown",
   "metadata": {},
   "source": [
    "---\n",
    "\n",
    "Choose a <span style=\"color:red\">*single*</span> model for your submission. In this code, I am choosing the Ordinary Least Squares model fit, which is in the `ols` object. But you should choose the model that is performing the best for you! "
   ]
  },
  {
   "cell_type": "code",
   "execution_count": 116,
   "metadata": {},
   "outputs": [
    {
     "name": "stdout",
     "output_type": "stream",
     "text": [
      "0.49628\n"
     ]
    }
   ],
   "source": [
    "# store the id from the raw data\n",
    "my_submission = pd.DataFrame(raw_data[\"id\"])\n",
    "# concatenate predictions to the id\n",
    "my_submission[\"prediction\"] = rdg.predict(X_test_submission)\n",
    "# look at the proportion of positive predictions\n",
    "print(my_submission['prediction'].mean())"
   ]
  },
  {
   "cell_type": "code",
   "execution_count": 117,
   "metadata": {},
   "outputs": [
    {
     "data": {
      "text/html": [
       "<div>\n",
       "<style scoped>\n",
       "    .dataframe tbody tr th:only-of-type {\n",
       "        vertical-align: middle;\n",
       "    }\n",
       "\n",
       "    .dataframe tbody tr th {\n",
       "        vertical-align: top;\n",
       "    }\n",
       "\n",
       "    .dataframe thead th {\n",
       "        text-align: right;\n",
       "    }\n",
       "</style>\n",
       "<table border=\"1\" class=\"dataframe\">\n",
       "  <thead>\n",
       "    <tr style=\"text-align: right;\">\n",
       "      <th></th>\n",
       "      <th>id</th>\n",
       "      <th>review</th>\n",
       "      <th>word_count</th>\n",
       "      <th>punc_count</th>\n",
       "    </tr>\n",
       "  </thead>\n",
       "  <tbody>\n",
       "    <tr>\n",
       "      <td>0</td>\n",
       "      <td>12311_10</td>\n",
       "      <td>Naturally in a film who's main themes are of m...</td>\n",
       "      <td>131</td>\n",
       "      <td>5</td>\n",
       "    </tr>\n",
       "    <tr>\n",
       "      <td>1</td>\n",
       "      <td>8348_2</td>\n",
       "      <td>This movie is a disaster within a disaster fil...</td>\n",
       "      <td>169</td>\n",
       "      <td>15</td>\n",
       "    </tr>\n",
       "    <tr>\n",
       "      <td>2</td>\n",
       "      <td>5828_4</td>\n",
       "      <td>All in all, this is a movie for kids. We saw i...</td>\n",
       "      <td>176</td>\n",
       "      <td>18</td>\n",
       "    </tr>\n",
       "    <tr>\n",
       "      <td>3</td>\n",
       "      <td>7186_2</td>\n",
       "      <td>Afraid of the Dark left me with the impression...</td>\n",
       "      <td>112</td>\n",
       "      <td>5</td>\n",
       "    </tr>\n",
       "    <tr>\n",
       "      <td>4</td>\n",
       "      <td>12128_7</td>\n",
       "      <td>A very accurate depiction of small time mob li...</td>\n",
       "      <td>133</td>\n",
       "      <td>8</td>\n",
       "    </tr>\n",
       "  </tbody>\n",
       "</table>\n",
       "</div>"
      ],
      "text/plain": [
       "         id                                             review  word_count  \\\n",
       "0  12311_10  Naturally in a film who's main themes are of m...         131   \n",
       "1    8348_2  This movie is a disaster within a disaster fil...         169   \n",
       "2    5828_4  All in all, this is a movie for kids. We saw i...         176   \n",
       "3    7186_2  Afraid of the Dark left me with the impression...         112   \n",
       "4   12128_7  A very accurate depiction of small time mob li...         133   \n",
       "\n",
       "   punc_count  \n",
       "0           5  \n",
       "1          15  \n",
       "2          18  \n",
       "3           5  \n",
       "4           8  "
      ]
     },
     "execution_count": 117,
     "metadata": {},
     "output_type": "execute_result"
    }
   ],
   "source": [
    "raw_data.head()"
   ]
  },
  {
   "cell_type": "code",
   "execution_count": 26,
   "metadata": {},
   "outputs": [
    {
     "data": {
      "text/html": [
       "<div>\n",
       "<style scoped>\n",
       "    .dataframe tbody tr th:only-of-type {\n",
       "        vertical-align: middle;\n",
       "    }\n",
       "\n",
       "    .dataframe tbody tr th {\n",
       "        vertical-align: top;\n",
       "    }\n",
       "\n",
       "    .dataframe thead th {\n",
       "        text-align: right;\n",
       "    }\n",
       "</style>\n",
       "<table border=\"1\" class=\"dataframe\">\n",
       "  <thead>\n",
       "    <tr style=\"text-align: right;\">\n",
       "      <th></th>\n",
       "      <th>id</th>\n",
       "      <th>prediction</th>\n",
       "    </tr>\n",
       "  </thead>\n",
       "  <tbody>\n",
       "    <tr>\n",
       "      <td>0</td>\n",
       "      <td>12311_10</td>\n",
       "      <td>1</td>\n",
       "    </tr>\n",
       "    <tr>\n",
       "      <td>1</td>\n",
       "      <td>8348_2</td>\n",
       "      <td>0</td>\n",
       "    </tr>\n",
       "    <tr>\n",
       "      <td>2</td>\n",
       "      <td>5828_4</td>\n",
       "      <td>0</td>\n",
       "    </tr>\n",
       "    <tr>\n",
       "      <td>3</td>\n",
       "      <td>7186_2</td>\n",
       "      <td>0</td>\n",
       "    </tr>\n",
       "    <tr>\n",
       "      <td>4</td>\n",
       "      <td>12128_7</td>\n",
       "      <td>1</td>\n",
       "    </tr>\n",
       "  </tbody>\n",
       "</table>\n",
       "</div>"
      ],
      "text/plain": [
       "         id  prediction\n",
       "0  12311_10           1\n",
       "1    8348_2           0\n",
       "2    5828_4           0\n",
       "3    7186_2           0\n",
       "4   12128_7           1"
      ]
     },
     "execution_count": 26,
     "metadata": {},
     "output_type": "execute_result"
    }
   ],
   "source": [
    "my_submission.head()"
   ]
  },
  {
   "cell_type": "code",
   "execution_count": 27,
   "metadata": {},
   "outputs": [
    {
     "data": {
      "text/plain": [
       "(25000, 2)"
      ]
     },
     "execution_count": 27,
     "metadata": {},
     "output_type": "execute_result"
    }
   ],
   "source": [
    "my_submission.shape"
   ]
  },
  {
   "cell_type": "code",
   "execution_count": 28,
   "metadata": {},
   "outputs": [],
   "source": [
    "# export submission file as pdf\n",
    "# CHANGE FILE PATH: \n",
    "my_submission.to_csv('moviereviews_submission.csv', index=False)"
   ]
  },
  {
   "cell_type": "markdown",
   "metadata": {},
   "source": [
    "# Submit to Canvas: 1) the CSV file that was written in the previous cell and 2) the url to the repository (GitHub or other) that contains your code and documentation"
   ]
  }
 ],
 "metadata": {
  "kernelspec": {
   "display_name": "Python 3",
   "language": "python",
   "name": "python3"
  },
  "language_info": {
   "codemirror_mode": {
    "name": "ipython",
    "version": 3
   },
   "file_extension": ".py",
   "mimetype": "text/x-python",
   "name": "python",
   "nbconvert_exporter": "python",
   "pygments_lexer": "ipython3",
   "version": "3.7.4"
  }
 },
 "nbformat": 4,
 "nbformat_minor": 2
}
