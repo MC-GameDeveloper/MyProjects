{
 "cells": [
  {
   "cell_type": "markdown",
   "metadata": {},
   "source": [
    "# Movie reviews\n",
    "\n",
    "This notebook takes you though a complete iteration of Machine Learning Assignment 1 - Movie reviews. The assignment details (including links to download the data) can be found [here](https://docs.google.com/document/d/1WGYw99e5q6j5V0Zrf2HveagU6URt_kVvdR8B9HYQ99E/edit?usp=sharing). "
   ]
  },
  {
   "cell_type": "code",
   "execution_count": 1,
   "metadata": {},
   "outputs": [],
   "source": [
    "# all imports and magic commands\n",
    "import numpy as np\n",
    "import pandas as pd\n",
    "import matplotlib.pyplot as plt\n",
    "from my_measures import BinaryClassificationPerformance\n",
    "from sklearn.feature_extraction.text import HashingVectorizer\n",
    "from sklearn.feature_extraction.text import TfidfTransformer\n",
    "from scipy.sparse import csr_matrix, hstack\n",
    "from sklearn.preprocessing import StandardScaler\n",
    "from sklearn.model_selection import train_test_split\n",
    "%matplotlib inline"
   ]
  },
  {
   "cell_type": "markdown",
   "metadata": {},
   "source": [
    "### IMPORTANT!!! Make sure you are using `BinaryClassificationPerformance` v1.02"
   ]
  },
  {
   "cell_type": "code",
   "execution_count": 2,
   "metadata": {},
   "outputs": [
    {
     "name": "stdout",
     "output_type": "stream",
     "text": [
      "Help on class BinaryClassificationPerformance in module my_measures:\n",
      "\n",
      "class BinaryClassificationPerformance(builtins.object)\n",
      " |  BinaryClassificationPerformance(predictions, labels, desc, probabilities=None)\n",
      " |  \n",
      " |  Performance measures to evaluate the fit of a binary classification model, v1.02\n",
      " |  \n",
      " |  Methods defined here:\n",
      " |  \n",
      " |  __init__(self, predictions, labels, desc, probabilities=None)\n",
      " |      Initialize attributes: predictions-vector of predicted values for Y, labels-vector of labels for Y\n",
      " |  \n",
      " |  compute_measures(self)\n",
      " |      Compute performance measures defined by Flach p. 57\n",
      " |  \n",
      " |  img_indices(self)\n",
      " |      Get the indices of true and false positives to be able to locate the corresponding images in a list of image names\n",
      " |  \n",
      " |  ----------------------------------------------------------------------\n",
      " |  Data descriptors defined here:\n",
      " |  \n",
      " |  __dict__\n",
      " |      dictionary for instance variables (if defined)\n",
      " |  \n",
      " |  __weakref__\n",
      " |      list of weak references to the object (if defined)\n",
      "\n"
     ]
    }
   ],
   "source": [
    "help(BinaryClassificationPerformance)"
   ]
  },
  {
   "cell_type": "markdown",
   "metadata": {},
   "source": [
    "# Function for feature building and extraction on natural language data"
   ]
  },
  {
   "cell_type": "code",
   "execution_count": 3,
   "metadata": {},
   "outputs": [],
   "source": [
    "# function that takes raw data and completes all preprocessing required before model fits\n",
    "def process_raw_data(fn, my_random_seed, test=False):\n",
    "    # read and summarize data\n",
    "    movie_data = pd.read_csv(fn, sep='\\t')\n",
    "    print(\"movie_data is:\", type(movie_data))\n",
    "    print(\"movie_data has\", movie_data.shape[0], \"rows and\", movie_data.shape[1], \"columns\", \"\\n\")\n",
    "    print(\"the data types for each of the columns in movie_data:\")\n",
    "    print(movie_data.dtypes, \"\\n\")\n",
    "    print(\"the first 10 rows in movie_data:\")\n",
    "    print(movie_data.head(5))\n",
    "    if (not test):\n",
    "        print(\"The rate of 'good' movie reviews in the dataset: \")\n",
    "        print(movie_data['sentiment'].mean())\n",
    "\n",
    "    # vectorize Bag of Words from review text; as sparse matrix\n",
    "    hv = HashingVectorizer(n_features=2 ** 17, alternate_sign=False)\n",
    "    X_hv = hv.fit_transform(movie_data.review)\n",
    "    print(\"Shape of HashingVectorizer X:\")\n",
    "    print(X_hv.shape)\n",
    "    \n",
    "    # http://scikit-learn.org/stable/modules/generated/sklearn.feature_extraction.text.TfidfTransformer.html\n",
    "    transformer = TfidfTransformer()\n",
    "    X_tfidf = transformer.fit_transform(X_hv)\n",
    "    \n",
    "    # create additional quantitative features\n",
    "    # features from Amazon.csv to add to feature set\n",
    "    movie_data['word_count'] = movie_data['review'].str.split(' ').str.len()\n",
    "    movie_data['punc_count'] = movie_data['review'].str.count(\"\\.\")\n",
    "\n",
    "    X_quant_features = movie_data[[\"word_count\", \"punc_count\"]]\n",
    "    print(\"Look at a few rows of the new quantitative features: \")\n",
    "    print(X_quant_features.head(10))\n",
    "    \n",
    "    # Combine all quantitative features into a single sparse matrix\n",
    "    X_quant_features_csr = csr_matrix(X_quant_features)\n",
    "    X_combined = hstack([X_tfidf, X_quant_features_csr])\n",
    "    X_matrix = csr_matrix(X_combined) # convert to sparse matrix\n",
    "    print(\"Size of combined bag of words and new quantitative variables matrix:\")\n",
    "    print(X_matrix.shape)\n",
    "    \n",
    "    # Create `X`, scaled matrix of features\n",
    "    # feature scaling\n",
    "    sc = StandardScaler(with_mean=False)\n",
    "    X = sc.fit_transform(X_matrix)\n",
    "    print(X.shape)\n",
    "    if (not test):\n",
    "        y = movie_data['sentiment']\n",
    "    \n",
    "    # Create Training and Test Sets\n",
    "    # enter an integer for the random_state parameter; any integer will work\n",
    "    if (test):\n",
    "        X_submission_test = X\n",
    "        print(\"Shape of X_test for submission:\")\n",
    "        print(X_submission_test.shape)\n",
    "        print('SUCCESS!')\n",
    "        return(movie_data, X_submission_test)\n",
    "    else: \n",
    "        X_train, X_test, y_train, y_test, X_raw_train, X_raw_test = train_test_split(X, y, movie_data, test_size=0.5, random_state=my_random_seed)\n",
    "        print(\"Shape of X_train and X_test:\")\n",
    "        print(X_train.shape)\n",
    "        print(X_test.shape)\n",
    "        print(\"Shape of y_train and y_test:\")\n",
    "        print(y_train.shape)\n",
    "        print(y_test.shape)\n",
    "        print(\"Shape of X_raw_train and X_raw_test:\")\n",
    "        print(X_raw_train.shape)\n",
    "        print(X_raw_test.shape)\n",
    "        print('SUCCESS!')\n",
    "        return(X_train, X_test, y_train, y_test, X_raw_train, X_raw_test)"
   ]
  },
  {
   "cell_type": "markdown",
   "metadata": {},
   "source": [
    "# Create training and test sets from function"
   ]
  },
  {
   "cell_type": "code",
   "execution_count": 4,
   "metadata": {},
   "outputs": [
    {
     "name": "stdout",
     "output_type": "stream",
     "text": [
      "movie_data is: <class 'pandas.core.frame.DataFrame'>\n",
      "movie_data has 25000 rows and 3 columns \n",
      "\n",
      "the data types for each of the columns in movie_data:\n",
      "id           object\n",
      "sentiment     int64\n",
      "review       object\n",
      "dtype: object \n",
      "\n",
      "the first 10 rows in movie_data:\n",
      "       id  sentiment                                             review\n",
      "0  5814_8          1  With all this stuff going down at the moment w...\n",
      "1  2381_9          1  \\The Classic War of the Worlds\\\" by Timothy Hi...\n",
      "2  7759_3          0  The film starts with a manager (Nicholas Bell)...\n",
      "3  3630_4          0  It must be assumed that those who praised this...\n",
      "4  9495_8          1  Superbly trashy and wondrously unpretentious 8...\n",
      "The rate of 'good' movie reviews in the dataset: \n",
      "0.5\n",
      "Shape of HashingVectorizer X:\n",
      "(25000, 131072)\n",
      "Look at a few rows of the new quantitative features: \n",
      "   word_count  punc_count\n",
      "0         433          20\n",
      "1         158          16\n",
      "2         378          20\n",
      "3         379           8\n",
      "4         367           9\n",
      "5          89           5\n",
      "6         112           9\n",
      "7         132           9\n",
      "8         163           7\n",
      "9          43           5\n",
      "Size of combined bag of words and new quantitative variables matrix:\n",
      "(25000, 131074)\n",
      "(25000, 131074)\n",
      "Shape of X_train and X_test:\n",
      "(12500, 131074)\n",
      "(12500, 131074)\n",
      "Shape of y_train and y_test:\n",
      "(12500,)\n",
      "(12500,)\n",
      "Shape of X_raw_train and X_raw_test:\n",
      "(12500, 5)\n",
      "(12500, 5)\n",
      "SUCCESS!\n"
     ]
    }
   ],
   "source": [
    "# CHANGE FILE PATH and my_random_seed number (any integer other than 74 will do): \n",
    "X_train, X_test, y_train, y_test, X_raw_train, X_raw_test = process_raw_data(fn='moviereviews_train.tsv', my_random_seed=200)"
   ]
  },
  {
   "cell_type": "markdown",
   "metadata": {},
   "source": [
    "# Fit (and tune) Various Models"
   ]
  },
  {
   "cell_type": "markdown",
   "metadata": {},
   "source": [
    "### MODEL: ordinary least squares"
   ]
  },
  {
   "cell_type": "code",
   "execution_count": 5,
   "metadata": {},
   "outputs": [
    {
     "name": "stdout",
     "output_type": "stream",
     "text": [
      "{'Pos': 6322, 'Neg': 6178, 'TP': 2878, 'TN': 3571, 'FP': 2607, 'FN': 3444, 'Accuracy': 0.51592, 'Precision': 0.5247037374658159, 'Recall': 0.4552356849098387, 'desc': 'ols_train'}\n"
     ]
    }
   ],
   "source": [
    "from sklearn import linear_model\n",
    "ols = linear_model.SGDClassifier(loss=\"squared_loss\")\n",
    "ols.fit(X_train, y_train)\n",
    "\n",
    "ols_performance_train = BinaryClassificationPerformance(ols.predict(X_train), y_train, 'ols_train')\n",
    "ols_performance_train.compute_measures()\n",
    "print(ols_performance_train.performance_measures)"
   ]
  },
  {
   "cell_type": "markdown",
   "metadata": {},
   "source": [
    "### MODEL: SVM, linear"
   ]
  },
  {
   "cell_type": "code",
   "execution_count": 6,
   "metadata": {},
   "outputs": [
    {
     "name": "stdout",
     "output_type": "stream",
     "text": [
      "{'Pos': 6322, 'Neg': 6178, 'TP': 6322, 'TN': 6178, 'FP': 0, 'FN': 0, 'Accuracy': 1.0, 'Precision': 1.0, 'Recall': 1.0, 'desc': 'svm_train'}\n"
     ]
    }
   ],
   "source": [
    "from sklearn import linear_model\n",
    "svm = linear_model.SGDClassifier()\n",
    "svm.fit(X_train, y_train)\n",
    "\n",
    "svm_performance_train = BinaryClassificationPerformance(svm.predict(X_train), y_train, 'svm_train')\n",
    "svm_performance_train.compute_measures()\n",
    "print(svm_performance_train.performance_measures)"
   ]
  },
  {
   "cell_type": "markdown",
   "metadata": {},
   "source": [
    "### MODEL: logistic regression"
   ]
  },
  {
   "cell_type": "code",
   "execution_count": 7,
   "metadata": {},
   "outputs": [
    {
     "name": "stdout",
     "output_type": "stream",
     "text": [
      "{'Pos': 6322, 'Neg': 6178, 'TP': 6322, 'TN': 6178, 'FP': 0, 'FN': 0, 'Accuracy': 1.0, 'Precision': 1.0, 'Recall': 1.0, 'desc': 'lgs_train'}\n"
     ]
    }
   ],
   "source": [
    "from sklearn import linear_model\n",
    "lgs = linear_model.SGDClassifier(loss='log')\n",
    "lgs.fit(X_train, y_train)\n",
    "\n",
    "lgs_performance_train = BinaryClassificationPerformance(lgs.predict(X_train), y_train, 'lgs_train')\n",
    "lgs_performance_train.compute_measures()\n",
    "print(lgs_performance_train.performance_measures)"
   ]
  },
  {
   "cell_type": "markdown",
   "metadata": {},
   "source": [
    "### MODEL: Naive Bayes"
   ]
  },
  {
   "cell_type": "code",
   "execution_count": 8,
   "metadata": {},
   "outputs": [
    {
     "name": "stdout",
     "output_type": "stream",
     "text": [
      "{'Pos': 6322, 'Neg': 6178, 'TP': 6129, 'TN': 6141, 'FP': 37, 'FN': 193, 'Accuracy': 0.9816, 'Precision': 0.9939993512812196, 'Recall': 0.969471686175261, 'desc': 'nbs_train'}\n"
     ]
    }
   ],
   "source": [
    "from sklearn.naive_bayes import MultinomialNB\n",
    "nbs = MultinomialNB()\n",
    "nbs.fit(X_train, y_train)\n",
    "\n",
    "nbs_performance_train = BinaryClassificationPerformance(nbs.predict(X_train), y_train, 'nbs_train')\n",
    "nbs_performance_train.compute_measures()\n",
    "print(nbs_performance_train.performance_measures)"
   ]
  },
  {
   "cell_type": "markdown",
   "metadata": {},
   "source": [
    "### MODEL: Perceptron"
   ]
  },
  {
   "cell_type": "code",
   "execution_count": 9,
   "metadata": {},
   "outputs": [
    {
     "name": "stdout",
     "output_type": "stream",
     "text": [
      "{'Pos': 6322, 'Neg': 6178, 'TP': 6322, 'TN': 6178, 'FP': 0, 'FN': 0, 'Accuracy': 1.0, 'Precision': 1.0, 'Recall': 1.0, 'desc': 'prc_train'}\n"
     ]
    }
   ],
   "source": [
    "from sklearn import linear_model\n",
    "prc = linear_model.SGDClassifier(loss='perceptron')\n",
    "prc.fit(X_train, y_train)\n",
    "\n",
    "prc_performance_train = BinaryClassificationPerformance(prc.predict(X_train), y_train, 'prc_train')\n",
    "prc_performance_train.compute_measures()\n",
    "print(prc_performance_train.performance_measures)"
   ]
  },
  {
   "cell_type": "markdown",
   "metadata": {},
   "source": [
    "### MODEL: Ridge Regression Classifier"
   ]
  },
  {
   "cell_type": "code",
   "execution_count": 10,
   "metadata": {},
   "outputs": [
    {
     "name": "stdout",
     "output_type": "stream",
     "text": [
      "{'Pos': 6322, 'Neg': 6178, 'TP': 6263, 'TN': 6142, 'FP': 36, 'FN': 59, 'Accuracy': 0.9924, 'Precision': 0.99428480711224, 'Recall': 0.9906675102815564, 'desc': 'rdg_train'}\n"
     ]
    }
   ],
   "source": [
    "from sklearn import linear_model\n",
    "rdg = linear_model.RidgeClassifier(alpha=.55, fit_intercept=True, normalize=False, copy_X=True, max_iter=None, tol=0.05)\n",
    "rdg.fit(X_train, y_train)\n",
    "\n",
    "rdg_performance_train = BinaryClassificationPerformance(rdg.predict(X_train), y_train, 'rdg_train')\n",
    "rdg_performance_train.compute_measures()\n",
    "print(rdg_performance_train.performance_measures)"
   ]
  },
  {
   "cell_type": "markdown",
   "metadata": {},
   "source": [
    "### MODEL: Random Forest Classifier"
   ]
  },
  {
   "cell_type": "code",
   "execution_count": 11,
   "metadata": {},
   "outputs": [
    {
     "name": "stderr",
     "output_type": "stream",
     "text": [
      "D:\\Anaconda\\lib\\site-packages\\sklearn\\ensemble\\forest.py:245: FutureWarning: The default value of n_estimators will change from 10 in version 0.20 to 100 in 0.22.\n",
      "  \"10 in version 0.20 to 100 in 0.22.\", FutureWarning)\n"
     ]
    },
    {
     "name": "stdout",
     "output_type": "stream",
     "text": [
      "{'Pos': 6322, 'Neg': 6178, 'TP': 6200, 'TN': 5936, 'FP': 242, 'FN': 122, 'Accuracy': 0.97088, 'Precision': 0.9624340266997827, 'Recall': 0.9807023093957609, 'desc': 'rdf_train'}\n"
     ]
    }
   ],
   "source": [
    "from sklearn.ensemble import RandomForestClassifier\n",
    "rdf = RandomForestClassifier(max_depth=50, random_state=0)\n",
    "rdf.fit(X_train, y_train)\n",
    "\n",
    "rdf_performance_train = BinaryClassificationPerformance(rdf.predict(X_train), y_train, 'rdf_train')\n",
    "rdf_performance_train.compute_measures()\n",
    "print(rdf_performance_train.performance_measures)"
   ]
  },
  {
   "cell_type": "markdown",
   "metadata": {},
   "source": [
    "### ROC plot to compare performance of various models and fits"
   ]
  },
  {
   "cell_type": "code",
   "execution_count": 12,
   "metadata": {
    "scrolled": false
   },
   "outputs": [
    {
     "data": {
      "image/png": "[encoded data removed]",
      "text/plain": [
       "<Figure size 432x288 with 1 Axes>"
      ]
     },
     "metadata": {
      "needs_background": "light"
     },
     "output_type": "display_data"
    }
   ],
   "source": [
    "fits = [svm_performance_train, lgs_performance_train, nbs_performance_train, prc_performance_train, rdg_performance_train, rdf_performance_train]\n",
    "\n",
    "for fit in fits:\n",
    "    plt.plot(fit.performance_measures['FP'] / fit.performance_measures['Neg'], \n",
    "             fit.performance_measures['TP'] / fit.performance_measures['Pos'], 'bo')\n",
    "    plt.text(fit.performance_measures['FP'] / fit.performance_measures['Neg'], \n",
    "             fit.performance_measures['TP'] / fit.performance_measures['Pos'], fit.desc)\n",
    "plt.axis([0, 1, 0, 1])\n",
    "plt.title('ROC plot: test set')\n",
    "plt.xlabel('False positive rate')\n",
    "plt.ylabel('True positive rate')\n",
    "plt.show()"
   ]
  },
  {
   "cell_type": "markdown",
   "metadata": {},
   "source": [
    "### looking at reviews based on their classification\n",
    "\n",
    "Let's say we decide that Ordinary Least Squares (OLS) Regression is the best model for generalization. Let's take a look at some of the reviews and try to make a (subjective) determination of whether it's generalizing well. "
   ]
  },
  {
   "cell_type": "code",
   "execution_count": 13,
   "metadata": {},
   "outputs": [],
   "source": [
    "ols_predictions = ols.predict(X_train)"
   ]
  },
  {
   "cell_type": "markdown",
   "metadata": {},
   "source": [
    "### let's look at some false positives:"
   ]
  },
  {
   "cell_type": "code",
   "execution_count": 14,
   "metadata": {},
   "outputs": [
    {
     "name": "stdout",
     "output_type": "stream",
     "text": [
      "Examples of false positives:\n",
      "55\n",
      "I think this cartoon is one of the worst cartoons I have ever watched. I would recommend this cartoon to people who are under 5. I did used to like this show when I was 4 and 5, I still only watched it when there was nothing on. Now I am other 5 and I would rather do my homework than watch it. The cartoon used to be a bit funny but they were not enough to make me burst out laughing. Now I am older I am interested in show witch are not rated Us. I have started to watch Doctor Who (12A), Torchwood (15) and Sarah Jane Adventures (PG). I am interested in things to do with Doctor Who so I am not interested in 5 year old cartoons. This cartoon didn't last very long it only had 6 seasons, it got cancelled because of it was low on viewers but some people say it was because the writers ran out of ideas but for most other shows they have at least 8 seasons.\n",
      "* * * * * * * * * \n",
      "81\n",
      "Beginning with its long opening shot of seemingly endless rows of assembly line workers in a Chinese factory, Manufactured Landscapes attempts to show the devastating impact of industrialization on the natural environment and traditional societies. Its droning narrative assumes that industrial development in China and elsewhere is entirely unprecedented, as if there had never been an industrial revolution in Europe and America and Karl Marx had never visited the British Museum. That there might be a connection between the present-day Asian drive for industrialization and wealth and earlier experiences of starvation and terror is never mentioned.<br /><br />At the same time, there's an effort to present Edward Burtynsky's photographs of industrial waste as somehow \\beautiful\\\". Much of the film is a slide show of these images. They are well produced, of museum size, and have apparently appeared in several exhibitions. To me, however, they only demonstrate that almost any photograph can be made to appear beautiful if well presented. Industrial waste is still industrial waste. The relationship, if any, between the photographs and the film's spoken message remains unclear.<br /><br />I don't mean to imply that there aren't real and sometimes desperate problems when countries rush to industrialize. Manufactured Landscapes, however, offers only strange and bitter hopelessness. It's like a two-hour lecture by Noam Chomsky. Maybe it has some value as a demonstration of what's wrong with the American (and Canadian) Left.\"\n",
      "* * * * * * * * * \n",
      "265\n",
      "An innocent man (Steve Guttenberg) has a one-night stand with his boss's wife (Isabelle Huppert). She spots a woman (Elizabeth McGovern) being attacked outside but she can't call the cops because it would blow her marriage to Gutenberg's boss (Paul Shenar). So Guttenberg, honest citizen that he is, when he discovers that another woman was attacked and killed nearby only half an hour later, comes forward and claims to have witnessed the first attack, merely intending to pass on the information given to him by Huppert. Well -- never bear false witness against thy neighbor, as they say.<br /><br />This simple attempt to help the police nab a murderer turns rapidly twisted. When he meets the first near-victim, McGovern, she immediately twigs to what happened, but agrees to keep quiet for the moment. But then Guttenberg finds himself in court, supposed to identify the heavy (Greenquist) and we discover through cross-examination that he is NEAR-SIGHTED and can't identify objects at a distance, let alone faces. (Not that it matters because, after all, he never saw the creep in the first place.) The plot gets practically labyrinthine. Guttenberg winds up the chief suspect when Huppert is murdered too.<br /><br />He barely escapes arrest and holes up with the now-sympathetic McGovern. Guttenberg and McGovern hatch a plan to trap the murderer. She will serve as bait. They'll follow the flagitious creep into one of his seedy haunt and McGovern will act like the doxy that the murderer is attracted to, just to get him to try to kill her. But everything will be okay, see, because not only will Guttenberg keep a close watch on her, and not only will he alert the police a few minutes after she enters this dive, but she will keep a can of mace handy -- just in case.<br /><br />I ask you, the alert viewer, does this scenario unfold as planned? Elizabeth McGovern has a quirkily interesting bone structure. She seems all mandible and tiny mouth at times, but she's vibrant. Steve Guttenberg has hair on his brawn and that's about it. Otherwise he's as helpless as the character he plays. If Isabelle Huppert can act, it isn't evident in this film. The killer is so formed and so groomed that he looks like he's wearing one of those masks of deformity in that Twilight Zone episode about greedy heirs.<br /><br />Didn't the director, Curtis Hanson, go on to make \\L.A. Confidential\\\"? That was a nicely done piece of work. Here, everything seems clumsy and contrived, down to the small bit parts. Just before the inevitable violent climax, a uniformed police officer is introduced to delay McGovern's rescue, and the scene is embarrassing to watch. Dick Olsen has a bit part as a late shopper. He's a neat guy and always reliable. Paul Shenar as the cuckolded hubby has a striking face that seems made for the stage and he does a fine job too.<br /><br />That louche joint where McGovern attracts the attention of the murderer, where she plays pool with a couple of hairy apes, was shot at a bar in Carolina Beach, in North Carolina, not far from where I lived. The way the interior is set up, it's clear that this is supposed to be a dangerous and dirty dive. Actually it appears rather more elegant on screen than it did in reality.<br /><br />Overall, this is Hitchcock territory and it brings tears to the eyes to imagine what he would have done with this story.\"\n",
      "* * * * * * * * * \n",
      "429\n",
      "For the first time in years, I've felt the need to log into IMDb today to cleanse myself of this movie by writing a review, because it was just such a let-down to watch. The plot sounded awesome when I read it, I expected a minimal mystery thriller, a claustrophobic phantom hunt. Unfortunately, it all gets watered down so bad by a mundane, tiring love story and too many contrived and teeth-gnashingly stupid \\no-one-says-things-like-this-except-in-bad-movies\\\"-dialogs that it's just agonizing.<br /><br />Here's a quick run down of the worst offenses of this piece of film: <br /><br />- The script relies so heavily on coincidences and the inexplicable and inexcusable stupidity of the main characters that it's just laughable. No, actually, it's angering. And lazy.<br /><br />- Related to that: Cheap thrills. A long parade \\\"just in time\\\" moments.<br /><br />- The main characters. Alright, it seems that the screenwriter has never experienced actual human beings in real life, but instead has gained all his knowledge from bad movies. Thus, his characters are boring, lifeless second generation clichés. They are mere plot-devices, place-holders without the slightest bit of personality. They are \\\"man and woman in break-up who still love each other\\\". Never seen that one before except in 100,000 movies and it's not getting any more realistic or enjoyable. Think of the blandest two-dimensional Hollywood fare and you've got it. There is not one character in this movie that is even remotely fresh, charming, or interesting.<br /><br />- The far-fetched, vague resolution that's swaying very bad and needs just one nudge to topple, though the word \\\"resolution\\\" might be ill-fitting here, because the movie is a swampy mess that isn't going anywhere anyway. By the time you're through, though, you don't care anymore. The last third of the movie I just fast-forwarded, because it was just so unbearable to watch.<br /><br />Okay, that's it. Whatever redeeming features this movie has, it all gets buried under incompetence. Don't watch this turd.\"\n",
      "* * * * * * * * * \n",
      "531\n",
      "I've been a fan since his first album. This film is a disservice to him. The performances, except for one by Rufus Wainwright and Teddy Thompson are simply terrible. <br /><br />Those by Martha Wainwright, Nick Cave, Antony, and Jarvis Cocker were particularly annoying. Even the one by the McGarrigle sisters was ruined by the so called harmony of Martha Wainwright.<br /><br />I've never seen my wife get up and walk out of the room on a film before and I found myself fast forwarding through the performances to get to the few interview segments, which were also difficult to watch due to the poor camera work. <br /><br />There are many who have been able to interpret Mr. Cohen's songs, Jennifer Warnes, KD Lang, Billy Joel, Aaron Neville, and Willie Nelson come to mind, but those people selected for this performance were just awful.<br /><br />Hopefully there will be another attempt at capturing Leonard Cohen on film that will illustrate his insight, talent, and intelligence.<br /><br />So sad\n",
      "* * * * * * * * * \n",
      "689\n",
      "Well I don't know where to begin. Obviously this was a made for TV movie, so my expectations were low. I was pleasantly surprised by the overall direction of the second hour, but anything before or after that seemed to be a paint by the numbers sort of movie.<br /><br />And talk about bad chemistry between the tow lovebird detectives. ..<br /><br />I would go more in depth, but this movie doesn't really deserve it. Grade: D+ (IMDB rating 3/10)\n",
      "* * * * * * * * * \n",
      "806\n",
      "Oh, man! This thing scared the heck out of me when I first watched it... and I was SIXTEEN!!!<br /><br />That creepy animated Barbie is scary as hell! I want to stop talking about her now.\n",
      "* * * * * * * * * \n",
      "881\n",
      "Honestly, I was disappointed in \\Expiration Date.\\\" Super clever title and interesting premise, but I don't think it delivered. What was it about? The main character's desire to reconnect with his Native roots? Or, more likely, it was his need to overcome his fear of death. But, he wasn't set up as someone who has lived his life in fear -- it seems as if his life was going fine, but since doomsday is approaching he should now start worrying. I didn't buy it. Meanwhile, the supporting characters in the film didn't seem to have needs that blended into an overarching story. They were all just doing their thing, running parallel to the main character. Also, what was treated as a \\\"curse\\\" looked more like a coincidence. Who cursed the family? Why? When? Finally, why didn't he just plan on staying in his apartment all day on his birthday? Those are my criticisms, but I did love the shots of Seattle, cinematography was beautiful, acting was good in the times it wasn't outstanding.\"\n",
      "* * * * * * * * * \n",
      "982\n",
      "If the only sex you've ever had is with a farm animal, then the tag line for this movie is probably still misleading.<br /><br />This is by far one of the most boring movies I've had the pleasure to try and watch lately. I found the DVD lying around at my friend's house, and I made the sad mistake of not burning it.<br /><br />I am unable to tell any details without spoiling the movie because there are only about 5 details to this movie. Just try to imagine someone making a movie about things on c-span only the fictional movie is 10 times less interesting than the most boring debate on c-span.<br /><br />I think there is a conspiracy somewhere in this movie, but I was unable to tell exactly what it was after I gouched my eyeballs out and threw them at Richard Gere.\n",
      "* * * * * * * * * \n",
      "1077\n",
      "Ridiculous horror film about a wealthy man (John Carradine) dying and leaving everything to his four children, and his servants to be divided up equally. One condition--they must spend one week in his estate to get the money. And if any of them die, the others get more. Guess what happens next.... <br /><br />I saw a brand new print of this film on cable. The colors were bright and vivid and the house itself looks beautiful. That's about all the good things I can say about it.<br /><br />Let's list just some of the problems this film has: the killer is screamingly obvious; the servants are called Igor and Elga--come on!; some of the sound recording was so bad I couldn't make out the dialogue (no great loss I'm sure); the gore was sparse and very poorly done; the other murders were simply boring, stupid or impossible and this movie contains some truly abominable acting--so bad you just stare at the screen in disbelief. Even pro Jeff Morrow was terrible! The only fairly good acting was from trouper Faith Domergue (who deserved better than this) and John Carradine (who looks painfully old and frail here). I do have to admit though--the closing line in this movie is a gem!<br /><br />Why this was renamed \\Legacy of Blood\\\" is beyond me--there's another 1978 horror film with that name!<br /><br />Whatever its name is, it's a bad movie. To be avoided at all costs.\"\n",
      "* * * * * * * * * \n",
      "1103\n",
      "People tried to make me believe that the premise of this rubbishy supernatural horror/thriller was inspired by the actual last words spoken by an authentic serial killer (whose name escapes me at the moment). Whilst awaiting his execution in the electric chair, he claimed that his soul would return to life and continue to go on a never-ending murder spree. It's not a highly original idea to revolve a horror film on, by the way. Other low-budget turkeys implemented the exact same basic premise, like \\House 3\\\", \\\"Shocker\\\" and \\\"Ghost in the Machine\\\". Anyway, \\\"The First Power\\\" (a.k.a \\\"Pentagram\\\") isn't a completely terrible effort, but the script overly reverts to clichés and lacks genuine thrills. The film starts off as an okay, albeit mundane serial killer flick in which obsessive cop-hero Lou Diamond Philips pursues a maniac who carves bloody pentagrams into the chests of his victims. He receives unexpected help from a spiritual medium, played by the gorgeous and underrated Tracy Griffith. She leads him to the killer but also begs not to execute him, as that would result in an even bigger catastrophe! Thanks to Tess' helpful hints, Detective Logan quickly captures the killer and celebrates his death penalty, but Patrick Channing made a pact with Satan Himself and returns to the rotten streets of California to do some more killing. \\\"The First Power\\\" gets pretty bad once the murderer reincarnates as a vengeful spirit. Instead of using his newly gained satanic powers to wipe out the entire world (that's what I would do in his position), Channing simply prefers to play cat and mouse games with his nemesis the copper. He annoyingly calls him \\\"Buddy-Boy\\\" all the time and possesses the bodies of Logan's friends and colleagues in order to trick him. Even though never really boring or poorly realized, it's a very weak film to endure, mostly because you constantly get the feeling of déjà-vu. Writer/director Robert Resnikoff shamelessly uses every dreadful cliché (the killer got sexually abused as a child) and even the players' lines can easily be predicted. As soon as Griffith explains she's able to predict the future, you just know that, somewhere at some point in the film, she's going to say the ridiculously overused line \\\"I tell people who to live their lives, but my own life is a mess\\\". Yawn. Lou Diamond Philips' performance is adequate enough, but it's rather difficult to take that youthful rebel of \\\"La Bamba\\\" and \\\"Stand And Deliver\\\" serious as a tough copper. There also are decent supportive roles for Mykelti Williamson (\\\"Forrest Gump\\\"), Carmen Argenziano (\\\"When a Stranger Calls\\\") and B-movie horror legend David Gale (\\\"Re-Animator\\\") appears in a minuscule cameo at the very beginning of the film.\"\n",
      "* * * * * * * * * \n",
      "1130\n",
      "Despite, or perhaps in part because of the clever use of music to underscore the motivations and ideologies of each of the major characters, stereotypes are in, and verisimilitude and characterization are out in this not-too-subtle cinematic screed.<br /><br />One gets the sense that John Singleton was dabbling in post-structuralist literary theory because it was the flavor of the day, and \\Higher Learning\\\" was the tendentious result. The low point of the movie is the \\\"peace\\\" rally, in which the symbols of the 1960s \\\"free love\\\" movement are reappropriated for what much more closely resembles a \\\"Take Back The Night\\\" rally with live, stridently identity-conscious musical acts in tow. Perhaps in his prim revisionism the director was trying to assert that identity politics is the new Vietnam? Ooh, how Adrienne Rich of himand Remy's firing into the crowd is a nice touch, if you're into Rich's sort of political posturing.<br /><br />I wish I could give this movie negative stars. I can recommend it only to those interested in the 1990s as history, a time when radical feminists brought the academic trinity of race, class, and gender to popular culture and declared man-hating \\\"a viable and honorable POLITICAL option\\\". Where's Camille Paglia when you need her?\"\n",
      "* * * * * * * * * \n",
      "1237\n",
      "Add to the list of caricatures: a Southern preacher and \\congregation,\\\" a torch singer (Sophie Tucker?), a dancing chorus, and The Mills Brothers -- it only makes it worse.<br /><br />Contemptible burlesques of \\\"Negro\\\" performers, who themselves often appear in films to be parodying themselves and their race. Though the \\\"Negro comedy\\\" may have been accepted in its day, it's extremely offensive today, and I doubt that it was ever funny. Though I wouldn't have been offended, I don't think that I'd have laughed at the feeble attempts at humor. As an 11-year-old white boy, however, I might not have understood some of it.\"\n",
      "* * * * * * * * * \n",
      "1303\n",
      "After seeing only half of the film in school back in November, today, I saw that it was on Flix channel and decided to watch it to see the rest of it and to write a new review on it.<br /><br />The book that the film is based on, Hatchet, is OK. This is a terrible adaption of it though.<br /><br />Awful (and I mean awful) acting, bad dialogue, and average cinematography make up this terrible adaption of Hatchet.<br /><br />The film starts off Brian who is the cliché image of a late 80s teen (sporting a mullet, banging his head to cheap 80s rock music) and his mother driving in a car for him to get on a plane to fly up to see his estranged Dad (his parents are divorced...now cue the dramatic pause.) Now Brian has said goodbye to Mom and dog and is flying up to see his father. The pilot is a fat, ugly, rude man (wasn't like that in the book) who after 2 minutes in the air, has a heart attack and dies. In the book it goes into more detail with the pilot having more pains and it seemed to be that they were in the air much longer before the pilot had his heart attack.<br /><br />The plane (within another two minutes) has gone empty on fuel (leaving us, the viewers, to assume that he's been up there for hours even though the sun hasn't changed position and the scenery looks EXACTLY the same.) Now's he's crashed landed.<br /><br />This is the point in the movie where everything is a lot different then it was in the book. In the book it said his jacket was torn to shreds but in the movie it is perfectly fine with no tears or rips (looks like he just bought it), it never said he climbed a mountain, saw a wolf, and fell asleep up there on the mountain, it never said he was attacked by a bear (it said a moose but not a bear), it never said he eats the several bugs that he does, it never mentions the second tornado or that he learned to get those sparrows, skin them, and eat them or that little fish farm trap that he makes (that is destroyed by one of the tornadoes) nor does it mention him hurting his ribs from one of the tornadoes.<br /><br />I don't even think you can call what was depicted in the film a tornado. All it was was just a windstorm that knocked down several of his things.<br /><br />My favorite part of this camp fest was Brian's lame flashbacks (that are never mentioned in the book) especially the cliché scene of Brian waking up, walking over to the window and seeing his Dad (with all of his things packed that can all perfectly fit into just the back of his truck) leaving and screams \\DAAAAAAAAAAAAAAAAADDDDDDDDD!!!!\\\" (yet of course his father didn't hear him even though he was just right outside) and he punches his fist through the window (wtf?) <br /><br />The ending is the only thing that is close to what happened in the book (I said close.) In the book I think one of the key things that the rescue pilot said to Brian when he landed was \\\"you're the kid who they've been looking for! They stopped months ago...\\\" yet they left that line out in the movie.<br /><br />There's a pathetic epilogue with Brian (somehow without counseling or therapy) getting back to normal with his family. I think we were supposed to assume that they were getting together for Thanksgiving (because they had a turkey on the counter.) Then it shows his temporary home (for what, in the movie, seemed like three days, but in the book was for several months) and his hatchet, still in a tree where he left it (also didn't happen in the book) showing where he carved a message, so perfectly done: \\\"HOME\\\" (where we really supposed to believe that he carved that that perfectly with just that hatchet?) <br /><br />No quote can sum this movie up better then when Enid from Ghost World said \\\"this is so bad it's gone past good and back to bad again.\\\" Perfect description of this movie.<br /><br />I wouldn't recommend it to somebody (who hasn't read the book) and are just looking to watch a movie nor would I to somebody who has read the book (because they'll be disappointed and bored to death.<br /><br />For those who have read the book, leave what your imagination created as the movie. This is awful and will bring down your thoughts on the book.<br /><br />1/10\"\n",
      "* * * * * * * * * \n",
      "1313\n",
      "December holiday specials, like the original Frosty, ought to be richly-produced with quality music and a wholesome, yet lighthearted storyline. They should have a touch of the mystical magic of the holidays. Basically, they should look, sound, and feel...well, \\special\\\" and they should have a decent and appropriate December holiday subtext.<br /><br />So when I saw Legend of Frosty the Snowman in the TV listings, I got my kids (6 and 8) pumped up for it by telling them the story of the original Frosty and passionately relating how much I enjoyed it as a kid. As my wife and kids cozied up on the couch to watch the movie the expectations were high, but 10 minutes into it my kids were yawning and my wife and I were giving each other \\\"the look\\\" and rolling our eyes. After 35 minutes my kids were actually asking to go to bed -- I guess they were fed up with the insensitive language and pointless, disconnected segments. I was actually embarrassed about their (and my) disappointment with this movie.<br /><br />Unfortunately, Legend of Frosty the Snowman is more like a bad episode of Fairly Odd Parents crossed with a worse-than-normal episode of Sponge Bob than a classic holiday movie. Don't get me wrong...those shows are fine and I like them as much as the next guy, but when I watch Fairly Odd Parents or Sponge Bob, my low expectations (for mediocre, off-color, zero subtext, mind numbing episodes) are always satisfied.<br /><br />We picked out some good books and spent the rest of the evening reading together. A much better choice than the embarrassingly bad Legend of Frosty the Snowman.\"\n",
      "* * * * * * * * * \n",
      "1444\n",
      "When a man who doesn't have Alzheimer's can't remember how many films he's made, he probably is the world's most prolific director after all. That man is Jesus Franco, the king of so-called 'eurotrash'. His 1980 flick Devil Hunter is as rushed, opaque, stupid, lazy and exploitative in the truest sense of the word (the film's title is misleading, for starters) as any other Franco film I've seen. That makes it sound pretty awful, and it is... Yet Franco does have some kind of inimitable sensibility, a generous way with the baldly outrageous, with nudity and sleaze and violence, and even with his stupid cheap editing which tries to pave over the extreme haste with which all his films were made. The mix of all these elements causes you to ride his films out, even while you're mostly waiting for them to end because they're so very tedious.<br /><br />Devil Hunter is nigh on incomprehensible for the first half an hour. The kidnap by strangers of a white woman who seems to be a model or film star is intercut with a bunch of native action in South America. There's lots of naked writhing, dancing, and endless repeated zoom-ins on an ugly totem pole. You need to get used to the repetitive zoom-ins and the technique of cutting back to the same shot about three times in a row right away, as these are Franco's main methods of extending a film out to feature length.<br /><br />The monster who looks like the totem pole is actually kind of scary. He has raw bug eyes and his presence is always signalled on the soundtrack by cacophonous groaning, apparently recorded in an echo chamber. Early in the piece he chews on a native lady strapped to a tree, and it's hard to know what really happens here but I think he ate her stomach (or her genitals, sweet Jesus!).<br /><br />Anyway, the adventure begins properly when a studly guy and his freaked out Vietnam vet pal are sent to the island to recover the white girl from the kidnappers. The flakey guy has an accent which, as dubbed, is half Brooklyn-American, half English-Liverpudlian and all retarded. All of the dialogue and dubbing is ridiculous and laughable, making for another layer of the film which can somehow hold your interest.<br /><br />Not too much really happens from here on in, and it happens pretty sluggishly, studded with the odd bit of outrage like a rape. The nebulous action is fleshed out (haha!) by acres of 360 degree nudity from the natives and the two female leads, and even from the monster himself. That he walks around with his penis exposed makes wrestling him an unappetising prospect for the tough guy hero, but it's gotta be done at some point, and it's nice to note that the director will show anyone's genitals on camera.<br /><br />The best feature of Devil Hunter is the location filming. Franco can be extremely cheap with the structural and story aspects of film-making, but he doesn't muck around with sets. You get real islands, jungles, helicopters and mountains, all in widescreen. This is something that is really cool to experience in these days of crappy CGI sets and backdrops ad nauseam.<br /><br />Ultimately, issues of recommendation where this film is concerned seem moot. If you're trying to see all the Video Nasties, you will have to watch this at some point, and you'll be made as restless as I was. If you like Franco, you'll watch this anyway. If you fall into neither of the above categories, the odds are you'll never come across this film. Copies of it aren't just lying around, and I could hardly recommend the seeking out of it. It's Franco. Lazy, crazy Franco.\n",
      "* * * * * * * * * \n",
      "1599\n",
      "This is listed as a documentary, it's not, it's filmed sort of like a documentary but that I suspect was just because then they get away with a shaky camera and dodgy filming. This has just been released in the UK on DVD as an \\American Pie style comedy\\\" it's not that either.<br /><br />Basically it follows around a group of teens on spring break as they go to Mexico for cheap booze and with the quest being to get there virgin friend finally laid. Throw is a couple of dwarfs, also on the same sort of quest and you have a non-hilarious tale of drunk teens trying to get some girls.<br /><br />Considering the 18 Rating this has very little nudity, and practically zero sex scenes, mainly I guess the rating is for swearing of which there is plenty.<br /><br />If you like crude Jackass behaviour without the humour, then this may be your thing, if you have any brain cells left then I would probably avoid this!\"\n",
      "* * * * * * * * * \n",
      "1796\n",
      "I've seen the original non-dubbed German version and I was surprised how bad this movie actually is. Thinking I had seen my share of bad movies like Ghoulies 2, Rabid Grannies, Zombie Lake and such, nothing could've prepared me for this! It really was a pain to sit through this flick, as there's no plot, no good acting and even the special effects aren't convincing, especially the so-called zombies, wearing nothing more than white make-up and their old clothes, so their good set wouldn't be ruined by ketchup and marmalade stains. <br /><br />If you really want to waste 90 minutes of your life, then watch it, for all the others, don't do it, because you WILL regret it!\n",
      "* * * * * * * * * \n",
      "1818\n",
      "I didn't expect much from this film, but oh brother, what a stinker.<br /><br />I found this gem in a giant crate of awful $5 DVD's at Walmart (where else)? As cheap as this disc was, I feel ripped off. The special effects had a high school look to them, the camera work marred by wobbly tripods and sketchy lighting and the acting was a perfect example of the 'Christian School'. One can imagine the long and exhausting 'prayer meetings' by the production company after seeing the rushes come back - the people who bankrolled this thing must have had seriously anti-biblical feelings towards the inept production company that cranked this thing out. Think of their anguish as they saw their $914.86 investment go up in smoke.<br /><br />Someone asked why Christian movies are so bad - perhaps the Xian film-makers need to look at GOOD movies and attempt to copy some of the things that make them so good. Believable stories and characters, less hysterical arm-waving and fanaticism, oh, and a story that appeals to -everyone-, not just true believers. I.e. Stop The Sermon, Save It For Church. Take the Omen or Prophesy series, for example. Excellent films with compelling story lines, great cinematography and intense music. No hysterical arm-waving. No preaching.<br /><br />If this film had a laugh track it would have been MUCH better.\n",
      "* * * * * * * * * \n",
      "1822\n",
      "I've noticed how all the other reviews of this film mention how \\wholesome\\\" and \\\"entertaining\\\" it is. These people need to get out of the house more often. I don't know why they're shilling for this vapid, insipid, brainless piece of fluff. Pat Boone has absolutely no acting talent whatsoever, and his ineptness is exceeded only by that of his co-star Pamela Austin, a former model (yet one more reason to outlaw the insidious practice of inflicting talentless models on an unsuspecting moveiegoing public, a foul habit that unfortunately persists to this day). A good supporting cast (Terry-Thomas, Edward Everett Hortyon, among others) tries hard to make some sense out of this, but to no avail. I noticed that two directors shared credit, although \\\"credit\\\" isn't the word I would use (neither is \\\"director\\\"). As for \\\"wholesome entertainment,\\\" there are plenty of those types of movies available without torturing your loved ones by forcing them to sit through this. Find one of those films, and skip this one.\"\n",
      "* * * * * * * * * \n",
      "2053\n",
      "I saw this in the theater when it came out, and just yesterday I saw it again on cable. This I was able to reacquainted myself with the feeling of just how revolting this film is. The whole bunch of characters are self-absorbed narcisstic preeners. Worst of all, it reinforces every negative stereotype about 20-something dating, even as it purports to celebrate people \\finding themselves\\\". The nice guys finish last, the jerky guys make out great, the jerkiest guys do best. The girls are all boy toy pushovers. Only one character (\\\"Wendy\\\") is seen doing anything remotely useful to society, and she dispenses with her long-saved virginity in a throwaway one-night stand with a scumbag, in a lushly filmed scene that we're supposed to think is romantic. What this really is is Hollywood's concept of young America: permissive, detached, promiscuous, conceited.\"\n",
      "* * * * * * * * * \n",
      "2152\n",
      "The characters are unlikeable and the script is awful. It's a waste of the talents of Deneuve and Auteuil.\n",
      "* * * * * * * * * \n",
      "2432\n",
      "I have watched anime but I'm not a die hard fan; and I don't read manga. I say this because many of the reviewers who are waxing lyrical about this film seem to have that background. I have seen \\St. John's Wort,\\\" and although it isn't a masterpiece by any stretch of the imagination, it made me pick up \\\"Shinobi,\\\" especially since everyone seems to love it.<br /><br />Well, I watched it this afternoon, and fought very hard to keep watching. Yes, it's very beautiful - the slow motion water scenes, the autumn leaves on the trees, even the CGI eye flicker - majestic. I liked the hawk, the costumes, even some of the fight scenes, but overall this was dull as dirt.<br /><br />It seemed as if someone took \\\"Romeo and Juliet\\\" - the translation even mentions that they are star crossed lovers - and threw in some \\\"X-Men\\\" for good measure. Two of the characters split Wolverine's powers - the guy dressed in a bear costume had his claws and the grey-haired guy had his ability to heal himself. Then you have the girl who has a poison kiss - that's Poison Ivy (from Batman). Why do they give these women such dumb powers? Poison girl shows her leg then kisses you to death. Man, that's some great power for you. And the other girl, can create bugs from this yellow dust that she rubs on her hands. The other woman, one of the star crossed lovers, has the power of a hypnotic stare. Wow.<br /><br />I sort of made it to the end of the film, by fast forwarding it, and did see a bit more tragedy than I expected. Some people are comparing this to \\\"House of Flying Daggers\\\" and \\\"Hero.\\\" Don't make that mistake. They may share similar endings, but that's where the similarities end. \\\"Shinobi\\\" is made by an amateur - the other films are made by an experienced filmmaker.<br /><br />I would say avoid this film unless you're 12 to 18 years old.\"\n",
      "* * * * * * * * * \n",
      "2525\n",
      "What's that there in the skies? Is it a plane? Is it Superman?? Errr, no",
      " It's a TURTLE!?! See, that's what becomes of the Cold War! Nothing but bad news and other issues! The Americans shoot down a Russian combat plane somewhere over Artic territory and the subsequent explosion defrosts & literally awakens the giant prehistoric turtle-creature named Gammera. He/she is not a very friendly critter as it promptly ensues to destroy everything and everyone on its path. The arguing governments finally decide to kill the ugly bastard with a brand new and super-sophisticated ice-bomb, but Gammera has another surprise in store",
      " The damn turtle can fly! The first time this happens results in a tremendously grotesque and hilarious sequence! Gammera lies on his back looking defeated when suddenly fire blows from his armpits and he skyrockets himself up in the air. How can you not love that? Then there's also a dire sub plot about an annoying kid who's able to telepathically communicate with the monster, but that's just not interesting enough. Flying turtle, people!! There's very little else to write about this Japanese (and American re-edited) Sci-Fi effort, apart from that it's an obvious and totally shameless rip-off of such classics like the original Godzilla and The Beast from 20.000 Fathoms. The effects and monster designs are extremely hokey and, unlike the aforementioned films, it never succeeds in creating an apocalyptic ambiance. Respectable actors like Brian Donlevy (\\The Quatermass Experiment\\\") and Dick O'Neill (\\\"Wolfen\\\") seem unaware of what film set they're on and even the original Japanese mayhem-scenes aren't very convincing. Gammera's very own and personalized theme-song is rather cool, though, so it gets one extra point for that.\"\n",
      "* * * * * * * * * \n",
      "2550\n",
      "This movie is about a cop (Ching Wan Lau) trying to catch a super-clever thief (Ekin Cheng) who blackmails an insurance company headed by a Kelly Lin. Basically, whatever plans the cop tries the thief somehow knows them beforehand. This movie, covered by handsome lead actors, beautiful lead actress and good camera shots of Hong Kong scenes, really has no substance at all. It's all flash, and the flash quickly becomes dull too. I lost all interests a third of the way into the movie, and there is no redeeming quality after that, except for the cinematography, which looks good. Only consider seeing this movie if you can do so for free. Also, consider stopping watching the movie 20 minutes into the movie because it's all the same to the end: BORING. 6/10\n",
      "* * * * * * * * * \n",
      "2566\n",
      "This movie looked good - good cast, evergreen topic and an explosive opening. It went downhill from there. Why was it filmed by hand held camera? It shakes, judders, part captures scenes and simply confuses the viewer. A poor choice indeed. As if this was not enough, the worst edit in memory assumes a drugged viewer - mandatory if you want to get any enjoyment from it at all. And then it commits the worst sin of all. After leading the viewer down all sorts of unlikely and implausible scenarios to the point of exhaustion, they roll credits without revealing the denouement - the ending - the payoff -like what the heck was the motive? How can you expect to succeed by making thrillers without an ending? Doh! This movie had great promise and ending up doing a face plant in the mud. What a waste of effort. Poor effort by writer and director.\n",
      "* * * * * * * * * \n",
      "2685\n",
      "Difficult to call The Grudge a horror movie. At best it made me slightly jump from surprise at a couple of moments.<br /><br />If one forgets the (failed) frightening dimension and looks at other sides of the movie, he is again disappointed. The acting is OK but not great. The story can be somewhat interesting at the beginning, while one is trying to get what's happening. But toward the end one understands there is not much to understand. \\Scary\\\" elements seems sometimes to have been added to the script without reason...<br /><br />So... (yawn) See this movie it if you have nothing more interesting to do, like cutting the carrots or looking at the clouds.\"\n",
      "* * * * * * * * * \n",
      "2770\n",
      "To be clear from the get go, 'The Bagman' is very, very, very bad. It suffers terribly in almost every aspect except for one: the finished product is such an awful film that it's actually hysterically funny to watch. This is a very low-grade film. Budget constraints for the film should be obvious to anyone who watches even just the opening title sequence. I'm not sure if much of the humour in the film was intended or not. For example, the movie takes place in 'Doomsville.' Note to all prospective home buyers: if the town you're moving to is called 'Doomsville,' keep moving. Stephanie Beaton is quick to pull off her top for a pretty enthusiastic sex scene in the kitchen. I couldn't help but laugh because it has intentional humour (she turns on the gas stove ... get it? The sex is THAT hot? get it?) and unintentional humour. The unintentional in this case is the music. It's like the theme music for 'Chariots of Fire' goes Electronica. Break out the computer and the synthesizers! I realize that coming up with music for a small production like this is cost prohibitive. I really feel for them because the work here is so well-intentioned. The problem is that cheap music isn't necessarily good music. I haven't laughed so hard at sex on screen since 'Alone in the Dark' with that 'Seven Seconds' song (I guess they were implying that poor old Mr. Slater was a bit ... quick on the draw?). Even the end credits are hilarious. Intentional or not? You be the judge: a pet dog and cat are part of the credited cast -- and an animal wrangler was on set for them! -- The boom is credited to 'Mr B. Stick,' and the 3rd Unit's wardrobe (Yep, they had a third unit) is credited to K-mart. Maybe it's just me, but I think the hilarity of this more than saves the film. The movie is very, very bad, but the goals of Stephanie Beaton, her friends and family are so well-intentioned in 'The Bagman' that you can't help but like the movie they've produced. 'The Bagman' is bad but not dreadful. In its own sweet way, it even manages to be a bit endearing. It wears its flaws so honestly that you can't help but forgive them. \\Better\\\" films that try to hide the flaws are almost worse in a way. I guess this is just a film that knew who its audience was and was produced accordingly.<br /><br />Watch any number of movies and most of them will probably be a lot better than this. Some of them might look cheaper, or have worse acting, or sillier production value. They may not suffer terribly as 'The Bagman' does from awful editing, sound, and foley effects. Mr B. Stick didn't do a very good job. The special effects look to be where most of the money went. They tend to be more funny than gruesome, although when the 'Bagman' is finally unmasked at the end, the make-up job there is surprisingly well done.<br /><br />My 4 out of 10 is a little high but the humour helped a lot. This is an ideal movie to track down some night with a few friends and a few beers in hand. Great entertainment is to be had by anyone who seriously considers themselves B-movie or low budget film aficionados. All others should probably avoid with great prejudice.\"\n",
      "* * * * * * * * * \n",
      "2820\n",
      "i was kinda interested in this movie as a trashy cannibal flick. i was thoroughly disappointed. it was the same kind of disappointment i felt watching 'friday the 13th: jason takes manhattan'. so much potential wasted!<br /><br />the opening scene is a decent attention grabber. then it grinds to a halt. copious breasts and egregious 80s fashion cannot help this movie. the only things eating near this island of cannibal monks are the piranha! i'm not asking for 'cannibal holocaust' level of gore, but i was looking for cheap over-the-top exploitative gore. i got none of that.<br /><br />i found a couple parts of the fight scenes somewhat intriguing, hence the 2 stars. i don't think its really worth the time it takes to watch it, though. i could see showing it at a party where nobody cares about what is going on and you just want something on in the background. but i would not tell anyone, \\oh, dude, you GOTTA see this movie.\\\" it is neither good enough nor bad enough to warrant much attention.\"\n",
      "* * * * * * * * * \n",
      "2845\n",
      "On a distant planet a psychopath is saved from execution by a space monk. He releases a few fellow inmates and breaks out of the prison in a spaceship. They dock onto a ludicrously enormous spacecraft that is orbiting a supernova star. This massive craft is populated by only three people, presumably because the budget of the film did not extend to hiring many actors. Anyway, to cut a long story short, the three goodies end up in a game of cat and mouse with the baddies.<br /><br />The psychopath in this movie is curious in that he is annoying. 'Annoying' is generally not a term one would use to describe a lunatic - unhinged, frightening, dangerous maybe but not 'annoying' but he is. The three people manning the giant ship are seriously unconvincing as warranting such important roles - this ship is practically the size of a city! Considering that the film is set approximately 50 years in the future, it is somewhat optimistic that such a huge man-made craft could exist, never mind the fact that it is used for such a relatively mundane task. Despite the vast size of the spaceship, the crew all have appallingly kitted out, tiny rooms and the dining room consists of what appears to be a plastic table and chairs. But there are a lot of corridors.<br /><br />The film is fairly well acted and it works as an averagey sci-fi thriller. But nothing great.\n",
      "* * * * * * * * * \n",
      "2935\n",
      "In an otherwise good review, loleralacartelort7890 says \\The truth is that the Americans use a secret aluminum-anti-radiation-alloy. It is not that well-known. And the exact specifications are a secret. And why is it a secret: Well, why should they reveal it back then?? If they where in a space race with the Russians, then it would be VERY dumb to reveal that they had new technology that could shield crew against radiation.\\\" This is completely incorrect. There is (and was) no \\\"secret\\\" to radiation protection in Apollo. The design and construction of the Apollo Command Module has long been publicly available. It uses a lightweight \\\"honeycomb\\\" of aluminum and stainless steel. The entire outer surface (except the windows of course) is covered with a heat shield made of a phenolic resin, thicker on the bottom that faces forward during re-entry. These materials are actually *better* at stopping the kind of radiation we have in space (charged particles) than lead, which is better suited to stopping ionizing photons like X-rays and gamma rays.<br /><br />Space radiation is a definite problem for *long term* space flight because of the risk of big solar flares. But it simply wasn't a serious threat to the Apollo astronauts. The Command Module gave them pretty good protection during their brief (1/2 hour or so) passage through the Van Allen belts. They all carried dosimeters so we know exactly how much radiation they each received: no more than 1.5 rem, and usually much less. Of the 24 men who flew to the Moon (12 of whom landed), 18 are still alive. Only two have died from cancer: Alan Shepard (leukemia) and Jack Swigert (bone cancer). The rest died from heart attacks, pancreatitis (Roosa), and a motorcycle accident (Conrad). These are actually pretty good statistics for a group of men now in their late 70s (Shepard would be 86).\"\n",
      "* * * * * * * * * \n",
      "3000\n",
      "I received this movie as a gift, I knew from the DVD cover, this movie are going to be bad.After not watching it for more than a year I finally watched it. what a pathetic movie",
      ".<br /><br />I almost didn't finish watching this bad movie,but it will be unfair of me to write a review without watching the complete movie.<br /><br />Trust me when I say \\ this movie sucks\\\" I am truly shocked that some bad filmmaker wane bee got even financed to make this pathetic movie, But it couldn't have cost more than $20 000 to produce this movie. all you need are a cheap camcorder or a cell phone camera .about 15 people with no acting skills, a scrip that were written by a couple of drunk people.<br /><br />In the fist part of this ultra bad move a reporter (Tara Woodley )run a suppose to be drunk man over on her way to report on a hunted town. He are completely unharmed. They went to a supposed to be abandon house ,but luckily for the it almost complete furnished and a bottle of liquor on the door step happens to be there. just for the supposed to be drunk man but all is not what it seems.<br /><br />Then the supposed drunk man start telling Tara ghost/zombies stories.<br /><br />The fist of his stupid lame stories must be the worst in history.<br /><br />his story<br /><br />Sgt. Ben Draper let one of his soldiers die of complete exhaustion (I think this is what happens)after letting the poor soldier private Wilson do sit ups he let him dig a grave and then the soldier collapse ,Ben Draper<br /><br />buries him in a shallow grave.<br /><br />But Sgt. Ben Draper are in for n big surprise. his wife/girl fiend knows about this and she and her lover kills Sgt. Ben Draper to take revenge on private Wilson.(next to the grave of the soldier he sort off murdered) The soldier wakes up from his grave in the form of zombie and kill them for taking revenge on his behalf.<br /><br />The twist ending were so lame.<br /><br />Even if you like B HORROR movies, don't watch this movie\"\n",
      "* * * * * * * * * \n",
      "3339\n",
      "What a crappy movie! The worst of the worst! This movie is as entertaining as a dead slug. No-talent-what-so-ever-actors, stupid plot. Who wrote this script?! Was there ever a script for this goofy movie or did the director just accidentally press the record-button on his camera and then decided to make the film up as they went along? Is this meant to be a kids movie or a comedy or what? My friends younger brother is in the 6.th grade and him and his classmates just did an amateur-movie for their school-project which outdid this geeky movie.. This is by far the worst film I have seen in my life! There is just no excuse for this flick!\n",
      "* * * * * * * * * \n",
      "3435\n",
      "Sure, it had some of the makings of a good film. The storyline is good, if a bit bland and the acting was good enough though I didn't understand why Olivia d'Abo had such a pronounced Australian accent if her character was supposed to have been raised in the US. My biggest problem, however, was with the wardrobe. I know as rule, the average American is considered a frumpy dresser by any self-respecting European but this was beyond that. Anna's colour combinations were positively ghastly!! And that potato sack-like, sad excuse for a coat she wore throughout the film made me break out in hives. I suppose the idea was to be as realistic as possible (how many school teachers walk around in Prada?) but simple doesn't mean an absolute lack of taste. A word to the wise...\n",
      "* * * * * * * * * \n",
      "3483\n",
      "Lee hosted the 100 Years of Horror for Ted Newsom and was talking about filmic werewolves. He said something to the effect that his only brush with lycanthropy was The Howling II, then he quipped, \\The less said about that the better.\\\" Indeed he was right as this film may very well be the worst in his entire catalog of screen performances. The first Howling by Joe Dante was a groundbreaking werewolf film with its incredible special effects and its campy sense of style and subject matter. It was a film to be taken seriously. Like other good original films, filmmakers for some strange reason thought that even more campy sequels were needed rather than what worked the first time(See CHUD then CHUD II to illustrate this point). This film is miles and miles away from the first on every front. There is absolutely nothing scary about it. It looks cheap and is pitch black through most of the major scenes. Lee is the only actor in the film worth mentioning(okay, I'll cede Ferdy Mayne too). Lee looks embarrassed as he says inane dialog and does ridiculous things(check out that ending with him and Stirba). Lee looks incredibly tired and knows what dreck this is which is a tad more insightful than the two leads who leave America to go to Romania. The story isn't really worth examining here, and you can bet there is very little story worth mentioning when you have to have Stephen Parsons and his band Babel play through much of the film in the beginning and the ending with that dreadful noise. Sybil Danning is here and, yes, she disrobes once and then we get that scene showed again and again and again - one reviewer said 17 times(I counted ten - but might have been so bored out of my mind by that point). I gave the film three stars, but it really deserves a zero - the three I gave it are 1 for Lee and two for Ms. Danning's contributions. Yuck!\"\n",
      "* * * * * * * * * \n",
      "3503\n",
      "Recently, I saw the documentary \\The revolution will not be televised\\\", also know as \\\"Chávez: inside the coup\\\". At first I thought it showed a genuine inside view of events during the Venezuela coup of April 2002. What bothered me though was the fact that the tone of the narration and the accompanying music were suggestive, and that at no point any criticism was expressed about Hugo Chávez. This is peculiar because if a documentary is giving an non-biased account of what happened, there should have been some of that too. After all, Chávez certainly is not a saint. Fortunately, since the documentary is several years old, a lot of additional information is available on the internet nowadays, and it was not difficult to find for instance \\\"Urgent Investigation about Chavez-the coup by the 5 European TV Corporations who financed the film which presents blatant falsehoods about Venezuela.\\\" It lists the many errors and intended or unintended falsifications in the documentary. (Just use the title as a search string in Google, you will find it). Another interesting document was the video registration of a presentation of the findings of the many errors in this documentary, \\\"X-ray of a lie\\\". To me it seems to be a good counterweight to \\\"Chávez: inside the coup\\\" It's available at video.google. I strongly advice you after watching \\\"Chávez: inside the coup\\\" to look at \\\"X-ray of a lie\\\" and then form your opinion. My conclusion is that Kim Bartley and Donnacha O'Brian were (knowingly or not) part in Chávez-propaganda.\"\n",
      "* * * * * * * * * \n",
      "3521\n",
      "I like movies about morally corrupt characters, but this was too much. The acting wasn't great, but that wasn't the real problem. The issue was the sinking feeling I got in the pit of my stomach about 20 minutes into the film. These characters were hollow. They had almost no depth, and what little they did have was devoted to the cruelty they displayed to each other in the guise of friendship. Exploring the darker sides of a set of characters can be fascinating, but you have to give those characters actual personalities or they are just cardboard cutouts. These characters were cardboard and the picture they gave was just ugly.\n",
      "* * * * * * * * * \n",
      "3567\n",
      "The plot of 7EVENTY 5IVE involves college kids who play a cruel phone game that unexpectedly (to them, if not to fans of horror) gets them in over their heads. The STORY of 7EVENTY 5IVE, on the other hand, is that of a horror film that had a wee little bit of promise, sadly outweighed by really bad writing.<br /><br />What could have been a fun, if somewhat silly, old-fashioned slasher tale is derailed early on by its filmmakers' misguided belief that the audience would enjoy watching a bunch of loud, whiny rich kids bitching at each other for most of the film's running time. With the exception of a police detective played by Rutger Hauer, (in a minor role that is designed mainly to add the movie's only star power) every character on screen is a different breed of young A-hole.<br /><br />Male and female, black and white, straight and gay, an entire ensemble of shallow and shrill college kids carries the bulk of the film's narrative. Worse, since the tale deals with a PARTY game gone awry, most of the time the scenes are completely filled with these little b*****ds. Because of this, there are few breaks for the viewer, who must put up with the angry sniping of the thinly-drawn protagonists. Even though at least some of these people are supposedly friends, invariably all characters interact in a very hostile manner, long before any genuine conflict has actually arisen. This leads to the worst possible result in a slasher film: The audience, intended to care about the leads, instead not only cheers on the anonymous killer, but wishes that he had arrived to start picking off the vacuous brats far earlier.<br /><br />The real shame of this poor characterization is that otherwise 7EVENTY 5IVE actually DID have some potential. Visually it's fine. First-time directors Brian Hooks and Deon Taylor know how to build a suspenseful mood. They also manage to deliver on some competent, if sparse, moments of classic 80s-style gore. Surprisingly, the production's cast is also fairly able. It isn't that the actors aren't capable of expressing realistic human emotion; it is simply that the screenplay (co-written by newcomer Vashon Nutt and director Hooks, who fared much better behind the camera than with a keyboard) is short of such moments.<br /><br />7EVENTY 5IVE can hardly be recommended, as its familiar premise and few thrills can't outweigh the bad taste left behind by a story driven by a gaggle of unpleasant characters. In this tepid whodunnit, the real mystery is why anyone should care about a group of young folk who can't even manage to like each other.\n",
      "* * * * * * * * * \n",
      "3611\n",
      "First off, I would like to point out that while I am not an expert, the way the trial was handled will insult your intelligence. Firstly, the prosecution never proved that 'facilitated learning' actually works. Irresponsible for both the prosecution(because they can get an appeal) and the defense for not acting on this. As another commenter said, facilitated learning was proved untrue. Secondly, they used Terry as the translator who has personal interest, and even will testify, in the trial which is just stupid. If the court had allowed him to testify that way, they would have brought in someone neutral otherwise they would be just asking for an appeal. Thirdly, this child was never asked specific questions about the defendant by the prosecution(birthmarks, details of the event, etc.) and even when asked by the defense specific questions like when it started, he could not answer. If that isn't reasonable doubt I don't know what is and a competent lawyer would have gotten an acquittal.<br /><br />Bottom line, it starts off well with the pressures of being the parent of a child with autism, but the trial makes this movie wholly unbelievable.\n",
      "* * * * * * * * * \n",
      "3904\n",
      "A truly unpleasant film. While Rick Baker's special effects are quite impressive (if stomach-turning), it has no other redeeming features. Like many 70s movies, it leaves you feeling as if you need to take a long shower, and scrub the slime off of yourself. The characters are uniformly unpleasant, and plot makes no sense.\n",
      "* * * * * * * * * \n",
      "3914\n",
      "There is an awful lot wrong with this picture, beginning with a script that is both obvious and redundant. Courtney Cox plays a comic book artist who escapes to a small desert town after being raped twice in the big city. She immediately is stalked by a local who appears quite unhinged (Craig Sheffer), and who seems to be attempting a third rate Mickey Rourke imitation. D.B. Sweeny is a local cop, who is supposedly there to protect and serve. Meanwhile, the script manipulates the audience as to who's really the good guy? Logic flies out the window after the first ten minutes and never returns, and there are more unanswered questions than there should be. If you think \\Blue Desert\\\" might be saved by the wonderful Philip Baker Hall, you will be disappointed. His part is insignificant, just like the entire movie. - MERK\"\n",
      "* * * * * * * * * \n",
      "3941\n",
      "This movie could have been great(cause its got a somewhat fascinating premise) but it never rises above sheer caricature. The acting is severely flawed and there were moments where i cringed so severely that i thought i was going to fall of my seat in the theater. Never and I mean never Watch this godawfull piece of .... Danish cinema has been getting a lot of good pr the recent years but if this piece of .... crosses the border I'm afraid nobody sane will ever want to rent a danish movie. This movie is the reason why i chose to register here. I really felt i needed to steer people away from this piece of .... my sympathies go out to the people who already went to the cinema to watch this\n",
      "* * * * * * * * * \n",
      "4033\n",
      "Unbelievably awful film. I watched part of this on T.V. recently. My jaw dropped as I watched a horrendously conceived plot and listened to mind-numbing drivel. Not a single line from the master of one-liners could come close to producing anything resembling a chuckle. It was so bad it made me want to exhume Rodney Dangerfield's body, slap him around and scream, \\How could you?\\\" I know many films are done in haste, hoping to cash in on the popularity of a given actor or theme. But please, Hollywood, show a little respect for your audience. It's sad and scary that people were expected to pay to see such tripe. The bottom of the cesspool, even by Sunday afternoon television standards.\"\n",
      "* * * * * * * * * \n"
     ]
    },
    {
     "name": "stdout",
     "output_type": "stream",
     "text": [
      "4178\n",
      "To heighten the drama of this sudsy maternity ward story, it's set in a special ward for \\difficult cases.\\\" The main story is Loretta Young's; she's on leave from a long prison stretch for murder. Will the doctors save her baby at the cost of her life, or heed her husband's plea for the opposite? Melodrama and sentiment are dominant, and they're not the honest sort, to say the least. For example, just to keep things moving, this hospital has a psycho ward next door to the maternity ward, and lets a woman with a hysterical pregnancy wander about stealing babies.<br /><br />There are just enough laughs and sarcasm for this to be recognizable as a Warners film, mostly from Glenda Farrell, who swigs gin from her hot-water bottle while she waits to have twins that, to her chagrin, she finds there's now a law against selling. An example of her repartee: \\\"Be careful.\\\" Farrell: \\\"It's too late to be careful.\\\" Aline MacMahon is of course wonderfully authoritative as the chief nurse, but don't expect her to be given a dramatic moment.<br /><br />The main theme of the film is that the sight of a baby turns anyone to mush. Even given the obvious limitations, this film should have been better than it is.\"\n",
      "* * * * * * * * * \n",
      "4182\n",
      "After leaving TV's popular \\The Andy Griffith Show\\\", Don Knotts gave movie stardom a valiant try with a series of inane but matinée-pleasing comedy vehicles. Unfortunately, \\\"The Reluctant Astronaut\\\", filmed on the cheap (as were most of Knotts' movies), is much worse than his others. Don plays a small town schnook who gets accepted to Astronaut Training camp...but not as a candidate for space travel--they want him as their new janitor! Some may say the weak satire capitalizes on Americans' then-fresh fever for the new age of technology, but the flick is really just a dim excuse to keep restless children occupied. It gets off to a good start, with an OK set-up and nostalgic locations, but it becomes increasingly more spiritless and idiotic. * from ****\"\n",
      "* * * * * * * * * \n",
      "4262\n",
      "In case half of this film's footage looks strangely familiar, it means you watch way too much of this gory Italian cult-crap! For you see, the notorious demigod Lucio Fulci did not only produce this movie, he also took the liberty of re-using the most sadistic killing sequences in his own (and more easily traceable) \\Cat in the Brain\\\". The opening scene already, in which a prostitute is brutally decapitated with an axe, features in Fulci's later film and so do another handful of killings and sleaze moments. Andrea Bianchi's \\\"Masssacre\\\" fails miserably as a giallo, since the search for the sadistic killer among a movie-crew shooting a horror movie is all but compelling and suspenseful, but it's still good entertainment if you're into cheap 'n shlocky horror trash. The incoherent script introduces a whole bunch of repugnant characters who're all potential maniacs, but none of the red herrings Biachi comes up with are plausible and you can point out the killer almost immediately. Whatever remains to enjoy are the truly misogynous make-up effects and the hilariously awful acting performances of the ensemble cast. Whenever there isn't any bloodshed on screen, like between the first and second murder, \\\"Massacre\\\" is a slow and almost intolerable with its inane dialogs and thoroughly unexciting photography. Thankfully in the second half, there are women getting impaled on fences and males being stabbed repeatedly with rusty spikes. The music is crap and the use of filming locations is very unimaginative. My advise would be to skip this puppy and go straight for the aforementioned \\\"Cat in the Brain\\\". That one features ALL the great moments of \\\"Massacre\\\", and then some.\"\n",
      "* * * * * * * * * \n",
      "4326\n",
      "Considering the limits of this film (The entire movie in one setting - a music studio - only about 5 or 6 actors total) it should have been much better made. IF you have these limits in making a film, how could the lighting be so bad? And the actors were terrible, were talking a hair below the acting in Clerks, except that was an enjoyable movie, this had no substance. Well it tried to, but really fails.<br /><br />It makes attempt to be self-referencing in a couple parts, but the lines were delivered so poorly by the actors it was just bad. And the main character Neal guy, what a pathetic looser. Clearly like 10 people total made this 'film' and they all knew each other, and it probably was a real rock band that they had, but unfortuntly these people really have no idea how terrible they are all around. This was made in 2005, but they all look so naieve it smacks of just pre-grunge era.<br /><br />Thankfully I didn't pay to see this (Starz on Demand delivers again!) but it was under the title \\The Possessed\\\" not Studio 666, it doesn't matter what you do to the title, it can't help this. This could have been a much better made movie - there is no excuse for this bad film-making when you have the obvious limited parameters the filmmakers had when they made this, working within those limits you should make the stuff you can control and the stuff you can work with the best you can. Instead they figured mediocrity would be good enough. And that music video, wow that was bad, I fast fowarded through that.<br /><br />So 2/10 is fair, if you are into the whole b-movie crap I suppose you'll go and see this.\"\n",
      "* * * * * * * * * \n",
      "4361\n",
      "This woman who works as an intern for a photographer goes home and takes a bath where she discovers this hole in the ceiling. So she goes to find out that her neighbor above her is a photographer. This movie could have had a great plot but then the plot drains of any hope. The problem I had with this movie is that every ten seconds, someone is snorting heroin. If they took out the scenes where someone snorts heroin, then this would be a pretty good movie. Every time I thought that a scene was going somewhere, someone inhaled the white powder. It was really lame to have that much drug use in one movie. It pulled attention from the main plot and a great story about a photographer. The lesbian stuff didn't bother me. I was looking for a movie about art. I found a movie about drug use.\n",
      "* * * * * * * * * \n",
      "4404\n",
      "Sugar &Spice is one of the worst movies of 2001. The film tries to cross Heathers and Bring It On and fails . When I saw last January I was so disgusted by the film that I walked and talked on my cell phone to my girlfriend for the last half hour of the movie. I've heard that the DVD has a director's cut maybe I'll check it out, but this PG-13 trash movie is s*** and the worst kind of s***. Maybe if the film had some T&A that would've have made it okay. But the gags are lame and the acting is horrible. Worse than a Troma film.\n",
      "* * * * * * * * * \n",
      "4407\n",
      "In the last 10 years I have worked in 3 different indie professional wrestling organizations, managed many pro wrestlers (including 2 Backyard Wrestling stars), worked on 2 different wrestling TV programs and did voice-overs and commentary for many wrestling DVD's. I have NEVER witnessed the level of outright amateurish stupidity, lack of talent and skill, and shoddy production quality found in Splatter Rampage Wrestling. To even list this as a wrestling video of ANY kind is an outright misuse of the term. Shot with low-dollar video cameras, it's essentially home videos of kids play-fighting in back yards. The sound quality is bad, the video quality is bad, and the acting is horrendous. The \\wrestlers\\\" wear makeshift costumes with hand-drawn tee shirts and ski masks and hit each other with a variety of items and halfway imitate wrestling moves. Sometimes the \\\"matches\\\" are on the grass. Sometimes on a back yard trampoline. ALL are poorly acted and executed with a shameless lack of any wrestling skill. In short, don't bother with this stinker. Whether your interest in this DVD is entertainment or academic (both in my case), you will be terribly disappointed.\"\n",
      "* * * * * * * * * \n",
      "4409\n",
      "I have to admit that I'm a great fan of this show, so you must know how disappointed I got when I watched this movie. First of all, the plot was awful, I thought it was going to be something more interesting, like to see what happened to Arnold fathers, or something more interesting, but NOOOOOOO, a maniac wants to destroy Arnold's house, between many other places, so many people tries to stop this.<br /><br />I must admit that the plot wasn't so bad after all, but what really sucked were the steps that Arnold and his friends do to stop this maniac, they become friends of a spy,; they drive a bus (based on a video game, for God sake), and to worse everything, they make super-moves on the bus, things that many persons had already tried and died, but not Arnold, Gerald and Helga, 'cause they are experts on a video game.<br /><br />Honestly, my mom, my sister, even me got really disappointed after watching this movie, 'cause it was the worst way to finish a really good cartoon. I must admit that I used to enjoy \\Hey Arnold!\\\", it was one of my favorite cartoons on Nickelodeon, but after this crap of movie, I'm not quite sure if I'm going to watch \\\"Hey Arnold!\\\" as I used to watch it on the past.<br /><br />Other thing Nickelodeon, with that enormous number of dynamite I can assure you that not a simple street would explode, I think that the whole city could explode with that, oh, and please, if all of your future movies from good cartoons are going to be like that, don't do more movies, you give a bad critic to cartoons that used to be good.<br /><br />Honestly, I think this was the worst way to end this show, a good show transformed into this crap of movie.\"\n",
      "* * * * * * * * * \n",
      "4520\n",
      "I like Billy Crystal, and I thought it would be fun to watch this film, since I know he admired Alan King and they would be funny together. I thought I had seen all Billy's movies but couldn't remember this one, and now I know why. It's so full of clichés and phony emotion; you can smell each scene coming (and going!). Billy doesn't even get to be funny very often. He's too busy trying to cry fake tears or show his angst at how badly his father let him down. Alan King himself is fairly likable, as is the subplot about being an extra in the movies. But what a coincidence that Billy just happens to visit his father just as a major health crisis takes place, etc. etc. Or that two busy doctors can just shut down their practices to moon around in LA. And when the end comes, boy, does it come quickly! Almost as though the writers realized they had painted themselves into a corner and the only way out was to do a death scene. Mostly disappointing with a few glimmers of good humor.\n",
      "* * * * * * * * * \n",
      "4539\n",
      "I had the (mis)fortune to see this film at a showing in the US. Having reluctantly sat through the entire abysmal thing, I am shocked to have seen so many good reviews here on IMDB. <br /><br />The original film was a turkey, but an interesting one. It fitted into that early seventies, post 1969 revolution thing; this film just stinks of....... , well, nothing really. It's that bad.<br /><br />Imagine a badly done perfume commercial - see what I mean ?<br /><br />Madonna never could act, and has been an embarrassment on the big screen for years. She looks worse and worse with every one of those years, increasingly coming to resemble a skinned meerkat.<br /><br />Guy Ritchie, who has built his \\reputation\\\" on Lock Stock, could never direct either - his movies are shallow, badly cut, fashion shows. He doesn't disappoint here either; he wisely cast his wife as the star of this debacle.<br /><br />Please people, take little heed of the good reviews this movie has received from other posters below. They are quite obviously business plants.<br /><br />Don't encourage Ritchie to humiliate himself further by giving him money.<br /><br />\"\n",
      "* * * * * * * * * \n",
      "4580\n",
      "This is definitely not one of Lucio Fulci's better flicks by any stretch of the imagination. The plot is pretty bad, a millionaire is murdered and his spirt calls upon his daughter to find out who did it. But the biggest problem i have with this (besides knowing who killed him within 10 minutes of watching the movie) was wondering why anyone should even care? The father comes off as being a really big jerk to everyone he came across (including the daughter who he asks to help him) which made it quite hard for anyone to care who killed him. But no one really watches a Fulci flick for a good storyline, to do so would be like watching a porn for incredible script writing and acting. Typically his movies try to compensate for this by adding excessive scenes of gore but even that is lacking in this movie. If you're looking for a good Fulci flick, check out The Beyond.\n",
      "* * * * * * * * * \n",
      "4637\n",
      "This movie makes no sense at all, there are plot holes big enough to drive enormous NYPD vehicles through. The characters do not act in any plausible way whatsoever. I will put my comments in the chat board, but save your time and money, this is stupid. I can't stand when Hollywood spends millions of dollars on flash bang equipment and uses fancy editing and cool music, and does not bother to have a plot that hangs together at even the most basic level. But it is nice to see Denzel W. prevail over the Man, who comes in 3 flavors, Jodi Foster, Mayor Bloomberg and Capt. Von Trapp. There is even a sweet little kid with a video game who is nice.\n",
      "* * * * * * * * * \n",
      "4672\n",
      "Immediately after renting and watching this movie several years ago, a friend and I decided that it defined the absolute zero on the movie scale. There was nothing about the movie that could have been done worse than it was. To this day we still rate movies, even very bad ones, by how much better than \\The Lonely Lady\\\" they are.<br /><br />A long time ago I saw an interview with Eleanor Perry, who wrote the screenplays for, among other things, \\\"Last Summer\\\" and \\\"Diary of a Mad Housewife,\\\" and she related that she had been asked to write a screenplay for the Harold Robbins' book \\\"The Lonely Lady.\\\" She said that she sent in a treatment and it was rejected because they didn't think she understood the difficulties of a female screenwriter in Hollywood. She then said \\\"I think they got someone else to write it.\\\" The interview was filmed before the movie was released. She died in 1981, and I bet the first thing she did on arrival in heaven was personally thank God for saving her from involvement in the result.\"\n",
      "* * * * * * * * * \n",
      "4706\n",
      "This movie was the worst movie ever made on the planet, I like BARNEY more than this movie. The graphics suck, half the movie is animated, the deaths suck, and over all, I was ready to SUE the people that made this movie!PLEASE DO NOT WASTE HOURS OF YOUR LIFE WATCHING THIS MOVIE. The only good part was when the movie ******* ended! This movie is 50 percent Jurassic park, .1 percent Sabretooth, and 49.9 percent DUMB! Please do not waste your time watching this movie, you will regret it.You want to know why this movie sucks? Well, the cover sucked, the graphics sucked, the blood looked ( I mean is) ketchup, the people tried to blow themselves up, the college students think there all that and can stand up to the animal. I mean, there was a 5 ft. tiger running straight at a woman, she throws a spear at it from 100 ft away! WAIT TILL YOU CAN Actually HIT IT! The acting was horrible too. Jurrasic Park is actually a good movie, and this just had to go and ruin it.\n",
      "* * * * * * * * * \n",
      "4803\n",
      "We saw this on the shelf at the local video store, saw \\Coppola\\\" in the credits and got excited. That was the one and only time this movie raised any interest. I could never quite work out if it was an attempt at a humourous film that failed miserably, or an attempt at a serious film that failed miserably. In general, the entire production seemed incredibly amatuerish. The sound in particular was absolutely dreadful, especially in the scenes shot in the little bar; the dialogue was so corny in parts it was unbelievable. Very disappointing.\"\n",
      "* * * * * * * * * \n",
      "4843\n",
      "It's not just the plot alone that makes this movie an instant turn-off for bored audiences. It's the terrible direction with a horrible script and mistakes left and right that makes this too agonizing to watch. I'm sorry but I do not see the 'fun' in this. Just the thrill of pointing the many mistakes and stupid one-liners. Well I'm wondering how dumb the directors think of their producing company when this movie was first introduced. Probably as dumb as that sheriff who dove into the pickup truck full of antifreeze with a gaping bloody wound. Oops! Did I forget to mention this sheriff's not only a poor actor but also can shrug off an impalement with a load of antifreeze drenching the exposed flesh? I guess he kind of forgot when he won a not-so-thrilling victory over the snowman.\n",
      "* * * * * * * * * \n",
      "4869\n",
      "There were a lot of truly great horror movies produced in the seventies - but this film certainly isn't one of them! It's a shame The Child isn't better as it works from a decent idea that takes in a couple of sometimes successful horror themes. We have the idea of a vengeful child, which worked so well in classic films such as The Bad Seed and then we have the central zombie theme, which of course has been the backbone of many a successful horror movie. The plot is basically this: young girl blames a load of people for the death of her mother, so she goes to the graveyard and raises the dead to get revenge (as you do). This is all well and good, except for the fact that it's boring! Nothing happens for most of the film, and although it does pick up at the end with some nice gore; it's not enough of a finale to justify sitting through the rest of it. The film was obviously shot on a budget as the locations look cheap and all the actors are rubbish. There's really not much I can say about the film overall as there isn't much to it. The Child is a dismal seventies horror flick and I certainly don't recommend it.\n",
      "* * * * * * * * * \n",
      "4959\n",
      "The movie is steeped in religion, so it is impossible to separate it from religion in commenting upon it. In my opinion, this movie pretends to explore deep issues, but thrives on stereotypes and prejudices; with little true insight. What the people in the movie (and therefore, the writer) failed to see was grace. They failed to understand that God is the author of beauty and He is the Creator of passion and sexual gratification in the proper context of marriage bonds. To imply that the people of the society in which the story is based believe that nudity is sinful, and both the man & the woman enjoying the act of marriage is dirty, is just an oversimplification. Such stereotypes really don't exist, for even Jewish holy writings speak clearly of the caring husband who will seek his wife's pleasure before his own. Scripture says that a man ought to love his wife as his own flesh, and that no man ever hated his own flesh, but he nourishes and cherishes it. Even if you want to ignore the New Testament, the writers & characters completely ignore that there are passages such as the Song of Solomon in the Old Testament, and the even the book of Proverbs which says, \\Rejoice in the wife of thy youth, let her breasts satisfy you always\\\"! How can that be read in any way other way than that God knows, and approves of, and smiles on, the marital union and the enjoyment thereof? Real men don't ignore the value and needs of their wives. Those that do deny a very basic teaching of the Judeo/Christian religion. God NEVER said those things. It's absurd. Sonia rebelled because of the misapplication of the teachings of the true God of Abraham. It didn't need to be so. How sad. What Sonia desperately needed was TRUTH, not tradition. In knowing, loving and obeying God, we love others more; before ourselves. That is the faith of the God of Abraham, Isaac, Jacob & Joseph; once for all delivered to the Saints; bought & paid for by Jesus Christ, the Righteous. But alright, ignore all this and abandon ancient, holy Scripture and turn to the wisdom of homeless people & ghosts. That's a good plan. I would never recommend this movie; partly because the sexual content is unnecessarily graphic, but also because it really doesn't offer any valuable insight. Check out \\\"Yentl\\\" if you want to see a much more useful treatment of Jewish tradition at odds with society.\"\n",
      "* * * * * * * * * \n",
      "5108\n",
      "I jumped at the chance to view this movie uncut and uninterrupted, remembering rahs and raves for it. But wherever it seemed about to slip into being truly scary, it backed off and went somewhere else. The dripping water throughout the house, the black rain, the prophetic dreams, taking the wrong turn in raw sewage were dropped before they could work up to a scream.<br /><br />What a disappointment. Chamberlain's nearly expressionless mask of a face offered little but confused disbelief, something I found myself mirroring as the film wore on. What could have been eerie Aboriginal chanting and instruments in the background were instead a cacophony seemingly designed to beat terror into one's head. The ideas that modern people can embody ancient gods, that the Aboriginal peoples believe red-haired white men were the first priests, and many other possibilities are passed along more like a shopping list than a hint at another dimension (the Dream Time).<br /><br />[SPOILER] In the final scene, it wasn't clear to me what the director was trying to tell. Is there a big wave? So what? How big? A tsunami? Yeah, okay. That's devastating but not apocalyptic. Is it the end of the world? From a wave? The last wave? That'd have to be a pretty darn big wave. Why? Was the world that bad a place? It didn't seem so awful in this movie. Actually I didn't think the wave came off, since the shadow left Burton's face that had been cast by the wave. Was it only Burton's apocalypse? Heck, that happens every day to people who lose it. It wasn't of any interest if it was only him.<br /><br />The most frightening scene, and the one that gives the best indication of Weir's potential, was in Charlie's apartment where Burton has gone to confront the old man for scaring Burton's wife. Charlie keeps asking him \\Who are you?\\\" and it becomes truly disturbing after a while. Unfortunately, the movie never followed suit.\"\n",
      "* * * * * * * * * \n",
      "5229\n",
      "This is another one of those 'humans vs insects/eco-horror' features; a theme that was popular in the late 70's. Only you can't really call it horror. There's zero suspense and no gruesome events. In other words: this movie is pretty lame. It's not that it's really bad or something; it's just very boring. A construction site near a hotel uncovers a big nest of ants. Later on we learn that, probably due to different sorts of pesticides used in the past, their bite became poisonous. Some people get bitten and rushed to the hospital and it takes ages for the residents of the hospital to figure out what's going on. Robert Foxworth figures it out first and then you can see him go berserk with a digging machine for what seems like several hours. Then they flee in the house, waiting to get rescued. And, man, you should see all the efforts they make for rescuing them. I won't spoil too much, but at one point they even use a big helicopter. All the time when I was watching this, I sat there thinking \\Come on, people, you all got shoes on. Just run out of the building. I'm sure a bunch of ants won't catch up with you.\\\" It's all pretty ridiculous.<br /><br />Of course, lots of close-ups of crawling ants are shown throughout the whole movie. Ants in the garden. Ants in the garbage. Ants in the kitchen. Ants on the roof. Ants in the bedroom. Ants in the sink. And the best part: Ants crawling on people's faces while the actors are breathing through straws. But when you see groups of ants in wider shots, they indeed look like black rice the set designers glued to the wall.<br /><br />One small surprise came near the end. No, it has nothing to do with a twist in the plot. It was just that Brian Dennehy made an appearance as a chief-fireman. Ehrr... What more can I say? This movie is called IT HAPPENED AT LAKEWOOD MANOR but the box-art of my copy read ANTS and the title during the opening credits was PANIC AT LAKEWOOD MANOR. There you have it. Now, since this is a made-for-TV movie from the 70's, I'll be once again extremely mild in my final rating. Now, THE SAVAGE BEES, another 'humans vs insects' TV-movie from 1976 was much better than this one. I even feel I have to go back and add a few points to its rating after having seen ANTS. Lacking suspense, action, thrills, shocks and creepiness, the only thing you'll be left with after seeing ANTS is an annoying itch.\"\n",
      "* * * * * * * * * \n",
      "5356\n",
      "I don't know where to begin. Tara Reid needs to be stopped before she's put in another movie. Stephen Dorff looks like he got his character's motivation from Val Kilmer in \\Top Gun\\\". Slater sleepwalks through this dreck. The direction, editing, sound (do we really need a heavy-metal video in the middle of a gunfight?), costumes (bulletproof vests with muscles on them), and hey, there's no discernible plot either. It amazes me that no one attached to the project stopped and said, \\\"hey guys, this just doesn't make any sense, let's start over\\\". Hopefully Slater's career can rebound from this disaster.<br /><br />Hands down the worst film I've ever seen.\"\n",
      "* * * * * * * * * \n",
      "5357\n",
      "Bizarre take on the Cinderella tale. Terribly poor script, but Kathleen Turner turns in a pretty decent evil step-mother performance.<br /><br />Visually stunning in some parts, but that's about it. The period costumes range from the Elizabethan era to the 1990s. Fast forward until you see something interesting and save yourself the full 90 minutes of drivel.<br /><br />If you're really in the mood for a Cinderella story - I suggest \\Ever After: A Cinderella Story\\\" or \\\"The Glass Slipper\\\".\"\n",
      "* * * * * * * * * \n",
      "5365\n",
      "I have absolutely no knowledge of author Phillipa Pearce or any of her novels and if TOM`S MIDNIGHT GARDEN is typical of her work I probably would have had little interest in her books as a child . When I was a child I wasn`t really interested in litreture unless it had soldiers fighting monsters complete with a high body count <br /><br />Judging by this film version of TOM`S MIDNIGHT GARDEN I guess Pearce writes for lower middle class kids since much of the story of revolves around protagonist Tom Long moving to a house with no garden then suddenly finding a metaphysical one . Having a garden of your own was no doubt something that working class people didn`t have in the 1950s so I guess there`s some political class ridden subtext there somewhere . There`s also a romance involving a young girl called Hattie but again are cynical kids amoured by love stories ? Perhaps the worst criticism is that very little in the way of excitement or adventure happens within the narrative <br /><br />This is a childrens film that seems dated by its source . It`s inoffensive but I`m surprised by its high rating by the IMDB voters . I wonder how many of them would have given it so many high marks if they were 10 year olds who`d just seen the LORD OF THE RINGS trilogy ?\n",
      "* * * * * * * * * \n",
      "5523\n",
      "This movie is suppose to be a mysterious, serious thriller about a man looking for a missing girl. However, 30 minutes into the movie, it turns into a funny, unrealistic story with annoying characters and random scenes. I can't imagine anyone not laughing when Cage randomly Karate kicks that blonde girl or when he \\bear\\\" punches that old lady. The lines, characters, and acting are all poorly done from the get-go. I've always liked Nicolas Cage as an actor, but he has made some terrible movies this year; this being by far the worst one (yet...).<br /><br />I wouldn't recommend this movie to anyone who wants to watch an intense story-gripping thriller. If you really want to enjoy this story, go rent the original. However, if you intend on watching it, get ready to laugh at some of the lines and end scenes rather than taking them seriously; that's the only way you enjoy this film.\"\n",
      "* * * * * * * * * \n",
      "5542\n",
      "In the Fiji islands, the greedy and unscrupulous owner of the Valalola Resort Primal Park invites investors and guests for an opening party of his compound composed of hotel and zoo aiming to find partners for his discoveries. When a bunch of college smalltime thieves puts a virus in the security system to participate in a scavenger hunt, the greatest attractions of the zoo  sabretoothes from the prehistoric age developed from DNA found in fossils  escape, killing the hosts and guards for pleasure.<br /><br />The incredibly lame and cheap \\Attack of the Sabretooth\\\" is one of the worst movies I have recently seen. The characters are awful and not funny or pleasant and the story is a terrible Jurassik Park rip-off with a bad collection of clichés. Basically all the lines and situations are poor and stupid, but the winner is when the guard explains that the sabretoothes are bulimic and like to kill for pleasure. My vote is three.<br /><br />Title (Brazil): \\\"O Ataque do Dente de Sabre\\\" (\\\"The Attack of the Sabretooth\\\")\"\n",
      "* * * * * * * * * \n",
      "5704\n",
      "As far as HEIST movies go, this one is pretty weak. Continuity is pretty lousy, there isn't enough character continuity to really feel like you understand any of the characters. Peter Falk is great, and he is one of the reasons its worth watching. Falk has some great lines, like \\he'll be right back, he goin' buy to some saugages\\\" or something like that... there are a few nice scenes, although they are entirely due to the efforts of the actors. Direction, script, and editing is pretty lousy.\"\n",
      "* * * * * * * * * \n",
      "6049\n",
      "I almost never comment on movies, but I saw the 5 glowing reviews of this \\movie\\\" and decided I had to weigh in with my own review. An instructor of mine received this film in the mail, mixed in with his Academy screeners (AMPAS, aka the guys who vote on the Oscars), and was so floored with how terribly constructed this movie was that he brought it in to our class to demonstrate to us how NOT to put together a movie.<br /><br />This film has no plot, the scenes are horribly, horribly edited (oftentimes using faux \\\"24\\\" style picture-in-picture techniques), and the performances (particularly the lead, who even fails at acting like a bad actress) are for the most part, obnoxious. Someone truly failed to understand the point of an introduction, namely, the setting up of the plot. There is no setup! Halfway through the movie neither myself nor the rest of the class knew what this movie was supposed to be about. The opening crane shot, which sets up some kind of murder, is never addressed, and now that I think about it, was possibly meant to be a flash-forward, with the rest of the film being a flashback, but it cuts from that scene directly to the next without any indication as such.<br /><br />Bah, I could really go on and on. At the very least, this movie gives me renewed confidence in my own film-making ability.\"\n",
      "* * * * * * * * * \n",
      "6124\n",
      "It is incredible that with all of the countless crimes that have been uncovered and laid unequivocally at the doorstep of Marxism, from the Berlin Wall to the Gulag archipelago to the Cultural Revolution to the Khmer Rouge, one still finds admirers of Communist totalitarianism in Hollywood and are still making propaganda in its favor. It just shows the moral depravity of Hollywood.<br /><br />In this particular film a psychotic murderer is glorified. Needless to say that neither his crimes nor his psychotic proclamations were included. That both the director and the actor expect audiences to sit through this seemingly interminable propagandistic film demonstrates the tunnel vision that they have in regards to their object of worship.\n",
      "* * * * * * * * * \n",
      "6214\n",
      "There have been some funny movies about spirits to come out of Hollywood. Cary Grant was an angel in \\The Bishop's Wife\\\" (1947). Of course the best were the Topper movies in the late '30s-early '40s. And, more recently, Warren Beatty's \\\"Heaven Can Wait\\\" (1978), which was a remake of 1941's \\\"Here Comes Mr. Jordan.\\\" These were well-written, funny, entertaining comedies, all of which centered around supernatural creatures like ghosts and angels.<br /><br />Now comes writer-director Jeff Lowell, making his feature film debut with a story of an unlikable, bitchy young woman, Kate (Eva Longoria Parker), who gets killed on her wedding day and then comes back to harass the fledgling spiritualist, Ashley (Lake Bell) who is falling for Kate's fiancé, Henry (Paul Rudd). One thing that is clear at the outset: Longoria Parker is no Constance Bennett (Marion Kerby in the first two \\\"Topper\\\" films), who is the standard against whom all female ghosts are measured.<br /><br />There is a line right at the beginning when Henry's sister, Chloe (Lindsay Sloane) tells Henry, \\\"You don't smile.\\\" That aptly described my situation throughout this film.<br /><br />The main problem with the film is that the script just isn't very funny. But it's made worse by Longoria Parker's presence that just rubbed me the wrong way every time she appeared on the screen. Just to start out with, compounding her lack of comedic talent, she is covered with so much pancake makeup, who knows what she really looks like? Kate gets killed while setting up for her wedding by a falling frozen statue. She's so unreasonable that the angel who instructs her about what her afterlife is about walks out on her (well, she actually just fades out), so Kate finds herself back on earth as a ghost without knowing what her mission is.<br /><br />Chloe wants Henry to snap out of the funk into which he has naturally descended after Kate's death (from what I saw of Kate, he should have felt a wonderful relief), so she introduces him to Ashley, who really doesn't know what she's doing as a spiritualist (she is also a cateress to make ends meet), to see if she can get Henry back in touch with Kate. There's a lot of meshugaas that goes on.<br /><br />The vacuity of the film is epitomized by a \\\"B\\\" story revolving around Ashley's assistant, Dan (Jason Biggs). This is thrown in near the end, but the way Ashley handles it indicates that she's as much of a boob as Kate. Since Dan is apparently attracted to both of these severely flawed women, he deserves whatever he gets.<br /><br />Eventually Kate appears to Ashley and the fun should begin. It doesn't, and more's the pity because in other hands this could have been pretty funny. As it is, Norman Z. McLeod, Constance Bennett, Roland Young, Alan Mowbray, and Co. must be turning over in their graves to see this is what their brilliance in the first two \\\"Topper\\\" films has wrought.\"\n",
      "* * * * * * * * * \n",
      "6248\n",
      "Who are these \\They\\\"- the actors? the filmmakers? Certainly couldn't be the audience- this is among the most air-puffed productions in existence. It's the kind of movie that looks like it was a lot of fun to shoot TOO much fun, nobody is getting any actual work done, and that almost always makes for a movie that's no fun to watch.<br /><br />Ritter dons glasses so as to hammer home his character's status as a sort of doppleganger of the bespectacled Bogdanovich; the scenes with the breezy Ms. Stratten are sweet, but have an embarrassing, look-guys-I'm-dating-the-prom-queen feel to them. Ben Gazzara sports his usual cat's-got-canary grin in a futile attempt to elevate the meager plot, which requires him to pursue Audrey Hepburn with all the interest of a narcoleptic at an insomnia clinic. In the meantime, the budding couple's respective children (nepotism alert: Bogdanovich's daughters) spew cute and pick up some fairly disturbing pointers on 'love' while observing their parents. (Ms. Hepburn, drawing on her dignity, manages to rise above the proceedings- but she has the monumental challenge of playing herself, ostensibly.) Everybody looks great, but so what? It's a movie and we can expect that much, if that's what you're looking for you'd be better off picking up a copy of Vogue.<br /><br />Oh- and it has to be mentioned that Colleen Camp thoroughly annoys, even apart from her singing, which, while competent, is wholly unconvincing... the country and western numbers are woefully mismatched with the standards on the soundtrack. Surely this is NOT what Gershwin (who wrote the song from which the movie's title is derived) had in mind; his stage musicals of the 20's may have been slight, but at least they were long on charm. \\\"They All Laughed\\\" tries to coast on its good intentions, but nobody- least of all Peter Bogdanovich - has the good sense to put on the brakes.<br /><br />Due in no small part to the tragic death of Dorothy Stratten, this movie has a special place in the heart of Mr. Bogdanovich- he even bought it back from its producers, then distributed it on his own and went bankrupt when it didn't prove popular. His rise and fall is among the more sympathetic and tragic of Hollywood stories, so there's no joy in criticizing the film... there _is_ real emotional investment in Ms. Stratten's scenes. But \\\"Laughed\\\" is a faint echo of \\\"The Last Picture Show\\\", \\\"Paper Moon\\\" or \\\"What's Up, Doc\\\"- following \\\"Daisy Miller\\\" and \\\"At Long Last Love\\\", it was a thundering confirmation of the phase from which P.B. has never emerged.<br /><br />All in all, though, the movie is harmless, only a waste of rental. I want to watch people having a good time, I'll go to the park on a sunny day. For filmic expressions of joy and love, I'll stick to Ernest Lubitsch and Jaques Demy...\"\n",
      "* * * * * * * * * \n",
      "6265\n",
      "This reminds me of when I was a born-again believer who was going to be a minister. I never actually thought I would be a minister or even graduate from high school because I was almost positive I would be raptured to Heaven before that would ever happen. That was before I discovered that Christianity was a bunch rubbish. I am now an atheist, and that just proves that the \\once saved always saved\\\" doctorine that Christians tell us is no more real than elves. If it were true then why did I leave after many years of being a devout born again believer? Yes, I really was saved. I prayed that silly sinners prayer with all my heart.<br /><br />If Christians were to read their Bible they would discover that their god thinks like rape, genocide, abortion, and many other atrocities are alright according to him. They might be surprised to learn that no where is the word \\\"rapture\\\" mentioned.\"\n",
      "* * * * * * * * * \n",
      "6319\n",
      "Aside from the horrendous acting and the ridiculous and ludicrous plot, this movie wasn't too bad. Unfortunately, that doesn't leave much movie not to suck. Do not waste your time on this film, even if you find yourself suffering from insomnia, as I did. Watch an infomercial instead.\n",
      "* * * * * * * * * \n",
      "6435\n",
      "What could have been an engaging-and emotionally charged character study is totally undermined by the predictable factor. Fox is OK as Nathaniel Ayers, the Julliard trained musician who dreams of playing with the Walt Disney orchestra until his bouts with schizophrenia drive him into the street and ultimately skid row. Looking for a good story to boost his flagging career, reporter Steve Lopez {Robert \\rehab\\\" Downey } gets to know him and tells his story. Taking every element of the classic \\\"how we hit the skids\\\" movies, borrowing very liberally from \\\"A Beautiful Mind\\\", taking the bogus \\\"feel good\\\" attitude of films like \\\"Rocky\\\"-you pick the sequel number-and whipping up too much 1930s style melodrama all that is left on the screen is a burnt out shell of a movie. It is corny, trite, utterly predictable and plays way too often on our sentiments. I hate to say it, but this is the kind of movie that, if you say you hated it, people will give you bad looks. I really wish I could say something positive about this film, but I really can't. The acting redeems it somewhat, but not enough for me to give it more than one star. Strictly made for TV movie stuff. Not worth your time.\"\n",
      "* * * * * * * * * \n",
      "6449\n",
      "In the first Howling, we are introduced to a world where werewolves exist and are somewhat organized. The plot in that film made some sense; a TV reporter investigates this and attempts to uncover the truth. She ends up having to kill many of them including her boyfriend who becomes one. Then she shows the world that they do exist by transforming on live TV. The special effects were just laughable in the first movie and they don't get any better in this one. Whether it's the transformations or the bad puppets or the cheesy computer graphics showing the superpowers.<br /><br />The plot line isn't all that bad; they must kill the leader of the werewolves for some reason. This won't destroy all werewolves and it really doesn't end the threat from werewolves as it...they just want to kill her. I think there was some cloudy reason for this but it really gets lost in the film.<br /><br />After the film \\ends\\\" we have a 10 minute montauge of the movie we just watched and every other scene is one where the female werewolf leader rips off her top exposing her large breasts while some Devo-esquire band plays to a crowd of werewolves. <br /><br />The only thing that makes this movie even watchable is Christopher Lee.\"\n",
      "* * * * * * * * * \n",
      "6529\n",
      "***SPOILERS*** Let's start with the \\good\\\" of this film--the serviceable acting of Cynthia Rothrock and Richard Norton. The rest of the acting is awful (this isn't aided by the atrocious script). The worst culprit is the villain, Buntao, the head of an Asian crime syndicate (played by Frans Tumbuan). I was laughing my head off as he was expressing his \\\"fury\\\" over having lost a bunch of money; horrid performance. Patrick Muldoon isn't much better, and his \\\"it's a hostile takeover\\\" line (that's the remainder of the title of this film) was delivered about as badly as one could do it. There are no other main characters, but no other actor/actress distinguished him/herself in this film. We next come to the plot. This should tell you all you need to know: In the original \\\"Rage and Honor,\\\" Cynthia Rothrock, who plays Chris Fairchild, was a teacher in the inner city. Now, she's a C.I.A. agent (or was it some other governmental agency--sorry, but this film was so bad that I don't even remember). Hmmm...I can imagine what that C.I.A. application process was like. Interviewer: What past job experience do you have? Chris: I was a teacher. Interviewer: Okay; you're hired! I only give it a \\\"2\\\" because of some decent acting and a nice plot twist at the end (though we know that Tommy (Muldoon), the secret villain, will be caught).\"\n",
      "* * * * * * * * * \n",
      "6665\n",
      "Is this the movie??? Is this what Indians are trying to show?? I think this is one more effort from a sick-minded director to turn down Pakistani soldiers and in fact country....but what we Pakistani's know that we are always ahead of India in every part of our lives...not only in armed counters.<br /><br />Well...this is bad filmed as that of Border in early 1997...and director and writer just tried to overcome a shame of defeat in Kargil by Pakistani armed forces, by creating films like these..<br /><br />One thing is very clear...Whenever there will be an encounter between Pakistan and India....we will win....!!! So Mr. Dutta try to make some good movies instead of Nonsense movies like this\n",
      "* * * * * * * * * \n",
      "6832\n",
      "The movie was completely misleading and the bonus material confirmed my impression that it was a rip-off of Joeseph Conrad's Heart Of Darkness ,the River is replaced by a road and the boat becomes a Jeep and Walter Kurtz is Osama.<br /><br />The claims made on the outside of the DVD box was overt fraud to<br /><br />take this fabricated death of a Journalist and present it as factual<br /><br />while some portions have Muslims supporting the 9/11 attacks for the USA's treatment of Muslims around the world .<br /><br />I alerted the Video store that the movie should be removed from their \\Documentary\\\" section and be placed in the War-drama area for quasi fictional accounts of actual events.\"\n",
      "* * * * * * * * * \n",
      "6899\n",
      "This was one of the worst Wrestlemania's I've seen. It just didn't stand out at all, really. Card wise, I thought it was going to be pretty good, but every match just seemed to fall short.<br /><br />Chris Benoit vs. MVP One of the better matches. Benoit carried it. I just didn't think MVP was that great, but Benoit saved this match. <br /><br />Kane vs. Khali Wow, these two guys don't mix. Or maybe it's Khali and any other person alive don't mix. Awful match.<br /><br />Melina vs. Ashley I'm not a fan of female wrestling.<br /><br />ECW Originals vs. New Breed I was excited about this match, until I saw it. Really, Really disappointing.<br /><br />Edge vs. CM Punk vs. King Booker vs. Jeff Hardy vs. Matt Hardy vs. Mr. Kennedy vs. Finlay vs. Randy Orton Absolutely the worst MITB match so far. Just a major let down, to many people in the ring at the same time. It just didn't live up.<br /><br />Bobby Lashley vs. Umaga O.K. not extremely impressive, but not the worst of the night.<br /><br />Batista vs. Undertaker This was maybe the best match of the night. Very, very, very nice to see something good for a change. <br /><br />John Cena vs. Shawn Michaels I really feel like this match deserved to be last. People make a case for Batista vs. Undertaker, but this match was just as good. I am starting to get sick of seeing Cena win every match though. It's getting a little old. Now, I have to say, I feel this match is the best of the night, but I'm a huge Shawn Michaels fan, so I'm a little biased. Batista vs. 'Taker may have been better, but I'm biased, so...sorry. The last two were undoubtedly the best matches of the night and most everything else really came up short.\n",
      "* * * * * * * * * \n",
      "7017\n",
      "I've tried to like this film, really. In watching it, all I can think is, \\This guy gives me the creeps, I would have gotten a restraining order\\\". It also calls out CODEPENDENCE in capital letters. Was this really the conversation before making the movie? \\\"Let's make a film that puts two chronically depressed, socially inept people into a relationship which deepens their isolation and encourages them to complain about how bad their lives are!\\\" From what I've seen in life is that the last thing on earth we find attractive in a potential mate is constant self-pity. <br /><br />The mood of the movie is distinctly 80-ish; brooding and slow. Don't get me wrong, the film has its moments, just very few of them.\"\n",
      "* * * * * * * * * \n",
      "7159\n",
      "This version moved a little slow for my taste and I suppose I have problems with this play to begin with. But first the movie, it's a typical TV movie version of a play which means it doesn't have the flair of the original film version with William Holden. What they couldn't afford to hire more than twelve people as extras? Why move the movie up to 1966? So you could give the little sister a line about the Vietnam war protests? Why not 1963 and give her a line about the civil rights movement?<br /><br />As for the casting, some hits some misses. Jay O. Sanders hit the right notes for his character especially with his scenes with Josh Brolin. Brolin on the other hand miss a lot of the notes. He's believable as an ex-BMOC jock but he doesn't have the raw sensuality of William Holden. I always thought Brolin looks a little bit like a gorilla to have all the women in town go ape over him (pardon the pun). Gretchen Moll was lovely but she seemed a little too wise for the character she played. She didn't project the innocence or ignorance that the character required. Maybe it's because she and Brolin were about 5 years older than the characters should be. But then again Holden was ten years too old. Bonnie Bedelia was rather forgettable as the mother and Mary Steenburgen can't seem to make up her mind whether she was playing Blanche duBois or Katharine from \\The Taming of The Shrew\\\".<br /><br />As for Mr. Inge's play, I always felt that stories like this of a young woman choosing passion over practicality always needed an epilogue. \\\"The Twilight Zone\\\" I believe offer a likely epilogue with the episode, \\\"Spur of the Moment\\\" where a young Diana Hyland was being chased by a bitter older Diana Hyland, because the younger Diana Hyland chose to run off with a guy similar to Hal Carter.\"\n",
      "* * * * * * * * * \n",
      "7339\n",
      "While not as bad as his game-to-movie adaptations, this hunk of crud doesn't fare much better.<br /><br />Boll seems to have a pathological inability to accept that he doesn't make good movies. One of these days he'll run out of money and stop inflicting the world with his bombs.<br /><br />The acting was sub-par, the dialog sounded like they were reading TelePrompTers and Boll's special little 'touches' were seen throughout the whole thing.<br /><br />Like all Uwe Boll movies, this one just shouldn't exist.<br /><br />Plain and simple.<br /><br />Just like Uwe Boll himself shouldn't exist. >_>\n",
      "* * * * * * * * * \n"
     ]
    },
    {
     "name": "stdout",
     "output_type": "stream",
     "text": [
      "7680\n",
      "For the record, this film is intriguing but its hardly original. Back in 1998 a movie starring Talia Shire called The Landlady had almost the exact same plot but with younger characters.<br /><br />The story is Amanda Lear has had a bad life, abusive father, horny doctor, mental homes, etc. She's finally released from the happy home under the guidance of her perverted doctor...who she anally abuses and kills the poor guy. (now THAT was original) The doctor had financed a mansion for her before she killed him and buried the sucker in the backyard. After moving in she falls in love with a stud named Richard, who just happens to be married to a blues singer. If you've seen The Landlady you know the rest, she kills or tries to kill anyone that gets in between her and Richard (including a roadie).<br /><br />Much of the idea's came from the previous movie, same idiot sidekick that sticks his nose in, same spying on the guy with a bowl of popcorn, same flying a bodypress. It did have some original material, the beer bottle thing was brutal. The highlight of the movie was Amanda's beautiful breasts in the hot-top scene. Somewhat of a ripoff but not a total waste of time.<br /><br />4 out of 10\n",
      "* * * * * * * * * \n",
      "7788\n",
      "By rights, there should never have been a \\First Blood Part II\\\". The original script for \\\"First Blood\\\" had John Rambo committing suicide at the end of the film, but this was changed to allow him to live, not because the producers wanted to make a sequel but because test audiences found the original ending too depressing. Nevertheless, someone obviously thought that the character was too good to waste, because he ended up as the hero of two more films in the eighties, plus the recently released fourth instalment.<br /><br />The official title of this film was \\\"Rambo: First Blood Part II\\\", but it is more commonly known simply as \\\"Rambo\\\". It starts with the title character in jail, where he is presumably expiating the crimes he committed in \\\"First Blood\\\", although this is never made too explicit. He is removed from prison by his former commanding officer, Colonel Trautman, for a secret mission. Rambo is to return to Vietnam to investigate reports that American POWs are still being held captive by the Communist regime. He is under strict instructions not to attempt to rescue any prisoners or to engage the enemy; his is to be simply a fact-finding mission.<br /><br />What Rambo does not realise is that he is being set up, not by Trautman, who is portrayed as brave, honourable and incorruptible, but by the organiser of the mission, a military bureaucrat named Murdock. Murdock intends that the mission will prove that there are no American prisoners in Vietnam, partly because that will improve relationships between the American and Vietnamese governments, partly because it will make his own life easier. Unfortunately for Murdock, Rambo discovers that not only are Americans still being held prisoner, they are also being kept in hellish conditions. Of course, he is far too much of a hero to leave them to their fate, and tries to rescue them. The rest of the film is more or less one long battle between Rambo and a few allies (including a beautiful Vietnamese girl) and the evil commie soldiers and their Russian allies. Most of the evil commies, of course, end up dead, although I was surprised to learn from your \\\"trivia\\\" section that the total death toll was as low as 67. At times it seemed as though Rambo was trying to wipe out the entire Vietnamese army.<br /><br />The tone of this film is very different from the first. In \\\"First Blood\\\" Rambo was unquestionably a criminal, even though his responsibility for his crimes was lessened by severe provocation and by his mental instability. In \\\"Rambo\\\" he is a bona fide all-American hero. A few years earlier the director, George Pan Cosmatos, had made \\\"The Cassandra Crossing\\\", a biased piece of left-wing anti-American propaganda. Cosmatos, however, was nothing if not versatile, and \\\"Rambo\\\" proves that he could also turn his hand to biased right-wing pro-American propaganda. The one thing the two films have in common is that both are laughably bad.<br /><br />\\\"First Blood\\\" had its faults, but it also had its virtues. Its stance, that the anti-war movement was partly to blame for the problems faced by Vietnam vets in readjusting to civilian life, was a controversial one, but at least the film was trying to make a statement about war, social attitudes to war, and the roots of violence in society. \\\"Rambo\\\", by contrast, has very few virtues, except that the action sequences are well enough done to please those who like that sort of thing. It is essentially a sort of jingoistic revenge fantasy for those Americans who were still sore about the Vietnam war. Rambo re-fights the war single-handed, and this time the right side wins. Take that, Charlie Cong! <br /><br />By this point, no doubt, the film's admirers (and there seem to be plenty- more than 2,000 voters have already given it ten stars) will have concluded that I am a liberal commie-loving pinko. Far from it- in fact, I have always despised Communism as a pernicious ideology. What I dislike about the film is not its politics but its lack of subtlety and its suggestion that the solution to all problems, including ideological disputes, is to go in with all guns blazing and to try and kill as many people as possible. It makes no attempt to understand the political complexities of South-East Asia or why not everyone in the region was pro-American. For all its anti-Communism, the film is the sort of moronic sledgehammer propaganda that the Communists were very good at churning out themselves- except that they attributed all the world's problems to Capitalism, or Imperialism, or Revisionism, or whatever other ism they had taken a dislike to. Compared to \\\"Rambo\\\", \\\"The Green Berets\\\" was a masterly piece of political analysis. 3/10\"\n",
      "* * * * * * * * * \n",
      "7911\n",
      "I was fooled to rent this movie by its impressive cover. Alas. It is easily one of the worst movies ever made. Judging by the acting of the film characters, it's more a comedy than a horror film. No surprise why no one else has written comments on the imdb. Avoid it.\n",
      "* * * * * * * * * \n",
      "7929\n",
      "For those looking for a sequel for the fine South African miniseries of the 1980s, this isn't it. Nor is it a historical drama. Rather, it is a dreary little fantasy which has nothing to do with the historical Shaka, but merely uses his name to give a certain cachet to Sinclair's idiotic story about an African superhero who is a combination of Jesus, Lincoln, Superman, and Nelson Mandela.<br /><br />On the other hand, there are a few laugh-out-loud moments, as when Shaka breaks the cross to which he is chained and kicks some serious slaver butt. You know, like Jesus would have done if he hadn't been such a wimp.<br /><br />True, I saw only the 98-minute version, but I can't imagine that twice as much of this crap would have been better.<br /><br />And what kind of a name is Mungo?!\n",
      "* * * * * * * * * \n",
      "7940\n",
      "\\Ask the Dust\\\" looked intriguing from the trailer, and we especially like all of the actors. Unfortunately, the movie was not compelling enough to be considered drama, and it wasn't funny enough to be a comedy. It practically seemed to satirize itself, and to no entertaining effect. After seventy minutes of waiting for this thing to get better, my wife and I walked out, valuing not having wasted any more time on such nonsense. It simply was not interesting, moving, funny nor artistic. It appears as though it were written, produced and directed by a high school kid; worse yet, it was such a shameful waste of otherwise extraordinarily talented actors, not to mention our time and money.\"\n",
      "* * * * * * * * * \n",
      "7997\n",
      "I saw this feature as part of the Asian American Film Festival in New York and was horrified by the graphic, sado-masochistic, child pornography that I witnessed. The story line is hidden beneath way too many graphic sex scenes - and, not one is in the least bit erotic - sick is the more the feeling. The director seemed to be going for shock value rather the exploring the various levels of why these characters are like this. See it if you can stomach it - I still have flashbacks.\n",
      "* * * * * * * * * \n",
      "8072\n",
      "I watched this with a growing sense of unease. Why would God, in the shape of Ian Hunter, help these particular people in their attempted escape from Devils Island ? And what was he doing there in the first place ? I mean, I know God works in mysterious ways, but helping thieves and murderers and prostitutes find redemption, forgiveness and changes-of-heart in such a godforsaken location.... In any event it is hardly a likeable movie. Whatever Gable had by way of charm is missing in this portrait of a thoroughly selfish man, Crawford is as endearing as ever she was i.e. to me, not at all, and the whole look of the film makes it seem as if it was made 10 years before.Compared to contemperaneous films like \\Stagecoach\\\" and \\\"Mr. Deeds Goes to Town\\\", this looks prehistoric.\"\n",
      "* * * * * * * * * \n",
      "8116\n",
      "I grew up Baptist and I know the story this movie is trying to tell, although I no longer believe the story. I'll give the movie kudos for being as good as the average Lifetime Movie of the Week. Mildly interesting, mediocre acting, a bit slow, the script is predictable, the music is sappy, and it is a bit melodramatic. And all the people left behind have got to be the squeakiest clean non-Christians, ever. Not a single curse word from any of them. But I laughed out loud when the actor playing the man who runs the United Nations pronounced \\nuclear\\\" as \\\"nu-cu-ler,\\\" just like Bush. Is there some Christian code of honor that mandates that since Bush claims he, too, is called by God, that all Christians must cover up his ignorance by mispronouncing that word the same way he does? LOL! I really had a difficult time taking the movie seriously at all after that. After the \\\"nu-cu-ler\\\" incident, the movie began to feel like packaged, manipulative propaganda. I was looking for something bold. Actually, I was looking for something that might make me think, but I didn't find it here. If you're looking for mindless entertainment, stop here - it's good for killing a rainy afternoon. But if you're looking for intelligence, look elsewhere.\"\n",
      "* * * * * * * * * \n",
      "8304\n",
      "Bo is Jane Parker, whose long-lost anthropologist father (Richard Harris, in the worst role of a very inconsistent career) is in Africa studying something or another. She tracks him down (how?) and he tells her of the natives' stories of a giant monster whose nightly howling can be heard throughout the jungle. Turns out to be the Ape Man himself (Miles O'Keeffe, who has the film's best dialogue), who rescues her from bad guys and falls in love with her, leaving them just enough time in this agonizing two hours to romp naked while a horny monkey looks on and cheers. Normally I'm very open-minded to varying opinions about any film, but this is the sole exception. This is the worst film ever made. If you don't agree, you haven't seen it. (Notes: Newsday called it \\unendurable,\\\" which is the best one-word summary I can think of. The Maltin Movie Guide comments that they almost had to think of a rating lower than BOMB.)\"\n",
      "* * * * * * * * * \n",
      "8314\n",
      "Stereotypical send up of slasher flicks falls far short as supposed entertainment. Gerrit Graham, Michael Lerner, Zane Busby, and in fact the entire cast are totally wasted. Lame jokes abound, and every punch line is well telegraphed. The dumb one liners come at a fast pace, and almost every one falls flat as a squashed grape. The musical numbers only contribute to the boredom that sets in and lingers for the entire movie. Another negative is the claustrophobic setting entirely within the walls of an abandoned high school. Avoid this and seek out one of \\Lampoon's\\\" truly funny films like \\\"National Lampoon's Golddiggers\\\" - MERK\"\n",
      "* * * * * * * * * \n",
      "8320\n",
      "it got switched off before the opening credits had even finished appearing. The first joke was just so appallingly lame and dreadfully acted that it had to go. You shouldn't really decide to watch this based on my review or not. I saw so little of it I shouldn't even really be commenting but suddenly it all became clear why the video shop guy was sniggering at us paying money to see it.<br /><br />Couldn't they have just made Earnest does Dallas?\n",
      "* * * * * * * * * \n",
      "8514\n",
      "This may very well be the worst movie I'll see if I live to be 100. I think a group of first-graders could have come up with better plot lines as a class project than this. I'm dumber for having watched it, and God have mercy on the souls who were paid to produce this film.<br /><br />And after I finally turned it off, I actually had the urge to vomit.<br /><br />No one had a clue about photography when made this. No one had a clue about acting. No one had a clue about just about anything.<br /><br />I can't believe F/X shows this crap on occasion. The only time I had seen it was on one of the Starz! channels - not even the main one. And it was on at about 3 a.m. at that.\n",
      "* * * * * * * * * \n",
      "8684\n",
      "There's no denying the first Azumi film was a commercial product; it was an adaptation of a popular manga and had cast of young, attractive actors and certainly wasn't lacking in the budget department. Yet it more than entertained for what it was, and I can't deny I enjoyed it immensely.<br /><br />\\Azumi 2\\\" lacks just about everything that made the original so wonderful. The first thing that should set alarm bells ringing is the absence of the superb Ryuhei Kitamura at the helm. With him, he seemed to take not only his own visual flair and kinetics, but the originals style, beauty and most importantly, its heart. While the first had a simple \\\"hitlist\\\" plot, this one has a corkscrew mess of a story, with too many dull characters stabbing each other in the back so many times the potential for any sympathy or pathos is obliterated. Gone is the effective interplay between the lead characters; Azumi and her cohorts are often reduced to a bunch of stroppy teenagers arguing in a forest. Characterisation is non existent; if anyone watching actually cares who lives and who dies, I'll be shocked. The same applies to the villains here. The final battle - in fact all the battles - are completely devoid of any sort of tension. The fact that they are poorly choreographed and abysmally directed - not to mention few and far between - is made a sideline by their own sheer pointlessness. The villains themselves try far too hard to be campy, and even if they were all combined, they don't come within a country mile of the Pete Burnsian antics of Jo Odagiri in the original.<br /><br />####Major Spoiler at end of paragraph!##### <br /><br />Aya Ueto tries her best it has to be said, and she also managed to keep her hair in good condition between the films. Azumi is now a fully fledged assassin, meaning she can wave her sword around in slow motion; unfortunately, now the character is instilled with a sort of Man With No Name style mysteriousness, Ueto's model looks become even more inappropriate. I know this is supposed to be the point, but this combined with the ineffectiveness of everyone else in the film, the stupidity of the plot and the general ineptness of the film in general means it is downright impossible to get behind her character this time around. The less said about Chiaki \\\"Remember me from Kill Bill\\\" Kuriyama's performance the better; it suffices to say her \\\"turn\\\" from good to evil is about as subtle as napalm.<br /><br />Overall, this was just a colossal disappointment. Any merits is does have were done ten times better in the first film. A lazy, unsatisfying - and generally downright boring - mess.\"\n",
      "* * * * * * * * * \n",
      "8766\n",
      "I own 2 home entertainment stores and I've seen a lot of bad movies in my time but this one was so bad it compelled me to register here and comment on it. How bad was it? Let's just say that Sofia Coppola deserved an Oscar for her performance in Godfather III when compared to Giada Colagrande's in this movie.<br /><br />It was robotic and uninspired. Her lover has just died one month prior to her arrival at the 'Rubber House' he had given her. Once there, she discovers he has cheated on her throughout her relationship but none of it seems to register with her. Within a day, she starts a relationship with Leslie, (Dafoe) the caretaker of the house. Even though she is married to Dafoe off screen, her scenes with him were cold and unemotional.<br /><br />If there was a plot, I missed it. Not even Willem Dafoe could save this movie from the amateur, cinematic train wreck that it is.\n",
      "* * * * * * * * * \n",
      "8881\n",
      "As a big fan of David Mamet's films and plays, especially his first film House of Games that also starred Joe Mantegna, I was expecting great things from this film. Instead, I found myself annoyed by the film's superficiality and lack of credibility. Racial slurs are thrown about without any feeling or meaning behind them, in the hopes of setting up a racial tension that for me never materialized. Identity is totally reevaluated and men become \\heroes\\\" for no apparent reason. Because of his oaths taken as a cop, the lead character adamantly refuses to perform one relatively small action that would harm no one and could possibly save lives, and yet performs another action which is very violent and VERY illegal, but then still refuses the minor action. In addition, a highly unbelievable subplot involving a man who has killed his family is introduced just for the sake of a plot point that was all but advertised with skywriting, and the cop's reaction to that occurrence stretch credulity way beyond all reasonable limits. Needless to say, after expecting another exciting thriller from David Mamet, I was extremely disappointed to say the least. 3 out of 10.\"\n",
      "* * * * * * * * * \n",
      "9016\n",
      "I wanted to punch the TV. Watching it was torture. I hated it. Never watch this movie. The terrorists are annoying. Adam Sandler is annoying. I normally like him but not in this one. I wanted to break the DVD. This is the most irritating film in the world. The comedian he's jealous of is obnoxious. The only remotely funny part is the rocker with the black teeth getting all the girls. It was so irritating I wanted to punch the TV. DO NOT BUY THIS MOVIE UNLESS YOU WANT TO ANNOY SOMEONE. If you even like Adam Sandler a little bit, Don't buy it. It will just make you hate him. Do yourself a favor, if you see it in the store, hide it to put everyone out of danger of buying it. Its a waste of the $1.99 I paid for it.\n",
      "* * * * * * * * * \n",
      "9029\n",
      "This film has its share of negative comments and I have to agree with those who consider it one of the worst movies ever made. True, most of the films based on the works of King are pretty bad, but this one goes beyond bad into the realm of horrible. There is not one scary moment in it unless you consider stupidity scary. It is typical King garbage -- myths twisted around that made no sense in the first place, mixed with obvious and belabored so-called \\scares\\\" that are about as shocking as PeeWee's Playhouse (which, at least, is entertaining). It is full of ridiculous moments, not the least of which is Alice Krige's character. When she goes on a rampage and starts quipping like the villain in an old Batman TV show, it is so absurd as to be sickening. All the people who had cameos in this (including John Landis)are lucky they still have careers. But the most absurd part has to be the cat costumes towards the end, which look like cheap rubber outfits someone bought at K-mart. The best part of the movie is the appearance of some real cats who actually out-act the people in the movie.\"\n",
      "* * * * * * * * * \n",
      "9068\n",
      "The American Humane Association, which is the source of the familiar disclaimer \\No animals were harmed...\\\" (the registered trademark of the AHA), began to monitor the use of animals in film production more than 60 years ago, after a blindfolded horse was forced to leap to its death from the top of a cliff for a shot in the film Jesse James (1939). Needless to say, the atrocious act kills the whole entertainment aspect of this film for me. I suppose one could say that at least the horse didn't die in vain, since it was the beginning of the public waking up to the callous and horrendous pain caused animals for the glory of movie making, but I can't help but feel that if the poor animal had a choice, this sure wouldn't have been the path he would have taken!\"\n",
      "* * * * * * * * * \n",
      "9125\n",
      "In 1979 Lucio Fulci released his film Zombi. However, due to the earlier import of George Romero's Dawn of the Dead, which had gone by that name for its Italian release, it was retitled to Zombi 2. (Which also had the bonus of letting the audience think this was a sequel to the second Romero movie). Continuing this theme, the second Zombi film, which would have been called Zombi 2, was then consequently titled Zombi 3. In the UK, the original Zombi film (that is, Zombi 2) was titled \\Zombie Flesh Eaters\\\". To continue THIS theme, the second Zombi film (Zombi 3) was then titled \\\"Zombie Flesh Eaters 2\\\" for its UK release. (Are you following all this?) So if Zombie Flesh Eaters was Fulci's Dawn, then is 2 his Day of the Dead? While this is only a flippant observation, this tale of military compounds, helicopters and a plodding narrative certainly does bear a vague thematic resemblance.<br /><br />Some of Fulci's European direction compels in a film like this, but the acting, dubbing and exposition-heavy script are absolutely horrendous. Its ecological message is so forced and overstated it can no longer be considered a subtext, while there's an (unintentionally) hilarious Birds homage. Combining this last element with MOR 80s rock is not a good idea. For some reason I couldn't stop thinking of Time of the Apes (q.v.) the whole time I was watching this. This is obviously not a good thing.<br /><br />While there's nothing here to rival topless scuba-diving, shark wrestling zombies and eyeballs on a splinter, Fulci's misogynistic leanings do get a work out with a hotel cleaner's mouth being ground into a mirror until it gushes blood. His fannish gore predilections also see a hand severing. Both themes are combined when a woman's face is ripped off, first by one zombie, then a zombie foetus that tears out of a pregnant woman's stomach.<br /><br />Production-wise, this is obviously a step up from Zombi, coming five years later. (Nine years in worldwide release terms). But without the original's low-key charm it struggles, while Stefano Mainetti's music is inappropriate and uninspired. Fabio Frizzi's score was one of the best things about the '79 movie. Here zombie attacks are played out to what sounds unnervingly like Bonnie Tyler's \\\"Holding Out For A Hero\\\". In the middle of this carnage we get an irksome love interest, and Roger and Kenny, two bland macho types who do everything with acrobatic urgency and constantly state the obvious. (\\\"We're out of ammunition\\\" to a stalling gun is a particular standout). But where it also falls down is in the zombies themselves. Low key or not, Fulci's original had truly magnificent, rotting zombies. Skull faces, worms in eye sockets... they really were something to behold. By contrast, this dull follow-up opts for the more traditional \\\"men with a bit of paint on their faces\\\" option. <br /><br />The climax rips off too many Romero movies to even be funny, while the use of the DJ is a crass and cheap narrative device. Not containing the same elements of outrage and gratuitous nudity of the first, this is unlikely to have the same cult appeal. <br /><br />It turns out that Fulci actually walked out on the project after reportedly directing just fifteen minutes, the rest filmed by Bruno Mattei. I'm fairly sure that even Fulci would have balked at the ludicrous \\\"flying zombie head\\\" scene, and so credit to the director for having the good sense to leave. Unfortunately, however, it's his name that's above the film title on releases, so the majority of people will be left with the impression that this is a Fulci film through and through. On that scale then it's a major setback for him, for this movie commits what you imagine Fulci would regard as the worst crime of all: that of being boring.\"\n",
      "* * * * * * * * * \n",
      "9232\n",
      "I was so excited when I discovered this was available! I couldn't wait to see it. What a waste of energy! It's kind of like that rarities CD by your favorite band you found in the back of the rack at your local music store. Being a hard core fan you were certain that it was a valuable discovery. But once you heard it it became obvious why these dogs never made it onto a real album. This DVD is only recommended for 'completionists' who must have everything Lynch has done. \\Six Men Getting Sick\\\" is somewhat visually interesting but short and repetitive. It lacks the power of Lynch's later work \\\"The Grandmother\\\" is quite simply an immature work. It's tedious and looks like a student film. But it was the 70's...It's interesting only if you hope to psychoanalyze the director. But you can see, briefly, the seeds of some of his trademark images and sounds. \\\"The Alpahabet\\\" is forgettable (No really! I can't remember this one at all!) \\\"The Amputee\\\" is pointless. \\\"The Cowboy and the Frenchman\\\" is just plain silly. \\\"Lumiere\\\" is the only worthwhile one in the bunch. Without dialog Lynch tells a disturbing tale comparable with his best work. I had to watch this one several times. But it runs less than 2 minutes. Hardly worth the trouble of renting or buying the DVD.\"\n",
      "* * * * * * * * * \n",
      "9328\n",
      "Did Francis Ford Coppola have a brain aneurysm some time after directing \\Apocalypse Now\\\" that made him absolutely incapable of making a good movie? <br /><br />You have to wonder what the director of \\\"The Godfather\\\" and \\\"The Conversation\\\" was thinking when he made this flabby film. It gives Kathleen Turner a starring vehicle, playing a woman who travels back in time and gets to redo her adolescence knowing all of the things that life as an adult has taught her, and Turner, the trooper that she is, does what she can with it, but this movie couldn't be saved by anyone.<br /><br />It doesn't even have any style to it, and, given its director, one would expect that even if it had nothing else, it would have that.<br /><br />Grade: C-\"\n",
      "* * * * * * * * * \n",
      "9480\n",
      "The basic formula for the original series was; take someone, get the audience to like them, then put them into Mortal danger. This formula worked for the 32 episodes made between 1964-68. <br /><br />Now, we jump forward 40 years to 2004.. We are introduced to Alan Tracy, a somewhat less-than-diligent college school kid, with his friend, Fermat, a young know-it-all. They are whisked off by Lady Penelope in her pink Ford Thunderbird to the island paradise where the Tracy Family live, for the school holidays. Almost immediately, they are left in the care of Kyrano and his daughter, Tin-Tin whilst the adults go to rescue John from Thunderbird 5 which has been damaged by a staged accident. This is all part of The Hood's scheme to take over Tracy Island so that he can steal the Thunderbird machines ...<br /><br />",
      "To rob a bank!<br /><br />Yes. The plot IS as limp as that!<br /><br />The dialogue is banal, the acting more wooden than that of the (fibreglass) puppets, the effects, anything but special and Hans Zimmer's score",
      "? What little there was of Barry Gray's glorious theme shone through Zimmer's lackluster orchestration. The rest of the score was eminently forgettable. In fact, part of the score was broadcast the following week on the radio and didn't recognise it! I didn't even bother to stay to witness Busted's mediocre efforts with the end titles<br /><br />To be fair, Ron Cook worked quite well as Parker, he and Sophia Myles as Penelope seemed wasted. With the right material, they could have been show stoppers. The CGI work was what I would have called leading edge - 5 years ago.<br /><br />The Dynamics of the main craft were just wrong; The original series models at least moved as if they had mass<br /><br />Another sore point is that the whole production seemed to be one long set of product placements, from every vehicle being built by Ford to the entire content of the Tracy Freezer being produced by Ben & Jerry's.<br /><br />My son (9) enjoyed the film but this cross between Spy Kids and 'Clockstoppers', aimed squarely at his age group, added nothing to the Thunderbirds legend. When Star Trek hit the big screen in 1979 with 'The Motion Picture', a whole new lease of life was breathed into the franchise which then continued for another 20 years or so. With this film, Frakes has missed a golden opportunity to do the same with the Thunderbirds franchise.<br /><br />I predict that this film, like 'The Avengers' and 'the Saint' before it, will sink into obscurity within 6 months, leaving the original series to its 'classic' status.\n",
      "* * * * * * * * * \n",
      "9818\n",
      "As an Army veteran, I was deeply offended by this film. In my opinion, it is a disgrace to those who fought in the Vietnam war. To say that the real SF soldiers I knew were offended by this crap is an understatement. If the film were presented as satire or even as a cartoon (it was), it would have been better received. But it was taken seriously my many people, especially overseas. Silly as it sounds, wherever I went in Europe in the late 80's people seemed to judge me and Americans in general by this film. Unrealistic? Hmm, let's see. A monosyllabic, muscle-bound cretin is pulled off a prison work gang to go on a secret mission to SE Asia to free some American POW's. In a running battle he kills about 500 enemy soldiers with an M-60 machine gun that never runs out of ammo and never overheats. And he never misses, running with a 32lb gun held up with one arm. I could go on, but I'm getting a headache. I gave this a 2/10 only because it's slightly better than Rambo III.\n",
      "* * * * * * * * * \n",
      "9821\n",
      "Is it just me or is that kid really annoying?<br /><br />Hideos sister, spends most of her time running around after the disobedient little so and so. As for him, well, I know he's a kid n all, but his acting ability is about as wooden as a dead tree. So far I'm only half way through, and am fascinated by the story, but the people in it, let it down, I just hope it gets better by the end, as I can't not know what it's all about. Although, some supposedly cryptic messages in the scribbles on the wall and a notebook, indicate everything is backwards, i.e. Dog is God, Live is Evil etc... just seems a little obvious at the moment, yet nobody mentions its obvious meaning, (As yet anyway) If my opinion changes at the end of the movie, I'll update this post, but if your reading this, then well...... See above statement.\n",
      "* * * * * * * * * \n",
      "9975\n",
      "When Ben (Red Foxx) discovers his wife Beatrice (Pearl Bailey) has run off with his own brother, he rushes to his son Norman (Michael Warren) to unload his tale of woe--only to discover that Norman has a secret lover: the effeminate Garson (Dennis Dugan.) Needless to say, Ben does not take it well, and numerous complications follow--including Ben's attempt to get Norman over being homosexual by fixing him up with a hooker (Tammy Dobson.) Unfortunately, this description of the movie sounds a great deal more entertaining than the movie itself.<br /><br />Originally written for the theatre by Ron Clark and Sam Bobrick, NORMAN... IS THAT YOU? was an absolute disaster on the New York stage. To give the play its due, I actually saw it staged in the 1970s as a community theatre production--and while no one would accuse it of being anything other than a shallow farce, the cast played so broadly and in such drop-dead manner that it proved quite amusing. It is a pity the cast of this film didn't do the same.<br /><br />This is an atrociously performed motion picture. Red Foxx, one of the most hilarious comics of the 20th century, is about as funny here as yesterday's wash, Michael Warren (who later appeared on the television series HILL STREET BLUES to much better effect) competes with Foxx to see who can give the worst performance, and Pearl Bailey is not far behind; truth be told, only Dennis Duggan, Tammy Dobson, and a cameo by Wayland Flowers have any spark--and sadly, that is only in comparison with the rest of the cast.<br /><br />Not only is the film badly performed, it looks bad. According to film lore, this was the first big screen effort to be filmed in videotape, which was then transfered to celluloid for project purposes--and believe me, it shows. The film has the look of a bad 1970s sitcom right down to the painted skyline seen through the windows of Norman and Garson's apartment.<br /><br />Some films are so bad that they become funny, but NORMAN... IS THAT YOU? isn't one of them. I can sum up my reaction to this film in two words: miss it. Don't buy it, don't rent it, don't touch it with a ten foot pole. Just back away slowly and then run like hell.<br /><br />Gary F. Taylor, aka GFT, Amazon Reviewer\n",
      "* * * * * * * * * \n",
      "9978\n",
      "I absolutely adore the book written by Robin Klein, so I was very excited when I heard that a movie based on the book was in the making.<br /><br />But I was severely disappointed with the movie when I did see it because it didn't capture what I loved about the book - the absolutely ridiculously funny Erica and the interesting way in which she views the world.<br /><br />From the start of the movie, I realised that things weren't the same as I had imagined in the book. So, I just went along for the ride. It wasn't all that bad, I guess. Miss Belmont was totally different to what I had imagined her to be! I didn't think she would be one to smoke and drink - Jean Kittson, who plays her, is hilarious!<br /><br />On it's own, I thought the movie and it's actors/actresses in it did a good job, but alas, I'm such a fan of the book (one of my all time favourite books) that I couldn't help but feel disappointed =P\n",
      "* * * * * * * * * \n",
      "10082\n",
      "When I sat down to watch this film I actually expected quite a bit, as the plot takes on quite complex issues. Using football as launching pad for the complication also was an interesting approach. Still unfortunately, despite its bravery of dealing with controversial issues as culture clashes between Muslim and western culture, adding generation conflicts and prejudice towards gays/lesbians, it lets you down towards the resolution with a rather simplistic relief to all the suspense built up throughout the film. This leads me to the impression that the makers took on a little too big a task for themselves to tackle, attempting to be more profound then they managed to deal with.<br /><br />However, this does not mean that the film is directly bad, as it's rendering of the conflicts where quite believable and also amusing. The film succeeds in being engaging and entertaining in this matter, but as mentioned above the writers seem to have spun themselves a little too deep. This has led to some quite unrealistic character behaviour towards the end to confront the surging conflicts. By this dropping the ball at a time where the makers could really have shown brilliance taking the film to another level of appreciation.<br /><br />Even if the film does at no point really attempt to be a profound piece of drama, the setting has so much potential in the plot it becomes a disappointment when \\the ball drops\\\". This way the film moves from being a good and reflected comedy to a standard cliché that becomes ridiculous in its happy-ending. Nothing is left out in the Hollywood like ending. So even if the story is engaging and one can stomach the large amount of montages, one can't help but roll eyes towards the resolution. Personally I was close to shouting \\\"finish already!!\\\" at the screen.<br /><br />There were some decent acting in the film, and the two young female central characters had some good moments. So did their parents and other bi-characters. However the handsome Irish coach was an embarrassing piece of acting, that lets the film down quite a bit in terms of realism. He didn't even appear very likable, but rather self involved despite his good deeds, which makes the impending conflict between the girls seem a little strained.<br /><br />I give the film a 4, as it was an engaging story and they sought out a nice perspective to approach the subject from. The script and cast had many good believable characters, giving the audience a chance to recognise either themselves or others. Had the let-downs not been this disappointing, I'd easily give the film a 7 or 8. If you enjoyed this film, I'd recommend the film \\\"East is East\\\", which I think is an as good, if not better rendering of cultural conflict, as well as being amusing and engaging.\"\n",
      "* * * * * * * * * \n",
      "10112\n",
      "Very much a film from the times -- extremely long sequences with no dialogue, bad flashbacks, and an almost entirely male cast. The two women who appear have a total of under 10 lines and exist only as romantic interests for men.<br /><br />O'Toole is riveting whenever he speaks; unfortunately, he spends much of his time peering through shrubbery. Alastair Sims is always a joy to see but he, too, is terribly underused.<br /><br />The film has one additional positive aspect, in that it depicts many aspects of British fascism and fascist sympathies (such as the casual appearance of the Mosley graffiti) that many people today are unaware of. Too many of today's films about WWII paint the Allies as all-good and the Axis as all-evil, when history tells us people are far more complicated than that!<br /><br />This would be a good movie for when you're recovering from the flu and are bundled on the couch and not able to absorb anything too complex. If you just need something to pass the time while your electrolytes stabilize, this is the movie for you.\n",
      "* * * * * * * * * \n",
      "10311\n",
      "This movie was exactly what I expected, not great, but also not that bad either. In my opinion PG13 movies aren't scary enough so that's why I already knew I was going to be bored throughout the entire film. Sure there were scary things going on in the hotel room, but nothing we all haven't already seen. I guess I didn't like it because I thought there were too many twists and turns happening; it got old and repetitive. I also didn't understand if all the things Cusack was experiencing in the room was real or not. There is no explanation for any of the events that occurred. The movie just drags on and when it finally does come to an end you want it to keep going because you are still waiting around for someone to tell you what the whole movie was about. What I did like was the special effects. Other than that there wasn't much enjoyment from it. Maybe its just me but I thought this was below average.\n",
      "* * * * * * * * * \n",
      "10510\n",
      "Despite being a 2001 movie, the direction is the kind of 90's art-house style that was considered \\old\\\" and out-of-date a few years ago. The cheesy cuts and effects were painful to watch. The script is decent enough, and a few scenes did kind of captivate me (like when the taxi driver brings her to the bridge at night). But the story line with the detective who's sister killed herself and how he was obsessed with suicide was just plain terrible. The performance by the actor who plays Selma Blair's married boyfriend seriously bothered me. I did sit through the whole thing, though, which is rare for the kind of random, what-is-this movie you just find on TV and decide to watch.\"\n",
      "* * * * * * * * * \n",
      "10515\n",
      "Like all cult TV shows, there is a group of people who love The Twilight Zone so much that they rate practically every episode like they are the greatest shows EVER. While several of them are indeed wonderful classics, the truth is for every great episode, there were several that were mediocre and at least one that stank. However, like die-hard Trekkies, these Zone lovers insist that all of them are gold. In fact, this is what initially got me to review some individual episodes of a couple cult series instead of the movies I usually watch.<br /><br />While this isn't the worst episode ever made nor is it among the very worst, it is poor by any reasonable standard. A widow watches a long procession of Civil War soldiers going past her home. In the end, a very unexpected twist is revealed and there isn't a whole lot of excitement or suspense here.\n",
      "* * * * * * * * * \n",
      "10570\n",
      "It's sort of hard for me to say it, because I so greatly enjoyed both \\Targets\\\" and \\\"Paper Moon\\\", but I thought \\\"The Last Picture show\\\" was a somewhat fascinating but overly self-indulgent film. Its main positive, as far as I'm concerned, is the stunning photography. But for me the film had nothing to offer beyond surface beauty (and a kind of hidden beauty, at that). The characters were very hard to relate to or to care about. Basically you had this very slow pace and this naturalistic style of acting, but it was all there to prop up a very formulaic and predictable story, complete with all the trappings one would expect from any small town melodrama -- everything from the boy cheating with his teacher's wife to the handicapped kid who everyone picks on. It was like \\\"American Graffiti\\\" without the joy of life.<br /><br />Some might say this film is more realistic -- nowadays a lot of people seem to think that realism is the only virtue a film can possess. But for me the film was simply oppressive, and I want to see it again about as badly as I'd like to spend a few hours in that miserable town the characters live in.<br /><br />Maybe this film really just belongs to its time -- perhaps if I'd seen it in 1971 I would have been impressed by its novelty, just by seeing something different on the screen. But that would basically assume that I had never seen anything like, say, Godard's \\\"Breathless\\\". Maybe the overt references to classic films would have appealed to the movie geek in me and helped me to overlook some of the film's weaknesses. But in the post-Tarantino world that hardly seems unique or special either.<br /><br />It is interesting though how he uses the films in the film to give his own film more depth. We see 3 films as I recall in the picture show. First we see Vincente Minnelli's \\\"Father of the Bride\\\" -- Liz Taylor's exquisite looks provide a contrast to Sonny's girlfriend and Minnelli's studied upper-middle class milieu contrasts to the character's \\\"real life\\\" surroundings in a similar way. Later, clips from Howard Hawks' \\\"Red River\\\" emphasize the theme of a broken friendship between a mentor and a protégé. It really just reminds me that Bogdanovich is kissing his own mentor's butt, much as he did if I remember correctly by selecting a Hawks film as part of his own on-screen reverie with Boris Karloff in \\\"Targets\\\". I guess in 1971 this kind of thing was new but looking at it today it just seems self-indulgent, like so much of the rest of this film.<br /><br />Ultimately, I'd rather see another film by Hawks, Ford or Minnelli than to have Bogdanovich's film remind us of why they were so striking in such a less-than-subtle way. Maybe he intends to remind us of the giants whose time had passed -- all he really does is remind us how small he and most of his contemporaries are in relation.\"\n",
      "* * * * * * * * * \n",
      "10669\n",
      "Five years after the original Creepshow, another inferior horror sequel is penned by George A. Romero and Stephen King: Creepshow 2. This time there are only three stories instead of five. None of the three stories is really original or distinguished either. The first story is a horror staple, formulaic story about a wooden Indian statue seeking revenge against the killers of its owners. The effects are really neat in this story, but it's just too familiar to be compelling enough. George Kennedy and Dorothy Lamour play the elderly store owners. The second story, \\The Raft\\\", is a Stephen King story. It's about four teenagers that unwittingly spend the day on a wooden pallet in the middle of an isolated lake. Soon the kids are screaming for their lives as a watery blob does each of them in for no apparent reason. However, instead of being suspenseful, the kids are saddled with bad dialog and dopey-headed behavior, preventing us from really caring about what happens next. There is also some unintentional humor in this segment. The third and final story is \\\"The Hitch-hiker\\\", which is actually a retread re-adapted for Creepshow 2. The original story, by Lucille Fletcher, was filmed in 1953 as a film noir suspense film. Then it was adapted for a famous Twilight Zone episode featuring Inger Stevens. \\\"The Hitch-hiker\\\" works the best out of these three offerings, but it's not without its problems either. Lois Chiles plays a cheating spouse, who ends up running over a hitch-hiker, or so she thinks. However, we don't know whether to sympathize with her or condemn her. As in many average stories of this type, the characters exist merely to tell the stories with their twists and turns. The wrap around story with the bullies seems a bit out of place. Tom Savini appears as the \\\"creep\\\" in this installment. The good thing is there haven't been any more sequels. *1/2 of 4 stars.\"\n",
      "* * * * * * * * * \n",
      "10700\n",
      "I never thought I see a movie worse than \\Lisa Picard Is Famous\\\", but this came pretty close. As repeated often throughout the comments, it was predictable; five minutes into the movie you know it will be a stranded at the alter outcome. This movie painfully references/rips off everything from \\\"Something about Mary\\\" to \\\"Revenge of the Pink Panther\\\". Writer Greg Glienna (Meet the Parents) needs some new material.<br /><br />The only twist is the deranged boyfriend/police officer pursued by internal affairs, but even that opportunity is wasted. Lots of setting shots of the Seattle Space Needle necessary to disguise the obvious Canadian shooting locale. Some of the worst driving in the car scenes with almost no effort to disguise the fact that the car is being pulled through town on a trailer. Geez, at least turn the wheel or put the brakes on once in a while. Selma Blair is inert and the short haircut a crime. $3M to Jason Lee, for what? Guess it beats skateboarding!<br /><br />So here's who should see this movie: Bee Gees fans who want to hear two actors sing 'Islands in the Stream' badly; People who can't get enough of Julia Stiles. 1/10\"\n",
      "* * * * * * * * * \n",
      "10828\n",
      "The movie is an extra-long tale of a classic novel that completely fails to capture the original adventure's spirit. The quite horribly American Patrick Swayze is cast as the British hero Allan Quatermain despite the obviousness of his nationality.<br /><br />The movie continues throughout to \\Hollywood-ise\\\" the story by changing both the plot and the characters to fit more comfortably into the accepted mold. The movie manages to be predictable throughout, even to those who are not familiar with the story and is plagued by some extremely bad acting and terribly disappointing fight sequences.<br /><br />All in all, a terrible addition to the already quite bad collection of movies based on the legend of King Soloman's Mines and Allan Quatermain.\"\n",
      "* * * * * * * * * \n",
      "10967\n",
      "This is the weakest of the series, not much of a plot and a rather odd-looking Wallace. But it's still pretty good, considering. A sign of greater things to come!<br /><br />6/10\n",
      "* * * * * * * * * \n",
      "10990\n",
      "Boy oh boy oh golly gee,<br /><br />The most interesting thing in the movie was the hilarity of the bluescreen effects used to create Mom's \\invisibility.\\\" They looked like they were shot on cheap video, and it looks totally unreal, and not even in a good way where its so funny that you end up loving the movie...<br /><br />I did NOT end up loving this movie. The attempted \\\"steadicam\\\" shots were really pathetic as well. I mean, hey, if they had a low budget flick, that's fine. You can still make a great movie with a low budget. But, a BAD movie and a low budget AND effects. That makes for a bad combination. In this case, such a doomed combo created the craptastic film, \\\"Invisible Mom.\\\" If you have kids, and your kids have no taste, perhaps they will stay awake through all of this one.\"\n",
      "* * * * * * * * * \n",
      "11051\n",
      "A young boy comes into a lot of money and promptly begins to live it up. Unfortunately, the man whose money it really is happens to be very bad. He wants his loot back. When he discovers who has the bucks, he begins trying to get it back. He keeps getting foiled by this little kid who is just lucky enough to keep from falling into the evil man's hands. Sounds familiar, I'll bet. Very predictable, not interesting at all. Come up with something a bit different, ok guys?\n",
      "* * * * * * * * * \n",
      "11059\n",
      "In recent times I have been subjected to both this movie and \\King Arthur\\\", on DVDs chosen by others for an evening's \\\"entertainment\\\" and together they achieve nothing more than bearing out a growing notion I have that the modern movie-watching public totally lacks discrimination, and is content as long as they get \\\"action\\\". Both movies were utter rubbish.<br /><br />Whatever happened to character development? Whatever happened to meaningful dialogue? Whatever happened to ACTING? And, when watching something that vaguely purports to be \\\"historical\\\", whatever happened to attempting to capture some measure of accuracy, some realistic idea of the \\\"political map\\\" of the time, even some slight flavour of the era, especially in its social attitudes. Why do they all have to display the value set of 21st century America? I have read on the message boards of disclaimers that \\\"little was known\\\" of the dark ages. Not so. Considerable amounts are known, with much learned scholarship on the era, but these jokers simply couldn't be bothered to do any homework.<br /><br />I only wish I could vote 0/10\"\n",
      "* * * * * * * * * \n"
     ]
    },
    {
     "name": "stdout",
     "output_type": "stream",
     "text": [
      "11594\n",
      "<br /><br />However, the ladies of all ages will lap it up, no doubt; at least the opposite sex understand what it is to be a mother, and most of us men try to fathom out what it is to be a father. Whether changing nappies is not at all my favourite occupation and trying to get those bottled baby-foodstuffs into errant toothless mouths must rank very high on household duties preferably left to its mother, has absolutely nothing to do with the matter.<br /><br />Some good interpretations here, and a good story idea; the handling of the matter, limited to rather scanty TV-production concepts, gives the film a rather over-mellowy taste with not much new to offer. An insipid way of delivering the goods, and in the end the outcome is so forseeable during the last 20 minutes or so, even my wife dozed off, and I was jumping up to the computer to get the on-line scoring in the Barcelona-Deportivo match, hoping the away team would do something rather good. They did. This film did not.<br /><br />Better by far is Mike Leigh's magnificent \\Secrets and Lies\\\" (qv) which touches on the same subject matter, but with Brenda Blethyn playing a far superior part.\"\n",
      "* * * * * * * * * \n",
      "11694\n",
      "This should not have been listed as a Colombo because in my opinion it does not resemble any of the other Colombo ever made. This should have been listed as a movie starring Peter Falk and not playing the caracter of Colombo because it does not do justice at all to our great lieutenant Colombo.\n",
      "* * * * * * * * * \n",
      "11779\n",
      "Movie didn't have much plot and was uninteresting. Basically you spend a lot of time watching people paint. Also it's very difficult to hear or understand the dialogue -- partially because of the accents, but also because words are mumbled.\n",
      "* * * * * * * * * \n",
      "11925\n",
      "*may contain a spoiler of sorts?* The mere mention of Crispin Glover is enough to send some geek's panties in a bunch. His landmark appearance in Back to the Future as George McFly has sealed him into the American conscience forever. More recently, he has been trying to get back into the culty subconscious with Bartleby and Willard.<br /><br />This time, however, Crispin has made a 76-minute, cheap dada film. At times it reminded me of genius, while overall it almost insulted me, but not because of its content. Content? What Is It? is a movie where, in one half of the movie, all of the actors have Down's Syndrome, giving it a freakshow feel to it. The other half of the movie includes Crispin Glover, Adam Parfrey, and a guy with cerebral palsy. This all had the feel of what John Waters was attempting to do with Desperate Living, and simultaneously feeling more successful and failing miserably.<br /><br />The half with the Down's Syndrome actors also features many many killed snails. It is about a guy who has snails, and ends up killing one. He is also tormented by a bunch of other people, and a grasshopper. He falls in love with 2 girls, one of which he has sex with in a graveyard. He also has a falling out with a friend who teases him.<br /><br />In a weird semi-interior set, Crispin Glover is the director of this show. He is something like the control of the guy's mind, and the cerebral palsy guy is something like the sexuality. Well, he at least gets masturbated in explicit scenes. There is other \\shocking\\\" imagery made humorous, like Nazi Swaztikas crossed with Shirley Temple, and minstrels in black face saying they're Michael Jackson.<br /><br />In the outside world, the tormentor is still dealing with his love of killing snails and being beaten by the other people. They beat him with rocks, and such. Later, they beat the minstrel after putting him on trial.<br /><br />Back to the interior, Crispin Glover is still the ruler of his set, and tries to control everybody, but fails miserably.<br /><br />What Is It? makes less sense than Dr. Caligari, and has more than a passing style stolen from it. The claustrophobic mental space feels very much like the way the no-wall sets of Dr. Caligari felt claustrophobic. They also had some dialogue that was absolute nonsense. And, it was all wrapped up with absurdist imagery for humor.<br /><br />The problem is, about 20 minutes into the movie...maybe a little more...What Is It? runs out of imagery. For the next 56 minutes, we keep running on the same sets of images, only introducing new imagery in the form of an absurdist puppet show. The movie seems little more than a movie which attempts to push the envelope in offensive and taboo imagery. It tries to mock and confuse the audience. But, the issue is that it only has enough different imagery for a 40 minute movie.<br /><br />Even worse than that, the cinematography, set design, and everything else felt very very cheap and almost unplanned. It felt like \\\"OK, this is the way we can do it and get it out of the way.\\\" It didn't feel interesting, and was quite...boring. Dr. Caligari, on the other hand, had amazing cinematography and framing. The difference between the two is quite astounding.<br /><br />rating: C\"\n",
      "* * * * * * * * * \n",
      "12198\n",
      "I usually try to construct reasonably well-argued critiques of films, but I can not believe this got past the script stage. The dialogue is appalling, the acting very dodgy, the accents just awful, and the direction and pacing is scrappy at best.<br /><br />I don't remember the last time I saw a film quite this bad. Joseph Fiennes, pretty as he is, might just have killed his career as quickly as it started.<br /><br />The Island of Doctor Moreau was no worse than this garbage.\n",
      "* * * * * * * * * \n",
      "12205\n",
      "I saw the trailer for this film a few months prior to its release, and MAN, did it look scary, Especially how this film was based on a real life phenomenon. I was incredibly interested, and thought that this could finally be a decent horror/thriller film after years if crap. Well you know how movie trailers make a film look better than it is: maybe by showing all of the creepy parts or by overdramaticizing certain elements. The advertisements for the movie did both, which lead to my ultimate disappointment.<br /><br />By no means is this \\the most disturbing movie in years\\\". Hell, I doubt it was the most disturbing movie of that week's release. This movie takes the whole \\\"based off of fact\\\" thing too far.<br /><br />This movie wasn't complete crap. I must admit, it held my interest and Micheal Keaton was believable as a man searching for answers by supernatural means. Other than that, though, this film is one big cliché. After John's wife dies, he learns about EVP, which transmits the voices of the dead into everyday electronic appliances. He all of the sudden receives messages from his wife! My God! It's not just his wife reaching him, it's other dead people. Gee, imagine that. A movie about helping dead people. Come on, give me a break! The clichés don't stop there. There's also the obligatory clock-stopping-at-the-same-exact-time-every-night trick and three evil spirits that menace our hero. Not only was the movie cliché, it WASN'T SCARY. The film literally had two jump scenes, and those two scenes are almost identical. The ending is horrible, as it leaves the door WIDE OPEN for a sequel. There's also an ending message with a message saying how only 1 out of X voices heard through EVP are threatening, with a nice happy tune playing. Way to break the mood, you guys. Jeez! In the end, if you want another forgettable horror film, see White Noise. The only reasons I could possibly think anyone would watch this film for is that either that the person is a Keaton fan or that they are interested in EVP. Sure, the EVP aspects may be slightly interesting, but I don't like my movie concepts to be shoved down my throat and blown up in my face. This film tries to be scary, original, and disturbing, but it's just the opposite. You know you have a lame movie when the commercials use the ghosts to talk about there film. \\\"I WILL SEE THIS FILM NO MORE.\\\"\"\n",
      "* * * * * * * * * \n",
      "12214\n",
      "My first exposure to the Templarios & not a good one. I was excited to find this title among the offerings from Anchor Bay Video, which has brought us other cult classics such as \\Spider Baby\\\". The print quality is excellent, but this alone can't hide the fact that the film is deadly dull. There's a thrilling opening sequence in which the villagers exact a terrible revenge on the Templars (& set the whole thing in motion), but everything else in the movie is slow, ponderous &, ultimately, unfulfilling. Adding insult to injury: the movie was dubbed, not subtitled, as promised on the video jacket.\"\n",
      "* * * * * * * * * \n",
      "12353\n",
      "Murder By Numbers is one of those movies that you expect is made-for-TV but isn't. Considering the only actor of any note is Bullock (although Michael Pitt seems to be moving onto bigger and better things), it isn't a great surprise that this movie quickly fades away from memory to be replaced by more important things. Like... remembering to lock your front door when you go out. Or putting clothes back on when you come out of the shower.<br /><br />Bullock plays Cassie Mayweather, a cop with personal issues (don't they all). Together with her new partner (a wet-looking Ben Chaplin), she is called to investigate the murder of a young woman. Nothing unusual there except that the perps are a couple of teenage students who think they've planned and executed the perfect murder. As the investigation continues, a battle of wills emerges between Cassie and the main suspect Richie Haywood (Ryan Gosling).<br /><br />The crippling issue here is that the two leads are hopeless. Bullock, though she is very nice to look at, is about as believable in the role of a hardened cynical cop as Rodney Dangerfield (actually, he'd be better!). Chaplin, for his sins, is a complete non-entity and I feel sorry that he has to put this film on his CV in his attempt to break into Hollywood. At least Gosling and Pitt, as the conniving sneering suspects, acquit themselves adequately. As if dodgy leads weren't bad enough, a story that would send anybody to sleep and a highly predictable (but illogical) ending shoot this film in the head before it has a chance to run.<br /><br />\\Murder By Numbers\\\" has absolutely nothing going for it, even a pointless nude scene by Bullock wouldn't redeem it. Well, just a little but still not enough to save it. Forgettable, predictable and redundant - this is one film that isn't going to move the cop genre forward. As Cassie probably says on her next case, there's nothing to see here people. Move along, keep moving...\"\n",
      "* * * * * * * * * \n",
      "12385\n",
      "Follow-up to 1973's \\Walking Tall\\\" continues the real-life drama surrounding Tennessee sheriff Buford Pusser, but this installment plays like a lame TV-movie. Bo Svenson takes over the lead role from Joe Don Baker, but he's much too mild for the part; he comes off like an ambling country singer with a bat instead of a guitar. Good supporting actors like Richard Jaekel, Luke Askew and Robert DoQui end up with very little to do. I would give the film one-star strictly on its good intentions, but the screenplay is a transparent and lazy mass of routine predicaments and the production is cheapjack. Followed in 1977 by \\\"Final Chapter-Walking Tall\\\" and in 1978 by the television film \\\"A Real American Hero\\\".\"\n",
      "* * * * * * * * * \n"
     ]
    }
   ],
   "source": [
    "# false positives\n",
    "\n",
    "print(\"Examples of false positives:\")\n",
    "\n",
    "import random, time\n",
    "\n",
    "for i in range(0, len(ols_predictions)):\n",
    "    if (ols_predictions[i] == 1):\n",
    "        if (X_raw_train.iloc[i]['sentiment'] == 0):\n",
    "            if (random.uniform(0, 1) < 0.05): # to print only 5% of the false positives\n",
    "                print(i)\n",
    "                print(X_raw_train.iloc[i]['review'])\n",
    "                print('* * * * * * * * * ')\n"
   ]
  },
  {
   "cell_type": "markdown",
   "metadata": {},
   "source": [
    "---\n",
    "\n",
    "# <span style=\"color:red\">WARNING: Don't look at test set performance too much!</span>\n",
    "\n",
    "---\n",
    "\n",
    "The following cells show performance on your test set. Do not look at this too often! "
   ]
  },
  {
   "cell_type": "markdown",
   "metadata": {},
   "source": [
    "# Look at performance on the test set"
   ]
  },
  {
   "cell_type": "markdown",
   "metadata": {},
   "source": [
    "### MODEL: ordinary least squares"
   ]
  },
  {
   "cell_type": "code",
   "execution_count": 15,
   "metadata": {},
   "outputs": [
    {
     "name": "stdout",
     "output_type": "stream",
     "text": [
      "{'Pos': 6178, 'Neg': 6322, 'TP': 2708, 'TN': 3885, 'FP': 2437, 'FN': 3470, 'Accuracy': 0.52744, 'Precision': 0.5263362487852283, 'Recall': 0.4383295564907737, 'desc': 'ols_test'}\n"
     ]
    }
   ],
   "source": [
    "ols_performance_test = BinaryClassificationPerformance(ols.predict(X_test), y_test, 'ols_test')\n",
    "ols_performance_test.compute_measures()\n",
    "print(ols_performance_test.performance_measures)"
   ]
  },
  {
   "cell_type": "markdown",
   "metadata": {},
   "source": [
    "### MODEL: SVM, linear"
   ]
  },
  {
   "cell_type": "code",
   "execution_count": 16,
   "metadata": {},
   "outputs": [
    {
     "name": "stdout",
     "output_type": "stream",
     "text": [
      "{'Pos': 6178, 'Neg': 6322, 'TP': 5105, 'TN': 5135, 'FP': 1187, 'FN': 1073, 'Accuracy': 0.8192, 'Precision': 0.811347743165925, 'Recall': 0.8263191971511816, 'desc': 'svm_test'}\n"
     ]
    }
   ],
   "source": [
    "svm_performance_test = BinaryClassificationPerformance(svm.predict(X_test), y_test, 'svm_test')\n",
    "svm_performance_test.compute_measures()\n",
    "print(svm_performance_test.performance_measures)"
   ]
  },
  {
   "cell_type": "markdown",
   "metadata": {},
   "source": [
    "### MODEL: logistic regression"
   ]
  },
  {
   "cell_type": "code",
   "execution_count": 17,
   "metadata": {},
   "outputs": [
    {
     "name": "stdout",
     "output_type": "stream",
     "text": [
      "{'Pos': 6178, 'Neg': 6322, 'TP': 5027, 'TN': 5174, 'FP': 1148, 'FN': 1151, 'Accuracy': 0.81608, 'Precision': 0.8140890688259109, 'Recall': 0.8136937520233085, 'desc': 'lgs_test'}\n"
     ]
    }
   ],
   "source": [
    "lgs_performance_test = BinaryClassificationPerformance(lgs.predict(X_test), y_test, 'lgs_test')\n",
    "lgs_performance_test.compute_measures()\n",
    "print(lgs_performance_test.performance_measures)"
   ]
  },
  {
   "cell_type": "markdown",
   "metadata": {},
   "source": [
    "### MODEL: Naive Bayes"
   ]
  },
  {
   "cell_type": "code",
   "execution_count": 18,
   "metadata": {},
   "outputs": [
    {
     "name": "stdout",
     "output_type": "stream",
     "text": [
      "{'Pos': 6178, 'Neg': 6322, 'TP': 4467, 'TN': 4648, 'FP': 1674, 'FN': 1711, 'Accuracy': 0.7292, 'Precision': 0.7274059599413776, 'Recall': 0.7230495305924247, 'desc': 'nbs_test'}\n"
     ]
    }
   ],
   "source": [
    "nbs_performance_test = BinaryClassificationPerformance(nbs.predict(X_test), y_test, 'nbs_test')\n",
    "nbs_performance_test.compute_measures()\n",
    "print(nbs_performance_test.performance_measures)"
   ]
  },
  {
   "cell_type": "markdown",
   "metadata": {},
   "source": [
    "### MODEL: Perceptron"
   ]
  },
  {
   "cell_type": "code",
   "execution_count": 19,
   "metadata": {},
   "outputs": [
    {
     "name": "stdout",
     "output_type": "stream",
     "text": [
      "{'Pos': 6178, 'Neg': 6322, 'TP': 5054, 'TN': 5204, 'FP': 1118, 'FN': 1124, 'Accuracy': 0.82064, 'Precision': 0.8188593648736228, 'Recall': 0.8180640984137261, 'desc': 'prc_test'}\n"
     ]
    }
   ],
   "source": [
    "prc_performance_test = BinaryClassificationPerformance(prc.predict(X_test), y_test, 'prc_test')\n",
    "prc_performance_test.compute_measures()\n",
    "print(prc_performance_test.performance_measures)"
   ]
  },
  {
   "cell_type": "markdown",
   "metadata": {},
   "source": [
    "### MODEL: Ridge Regression Classifier"
   ]
  },
  {
   "cell_type": "code",
   "execution_count": 20,
   "metadata": {},
   "outputs": [
    {
     "name": "stdout",
     "output_type": "stream",
     "text": [
      "{'Pos': 6178, 'Neg': 6322, 'TP': 5496, 'TN': 5475, 'FP': 847, 'FN': 682, 'Accuracy': 0.87768, 'Precision': 0.8664669714646066, 'Recall': 0.8896082874716736, 'desc': 'rdg_test'}\n"
     ]
    }
   ],
   "source": [
    "rdg_performance_test = BinaryClassificationPerformance(rdg.predict(X_test), y_test, 'rdg_test')\n",
    "rdg_performance_test.compute_measures()\n",
    "print(rdg_performance_test.performance_measures)"
   ]
  },
  {
   "cell_type": "markdown",
   "metadata": {},
   "source": [
    "### MODEL: Random Forest Classifier"
   ]
  },
  {
   "cell_type": "code",
   "execution_count": 21,
   "metadata": {},
   "outputs": [
    {
     "name": "stdout",
     "output_type": "stream",
     "text": [
      "{'Pos': 6178, 'Neg': 6322, 'TP': 4511, 'TN': 4458, 'FP': 1864, 'FN': 1667, 'Accuracy': 0.71752, 'Precision': 0.7076078431372549, 'Recall': 0.7301715765619942, 'desc': 'rdf_test'}\n"
     ]
    }
   ],
   "source": [
    "rdf_performance_test = BinaryClassificationPerformance(rdf.predict(X_test), y_test, 'rdf_test')\n",
    "rdf_performance_test.compute_measures()\n",
    "print(rdf_performance_test.performance_measures)"
   ]
  },
  {
   "cell_type": "markdown",
   "metadata": {},
   "source": [
    "### ROC plot to compare performance of various models and fits"
   ]
  },
  {
   "cell_type": "code",
   "execution_count": 22,
   "metadata": {},
   "outputs": [
    {
     "data": {
      "image/png": "[encoded data removed]",
      "text/plain": [
       "<Figure size 432x288 with 1 Axes>"
      ]
     },
     "metadata": {
      "needs_background": "light"
     },
     "output_type": "display_data"
    }
   ],
   "source": [
    "fits = [ols_performance_test, svm_performance_test, lgs_performance_test, nbs_performance_test, prc_performance_test, rdg_performance_test, rdf_performance_test]\n",
    "\n",
    "for fit in fits:\n",
    "    plt.plot(fit.performance_measures['FP'] / fit.performance_measures['Neg'], \n",
    "             fit.performance_measures['TP'] / fit.performance_measures['Pos'], 'bo')\n",
    "    plt.text(fit.performance_measures['FP'] / fit.performance_measures['Neg'], \n",
    "             fit.performance_measures['TP'] / fit.performance_measures['Pos'], fit.desc)\n",
    "plt.axis([0, 1, 0, 1])\n",
    "plt.title('ROC plot: test set')\n",
    "plt.xlabel('False positive rate')\n",
    "plt.ylabel('True positive rate')\n",
    "plt.show()"
   ]
  },
  {
   "cell_type": "markdown",
   "metadata": {},
   "source": [
    "---\n",
    "\n",
    "# <span style=\"color:red\">SUBMISSION</span>\n",
    "\n",
    "---"
   ]
  },
  {
   "cell_type": "code",
   "execution_count": 23,
   "metadata": {},
   "outputs": [
    {
     "name": "stdout",
     "output_type": "stream",
     "text": [
      "movie_data is: <class 'pandas.core.frame.DataFrame'>\n",
      "movie_data has 25000 rows and 2 columns \n",
      "\n",
      "the data types for each of the columns in movie_data:\n",
      "id        object\n",
      "review    object\n",
      "dtype: object \n",
      "\n",
      "the first 10 rows in movie_data:\n",
      "         id                                             review\n",
      "0  12311_10  Naturally in a film who's main themes are of m...\n",
      "1    8348_2  This movie is a disaster within a disaster fil...\n",
      "2    5828_4  All in all, this is a movie for kids. We saw i...\n",
      "3    7186_2  Afraid of the Dark left me with the impression...\n",
      "4   12128_7  A very accurate depiction of small time mob li...\n",
      "Shape of HashingVectorizer X:\n",
      "(25000, 131072)\n",
      "Look at a few rows of the new quantitative features: \n",
      "   word_count  punc_count\n",
      "0         131           5\n",
      "1         169          15\n",
      "2         176          18\n",
      "3         112           5\n",
      "4         133           8\n",
      "5         331          20\n",
      "6         121          18\n",
      "7         230          22\n",
      "8          59           3\n",
      "9         224          14\n",
      "Size of combined bag of words and new quantitative variables matrix:\n",
      "(25000, 131074)\n",
      "(25000, 131074)\n",
      "Shape of X_test for submission:\n",
      "(25000, 131074)\n",
      "SUCCESS!\n",
      "Number of rows in the submission test set (should be 25,000): \n"
     ]
    }
   ],
   "source": [
    "# read in test data for submission\n",
    "# CHANGE FILE PATH and my_random_seed number (any integer other than 74 will do): \n",
    "raw_data, X_test_submission = process_raw_data(fn='moviereviews_test.tsv', my_random_seed=200, test=True)\n",
    "print(\"Number of rows in the submission test set (should be 25,000): \")"
   ]
  },
  {
   "cell_type": "markdown",
   "metadata": {},
   "source": [
    "---\n",
    "\n",
    "Choose a <span style=\"color:red\">*single*</span> model for your submission. In this code, I am choosing the Ordinary Least Squares model fit, which is in the `ols` object. But you should choose the model that is performing the best for you! "
   ]
  },
  {
   "cell_type": "code",
   "execution_count": 24,
   "metadata": {},
   "outputs": [
    {
     "name": "stdout",
     "output_type": "stream",
     "text": [
      "0.50924\n"
     ]
    }
   ],
   "source": [
    "# store the id from the raw data\n",
    "my_submission = pd.DataFrame(raw_data[\"id\"])\n",
    "# concatenate predictions to the id\n",
    "my_submission[\"prediction\"] = rdf.predict(X_test_submission)\n",
    "# look at the proportion of positive predictions\n",
    "print(my_submission['prediction'].mean())"
   ]
  },
  {
   "cell_type": "code",
   "execution_count": 25,
   "metadata": {},
   "outputs": [
    {
     "data": {
      "text/html": [
       "<div>\n",
       "<style scoped>\n",
       "    .dataframe tbody tr th:only-of-type {\n",
       "        vertical-align: middle;\n",
       "    }\n",
       "\n",
       "    .dataframe tbody tr th {\n",
       "        vertical-align: top;\n",
       "    }\n",
       "\n",
       "    .dataframe thead th {\n",
       "        text-align: right;\n",
       "    }\n",
       "</style>\n",
       "<table border=\"1\" class=\"dataframe\">\n",
       "  <thead>\n",
       "    <tr style=\"text-align: right;\">\n",
       "      <th></th>\n",
       "      <th>id</th>\n",
       "      <th>review</th>\n",
       "      <th>word_count</th>\n",
       "      <th>punc_count</th>\n",
       "    </tr>\n",
       "  </thead>\n",
       "  <tbody>\n",
       "    <tr>\n",
       "      <td>0</td>\n",
       "      <td>12311_10</td>\n",
       "      <td>Naturally in a film who's main themes are of m...</td>\n",
       "      <td>131</td>\n",
       "      <td>5</td>\n",
       "    </tr>\n",
       "    <tr>\n",
       "      <td>1</td>\n",
       "      <td>8348_2</td>\n",
       "      <td>This movie is a disaster within a disaster fil...</td>\n",
       "      <td>169</td>\n",
       "      <td>15</td>\n",
       "    </tr>\n",
       "    <tr>\n",
       "      <td>2</td>\n",
       "      <td>5828_4</td>\n",
       "      <td>All in all, this is a movie for kids. We saw i...</td>\n",
       "      <td>176</td>\n",
       "      <td>18</td>\n",
       "    </tr>\n",
       "    <tr>\n",
       "      <td>3</td>\n",
       "      <td>7186_2</td>\n",
       "      <td>Afraid of the Dark left me with the impression...</td>\n",
       "      <td>112</td>\n",
       "      <td>5</td>\n",
       "    </tr>\n",
       "    <tr>\n",
       "      <td>4</td>\n",
       "      <td>12128_7</td>\n",
       "      <td>A very accurate depiction of small time mob li...</td>\n",
       "      <td>133</td>\n",
       "      <td>8</td>\n",
       "    </tr>\n",
       "  </tbody>\n",
       "</table>\n",
       "</div>"
      ],
      "text/plain": [
       "         id                                             review  word_count  \\\n",
       "0  12311_10  Naturally in a film who's main themes are of m...         131   \n",
       "1    8348_2  This movie is a disaster within a disaster fil...         169   \n",
       "2    5828_4  All in all, this is a movie for kids. We saw i...         176   \n",
       "3    7186_2  Afraid of the Dark left me with the impression...         112   \n",
       "4   12128_7  A very accurate depiction of small time mob li...         133   \n",
       "\n",
       "   punc_count  \n",
       "0           5  \n",
       "1          15  \n",
       "2          18  \n",
       "3           5  \n",
       "4           8  "
      ]
     },
     "execution_count": 25,
     "metadata": {},
     "output_type": "execute_result"
    }
   ],
   "source": [
    "raw_data.head()"
   ]
  },
  {
   "cell_type": "code",
   "execution_count": 26,
   "metadata": {},
   "outputs": [
    {
     "data": {
      "text/html": [
       "<div>\n",
       "<style scoped>\n",
       "    .dataframe tbody tr th:only-of-type {\n",
       "        vertical-align: middle;\n",
       "    }\n",
       "\n",
       "    .dataframe tbody tr th {\n",
       "        vertical-align: top;\n",
       "    }\n",
       "\n",
       "    .dataframe thead th {\n",
       "        text-align: right;\n",
       "    }\n",
       "</style>\n",
       "<table border=\"1\" class=\"dataframe\">\n",
       "  <thead>\n",
       "    <tr style=\"text-align: right;\">\n",
       "      <th></th>\n",
       "      <th>id</th>\n",
       "      <th>prediction</th>\n",
       "    </tr>\n",
       "  </thead>\n",
       "  <tbody>\n",
       "    <tr>\n",
       "      <td>0</td>\n",
       "      <td>12311_10</td>\n",
       "      <td>1</td>\n",
       "    </tr>\n",
       "    <tr>\n",
       "      <td>1</td>\n",
       "      <td>8348_2</td>\n",
       "      <td>0</td>\n",
       "    </tr>\n",
       "    <tr>\n",
       "      <td>2</td>\n",
       "      <td>5828_4</td>\n",
       "      <td>0</td>\n",
       "    </tr>\n",
       "    <tr>\n",
       "      <td>3</td>\n",
       "      <td>7186_2</td>\n",
       "      <td>0</td>\n",
       "    </tr>\n",
       "    <tr>\n",
       "      <td>4</td>\n",
       "      <td>12128_7</td>\n",
       "      <td>1</td>\n",
       "    </tr>\n",
       "  </tbody>\n",
       "</table>\n",
       "</div>"
      ],
      "text/plain": [
       "         id  prediction\n",
       "0  12311_10           1\n",
       "1    8348_2           0\n",
       "2    5828_4           0\n",
       "3    7186_2           0\n",
       "4   12128_7           1"
      ]
     },
     "execution_count": 26,
     "metadata": {},
     "output_type": "execute_result"
    }
   ],
   "source": [
    "my_submission.head()"
   ]
  },
  {
   "cell_type": "code",
   "execution_count": 27,
   "metadata": {},
   "outputs": [
    {
     "data": {
      "text/plain": [
       "(25000, 2)"
      ]
     },
     "execution_count": 27,
     "metadata": {},
     "output_type": "execute_result"
    }
   ],
   "source": [
    "my_submission.shape"
   ]
  },
  {
   "cell_type": "code",
   "execution_count": 28,
   "metadata": {},
   "outputs": [],
   "source": [
    "# export submission file as pdf\n",
    "# CHANGE FILE PATH: \n",
    "my_submission.to_csv('moviereviews_submission.csv', index=False)"
   ]
  },
  {
   "cell_type": "markdown",
   "metadata": {},
   "source": [
    "# Submit to Canvas: 1) the CSV file that was written in the previous cell and 2) the url to the repository (GitHub or other) that contains your code and documentation"
   ]
  }
 ],
 "metadata": {
  "kernelspec": {
   "display_name": "Python 3",
   "language": "python",
   "name": "python3"
  },
  "language_info": {
   "codemirror_mode": {
    "name": "ipython",
    "version": 3
   },
   "file_extension": ".py",
   "mimetype": "text/x-python",
   "name": "python",
   "nbconvert_exporter": "python",
   "pygments_lexer": "ipython3",
   "version": "3.7.4"
  }
 },
 "nbformat": 4,
 "nbformat_minor": 2
}
